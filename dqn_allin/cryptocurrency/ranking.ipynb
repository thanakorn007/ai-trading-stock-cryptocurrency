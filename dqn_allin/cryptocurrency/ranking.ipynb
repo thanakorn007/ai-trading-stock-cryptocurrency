{
 "cells": [
  {
   "cell_type": "code",
   "execution_count": 1,
   "metadata": {},
   "outputs": [],
   "source": [
    "import pickle\n",
    "import pandas as pd\n"
   ]
  },
  {
   "cell_type": "code",
   "execution_count": 2,
   "metadata": {},
   "outputs": [
    {
     "data": {
      "text/html": [
       "<div>\n",
       "<style scoped>\n",
       "    .dataframe tbody tr th:only-of-type {\n",
       "        vertical-align: middle;\n",
       "    }\n",
       "\n",
       "    .dataframe tbody tr th {\n",
       "        vertical-align: top;\n",
       "    }\n",
       "\n",
       "    .dataframe thead th {\n",
       "        text-align: right;\n",
       "    }\n",
       "</style>\n",
       "<table border=\"1\" class=\"dataframe\">\n",
       "  <thead>\n",
       "    <tr style=\"text-align: right;\">\n",
       "      <th></th>\n",
       "      <th>SYMBOL</th>\n",
       "      <th>INDUSTRIES</th>\n",
       "      <th>RETURN</th>\n",
       "      <th>MARKET RETURN</th>\n",
       "      <th>SCORE</th>\n",
       "    </tr>\n",
       "    <tr>\n",
       "      <th>RANK</th>\n",
       "      <th></th>\n",
       "      <th></th>\n",
       "      <th></th>\n",
       "      <th></th>\n",
       "      <th></th>\n",
       "    </tr>\n",
       "  </thead>\n",
       "  <tbody>\n",
       "    <tr>\n",
       "      <th>1</th>\n",
       "      <td>ZEC-USD</td>\n",
       "      <td>Cryptocurrentcy</td>\n",
       "      <td>40.925607</td>\n",
       "      <td>-12.922420</td>\n",
       "      <td>1162.110381</td>\n",
       "    </tr>\n",
       "    <tr>\n",
       "      <th>2</th>\n",
       "      <td>XEM-USD</td>\n",
       "      <td>Cryptocurrentcy</td>\n",
       "      <td>24.220897</td>\n",
       "      <td>-25.210046</td>\n",
       "      <td>93.470561</td>\n",
       "    </tr>\n",
       "    <tr>\n",
       "      <th>3</th>\n",
       "      <td>BTC-USD</td>\n",
       "      <td>Cryptocurrentcy</td>\n",
       "      <td>13.408769</td>\n",
       "      <td>0.328712</td>\n",
       "      <td>51.911019</td>\n",
       "    </tr>\n",
       "    <tr>\n",
       "      <th>4</th>\n",
       "      <td>WAVES-USD</td>\n",
       "      <td>Cryptocurrentcy</td>\n",
       "      <td>14.203926</td>\n",
       "      <td>-11.651053</td>\n",
       "      <td>47.931746</td>\n",
       "    </tr>\n",
       "    <tr>\n",
       "      <th>5</th>\n",
       "      <td>LTC-USD</td>\n",
       "      <td>Cryptocurrentcy</td>\n",
       "      <td>9.433475</td>\n",
       "      <td>-14.508253</td>\n",
       "      <td>27.504288</td>\n",
       "    </tr>\n",
       "    <tr>\n",
       "      <th>6</th>\n",
       "      <td>ETH-USD</td>\n",
       "      <td>Cryptocurrentcy</td>\n",
       "      <td>5.551542</td>\n",
       "      <td>-9.002396</td>\n",
       "      <td>17.497823</td>\n",
       "    </tr>\n",
       "    <tr>\n",
       "      <th>7</th>\n",
       "      <td>DCR-USD</td>\n",
       "      <td>Cryptocurrentcy</td>\n",
       "      <td>5.860282</td>\n",
       "      <td>5.267617</td>\n",
       "      <td>3.939793</td>\n",
       "    </tr>\n",
       "    <tr>\n",
       "      <th>8</th>\n",
       "      <td>XLM-USD</td>\n",
       "      <td>Cryptocurrentcy</td>\n",
       "      <td>-2.415573</td>\n",
       "      <td>-12.792851</td>\n",
       "      <td>3.473953</td>\n",
       "    </tr>\n",
       "    <tr>\n",
       "      <th>9</th>\n",
       "      <td>ETC-USD</td>\n",
       "      <td>Cryptocurrentcy</td>\n",
       "      <td>-14.045685</td>\n",
       "      <td>-18.721677</td>\n",
       "      <td>-0.584516</td>\n",
       "    </tr>\n",
       "    <tr>\n",
       "      <th>10</th>\n",
       "      <td>DGB-USD</td>\n",
       "      <td>Cryptocurrentcy</td>\n",
       "      <td>-11.803960</td>\n",
       "      <td>-12.214614</td>\n",
       "      <td>-0.722182</td>\n",
       "    </tr>\n",
       "    <tr>\n",
       "      <th>11</th>\n",
       "      <td>DASH-USD</td>\n",
       "      <td>Cryptocurrentcy</td>\n",
       "      <td>-52.069016</td>\n",
       "      <td>-29.677535</td>\n",
       "      <td>-1.860965</td>\n",
       "    </tr>\n",
       "    <tr>\n",
       "      <th>12</th>\n",
       "      <td>XMR-USD</td>\n",
       "      <td>Cryptocurrentcy</td>\n",
       "      <td>-16.607385</td>\n",
       "      <td>-13.486950</td>\n",
       "      <td>-2.045908</td>\n",
       "    </tr>\n",
       "    <tr>\n",
       "      <th>13</th>\n",
       "      <td>USDT-USD</td>\n",
       "      <td>Cryptocurrentcy</td>\n",
       "      <td>-0.115537</td>\n",
       "      <td>0.083940</td>\n",
       "      <td>-11.416488</td>\n",
       "    </tr>\n",
       "    <tr>\n",
       "      <th>14</th>\n",
       "      <td>XRP-USD</td>\n",
       "      <td>Cryptocurrentcy</td>\n",
       "      <td>-29.368944</td>\n",
       "      <td>8.835098</td>\n",
       "      <td>-24.413012</td>\n",
       "    </tr>\n",
       "    <tr>\n",
       "      <th>15</th>\n",
       "      <td>SC-USD</td>\n",
       "      <td>Cryptocurrentcy</td>\n",
       "      <td>38.560988</td>\n",
       "      <td>80.700488</td>\n",
       "      <td>-11317.148221</td>\n",
       "    </tr>\n",
       "  </tbody>\n",
       "</table>\n",
       "</div>"
      ],
      "text/plain": [
       "         SYMBOL       INDUSTRIES     RETURN  MARKET RETURN         SCORE\n",
       "RANK                                                                    \n",
       "1       ZEC-USD  Cryptocurrentcy  40.925607     -12.922420   1162.110381\n",
       "2       XEM-USD  Cryptocurrentcy  24.220897     -25.210046     93.470561\n",
       "3       BTC-USD  Cryptocurrentcy  13.408769       0.328712     51.911019\n",
       "4     WAVES-USD  Cryptocurrentcy  14.203926     -11.651053     47.931746\n",
       "5       LTC-USD  Cryptocurrentcy   9.433475     -14.508253     27.504288\n",
       "6       ETH-USD  Cryptocurrentcy   5.551542      -9.002396     17.497823\n",
       "7       DCR-USD  Cryptocurrentcy   5.860282       5.267617      3.939793\n",
       "8       XLM-USD  Cryptocurrentcy  -2.415573     -12.792851      3.473953\n",
       "9       ETC-USD  Cryptocurrentcy -14.045685     -18.721677     -0.584516\n",
       "10      DGB-USD  Cryptocurrentcy -11.803960     -12.214614     -0.722182\n",
       "11     DASH-USD  Cryptocurrentcy -52.069016     -29.677535     -1.860965\n",
       "12      XMR-USD  Cryptocurrentcy -16.607385     -13.486950     -2.045908\n",
       "13     USDT-USD  Cryptocurrentcy  -0.115537       0.083940    -11.416488\n",
       "14      XRP-USD  Cryptocurrentcy -29.368944       8.835098    -24.413012\n",
       "15       SC-USD  Cryptocurrentcy  38.560988      80.700488 -11317.148221"
      ]
     },
     "execution_count": 2,
     "metadata": {},
     "output_type": "execute_result"
    }
   ],
   "source": [
    "tickers = ['btc', 'eth', 'xrp', 'usdt', 'ltc', 'xlm', 'xem', 'xmr', 'dash', 'dcr', 'zec', 'etc', 'waves', 'dgb', 'sc']\n",
    "\n",
    "temp_dir = {'SYMBOL' : [],\n",
    "            'INDUSTRIES' : [],\n",
    "            'RETURN' : [],\n",
    "            'MARKET RETURN': [],\n",
    "            'SCORE' : []}\n",
    "\n",
    "\n",
    "for ticker in tickers:\n",
    "    with open(f'score/{ticker.upper()}-USD.pkl', 'rb') as f:\n",
    "        rank = pickle.load(f)\n",
    "        df = pd.read_csv(f'../data/{ticker.upper()}-USD.csv')['stock_price']\n",
    "        ret = ((df.iloc[-1] - df.iloc[0])/df.iloc[0]) * 100\n",
    "        \n",
    "        temp_dir['SYMBOL'].append(rank[0])\n",
    "        temp_dir['INDUSTRIES'].append(rank[1])\n",
    "        temp_dir['RETURN'].append(rank[3])\n",
    "        temp_dir['MARKET RETURN'].append(ret)\n",
    "        temp_dir['SCORE'].append(rank[2])\n",
    "\n",
    "            \n",
    "ranking = pd.DataFrame(temp_dir)\n",
    "ranking = ranking.sort_values('SCORE', ascending=False)\n",
    "ranking['RANK'] = [i for i in range(1, len(ranking) + 1)]\n",
    "ranking.set_index('RANK', inplace=True)\n",
    "ranking"
   ]
  },
  {
   "cell_type": "code",
   "execution_count": 3,
   "metadata": {},
   "outputs": [
    {
     "data": {
      "text/plain": [
       "<AxesSubplot:xlabel='RANK'>"
      ]
     },
     "execution_count": 3,
     "metadata": {},
     "output_type": "execute_result"
    },
    {
     "data": {
      "image/png": "[encoded data removed]",
      "text/plain": [
       "<Figure size 432x288 with 1 Axes>"
      ]
     },
     "metadata": {
      "needs_background": "light"
     },
     "output_type": "display_data"
    }
   ],
   "source": [
    "ranking.drop('SCORE', axis=1).plot.bar()\n"
   ]
  },
  {
   "cell_type": "code",
   "execution_count": 4,
   "metadata": {},
   "outputs": [
    {
     "data": {
      "text/plain": [
       "<AxesSubplot:xlabel='SYMBOL'>"
      ]
     },
     "execution_count": 4,
     "metadata": {},
     "output_type": "execute_result"
    },
    {
     "data": {
      "image/png": "[encoded data removed]",
      "text/plain": [
       "<Figure size 432x288 with 1 Axes>"
      ]
     },
     "metadata": {
      "needs_background": "light"
     },
     "output_type": "display_data"
    }
   ],
   "source": [
    "ranking.groupby('SYMBOL').mean().sort_values(by='SCORE', ascending=False).drop('SCORE', axis=1).plot.bar()"
   ]
  },
  {
   "cell_type": "code",
   "execution_count": null,
   "metadata": {},
   "outputs": [],
   "source": []
  }
 ],
 "metadata": {
  "kernelspec": {
   "display_name": "Python 3",
   "language": "python",
   "name": "python3"
  },
  "language_info": {
   "codemirror_mode": {
    "name": "ipython",
    "version": 3
   },
   "file_extension": ".py",
   "mimetype": "text/x-python",
   "name": "python",
   "nbconvert_exporter": "python",
   "pygments_lexer": "ipython3",
   "version": "3.8.5"
  }
 },
 "nbformat": 4,
 "nbformat_minor": 4
}

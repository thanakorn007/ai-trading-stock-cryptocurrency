{
 "cells": [
  {
   "cell_type": "code",
   "execution_count": 68,
   "metadata": {},
   "outputs": [],
   "source": [
    "from bs4 import BeautifulSoup\n",
    "import requests\n",
    "import pandas as pd\n",
    "import numpy as np\n",
    "%matplotlib inline"
   ]
  },
  {
   "cell_type": "code",
   "execution_count": 115,
   "metadata": {},
   "outputs": [
    {
     "data": {
      "text/html": [
       "<div>\n",
       "<style scoped>\n",
       "    .dataframe tbody tr th:only-of-type {\n",
       "        vertical-align: middle;\n",
       "    }\n",
       "\n",
       "    .dataframe tbody tr th {\n",
       "        vertical-align: top;\n",
       "    }\n",
       "\n",
       "    .dataframe thead th {\n",
       "        text-align: right;\n",
       "    }\n",
       "</style>\n",
       "<table border=\"1\" class=\"dataframe\">\n",
       "  <thead>\n",
       "    <tr style=\"text-align: right;\">\n",
       "      <th></th>\n",
       "      <th>Start Date</th>\n",
       "      <th>Network H/S</th>\n",
       "      <th>Twitter</th>\n",
       "      <th>Website</th>\n",
       "      <th>Coin Type</th>\n",
       "      <th>Block RR.</th>\n",
       "      <th>Block No.</th>\n",
       "      <th>Block Reward</th>\n",
       "      <th>Description</th>\n",
       "    </tr>\n",
       "    <tr>\n",
       "      <th>head</th>\n",
       "      <th></th>\n",
       "      <th></th>\n",
       "      <th></th>\n",
       "      <th></th>\n",
       "      <th></th>\n",
       "      <th></th>\n",
       "      <th></th>\n",
       "      <th></th>\n",
       "      <th></th>\n",
       "    </tr>\n",
       "  </thead>\n",
       "  <tbody>\n",
       "    <tr>\n",
       "      <th>About Decred</th>\n",
       "      <td>2016-02-10</td>\n",
       "      <td>-</td>\n",
       "      <td>@decredproject</td>\n",
       "      <td>-</td>\n",
       "      <td>-</td>\n",
       "      <td>-</td>\n",
       "      <td>-</td>\n",
       "      <td>-</td>\n",
       "      <td>Decred (DCR) is a cryptocurrency . Users are a...</td>\n",
       "    </tr>\n",
       "  </tbody>\n",
       "</table>\n",
       "</div>"
      ],
      "text/plain": [
       "              Start Date Network H/S         Twitter Website Coin Type  \\\n",
       "head                                                                     \n",
       "About Decred  2016-02-10           -  @decredproject       -         -   \n",
       "\n",
       "             Block RR. Block No. Block Reward  \\\n",
       "head                                            \n",
       "About Decred         -         -            -   \n",
       "\n",
       "                                                    Description  \n",
       "head                                                             \n",
       "About Decred  Decred (DCR) is a cryptocurrency . Users are a...  "
      ]
     },
     "execution_count": 115,
     "metadata": {},
     "output_type": "execute_result"
    }
   ],
   "source": [
    "ticker = 'dcr-usd'.upper()\n",
    "\n",
    "url = 'https://finance.yahoo.com/quote/'+ ticker + '/profile?p=' + ticker\n",
    "page = requests.get(url)\n",
    "page_content = page.content\n",
    "soup = BeautifulSoup(page_content, 'html.parser')\n",
    "tabl = soup.find_all('section', {\"class\": \"Pb(30px) smartphone_Px(20px) undefined\"})\n",
    "about = []\n",
    "about.append(tabl[0].find_all('span')[0].text)\n",
    "rows = tabl[0].find_all('div', {\"class\": \"W(100%)\"})[0]\n",
    "rows = rows.find_all('div', {\"class\": \"W(50%) D(ib) Va(t) smartphone_W(100%) smartphone_D(b)\"})\n",
    "for row in rows:\n",
    "    about.append(row.get_text(separator='|').split('|'))\n",
    "    \n",
    "df = pd.DataFrame()\n",
    "df['head'] = [about.pop(0)]\n",
    "for col in about:\n",
    "    df[col[0]] = [col[2]]\n",
    "    df[col[3]] = [col[5]]\n",
    "    df[col[6]] = [col[8]]\n",
    "    df[col[9]] = [col[11]]\n",
    "    \n",
    "    \n",
    "df['Description'] = soup.find_all('div', {\"data-test\": \"prof-desc\"})[0].get_text()\n",
    "df.set_index('head', inplace=True)\n",
    "df"
   ]
  },
  {
   "cell_type": "code",
   "execution_count": 116,
   "metadata": {},
   "outputs": [],
   "source": [
    "url = 'https://finance.yahoo.com/quote/'+ ticker + '/profile?p=' + ticker\n",
    "page = requests.get(url)\n",
    "page_content = page.content\n",
    "soup = BeautifulSoup(page_content, 'html.parser')\n",
    "rows = soup.find_all('div', {\"class\": 'D(ib) Mt(-5px) Mend(20px) Maw(56%)--tab768 Maw(52%) Ov(h) smartphone_Maw(85%) smartphone_Mend(0px)'})\n",
    "name = rows[0].find_all('div')[0].find_all('h1')[0].get_text()\n",
    "disc = rows[0].find_all('div')[1].find_all('span')[0].get_text()"
   ]
  },
  {
   "cell_type": "code",
   "execution_count": 117,
   "metadata": {},
   "outputs": [
    {
     "data": {
      "text/plain": [
       "'Decred USD (DCR-USD)'"
      ]
     },
     "execution_count": 117,
     "metadata": {},
     "output_type": "execute_result"
    }
   ],
   "source": [
    "name"
   ]
  },
  {
   "cell_type": "code",
   "execution_count": 118,
   "metadata": {},
   "outputs": [
    {
     "data": {
      "text/plain": [
       "'CCC  - CoinMarketCap. Currency in USD'"
      ]
     },
     "execution_count": 118,
     "metadata": {},
     "output_type": "execute_result"
    }
   ],
   "source": [
    "disc"
   ]
  },
  {
   "cell_type": "code",
   "execution_count": null,
   "metadata": {},
   "outputs": [],
   "source": []
  }
 ],
 "metadata": {
  "kernelspec": {
   "display_name": "Python 3",
   "language": "python",
   "name": "python3"
  },
  "language_info": {
   "codemirror_mode": {
    "name": "ipython",
    "version": 3
   },
   "file_extension": ".py",
   "mimetype": "text/x-python",
   "name": "python",
   "nbconvert_exporter": "python",
   "pygments_lexer": "ipython3",
   "version": "3.8.5"
  }
 },
 "nbformat": 4,
 "nbformat_minor": 4
}

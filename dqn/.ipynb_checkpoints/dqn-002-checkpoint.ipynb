{
 "cells": [
  {
   "cell_type": "markdown",
   "metadata": {},
   "source": [
    "# Import Module"
   ]
  },
  {
   "cell_type": "code",
   "execution_count": 1,
   "metadata": {},
   "outputs": [],
   "source": [
    "import numpy as np\n",
    "import pandas as pd\n",
    "import matplotlib.pyplot as plt\n",
    "import seaborn as sns\n",
    "import yfinance as yf\n",
    "from tqdm.notebook import tqdm\n",
    "import talib\n",
    "import os\n",
    "import random\n",
    "import torch\n",
    "import torch.nn as nn\n",
    "import torch.optim as optim\n",
    "import torch.nn.functional as F\n",
    "import torch.autograd as autograd\n",
    "from torch.autograd import Variable\n",
    "from sklearn.preprocessing import StandardScaler\n",
    "from plotly.offline import download_plotlyjs, init_notebook_mode, plot, iplot\n",
    "from yahoofinancials import YahooFinancials\n",
    "import pandas_datareader as web\n",
    "%matplotlib inline"
   ]
  },
  {
   "cell_type": "code",
   "execution_count": null,
   "metadata": {},
   "outputs": [],
   "source": []
  },
  {
   "cell_type": "code",
   "execution_count": null,
   "metadata": {},
   "outputs": [],
   "source": [
    "df = web.DataReader('aal', 'yahoo', '2015-01-01', '2020-01-01')\n"
   ]
  },
  {
   "cell_type": "code",
   "execution_count": null,
   "metadata": {},
   "outputs": [],
   "source": []
  },
  {
   "cell_type": "code",
   "execution_count": null,
   "metadata": {},
   "outputs": [],
   "source": []
  },
  {
   "cell_type": "markdown",
   "metadata": {},
   "source": [
    "# Environment"
   ]
  },
  {
   "cell_type": "code",
   "execution_count": 2,
   "metadata": {},
   "outputs": [],
   "source": [
    "class SingleStock:\n",
    "    '''\n",
    "    Single Stock for trading \n",
    "\n",
    "    '''\n",
    "    def __init__(self, data, capital):\n",
    "        self.stock_price_history = data\n",
    "        self.n_step = self.stock_price_history.shape[0]\n",
    "        self.capital = capital\n",
    "        self.current_step = None\n",
    "        self.stock_owned = None\n",
    "        self.stock_price = None\n",
    "        self.cash_in_hand = None\n",
    "        self.state_dim = 8  # [stock price, stock_owned, cash_in_hand, rsi, mom, adx, macd, macd_sig]\n",
    "        self.save_position = []\n",
    "        self.save_port_val = []\n",
    "        self.save_cash = []\n",
    "        self.stock_value = []\n",
    "        self.action_space = [0, 1, 2]\n",
    "        self.sell_buy = None\n",
    "        self.save_stock_price = []\n",
    "        self.rsi = None\n",
    "        self.mom = None\n",
    "        self.adx = None\n",
    "        self.macd = None\n",
    "        self.masc_sig = None\n",
    "        self.save_reward = None\n",
    "        self.reset()\n",
    "\n",
    "    def state_vector(self):\n",
    "        vector = np.empty(self.state_dim)\n",
    "        vector[0] = self.stock_price\n",
    "        vector[1] = self.stock_owned\n",
    "        vector[2] = self.cash_in_hand\n",
    "        vector[3] = self.rsi\n",
    "        vector[4] = self.mom\n",
    "        vector[5] = self.adx\n",
    "        vector[6] = self.macd\n",
    "        vector[7] = self.masc_sig\n",
    "        return vector\n",
    "\n",
    "    def reset(self):\n",
    "        self.current_step = 0\n",
    "        self.stock_owned = 0\n",
    "        self.stock_price = self.stock_price_history['Adj Close'][self.current_step]\n",
    "        self.cash_in_hand = self.capital\n",
    "        self.save_position = [0]\n",
    "        self.save_port_val = [self.capital]\n",
    "        self.save_cash = [self.capital]\n",
    "        self.stock_value = [0]\n",
    "        self.sell_buy = ['hold']\n",
    "        self.save_stock_price = [self.stock_price]\n",
    "        self.rsi = self.stock_price_history['rsi'][self.current_step]\n",
    "        self.mom = self.stock_price_history['mom'][self.current_step]\n",
    "        self.adx = self.stock_price_history['adx'][self.current_step]\n",
    "        self.macd = self.stock_price_history['macd'][self.current_step]\n",
    "        self.masc_sig = self.stock_price_history['macd sig'][self.current_step]\n",
    "        self.save_reward = [0]\n",
    "        return self.state_vector()\n",
    "\n",
    "    def port_val(self):\n",
    "        return (self.stock_owned * self.stock_price) + self.cash_in_hand\n",
    "\n",
    "    def trade(self, action):\n",
    "        '''\n",
    "        action 0 = hold\n",
    "        action 1 = sell\n",
    "        action 2 = buy\n",
    "        '''\n",
    "        assert action in self.action_space\n",
    "\n",
    "        action_vec = self.action_space[action]\n",
    "\n",
    "        if action_vec == 1:\n",
    "            # sell\n",
    "            if self.stock_owned != 0:\n",
    "                self.cash_in_hand += (self.stock_owned * self.stock_price)\n",
    "                self.stock_owned = 0\n",
    "                self.sell_buy.append('sell')\n",
    "                \n",
    "            else:\n",
    "                self.sell_buy.append('hold')\n",
    "\n",
    "        elif action_vec == 2:\n",
    "            # buy\n",
    "            if self.cash_in_hand > (self.stock_price * self.stock_owned):\n",
    "                self.stock_owned = self.cash_in_hand / self.stock_price\n",
    "                self.cash_in_hand -= (self.stock_price * self.stock_owned)\n",
    "                self.sell_buy.append('buy')\n",
    "            else:\n",
    "                self.sell_buy.append('hold')\n",
    "                \n",
    "        else:\n",
    "            self.sell_buy.append('hold')\n",
    "                \n",
    "        self.save_cash.append(self.cash_in_hand)\n",
    "        self.save_port_val.append(self.port_val())\n",
    "        self.save_position.append(self.stock_owned)\n",
    "        self.stock_value.append(self.stock_owned * self.stock_price)\n",
    "        self.save_stock_price.append(self.stock_price)\n",
    "\n",
    "    def step(self, action):\n",
    "        assert action in self.action_space\n",
    "\n",
    "        prev_val = self.port_val()\n",
    "        self.current_step += 1\n",
    "        self.stock_price = self.stock_price_history['Adj Close'][self.current_step]\n",
    "        self.rsi = self.stock_price_history['rsi'][self.current_step]\n",
    "        self.mom = self.stock_price_history['mom'][self.current_step]\n",
    "        self.adx = self.stock_price_history['adx'][self.current_step]\n",
    "        self.macd = self.stock_price_history['macd'][self.current_step]\n",
    "        self.masc_sig = self.stock_price_history['macd sig'][self.current_step]\n",
    "        self.trade(action)\n",
    "        current_val = self.port_val()\n",
    "        reward = self.port_val()\n",
    "        self.save_reward.append(reward)\n",
    "        done = self.current_step == self.n_step - 1\n",
    "        info = {'stock_price': self.save_stock_price,\n",
    "                'portfolio_value': self.save_port_val,\n",
    "                'current_val': self.save_reward,\n",
    "                'stock_owned': self.save_position,\n",
    "                'cash_in_hand': self.save_cash,\n",
    "                'stock_value': self.stock_value,\n",
    "                'sell_buy': self.sell_buy\n",
    "                }\n",
    "        return self.state_vector(), reward, done, info"
   ]
  },
  {
   "cell_type": "markdown",
   "metadata": {},
   "source": [
    "# Scaler"
   ]
  },
  {
   "cell_type": "code",
   "execution_count": 3,
   "metadata": {},
   "outputs": [],
   "source": [
    "def get_scaler(env):\n",
    "    states = []\n",
    "    for i in range(env.n_step):\n",
    "        action = np.random.choice(env.action_space)\n",
    "        state, reward, done, info = env.step(action)\n",
    "        states.append(state)\n",
    "        if done:\n",
    "            break\n",
    "    scaler = StandardScaler()\n",
    "    scaler.fit(states)\n",
    "    return scaler"
   ]
  },
  {
   "cell_type": "markdown",
   "metadata": {},
   "source": [
    "# Neural Network"
   ]
  },
  {
   "cell_type": "code",
   "execution_count": 4,
   "metadata": {},
   "outputs": [],
   "source": [
    "class NeuralNetwork(nn.Module):\n",
    "    '''\n",
    "    Network for predict action trading \n",
    "    '''\n",
    "    \n",
    "    def __init__(self, input_sz, action_sz):\n",
    "        super().__init__()\n",
    "        self.input_sz = input_sz\n",
    "        self.action_sz = action_sz\n",
    "        self.fc1 = nn.Linear(input_sz, 30)\n",
    "        self.fc2 = nn.Linear(30, 40)\n",
    "        self.out = nn.Linear(40, action_sz)\n",
    "        \n",
    "    def forward(self, state):\n",
    "        x = F.relu(self.fc1(state))\n",
    "        x = F.relu(self.fc2(x))\n",
    "        q_values = F.relu(self.out(x))\n",
    "        return q_values\n",
    "    \n"
   ]
  },
  {
   "cell_type": "markdown",
   "metadata": {},
   "source": [
    "# Memory"
   ]
  },
  {
   "cell_type": "code",
   "execution_count": 5,
   "metadata": {},
   "outputs": [],
   "source": [
    "class ExperienceReplayMemory:\n",
    "    '''\n",
    "    Memory storage for experience replay\n",
    "    '''\n",
    "    \n",
    "    def __init__(self, capacity):\n",
    "        self.capacity = capacity\n",
    "        self.memory = []\n",
    "        \n",
    "    def push(self, event):\n",
    "        self.memory.append(event)\n",
    "        if len(self.memory) > self.capacity:\n",
    "            del self.memory[0]\n",
    "            \n",
    "    def sample(self, batch_size):\n",
    "        '''Sample event from memory (len = batch size)'''\n",
    "        # [batch_state, batch_next_state, batch_action, batch_reward]\n",
    "        samples = zip(*random.sample(self.memory, batch_size))\n",
    "        return map(lambda x: Variable(torch.cat(x, 0)), samples)\n",
    "    \n"
   ]
  },
  {
   "cell_type": "markdown",
   "metadata": {},
   "source": [
    "# Agent"
   ]
  },
  {
   "cell_type": "code",
   "execution_count": 6,
   "metadata": {},
   "outputs": [],
   "source": [
    "class DQNAgent:\n",
    "    '''Agent'''\n",
    "    def __init__(self, input_sz, action_sz, discount_factor):\n",
    "        self.model = NeuralNetwork(input_sz, action_sz)\n",
    "        self.memory = ExperienceReplayMemory(capacity=10000)\n",
    "        self.discount_factor = discount_factor\n",
    "        self.reward_window = []\n",
    "        self.optimizer = torch.optim.Adam(self.model.parameters(), lr=0.001)\n",
    "        self.last_state = torch.Tensor(input_sz).unsqueeze(0) #shape [1, 5]\n",
    "        self.last_action = 0\n",
    "        self.last_raward = 0\n",
    "        self.epsilon = 1.0  # exploration rate\n",
    "        self.epsilon_min = 0.01\n",
    "        self.epsilon_decay = 0.995\n",
    "        self.batch_size = 256\n",
    "        self.action_sz =action_sz\n",
    "        self.criterion = nn.MSELoss()\n",
    "        self.losses = []\n",
    "        \n",
    "    \n",
    "    def get_action(self, state):\n",
    "        '''\n",
    "        Epsilon-greedy selection\n",
    "        '''\n",
    "        if np.random.rand() <= self.epsilon:\n",
    "            return np.random.choice(self.action_sz)\n",
    "        \n",
    "        q_values_probs = F.softmax(self.model(state.clone().detach()) * 10, dim=0)\n",
    "        action = q_values_probs.multinomial(num_samples=1)\n",
    "        return action.data[0, 0]\n",
    "    \n",
    "    \n",
    "    def train(self, batch_state, batch_next_state, batch_action, batch_reward):\n",
    "        outputs = self.model(batch_state).gather(1, batch_action.unsqueeze(1)).squeeze(1) #Q(s,a)\n",
    "        next_outputs = self.model(batch_next_state).detach().max(1)[0] #Q(s',a')\n",
    "        target = batch_reward + self.discount_factor * next_outputs #target = reward + gamma*Q(s',a')\n",
    "        loss = F.smooth_l1_loss(outputs, target)\n",
    "        self.losses.append(loss.item()) #loss\n",
    "        self.optimizer.zero_grad()\n",
    "        loss.backward()\n",
    "        self.optimizer.step()\n",
    "        \n",
    "        \n",
    "    def update(self, reward, new_state):\n",
    "        new_state = torch.tensor(new_state[0]).float().unsqueeze(0)\n",
    "        self.memory.push((self.last_state,\n",
    "                        new_state,\n",
    "                        torch.LongTensor([int(self.last_action)]),\n",
    "                        torch.Tensor([self.last_raward])))\n",
    "        action = self.get_action(new_state)\n",
    "        if len(self.memory.memory) > self.batch_size:\n",
    "            #sample batch event from memory (experience replay)\n",
    "            batch_state, batch_next_state, batch_action, batch_reward = self.memory.sample(self.batch_size)\n",
    "            #learn\n",
    "            self.train(batch_state, batch_next_state, batch_action, batch_reward)\n",
    "            \n",
    "        if self.epsilon > self.epsilon_min:\n",
    "            self.epsilon *= self.epsilon_decay\n",
    "        \n",
    "        self.last_action = action\n",
    "        self.last_state = new_state\n",
    "        self.last_raward = reward\n",
    "        self.reward_window.append(reward)\n",
    "        if len(self.reward_window) > self.batch_size:\n",
    "            del self.reward_window[0]\n",
    "        return action\n",
    "    \n",
    "\n",
    "    def score(self):\n",
    "        return sum(self.reward_window) / (len(self.reward_window) + 1.)\n",
    "    \n",
    "    def save(self):\n",
    "        torch.save({'state_dict': self.model.state_dict(),\n",
    "                    'optimizer': self.optimizer.state_dict(),\n",
    "                    }, 'trading010.pth')\n",
    "        print('=> Saved!!!...')\n",
    "        \n",
    "\n",
    "    def load(self):\n",
    "        if os.path.isfile('trading010.pth'):\n",
    "            print(\"==> loading parameters!\")\n",
    "            checkpoint = torch.load('trading010.pth')\n",
    "            self.model.load_state_dict(checkpoint['state_dict'])\n",
    "            self.optimizer.load_state_dict(checkpoint['optimizer'])\n",
    "            self.model.eval()\n",
    "            print(\"done !\")\n",
    "        else:\n",
    "            print(\"no parameters found...\")\n",
    "        \n",
    "   \n",
    "        "
   ]
  },
  {
   "cell_type": "markdown",
   "metadata": {},
   "source": [
    "# Play one episode"
   ]
  },
  {
   "cell_type": "code",
   "execution_count": 7,
   "metadata": {},
   "outputs": [],
   "source": [
    "def play_one_episode(agent, env, scaler):\n",
    "    last_state = env.reset()\n",
    "    last_reward = 0\n",
    "    done = False\n",
    "    scores = []\n",
    "    while not done:\n",
    "        last_state = scaler.transform([last_state])\n",
    "        action = agent.update(last_reward, last_state)\n",
    "        scores.append(agent.score())\n",
    "        last_state, last_reward, done, info = env.step(action)\n",
    "        \n",
    "    \n",
    "    return info, scores"
   ]
  },
  {
   "cell_type": "markdown",
   "metadata": {},
   "source": [
    "# Stock data"
   ]
  },
  {
   "cell_type": "code",
   "execution_count": 8,
   "metadata": {},
   "outputs": [
    {
     "name": "stdout",
     "output_type": "stream",
     "text": [
      "[*********************100%***********************]  1 of 1 completed\n"
     ]
    },
    {
     "data": {
      "text/plain": [
       "<matplotlib.legend.Legend at 0x1bda9904d90>"
      ]
     },
     "execution_count": 8,
     "metadata": {},
     "output_type": "execute_result"
    },
    {
     "data": {
      "image/png": "[encoded data removed]",
      "text/plain": [
       "<Figure size 432x288 with 1 Axes>"
      ]
     },
     "metadata": {
      "needs_background": "light"
     },
     "output_type": "display_data"
    }
   ],
   "source": [
    "stock_name = 'aapl'\n",
    "stock_data = yf.download(stock_name, period='60d', interval='5m');\n",
    "stock_data['Volume'] = stock_data['Volume'].apply(lambda vol: np.NaN if vol == 0 else vol)\n",
    "stock_data.dropna(axis=0, inplace=True)\n",
    "stock_data['rsi'] = talib.RSI(stock_data['Close'])\n",
    "stock_data['mom'] = talib.MOM(stock_data['Close'])\n",
    "stock_data['adx'] = talib.ADX(stock_data['High'], stock_data['Low'], stock_data['Close'])\n",
    "stock_data['macd'], stock_data['macd sig'], _ = talib.MACD(stock_data['Close'])\n",
    "stock_data.dropna(axis=0, inplace=True)\n",
    "\n",
    "n_train = len(stock_data)//2\n",
    "train_data = stock_data.iloc[:n_train]\n",
    "test_data = stock_data.iloc[n_train:]\n",
    "\n",
    "train_data['Adj Close'].plot(label='training_data')\n",
    "test_data['Adj Close'].plot(label='testing_data')\n",
    "plt.legend()"
   ]
  },
  {
   "cell_type": "markdown",
   "metadata": {},
   "source": [
    "# Training model"
   ]
  },
  {
   "cell_type": "code",
   "execution_count": 9,
   "metadata": {},
   "outputs": [],
   "source": [
    "num_episodes = 200\n",
    "capital = 10000\n",
    "env = SingleStock(train_data, capital)\n",
    "state_size = env.state_dim\n",
    "action_size = len(env.action_space)\n",
    "agent = DQNAgent(state_size, action_size, 0.9)\n",
    "scaler = get_scaler(env)"
   ]
  },
  {
   "cell_type": "code",
   "execution_count": 10,
   "metadata": {},
   "outputs": [
    {
     "data": {
      "application/vnd.jupyter.widget-view+json": {
       "model_id": "e7babae3d3ab414c92abe21388c93518",
       "version_major": 2,
       "version_minor": 0
      },
      "text/plain": [
       "  0%|          | 0/200 [00:00<?, ?it/s]"
      ]
     },
     "metadata": {},
     "output_type": "display_data"
    },
    {
     "name": "stdout",
     "output_type": "stream",
     "text": [
      "episode: 1/200, episode end value: 10457.95\n",
      "episode: 2/200, episode end value: 10873.41\n",
      "episode: 3/200, episode end value: 10811.09\n",
      "episode: 4/200, episode end value: 10823.62\n",
      "episode: 5/200, episode end value: 11725.56\n",
      "episode: 6/200, episode end value: 10506.25\n",
      "episode: 7/200, episode end value: 11432.70\n",
      "episode: 8/200, episode end value: 10776.27\n",
      "episode: 9/200, episode end value: 9889.89\n",
      "episode: 10/200, episode end value: 10454.79\n",
      "episode: 11/200, episode end value: 10431.27\n",
      "episode: 12/200, episode end value: 10413.17\n",
      "episode: 13/200, episode end value: 12107.45\n",
      "episode: 14/200, episode end value: 11034.35\n",
      "episode: 15/200, episode end value: 10179.34\n",
      "episode: 16/200, episode end value: 11425.87\n",
      "episode: 17/200, episode end value: 10786.48\n",
      "episode: 18/200, episode end value: 11314.78\n",
      "episode: 19/200, episode end value: 10790.13\n",
      "episode: 20/200, episode end value: 10943.96\n",
      "episode: 21/200, episode end value: 10974.38\n",
      "episode: 22/200, episode end value: 9650.81\n",
      "episode: 23/200, episode end value: 11903.86\n",
      "episode: 24/200, episode end value: 11250.97\n",
      "episode: 25/200, episode end value: 11312.09\n",
      "episode: 26/200, episode end value: 10846.45\n",
      "episode: 27/200, episode end value: 9966.24\n",
      "episode: 28/200, episode end value: 11180.65\n",
      "episode: 29/200, episode end value: 11230.46\n",
      "episode: 30/200, episode end value: 10827.41\n",
      "episode: 31/200, episode end value: 10644.16\n",
      "episode: 32/200, episode end value: 9957.44\n",
      "episode: 33/200, episode end value: 10810.54\n",
      "episode: 34/200, episode end value: 10044.21\n",
      "episode: 35/200, episode end value: 10752.94\n",
      "episode: 36/200, episode end value: 9913.93\n",
      "episode: 37/200, episode end value: 10425.10\n",
      "episode: 38/200, episode end value: 10105.28\n",
      "episode: 39/200, episode end value: 10238.39\n",
      "episode: 40/200, episode end value: 10635.30\n",
      "episode: 41/200, episode end value: 10394.71\n",
      "episode: 42/200, episode end value: 10641.88\n",
      "episode: 43/200, episode end value: 10756.77\n",
      "episode: 44/200, episode end value: 11122.20\n",
      "episode: 45/200, episode end value: 9575.09\n",
      "episode: 46/200, episode end value: 10525.95\n",
      "episode: 47/200, episode end value: 10734.31\n",
      "episode: 48/200, episode end value: 10832.26\n",
      "episode: 49/200, episode end value: 10060.01\n",
      "episode: 50/200, episode end value: 11513.29\n",
      "episode: 51/200, episode end value: 10379.69\n",
      "episode: 52/200, episode end value: 9665.49\n",
      "episode: 53/200, episode end value: 11086.21\n",
      "episode: 54/200, episode end value: 10178.43\n",
      "episode: 55/200, episode end value: 10366.84\n",
      "episode: 56/200, episode end value: 9899.84\n",
      "episode: 57/200, episode end value: 10409.20\n",
      "episode: 58/200, episode end value: 10961.53\n",
      "episode: 59/200, episode end value: 10665.80\n",
      "episode: 60/200, episode end value: 12035.15\n",
      "episode: 61/200, episode end value: 10281.91\n",
      "episode: 62/200, episode end value: 10320.10\n",
      "episode: 63/200, episode end value: 10749.27\n",
      "episode: 64/200, episode end value: 11170.05\n",
      "episode: 65/200, episode end value: 10627.51\n",
      "episode: 66/200, episode end value: 10718.31\n",
      "episode: 67/200, episode end value: 11051.96\n",
      "episode: 68/200, episode end value: 11364.48\n",
      "episode: 69/200, episode end value: 10347.70\n",
      "episode: 70/200, episode end value: 10673.43\n",
      "episode: 71/200, episode end value: 10393.87\n",
      "episode: 72/200, episode end value: 10503.65\n",
      "episode: 73/200, episode end value: 10218.92\n",
      "episode: 74/200, episode end value: 10990.63\n",
      "episode: 75/200, episode end value: 11174.20\n",
      "episode: 76/200, episode end value: 10530.91\n",
      "episode: 77/200, episode end value: 10493.46\n",
      "episode: 78/200, episode end value: 10273.09\n",
      "episode: 79/200, episode end value: 11300.24\n",
      "episode: 80/200, episode end value: 10852.79\n",
      "episode: 81/200, episode end value: 10622.25\n",
      "episode: 82/200, episode end value: 11128.74\n",
      "episode: 83/200, episode end value: 11769.93\n",
      "episode: 84/200, episode end value: 11011.08\n",
      "episode: 85/200, episode end value: 10800.89\n",
      "episode: 86/200, episode end value: 10606.04\n",
      "episode: 87/200, episode end value: 9938.26\n",
      "episode: 88/200, episode end value: 9978.64\n",
      "episode: 89/200, episode end value: 10310.97\n",
      "episode: 90/200, episode end value: 10871.25\n",
      "episode: 91/200, episode end value: 10708.27\n",
      "episode: 92/200, episode end value: 11133.76\n",
      "episode: 93/200, episode end value: 11074.17\n",
      "episode: 94/200, episode end value: 10822.53\n",
      "episode: 95/200, episode end value: 10080.36\n",
      "episode: 96/200, episode end value: 10719.95\n",
      "episode: 97/200, episode end value: 10496.50\n",
      "episode: 98/200, episode end value: 10193.38\n",
      "episode: 99/200, episode end value: 10985.40\n",
      "episode: 100/200, episode end value: 11684.55\n",
      "episode: 101/200, episode end value: 11653.59\n",
      "episode: 102/200, episode end value: 10452.34\n",
      "episode: 103/200, episode end value: 11144.99\n",
      "episode: 104/200, episode end value: 9943.88\n",
      "episode: 105/200, episode end value: 11404.75\n",
      "episode: 106/200, episode end value: 10410.61\n",
      "episode: 107/200, episode end value: 10690.33\n",
      "episode: 108/200, episode end value: 11476.26\n",
      "episode: 109/200, episode end value: 10736.89\n",
      "episode: 110/200, episode end value: 10694.24\n",
      "episode: 111/200, episode end value: 10732.06\n",
      "episode: 112/200, episode end value: 10206.58\n",
      "episode: 113/200, episode end value: 11507.72\n",
      "episode: 114/200, episode end value: 11466.36\n",
      "episode: 115/200, episode end value: 10652.39\n",
      "episode: 116/200, episode end value: 10209.59\n",
      "episode: 117/200, episode end value: 11167.54\n",
      "episode: 118/200, episode end value: 10518.81\n",
      "episode: 119/200, episode end value: 11001.53\n",
      "episode: 120/200, episode end value: 10748.96\n",
      "episode: 121/200, episode end value: 10283.17\n",
      "episode: 122/200, episode end value: 10396.87\n",
      "episode: 123/200, episode end value: 11337.61\n",
      "episode: 124/200, episode end value: 10226.44\n",
      "episode: 125/200, episode end value: 11132.97\n",
      "episode: 126/200, episode end value: 10965.29\n",
      "episode: 127/200, episode end value: 11113.15\n",
      "episode: 128/200, episode end value: 10801.39\n",
      "episode: 129/200, episode end value: 12025.09\n",
      "episode: 130/200, episode end value: 11355.18\n",
      "episode: 131/200, episode end value: 10193.33\n",
      "episode: 132/200, episode end value: 10510.60\n",
      "episode: 133/200, episode end value: 11128.58\n",
      "episode: 134/200, episode end value: 10462.46\n",
      "episode: 135/200, episode end value: 10798.05\n",
      "episode: 136/200, episode end value: 11502.31\n",
      "episode: 137/200, episode end value: 10628.12\n",
      "episode: 138/200, episode end value: 10760.65\n",
      "episode: 139/200, episode end value: 10754.26\n",
      "episode: 140/200, episode end value: 10465.26\n",
      "episode: 141/200, episode end value: 11580.71\n",
      "episode: 142/200, episode end value: 10218.38\n",
      "episode: 143/200, episode end value: 11157.91\n",
      "episode: 144/200, episode end value: 11202.05\n",
      "episode: 145/200, episode end value: 10500.27\n",
      "episode: 146/200, episode end value: 10559.27\n",
      "episode: 147/200, episode end value: 11017.32\n",
      "episode: 148/200, episode end value: 9730.41\n",
      "episode: 149/200, episode end value: 10799.83\n",
      "episode: 150/200, episode end value: 11487.91\n",
      "episode: 151/200, episode end value: 10433.19\n",
      "episode: 152/200, episode end value: 10229.85\n",
      "episode: 153/200, episode end value: 10239.73\n",
      "episode: 154/200, episode end value: 10499.49\n",
      "episode: 155/200, episode end value: 10623.51\n",
      "episode: 156/200, episode end value: 10116.42\n",
      "episode: 157/200, episode end value: 10808.18\n",
      "episode: 158/200, episode end value: 10639.16\n",
      "episode: 159/200, episode end value: 10761.23\n",
      "episode: 160/200, episode end value: 11020.47\n",
      "episode: 161/200, episode end value: 9725.36\n",
      "episode: 162/200, episode end value: 10446.27\n",
      "episode: 163/200, episode end value: 10083.94\n",
      "episode: 164/200, episode end value: 11083.70\n",
      "episode: 165/200, episode end value: 11233.73\n",
      "episode: 166/200, episode end value: 9886.18\n",
      "episode: 167/200, episode end value: 10867.77\n",
      "episode: 168/200, episode end value: 10239.98\n",
      "episode: 169/200, episode end value: 11022.96\n",
      "episode: 170/200, episode end value: 9737.44\n",
      "episode: 171/200, episode end value: 11231.43\n",
      "episode: 172/200, episode end value: 10887.31\n",
      "episode: 173/200, episode end value: 11142.66\n",
      "episode: 174/200, episode end value: 10762.69\n",
      "episode: 175/200, episode end value: 10886.67\n",
      "episode: 176/200, episode end value: 10087.47\n",
      "episode: 177/200, episode end value: 10419.12\n",
      "episode: 178/200, episode end value: 9725.78\n",
      "episode: 179/200, episode end value: 10772.51\n",
      "episode: 180/200, episode end value: 10282.58\n",
      "episode: 181/200, episode end value: 10236.74\n"
     ]
    },
    {
     "name": "stdout",
     "output_type": "stream",
     "text": [
      "episode: 182/200, episode end value: 11058.99\n",
      "episode: 183/200, episode end value: 11058.51\n",
      "episode: 184/200, episode end value: 10271.96\n",
      "episode: 185/200, episode end value: 11048.66\n",
      "episode: 186/200, episode end value: 10538.90\n",
      "episode: 187/200, episode end value: 10190.40\n",
      "episode: 188/200, episode end value: 10561.38\n",
      "episode: 189/200, episode end value: 9763.65\n",
      "episode: 190/200, episode end value: 10460.61\n",
      "episode: 191/200, episode end value: 11236.42\n",
      "episode: 192/200, episode end value: 11475.59\n",
      "episode: 193/200, episode end value: 10218.96\n",
      "episode: 194/200, episode end value: 9836.88\n",
      "episode: 195/200, episode end value: 11667.03\n",
      "episode: 196/200, episode end value: 10892.00\n",
      "episode: 197/200, episode end value: 11424.16\n",
      "episode: 198/200, episode end value: 11034.85\n",
      "episode: 199/200, episode end value: 10232.79\n",
      "episode: 200/200, episode end value: 10538.52\n",
      "=> Saved!!!...\n",
      "average reward: 10710.93, min: 9575.09, max: 12107.45\n"
     ]
    },
    {
     "data": {
      "image/png": "[encoded data removed]",
      "text/plain": [
       "<Figure size 432x288 with 1 Axes>"
      ]
     },
     "metadata": {
      "needs_background": "light"
     },
     "output_type": "display_data"
    }
   ],
   "source": [
    "#train\n",
    "\n",
    "portfolio_value = []\n",
    "for e in tqdm(range(num_episodes)):\n",
    "\n",
    "    val, scores = play_one_episode(agent, env, scaler)\n",
    "\n",
    "    print(f\"episode: {e + 1}/{num_episodes}, episode end value: {val['portfolio_value'][-1]:.2f}\")\n",
    "    portfolio_value.append(val['portfolio_value'][-1]) \n",
    "    \n",
    "agent.save()\n",
    "losses = agent.losses\n",
    "\n",
    "print(f'average reward: {np.mean(portfolio_value):.2f}, min: {np.min(portfolio_value):.2f}, max: {np.max(portfolio_value):.2f}')\n",
    "sns.histplot(portfolio_value, bins=100, color='r', kde=True);\n",
    "plt.xlabel('Portfolio Value');\n",
    "plt.ylabel('Count');"
   ]
  },
  {
   "cell_type": "code",
   "execution_count": 18,
   "metadata": {},
   "outputs": [
    {
     "data": {
      "text/plain": [
       "<AxesSubplot:>"
      ]
     },
     "execution_count": 18,
     "metadata": {},
     "output_type": "execute_result"
    },
    {
     "data": {
      "image/png": "[encoded data removed]",
      "text/plain": [
       "<Figure size 720x432 with 1 Axes>"
      ]
     },
     "metadata": {
      "needs_background": "light"
     },
     "output_type": "display_data"
    }
   ],
   "source": [
    "pd.Series(losses).plot(figsize=(10,6))"
   ]
  },
  {
   "cell_type": "code",
   "execution_count": 26,
   "metadata": {},
   "outputs": [
    {
     "data": {
      "text/plain": [
       "[<matplotlib.lines.Line2D at 0x1bdb7d44880>]"
      ]
     },
     "execution_count": 26,
     "metadata": {},
     "output_type": "execute_result"
    },
    {
     "data": {
      "image/png": "[encoded data removed]",
      "text/plain": [
       "<Figure size 432x288 with 1 Axes>"
      ]
     },
     "metadata": {
      "needs_background": "light"
     },
     "output_type": "display_data"
    }
   ],
   "source": [
    "plt.plot(range(len(losses[-1000:])), losses[-1000:])"
   ]
  },
  {
   "cell_type": "code",
   "execution_count": 16,
   "metadata": {},
   "outputs": [
    {
     "data": {
      "text/plain": [
       "<AxesSubplot:>"
      ]
     },
     "execution_count": 16,
     "metadata": {},
     "output_type": "execute_result"
    },
    {
     "data": {
      "image/png": "[encoded data removed]",
      "text/plain": [
       "<Figure size 432x288 with 1 Axes>"
      ]
     },
     "metadata": {
      "needs_background": "light"
     },
     "output_type": "display_data"
    }
   ],
   "source": [
    "pd.Series(scores).plot()"
   ]
  },
  {
   "cell_type": "markdown",
   "metadata": {},
   "source": [
    "# Testing Model"
   ]
  },
  {
   "cell_type": "code",
   "execution_count": 27,
   "metadata": {},
   "outputs": [
    {
     "name": "stdout",
     "output_type": "stream",
     "text": [
      "==> loading parameters!\n",
      "done !\n",
      "Portfolio Value: 9929.628103179133\n",
      "Sell: 0 times, Buy: 1 times\n"
     ]
    }
   ],
   "source": [
    "env = SingleStock(test_data, capital)\n",
    "state_size = env.state_dim\n",
    "action_size = len(env.action_space)\n",
    "agent = DQNAgent(state_size, action_size,0.9)\n",
    "\n",
    "last_state = env.reset()\n",
    "last_reward = 0\n",
    "done = False\n",
    "scores = []\n",
    "agent.load()\n",
    "\n",
    "while not done:\n",
    "    last_state = scaler.transform([last_state])\n",
    "    last_state = torch.Tensor(last_state[0]).float().unsqueeze(0)\n",
    "    with torch.no_grad():\n",
    "        action = agent.model(last_state).argmax().item()\n",
    "    last_state, last_reward, done, info = env.step(action)\n",
    "\n",
    "\n",
    "\n",
    "print(f\"Portfolio Value: {info['portfolio_value'][-1]}\")\n",
    "print(f\"Sell: {env.sell_buy.count('sell')} times, Buy: {env.sell_buy.count('buy')} times\")"
   ]
  },
  {
   "cell_type": "code",
   "execution_count": 28,
   "metadata": {},
   "outputs": [],
   "source": [
    "result = pd.DataFrame(info)\n",
    "result.index = test_data.index"
   ]
  },
  {
   "cell_type": "code",
   "execution_count": 29,
   "metadata": {},
   "outputs": [],
   "source": [
    "def marker_buy(col):\n",
    "    price = col[0] \n",
    "    sellbuy = col[1]\n",
    "    \n",
    "    if sellbuy == 'buy':\n",
    "        return price\n",
    "    else:\n",
    "        return np.nan\n",
    "    \n",
    "def marker_sell(col):\n",
    "    price = col[0] \n",
    "    sellbuy = col[1]\n",
    "    \n",
    "    if sellbuy == 'sell':\n",
    "        return price\n",
    "    else:\n",
    "        return np.nan"
   ]
  },
  {
   "cell_type": "code",
   "execution_count": 30,
   "metadata": {},
   "outputs": [],
   "source": [
    "result['marker_buy'] = result[['stock_price', 'sell_buy']].apply(marker_buy, axis=1)\n",
    "result['marker_sell'] = result[['stock_price', 'sell_buy']].apply(marker_sell, axis=1)"
   ]
  },
  {
   "cell_type": "code",
   "execution_count": 31,
   "metadata": {},
   "outputs": [
    {
     "data": {
      "text/html": [
       "<div>\n",
       "<style scoped>\n",
       "    .dataframe tbody tr th:only-of-type {\n",
       "        vertical-align: middle;\n",
       "    }\n",
       "\n",
       "    .dataframe tbody tr th {\n",
       "        vertical-align: top;\n",
       "    }\n",
       "\n",
       "    .dataframe thead th {\n",
       "        text-align: right;\n",
       "    }\n",
       "</style>\n",
       "<table border=\"1\" class=\"dataframe\">\n",
       "  <thead>\n",
       "    <tr style=\"text-align: right;\">\n",
       "      <th></th>\n",
       "      <th>stock_price</th>\n",
       "      <th>portfolio_value</th>\n",
       "      <th>current_val</th>\n",
       "      <th>stock_owned</th>\n",
       "      <th>cash_in_hand</th>\n",
       "      <th>stock_value</th>\n",
       "      <th>sell_buy</th>\n",
       "      <th>marker_buy</th>\n",
       "      <th>marker_sell</th>\n",
       "    </tr>\n",
       "    <tr>\n",
       "      <th>Datetime</th>\n",
       "      <th></th>\n",
       "      <th></th>\n",
       "      <th></th>\n",
       "      <th></th>\n",
       "      <th></th>\n",
       "      <th></th>\n",
       "      <th></th>\n",
       "      <th></th>\n",
       "      <th></th>\n",
       "    </tr>\n",
       "  </thead>\n",
       "  <tbody>\n",
       "    <tr>\n",
       "      <th>2020-12-29 13:45:00-05:00</th>\n",
       "      <td>136.100006</td>\n",
       "      <td>10000.000000</td>\n",
       "      <td>0.000000</td>\n",
       "      <td>0.000000</td>\n",
       "      <td>10000.0</td>\n",
       "      <td>0.000000</td>\n",
       "      <td>hold</td>\n",
       "      <td>NaN</td>\n",
       "      <td>NaN</td>\n",
       "    </tr>\n",
       "    <tr>\n",
       "      <th>2020-12-29 13:50:00-05:00</th>\n",
       "      <td>136.319305</td>\n",
       "      <td>10000.000000</td>\n",
       "      <td>10000.000000</td>\n",
       "      <td>73.357181</td>\n",
       "      <td>0.0</td>\n",
       "      <td>10000.000000</td>\n",
       "      <td>buy</td>\n",
       "      <td>136.319305</td>\n",
       "      <td>NaN</td>\n",
       "    </tr>\n",
       "    <tr>\n",
       "      <th>2020-12-29 13:55:00-05:00</th>\n",
       "      <td>136.139297</td>\n",
       "      <td>9986.795125</td>\n",
       "      <td>9986.795125</td>\n",
       "      <td>73.357181</td>\n",
       "      <td>0.0</td>\n",
       "      <td>9986.795125</td>\n",
       "      <td>hold</td>\n",
       "      <td>NaN</td>\n",
       "      <td>NaN</td>\n",
       "    </tr>\n",
       "    <tr>\n",
       "      <th>2020-12-29 14:00:00-05:00</th>\n",
       "      <td>136.130005</td>\n",
       "      <td>9986.113446</td>\n",
       "      <td>9986.113446</td>\n",
       "      <td>73.357181</td>\n",
       "      <td>0.0</td>\n",
       "      <td>9986.113446</td>\n",
       "      <td>hold</td>\n",
       "      <td>NaN</td>\n",
       "      <td>NaN</td>\n",
       "    </tr>\n",
       "    <tr>\n",
       "      <th>2020-12-29 14:05:00-05:00</th>\n",
       "      <td>136.065002</td>\n",
       "      <td>9981.345050</td>\n",
       "      <td>9981.345050</td>\n",
       "      <td>73.357181</td>\n",
       "      <td>0.0</td>\n",
       "      <td>9981.345050</td>\n",
       "      <td>hold</td>\n",
       "      <td>NaN</td>\n",
       "      <td>NaN</td>\n",
       "    </tr>\n",
       "    <tr>\n",
       "      <th>...</th>\n",
       "      <td>...</td>\n",
       "      <td>...</td>\n",
       "      <td>...</td>\n",
       "      <td>...</td>\n",
       "      <td>...</td>\n",
       "      <td>...</td>\n",
       "      <td>...</td>\n",
       "      <td>...</td>\n",
       "      <td>...</td>\n",
       "    </tr>\n",
       "    <tr>\n",
       "      <th>2021-02-10 15:35:00-05:00</th>\n",
       "      <td>135.179993</td>\n",
       "      <td>9916.423228</td>\n",
       "      <td>9916.423228</td>\n",
       "      <td>73.357181</td>\n",
       "      <td>0.0</td>\n",
       "      <td>9916.423228</td>\n",
       "      <td>hold</td>\n",
       "      <td>NaN</td>\n",
       "      <td>NaN</td>\n",
       "    </tr>\n",
       "    <tr>\n",
       "      <th>2021-02-10 15:40:00-05:00</th>\n",
       "      <td>135.005005</td>\n",
       "      <td>9903.586617</td>\n",
       "      <td>9903.586617</td>\n",
       "      <td>73.357181</td>\n",
       "      <td>0.0</td>\n",
       "      <td>9903.586617</td>\n",
       "      <td>hold</td>\n",
       "      <td>NaN</td>\n",
       "      <td>NaN</td>\n",
       "    </tr>\n",
       "    <tr>\n",
       "      <th>2021-02-10 15:45:00-05:00</th>\n",
       "      <td>135.100006</td>\n",
       "      <td>9910.555639</td>\n",
       "      <td>9910.555639</td>\n",
       "      <td>73.357181</td>\n",
       "      <td>0.0</td>\n",
       "      <td>9910.555639</td>\n",
       "      <td>hold</td>\n",
       "      <td>NaN</td>\n",
       "      <td>NaN</td>\n",
       "    </tr>\n",
       "    <tr>\n",
       "      <th>2021-02-10 15:50:00-05:00</th>\n",
       "      <td>135.089996</td>\n",
       "      <td>9909.821351</td>\n",
       "      <td>9909.821351</td>\n",
       "      <td>73.357181</td>\n",
       "      <td>0.0</td>\n",
       "      <td>9909.821351</td>\n",
       "      <td>hold</td>\n",
       "      <td>NaN</td>\n",
       "      <td>NaN</td>\n",
       "    </tr>\n",
       "    <tr>\n",
       "      <th>2021-02-10 15:55:00-05:00</th>\n",
       "      <td>135.360001</td>\n",
       "      <td>9929.628103</td>\n",
       "      <td>9929.628103</td>\n",
       "      <td>73.357181</td>\n",
       "      <td>0.0</td>\n",
       "      <td>9929.628103</td>\n",
       "      <td>hold</td>\n",
       "      <td>NaN</td>\n",
       "      <td>NaN</td>\n",
       "    </tr>\n",
       "  </tbody>\n",
       "</table>\n",
       "<p>2286 rows × 9 columns</p>\n",
       "</div>"
      ],
      "text/plain": [
       "                           stock_price  portfolio_value   current_val  \\\n",
       "Datetime                                                                \n",
       "2020-12-29 13:45:00-05:00   136.100006     10000.000000      0.000000   \n",
       "2020-12-29 13:50:00-05:00   136.319305     10000.000000  10000.000000   \n",
       "2020-12-29 13:55:00-05:00   136.139297      9986.795125   9986.795125   \n",
       "2020-12-29 14:00:00-05:00   136.130005      9986.113446   9986.113446   \n",
       "2020-12-29 14:05:00-05:00   136.065002      9981.345050   9981.345050   \n",
       "...                                ...              ...           ...   \n",
       "2021-02-10 15:35:00-05:00   135.179993      9916.423228   9916.423228   \n",
       "2021-02-10 15:40:00-05:00   135.005005      9903.586617   9903.586617   \n",
       "2021-02-10 15:45:00-05:00   135.100006      9910.555639   9910.555639   \n",
       "2021-02-10 15:50:00-05:00   135.089996      9909.821351   9909.821351   \n",
       "2021-02-10 15:55:00-05:00   135.360001      9929.628103   9929.628103   \n",
       "\n",
       "                           stock_owned  cash_in_hand   stock_value sell_buy  \\\n",
       "Datetime                                                                      \n",
       "2020-12-29 13:45:00-05:00     0.000000       10000.0      0.000000     hold   \n",
       "2020-12-29 13:50:00-05:00    73.357181           0.0  10000.000000      buy   \n",
       "2020-12-29 13:55:00-05:00    73.357181           0.0   9986.795125     hold   \n",
       "2020-12-29 14:00:00-05:00    73.357181           0.0   9986.113446     hold   \n",
       "2020-12-29 14:05:00-05:00    73.357181           0.0   9981.345050     hold   \n",
       "...                                ...           ...           ...      ...   \n",
       "2021-02-10 15:35:00-05:00    73.357181           0.0   9916.423228     hold   \n",
       "2021-02-10 15:40:00-05:00    73.357181           0.0   9903.586617     hold   \n",
       "2021-02-10 15:45:00-05:00    73.357181           0.0   9910.555639     hold   \n",
       "2021-02-10 15:50:00-05:00    73.357181           0.0   9909.821351     hold   \n",
       "2021-02-10 15:55:00-05:00    73.357181           0.0   9929.628103     hold   \n",
       "\n",
       "                           marker_buy  marker_sell  \n",
       "Datetime                                            \n",
       "2020-12-29 13:45:00-05:00         NaN          NaN  \n",
       "2020-12-29 13:50:00-05:00  136.319305          NaN  \n",
       "2020-12-29 13:55:00-05:00         NaN          NaN  \n",
       "2020-12-29 14:00:00-05:00         NaN          NaN  \n",
       "2020-12-29 14:05:00-05:00         NaN          NaN  \n",
       "...                               ...          ...  \n",
       "2021-02-10 15:35:00-05:00         NaN          NaN  \n",
       "2021-02-10 15:40:00-05:00         NaN          NaN  \n",
       "2021-02-10 15:45:00-05:00         NaN          NaN  \n",
       "2021-02-10 15:50:00-05:00         NaN          NaN  \n",
       "2021-02-10 15:55:00-05:00         NaN          NaN  \n",
       "\n",
       "[2286 rows x 9 columns]"
      ]
     },
     "execution_count": 31,
     "metadata": {},
     "output_type": "execute_result"
    }
   ],
   "source": [
    "result"
   ]
  },
  {
   "cell_type": "code",
   "execution_count": 32,
   "metadata": {
    "scrolled": false
   },
   "outputs": [
    {
     "data": {
      "text/plain": [
       "<matplotlib.legend.Legend at 0x1bdaec65f10>"
      ]
     },
     "execution_count": 32,
     "metadata": {},
     "output_type": "execute_result"
    },
    {
     "data": {
      "image/png": "[encoded data removed]",
      "text/plain": [
       "<Figure size 936x504 with 1 Axes>"
      ]
     },
     "metadata": {
      "needs_background": "light"
     },
     "output_type": "display_data"
    }
   ],
   "source": [
    "result['stock_price'].plot(figsize=(13,7))\n",
    "result['marker_buy'].plot(style='o', ms=7, label='buy')\n",
    "result['marker_sell'].plot(style='o', ms=7, label='sell')\n",
    "plt.legend()"
   ]
  },
  {
   "cell_type": "code",
   "execution_count": 33,
   "metadata": {},
   "outputs": [
    {
     "data": {
      "text/plain": [
       "<AxesSubplot:xlabel='Datetime'>"
      ]
     },
     "execution_count": 33,
     "metadata": {},
     "output_type": "execute_result"
    },
    {
     "data": {
      "image/png": "[encoded data removed]",
      "text/plain": [
       "<Figure size 936x504 with 1 Axes>"
      ]
     },
     "metadata": {
      "needs_background": "light"
     },
     "output_type": "display_data"
    }
   ],
   "source": [
    "result['portfolio_value'].plot(figsize=(13,7))"
   ]
  },
  {
   "cell_type": "code",
   "execution_count": 34,
   "metadata": {},
   "outputs": [
    {
     "data": {
      "text/plain": [
       "<AxesSubplot:xlabel='Datetime'>"
      ]
     },
     "execution_count": 34,
     "metadata": {},
     "output_type": "execute_result"
    },
    {
     "data": {
      "image/png": "[encoded data removed]",
      "text/plain": [
       "<Figure size 432x288 with 1 Axes>"
      ]
     },
     "metadata": {
      "needs_background": "light"
     },
     "output_type": "display_data"
    }
   ],
   "source": [
    "result['stock_value'].plot()"
   ]
  },
  {
   "cell_type": "code",
   "execution_count": 35,
   "metadata": {},
   "outputs": [
    {
     "data": {
      "text/plain": [
       "<AxesSubplot:xlabel='Datetime'>"
      ]
     },
     "execution_count": 35,
     "metadata": {},
     "output_type": "execute_result"
    },
    {
     "data": {
      "image/png": "[encoded data removed]",
      "text/plain": [
       "<Figure size 432x288 with 1 Axes>"
      ]
     },
     "metadata": {
      "needs_background": "light"
     },
     "output_type": "display_data"
    }
   ],
   "source": [
    "result[['cash_in_hand', 'stock_value']].plot()"
   ]
  },
  {
   "cell_type": "markdown",
   "metadata": {},
   "source": [
    "# Performance Measurement"
   ]
  },
  {
   "cell_type": "code",
   "execution_count": 37,
   "metadata": {},
   "outputs": [],
   "source": [
    "import numpy as np\n",
    "import datetime as dt\n",
    "\n",
    "\n",
    "bn = test_data\n",
    "\n",
    "\n",
    "def CAGR(DF):\n",
    "    df = DF.copy()\n",
    "    try:\n",
    "        df['daily_ret'] = df['portfolio_value'].pct_change()\n",
    "    except:\n",
    "        df['daily_ret'] = df['Adj Close'].pct_change() \n",
    "    \n",
    "    df['cumulative_ret'] = (1 + df['daily_ret']).cumprod()\n",
    "    n = len(df)/21168\n",
    "    cagr = (df['cumulative_ret'][-1])**(1/n) - 1\n",
    "    return cagr\n",
    "\n",
    "def volatility(DF):\n",
    "    df = DF.copy()\n",
    "    try:\n",
    "        df['daily_ret'] = df['portfolio_value'].pct_change()\n",
    "    except:\n",
    "        df['daily_ret'] = df['Adj Close'].pct_change() \n",
    "    vol = df['daily_ret'].std() * np.sqrt(21168)\n",
    "    return vol\n",
    "\n",
    "\n",
    "def sharpe(DF, rf):\n",
    "    df = DF.copy()\n",
    "    sr = (CAGR(df) - rf)/volatility(df)\n",
    "    return sr\n",
    "\n",
    "def max_dd(DF):\n",
    "    df = DF.copy()\n",
    "    try:\n",
    "        df['daily_ret'] = df['portfolio_value'].pct_change()\n",
    "    except:\n",
    "        df['daily_ret'] = df['Adj Close'].pct_change() \n",
    "    df['cumulative_ret'] = (1 + df['daily_ret']).cumprod()\n",
    "    df['cum_roll_max'] = df['cumulative_ret'].cummax()\n",
    "    df['drawdown'] = df['cum_roll_max'] - df['cumulative_ret']\n",
    "    df['drawdown_pct'] = df['drawdown']/df['cum_roll_max']\n",
    "    max_dd = df['drawdown_pct'].max()\n",
    "    return max_dd\n",
    "\n",
    "def calmer(DF):\n",
    "    df = DF.copy()\n",
    "    clmr = CAGR(df)/max_dd(df)\n",
    "    return clmr\n"
   ]
  },
  {
   "cell_type": "code",
   "execution_count": 38,
   "metadata": {},
   "outputs": [
    {
     "name": "stdout",
     "output_type": "stream",
     "text": [
      "Stock name: gold\n",
      "Start: 2020-12-28 13:40:00-05:00  End: 2021-02-09 15:55:00-05:00\n",
      "Compound Annual Growth Rate: -0.2016\n",
      "Volatility: 0.3695\n",
      "shape ratio: -0.5754\n",
      "Maximun drawdown: 0.1256\n",
      "Calmar ratio: -1.6047\n",
      "\n",
      "Comparing with Benchmark\n",
      "Compound Annual Growth Rate (benchmark): -0.2104\n",
      "Volatility (benchmark): 0.3695\n",
      "shape ratio: -0.5992\n",
      "Calmar ratio (benchmark): -1.6749\n"
     ]
    }
   ],
   "source": [
    "print(f'Stock name: {stock_name}')\n",
    "print(f'Start: {result.index[0]}  End: {result.index[-1]}')\n",
    "print(f'Compound Annual Growth Rate: {CAGR(result):.4f}')\n",
    "print(f'Volatility: {volatility(result):.4f}')\n",
    "print(f'shape ratio: {sharpe(result, 0.011):.4f}')\n",
    "print(f'Maximun drawdown: {max_dd(result):.4f}')\n",
    "print(f'Calmar ratio: {calmer(result):.4f}')\n",
    "print()\n",
    "print('Comparing with Benchmark')\n",
    "print(f'Compound Annual Growth Rate (benchmark): {CAGR(bn):.4f}')\n",
    "print(f'Volatility (benchmark): {volatility(bn):.4f}')\n",
    "print(f'shape ratio: {sharpe(bn, 0.011):.4f}')\n",
    "print(f'Calmar ratio (benchmark): {calmer(bn):.4f}')"
   ]
  },
  {
   "cell_type": "code",
   "execution_count": 49,
   "metadata": {},
   "outputs": [],
   "source": [
    "df = pd.read_csv('bitstampUSD_1-min_data_2012-01-01_to_2018-06-27.csv')"
   ]
  }
 ],
 "metadata": {
  "kernelspec": {
   "display_name": "Python 3",
   "language": "python",
   "name": "python3"
  },
  "language_info": {
   "codemirror_mode": {
    "name": "ipython",
    "version": 3
   },
   "file_extension": ".py",
   "mimetype": "text/x-python",
   "name": "python",
   "nbconvert_exporter": "python",
   "pygments_lexer": "ipython3",
   "version": "3.8.5"
  }
 },
 "nbformat": 4,
 "nbformat_minor": 4
}

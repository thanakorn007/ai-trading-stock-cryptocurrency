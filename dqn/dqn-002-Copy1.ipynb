{
 "cells": [
  {
   "cell_type": "markdown",
   "metadata": {},
   "source": [
    "# Import Module"
   ]
  },
  {
   "cell_type": "code",
   "execution_count": 2,
   "metadata": {},
   "outputs": [],
   "source": [
    "import numpy as np\n",
    "import pandas as pd\n",
    "import matplotlib.pyplot as plt\n",
    "import seaborn as sns\n",
    "import yfinance as yf\n",
    "from tqdm.notebook import tqdm\n",
    "import talib\n",
    "import os\n",
    "import random\n",
    "import torch\n",
    "import torch.nn as nn\n",
    "import torch.optim as optim\n",
    "import torch.nn.functional as F\n",
    "import torch.autograd as autograd\n",
    "from torch.autograd import Variable\n",
    "from sklearn.preprocessing import StandardScaler\n",
    "from yahoofinancials import YahooFinancials\n",
    "import pandas_datareader as web\n",
    "%matplotlib inline"
   ]
  },
  {
   "cell_type": "markdown",
   "metadata": {},
   "source": [
    "# Environment"
   ]
  },
  {
   "cell_type": "code",
   "execution_count": 3,
   "metadata": {},
   "outputs": [],
   "source": [
    "class SingleStock:\n",
    "    '''\n",
    "    Single Stock for trading \n",
    "\n",
    "    '''\n",
    "    def __init__(self, data, capital):\n",
    "        self.stock_price_history = data\n",
    "        self.n_step = self.stock_price_history.shape[0]\n",
    "        self.capital = capital\n",
    "        self.current_step = None\n",
    "        self.stock_owned = None\n",
    "        self.stock_price = None\n",
    "        self.cash_in_hand = None\n",
    "        self.state_dim = 8  # [stock price, stock_owned, cash_in_hand, rsi, mom, adx, macd, macd_sig]\n",
    "        self.save_position = []\n",
    "        self.save_port_val = []\n",
    "        self.save_cash = []\n",
    "        self.stock_value = []\n",
    "        self.action_space = [0, 1, 2]\n",
    "        self.sell_buy = None\n",
    "        self.save_stock_price = []\n",
    "        self.rsi = None\n",
    "        self.mom = None\n",
    "        self.adx = None\n",
    "        self.macd = None\n",
    "        self.masc_sig = None\n",
    "        self.save_reward = None\n",
    "        self.reset()\n",
    "\n",
    "    def state_vector(self):\n",
    "        vector = np.empty(self.state_dim)\n",
    "        vector[0] = self.stock_price\n",
    "        vector[1] = self.stock_owned\n",
    "        vector[2] = self.cash_in_hand\n",
    "        vector[3] = self.rsi\n",
    "        vector[4] = self.mom\n",
    "        vector[5] = self.adx\n",
    "        vector[6] = self.macd\n",
    "        vector[7] = self.masc_sig\n",
    "        return vector\n",
    "\n",
    "    \n",
    "    def reset(self):\n",
    "        self.current_step = 0\n",
    "        self.stock_owned = 0\n",
    "        self.stock_price = self.stock_price_history['Adj Close'][self.current_step]\n",
    "        self.cash_in_hand = self.capital\n",
    "        self.save_position = [0]\n",
    "        self.save_port_val = [self.capital]\n",
    "        self.save_cash = [self.capital]\n",
    "        self.stock_value = [0]\n",
    "        self.sell_buy = ['hold']\n",
    "        self.save_stock_price = [self.stock_price]\n",
    "        self.rsi = self.stock_price_history['rsi'][self.current_step]\n",
    "        self.mom = self.stock_price_history['mom'][self.current_step]\n",
    "        self.adx = self.stock_price_history['adx'][self.current_step]\n",
    "        self.macd = self.stock_price_history['macd'][self.current_step]\n",
    "        self.masc_sig = self.stock_price_history['macd sig'][self.current_step]\n",
    "        self.save_reward = [0]\n",
    "        return self.state_vector()\n",
    "\n",
    "    def port_val(self):\n",
    "        return (self.stock_owned * self.stock_price) + self.cash_in_hand\n",
    "\n",
    "    def trade(self, action):\n",
    "\n",
    "        assert action in self.action_space\n",
    "\n",
    "        action_vec = self.action_space[action]\n",
    "\n",
    "        if action_vec == 1:\n",
    "            # sell\n",
    "            if self.stock_owned != 0:\n",
    "                self.cash_in_hand += (self.stock_owned * self.stock_price)\n",
    "                self.stock_owned = 0\n",
    "                self.sell_buy.append('sell')\n",
    "                \n",
    "            else:\n",
    "                self.sell_buy.append('hold')\n",
    "\n",
    "        elif action_vec == 2:\n",
    "            # buy\n",
    "            if self.cash_in_hand > (self.stock_price * self.stock_owned):\n",
    "                self.stock_owned = self.cash_in_hand / self.stock_price\n",
    "                self.cash_in_hand -= (self.stock_price * self.stock_owned)\n",
    "                self.sell_buy.append('buy')\n",
    "            else:\n",
    "                self.sell_buy.append('hold')\n",
    "                \n",
    "        else:\n",
    "            self.sell_buy.append('hold')\n",
    "\n",
    "                \n",
    "        self.save_cash.append(self.cash_in_hand)\n",
    "        self.save_port_val.append(self.port_val())\n",
    "        self.save_position.append(self.stock_owned)\n",
    "        self.stock_value.append(self.stock_owned * self.stock_price)\n",
    "        self.save_stock_price.append(self.stock_price)\n",
    "\n",
    "    def step(self, action):\n",
    "        assert action in range(len(self.action_space))\n",
    "\n",
    "        prev_val = self.port_val()\n",
    "        self.current_step += 1\n",
    "        self.stock_price = self.stock_price_history['Adj Close'][self.current_step]\n",
    "        self.rsi = self.stock_price_history['rsi'][self.current_step]\n",
    "        self.mom = self.stock_price_history['mom'][self.current_step]\n",
    "        self.adx = self.stock_price_history['adx'][self.current_step]\n",
    "        self.macd = self.stock_price_history['macd'][self.current_step]\n",
    "        self.masc_sig = self.stock_price_history['macd sig'][self.current_step]\n",
    "        self.trade(action)\n",
    "        current_val = self.port_val()\n",
    "        reward = current_val\n",
    "        self.save_reward.append(reward)\n",
    "        done = self.current_step == self.n_step - 1\n",
    "        info = {'stock_price': self.save_stock_price,\n",
    "                'portfolio_value': self.save_port_val,\n",
    "                'current_val': current_val,\n",
    "                'stock_owned': self.save_position,\n",
    "                'cash_in_hand': self.save_cash,\n",
    "                'stock_value': self.stock_value,\n",
    "                'sell_buy': self.sell_buy\n",
    "                }\n",
    "        return self.state_vector(), reward, done, info"
   ]
  },
  {
   "cell_type": "markdown",
   "metadata": {},
   "source": [
    "# Scaler"
   ]
  },
  {
   "cell_type": "code",
   "execution_count": 4,
   "metadata": {},
   "outputs": [],
   "source": [
    "def get_scaler(env):\n",
    "    states = []\n",
    "    for i in range(env.n_step):\n",
    "        action = np.random.choice(range(len(env.action_space)))\n",
    "        state, reward, done, info = env.step(action)\n",
    "        states.append(state)\n",
    "        if done:\n",
    "            break\n",
    "    scaler = StandardScaler()\n",
    "    scaler.fit(states)\n",
    "    return scaler"
   ]
  },
  {
   "cell_type": "markdown",
   "metadata": {},
   "source": [
    "# Neural Network"
   ]
  },
  {
   "cell_type": "code",
   "execution_count": 5,
   "metadata": {},
   "outputs": [],
   "source": [
    "class NeuralNetwork(nn.Module):\n",
    "    '''\n",
    "    Network for predict action trading \n",
    "    '''\n",
    "    \n",
    "    def __init__(self, input_sz, action_sz):\n",
    "        super().__init__()\n",
    "        self.input_sz = input_sz\n",
    "        self.action_sz = action_sz\n",
    "        self.fc1 = nn.Linear(input_sz, 30)\n",
    "        self.fc2 = nn.Linear(30, 40)\n",
    "        self.out = nn.Linear(40, action_sz)\n",
    "        \n",
    "    def forward(self, state):\n",
    "        x = F.relu(self.fc1(state))\n",
    "        x = F.relu(self.fc2(x))\n",
    "        q_values = self.out(x)\n",
    "        return q_values\n",
    "    \n"
   ]
  },
  {
   "cell_type": "markdown",
   "metadata": {},
   "source": [
    "# Memory"
   ]
  },
  {
   "cell_type": "code",
   "execution_count": 6,
   "metadata": {},
   "outputs": [],
   "source": [
    "class ExperienceReplayMemory:\n",
    "    '''\n",
    "    Memory storage for experience replay\n",
    "    '''\n",
    "    \n",
    "    def __init__(self, capacity):\n",
    "        self.capacity = capacity\n",
    "        self.memory = []\n",
    "        \n",
    "    def push(self, event):\n",
    "        self.memory.append(event)\n",
    "        if len(self.memory) > self.capacity:\n",
    "            del self.memory[0]\n",
    "            \n",
    "    def sample(self, batch_size):\n",
    "        '''Sample event from memory (len = batch size)'''\n",
    "        # [batch_state, batch_next_state, batch_action, batch_reward]\n",
    "        samples = zip(*random.sample(self.memory, batch_size))\n",
    "        return map(lambda x: Variable(torch.cat(x, 0)), samples)\n",
    "    \n"
   ]
  },
  {
   "cell_type": "markdown",
   "metadata": {},
   "source": [
    "# Agent"
   ]
  },
  {
   "cell_type": "code",
   "execution_count": 7,
   "metadata": {},
   "outputs": [],
   "source": [
    "class DQNAgent:\n",
    "    '''Agent'''\n",
    "    def __init__(self, input_sz, action_sz, discount_factor):\n",
    "        self.model = NeuralNetwork(input_sz, action_sz)\n",
    "        self.memory = ExperienceReplayMemory(capacity=10000)\n",
    "        self.discount_factor = discount_factor\n",
    "        self.reward_window = []\n",
    "        self.optimizer = torch.optim.Adam(self.model.parameters(), lr=0.001)\n",
    "        self.last_state = torch.Tensor(input_sz).unsqueeze(0) #shape [1, 5]\n",
    "        self.last_action = 0\n",
    "        self.last_raward = 0\n",
    "        self.epsilon = 1.0  # exploration rate\n",
    "        self.epsilon_min = 0.01\n",
    "        self.epsilon_decay = 0.995\n",
    "        self.batch_size = 128\n",
    "        self.action_sz = action_sz\n",
    "        self.criterion = nn.MSELoss()\n",
    "        self.losses = []\n",
    "        \n",
    "    \n",
    "    def get_action(self, state):\n",
    "        '''\n",
    "        Epsilon-greedy selection\n",
    "        '''\n",
    "        if np.random.rand() <= self.epsilon:\n",
    "            return torch.randint(0, action_size, (1,))[0]\n",
    "        \n",
    "        q_values_probs = F.softmax(self.model(state.clone().detach()) * 10, dim=0)\n",
    "        action = q_values_probs.multinomial(num_samples=1)\n",
    "        return q_values_probs.argmax()\n",
    "    \n",
    "    \n",
    "    def train(self, batch_state, batch_next_state, batch_action, batch_reward):\n",
    "        outputs = self.model(batch_state) #Q(s,a)\n",
    "        #print(outputs)\n",
    "\n",
    "        #output = outputs.gather(1, batch_action.unsqueeze(1)).squeeze(1) #Q(s,a)\n",
    "        next_outputs = self.model(batch_next_state).detach() #Q(s',a')\n",
    "        \n",
    "        argmax_target = torch.argmax(next_outputs, dim=1)\n",
    "        target = batch_reward + self.discount_factor * next_outputs.max(1)[0] #target = reward + gamma*Q(s',a')\n",
    "        target_full = torch.zeros_like(outputs)\n",
    "        target_full.copy_(outputs)\n",
    "\n",
    "        #print('1.')\n",
    "        #print(target_full, outputs)\n",
    "        for i in range(len(target_full)):\n",
    "            target_full[i][argmax_target[i]] = target[i]\n",
    "\n",
    "        #print('2.')\n",
    "\n",
    "        #print(target_full, outputs)\n",
    "        loss = self.criterion(outputs, target_full)\n",
    "        if np.isnan(loss.item()):\n",
    "            print('stop-----------------')\n",
    "            print('\\n\\n')\n",
    "\n",
    "        self.losses.append(loss.item()) #loss\n",
    "        self.optimizer.zero_grad()\n",
    "        loss.backward()\n",
    "        self.optimizer.step()\n",
    "        \n",
    "        \n",
    "    def update(self, reward, new_state):\n",
    "        new_state = torch.tensor(new_state[0]).float().unsqueeze(0)\n",
    "        self.memory.push((self.last_state,\n",
    "                        new_state,\n",
    "                        torch.LongTensor([int(self.last_action)]),\n",
    "                        torch.Tensor([self.last_raward])))\n",
    "        action = self.get_action(new_state)\n",
    "\n",
    "        if len(self.memory.memory) > self.batch_size:\n",
    "            #sample batch event from memory (experience replay)\n",
    "            batch_state, batch_next_state, batch_action, batch_reward = self.memory.sample(self.batch_size)\n",
    "            #learn\n",
    "            self.train(batch_state, batch_next_state, batch_action, batch_reward)\n",
    "            \n",
    "        if self.epsilon > self.epsilon_min:\n",
    "            self.epsilon *= self.epsilon_decay\n",
    "        \n",
    "        self.last_action = action\n",
    "        self.last_state = new_state\n",
    "        self.last_raward = reward\n",
    "        self.reward_window.append(reward)\n",
    "        if len(self.reward_window) > self.batch_size:\n",
    "            del self.reward_window[0]\n",
    "        return action\n",
    "    \n",
    "\n",
    "    def score(self):\n",
    "        return sum(self.reward_window) / (len(self.reward_window) + 1.)\n",
    "    \n",
    "    def save(self):\n",
    "        torch.save({'state_dict': self.model.state_dict(),\n",
    "                    'optimizer': self.optimizer.state_dict(),\n",
    "                    }, 'trading001.pth')\n",
    "        print('=> Saved!!!...')\n",
    "        \n",
    "\n",
    "    def load(self):\n",
    "        if os.path.isfile('trading001.pth'):\n",
    "            print(\"==> loading parameters!\")\n",
    "            checkpoint = torch.load('trading001.pth')\n",
    "            self.model.load_state_dict(checkpoint['state_dict'])\n",
    "            self.optimizer.load_state_dict(checkpoint['optimizer'])\n",
    "            self.model.eval()\n",
    "            print(\"done !\")\n",
    "        else:\n",
    "            print(\"no parameters found...\")\n",
    "        \n",
    "   \n",
    "        "
   ]
  },
  {
   "cell_type": "markdown",
   "metadata": {},
   "source": [
    "# Play one episode"
   ]
  },
  {
   "cell_type": "code",
   "execution_count": 8,
   "metadata": {},
   "outputs": [],
   "source": [
    "def play_one_episode(agent, env, scaler):\n",
    "    last_state = env.reset()\n",
    "    last_reward = 0\n",
    "    done = False\n",
    "    scores = []\n",
    "    while not done:\n",
    "        last_state = scaler.transform([last_state])\n",
    "        action = agent.update(last_reward, last_state)\n",
    "        scores.append(agent.score())\n",
    "        last_state, last_reward, done, info = env.step(action)\n",
    "        \n",
    "    \n",
    "    return info, scores"
   ]
  },
  {
   "cell_type": "markdown",
   "metadata": {},
   "source": [
    "# Stock data"
   ]
  },
  {
   "cell_type": "code",
   "execution_count": 9,
   "metadata": {},
   "outputs": [
    {
     "data": {
      "text/plain": [
       "<matplotlib.legend.Legend at 0x2db37130220>"
      ]
     },
     "execution_count": 9,
     "metadata": {},
     "output_type": "execute_result"
    },
    {
     "data": {
      "image/png": "[encoded data removed]",
      "text/plain": [
       "<Figure size 432x288 with 1 Axes>"
      ]
     },
     "metadata": {
      "needs_background": "light"
     },
     "output_type": "display_data"
    }
   ],
   "source": [
    "# stock_name = 'aapl'\n",
    "# stock_data = yf.download(stock_name, period='60d', interval='5m');\n",
    "# stock_data['Volume'] = stock_data['Volume'].apply(lambda vol: np.NaN if vol == 0 else vol)\n",
    "# stock_data.dropna(axis=0, inplace=True)\n",
    "stock_data = web.DataReader('gm', 'yahoo', '2015-01-01', '2026-01-01')\n",
    "stock_data['rsi'] = talib.RSI(stock_data['Adj Close'])\n",
    "stock_data['mom'] = talib.MOM(stock_data['Adj Close'])\n",
    "stock_data['adx'] = talib.ADX(stock_data['High'], stock_data['Low'], stock_data['Adj Close'])\n",
    "stock_data['macd'], stock_data['macd sig'], _ = talib.MACD(stock_data['Adj Close'])\n",
    "stock_data.dropna(axis=0, inplace=True)\n",
    "\n",
    "train_data = stock_data.iloc[:-253]\n",
    "test_data = stock_data.iloc[-253:]\n",
    "\n",
    "train_data['Adj Close'].plot(label='training_data')\n",
    "test_data['Adj Close'].plot(label='testing_data')\n",
    "plt.legend()"
   ]
  },
  {
   "cell_type": "code",
   "execution_count": 10,
   "metadata": {},
   "outputs": [
    {
     "data": {
      "text/plain": [
       "<AxesSubplot:ylabel='Date'>"
      ]
     },
     "execution_count": 10,
     "metadata": {},
     "output_type": "execute_result"
    },
    {
     "data": {
      "image/png": "[encoded data removed]",
      "text/plain": [
       "<Figure size 432x288 with 2 Axes>"
      ]
     },
     "metadata": {
      "needs_background": "light"
     },
     "output_type": "display_data"
    }
   ],
   "source": [
    "sns.heatmap(stock_data.isnull())"
   ]
  },
  {
   "cell_type": "markdown",
   "metadata": {},
   "source": [
    "# Training model"
   ]
  },
  {
   "cell_type": "code",
   "execution_count": 11,
   "metadata": {},
   "outputs": [],
   "source": [
    "num_episodes = 50\n",
    "capital = 1000000\n",
    "env = SingleStock(train_data, capital)\n",
    "state_size = env.state_dim\n",
    "action_size = len(env.action_space)\n",
    "torch.manual_seed(101)\n",
    "agent = DQNAgent(state_size, action_size, 0.9)\n",
    "scaler = get_scaler(env)"
   ]
  },
  {
   "cell_type": "code",
   "execution_count": 12,
   "metadata": {
    "scrolled": true
   },
   "outputs": [
    {
     "name": "stdout",
     "output_type": "stream",
     "text": [
      "Parameter containing:\n",
      "tensor([[-0.2135, -0.0352, -0.2893,  0.2738, -0.1489, -0.3404,  0.2896, -0.1127],\n",
      "        [-0.0489,  0.1643, -0.0158, -0.3029,  0.0589,  0.1783,  0.1873, -0.2515],\n",
      "        [ 0.1522, -0.0740,  0.0879, -0.0931,  0.2703, -0.0887, -0.2505, -0.0940],\n",
      "        [ 0.0456,  0.0192, -0.2729, -0.2834, -0.2378,  0.1901, -0.0123,  0.2135],\n",
      "        [-0.0766, -0.1220,  0.0059, -0.1093,  0.0864,  0.0491,  0.1535, -0.1776],\n",
      "        [-0.0435,  0.2273,  0.0524,  0.1468, -0.0622,  0.2578, -0.1453,  0.0916],\n",
      "        [ 0.2571, -0.0443,  0.0321, -0.1600, -0.1483, -0.0945, -0.2333, -0.3029],\n",
      "        [-0.2732,  0.3225,  0.1713, -0.1651,  0.1890,  0.0338,  0.2316, -0.2264],\n",
      "        [-0.2352,  0.0071, -0.0358, -0.3514,  0.3086, -0.0530,  0.3321, -0.0910],\n",
      "        [-0.0244,  0.2847,  0.0361,  0.3057,  0.1904,  0.2756, -0.2460,  0.2849],\n",
      "        [ 0.2613, -0.2842, -0.1209,  0.2178,  0.0607, -0.1048,  0.3273, -0.1953],\n",
      "        [ 0.2457,  0.1992,  0.0329, -0.3088, -0.2419,  0.1442, -0.3100, -0.0862],\n",
      "        [ 0.0361,  0.1803,  0.2366, -0.3462, -0.1743, -0.0326,  0.0116,  0.0848],\n",
      "        [-0.2761,  0.2059, -0.1218, -0.1085, -0.1750,  0.1610,  0.2341,  0.1233],\n",
      "        [-0.3324,  0.1126, -0.1199,  0.1105,  0.0134, -0.3114,  0.0982, -0.0747],\n",
      "        [-0.1794, -0.2695,  0.1148, -0.1565, -0.3453, -0.3121, -0.0630,  0.3479],\n",
      "        [-0.3206, -0.0805, -0.2503,  0.0372, -0.2831,  0.1799, -0.2828, -0.1766],\n",
      "        [-0.2957,  0.0021, -0.1834,  0.2912,  0.3112, -0.0728,  0.0613, -0.2903],\n",
      "        [ 0.2493, -0.2402,  0.1341,  0.3260, -0.2910, -0.0250,  0.0321,  0.0142],\n",
      "        [ 0.3116,  0.2858,  0.0591,  0.1588,  0.0857, -0.2252, -0.3523,  0.2645],\n",
      "        [ 0.2387, -0.2525,  0.3069,  0.0893,  0.3112, -0.1830, -0.2137, -0.2384],\n",
      "        [ 0.1361, -0.2046, -0.2807,  0.0211,  0.0348, -0.0970, -0.1556, -0.1118],\n",
      "        [-0.1193, -0.1656, -0.0589, -0.1856,  0.0046, -0.2163, -0.0372, -0.0971],\n",
      "        [-0.0023, -0.2871,  0.1790, -0.1719, -0.0780,  0.1106,  0.0765,  0.1051],\n",
      "        [ 0.0312,  0.1225, -0.1934, -0.0812,  0.2813, -0.3048,  0.2626, -0.2478],\n",
      "        [ 0.2182, -0.1847,  0.1195, -0.2904,  0.0509, -0.2020, -0.0803,  0.3303],\n",
      "        [-0.3380, -0.0414,  0.2620,  0.2831,  0.1497,  0.1667, -0.2750,  0.1838],\n",
      "        [ 0.1261,  0.0522,  0.3303, -0.1946,  0.2074,  0.1355,  0.3222,  0.2844],\n",
      "        [-0.0334, -0.0453, -0.0255, -0.1080, -0.1991,  0.3261,  0.0295,  0.1157],\n",
      "        [-0.3204,  0.0530,  0.2730,  0.2091,  0.1535,  0.1032, -0.3214, -0.0750]],\n",
      "       requires_grad=True)\n",
      "240\n",
      "\n",
      "Parameter containing:\n",
      "tensor([-0.1781,  0.2280, -0.0532, -0.1628, -0.0714,  0.2679, -0.0894, -0.2059,\n",
      "         0.2594, -0.2542, -0.1492,  0.3061, -0.0900,  0.3124, -0.1663,  0.2074,\n",
      "         0.3199, -0.0112, -0.0760,  0.2548,  0.1711, -0.1479, -0.1665,  0.0640,\n",
      "         0.3425, -0.1190,  0.1782,  0.1055,  0.3297, -0.1032],\n",
      "       requires_grad=True)\n",
      "30\n",
      "\n",
      "Parameter containing:\n",
      "tensor([[-0.0699, -0.0961,  0.0337,  ...,  0.1395, -0.0824, -0.1751],\n",
      "        [-0.1746,  0.0623,  0.1072,  ..., -0.0101,  0.0682,  0.0326],\n",
      "        [ 0.0089, -0.1823,  0.0138,  ...,  0.1665,  0.0427,  0.1677],\n",
      "        ...,\n",
      "        [ 0.1026,  0.1024, -0.0210,  ..., -0.1323,  0.1396, -0.0168],\n",
      "        [ 0.1185, -0.0350, -0.1341,  ...,  0.1001,  0.1285,  0.1198],\n",
      "        [-0.0187, -0.1087, -0.1264,  ...,  0.0566,  0.1031, -0.1646]],\n",
      "       requires_grad=True)\n",
      "1200\n",
      "\n",
      "Parameter containing:\n",
      "tensor([ 2.0010e-02,  1.6773e-01, -1.2300e-02, -1.6211e-01, -2.0626e-02,\n",
      "        -1.5740e-04, -1.5422e-01, -7.0076e-02, -1.0443e-01,  2.0423e-02,\n",
      "         3.4757e-02, -1.5498e-01,  1.7106e-01, -8.4801e-02,  3.2670e-02,\n",
      "         1.3365e-01, -1.1062e-01,  8.3403e-02, -4.8445e-02,  7.2092e-02,\n",
      "         1.4585e-01,  1.6601e-01,  2.9912e-02, -1.0092e-01, -9.5551e-02,\n",
      "        -1.4036e-01,  4.4124e-03, -1.7230e-01,  1.5727e-01,  1.5972e-01,\n",
      "         1.7553e-02, -1.5246e-01,  1.2726e-01,  1.1109e-01,  1.3177e-02,\n",
      "         1.2452e-02,  1.5754e-01, -2.5676e-03,  1.8236e-01,  1.1149e-01],\n",
      "       requires_grad=True)\n",
      "40\n",
      "\n",
      "Parameter containing:\n",
      "tensor([[ 0.1148, -0.0321,  0.1085,  0.1464, -0.0925,  0.1091,  0.0536, -0.0288,\n",
      "          0.0923,  0.0344,  0.1128,  0.0607, -0.1407,  0.0076, -0.0045,  0.1492,\n",
      "          0.1495, -0.0145,  0.1276,  0.0578,  0.0876,  0.0901, -0.1215,  0.0671,\n",
      "         -0.1113, -0.0235, -0.0311, -0.1335, -0.1466,  0.0382,  0.0574,  0.0833,\n",
      "          0.0718,  0.0993,  0.0081,  0.0634, -0.1113,  0.0190,  0.1556, -0.1032],\n",
      "        [-0.0278,  0.0196,  0.1223, -0.0271, -0.1358, -0.1145, -0.0755,  0.1314,\n",
      "          0.0149,  0.0801,  0.1479,  0.0379,  0.0725,  0.0322, -0.1288,  0.0323,\n",
      "          0.0247, -0.0079, -0.1485, -0.1540, -0.0955,  0.1337,  0.1576, -0.1325,\n",
      "          0.0615, -0.0885, -0.1515,  0.1515, -0.1070, -0.1424, -0.0471,  0.0147,\n",
      "          0.0349, -0.0567, -0.0344,  0.1409, -0.0234,  0.0937,  0.0241, -0.0739],\n",
      "        [-0.1486,  0.0994, -0.0961, -0.1045, -0.0072,  0.0665, -0.1421, -0.0143,\n",
      "         -0.1305,  0.1186, -0.1578, -0.0049, -0.0178, -0.0775,  0.1476,  0.1407,\n",
      "          0.0362, -0.0183,  0.0751,  0.0951, -0.0371,  0.0554, -0.0670,  0.0602,\n",
      "         -0.0179, -0.0820, -0.1160,  0.0283,  0.1097,  0.0651,  0.1513,  0.0903,\n",
      "          0.1344,  0.1125, -0.0965, -0.0494, -0.0134,  0.1402, -0.1168, -0.0218]],\n",
      "       requires_grad=True)\n",
      "120\n",
      "\n",
      "Parameter containing:\n",
      "tensor([ 0.0951, -0.0575,  0.0019], requires_grad=True)\n",
      "3\n",
      "\n"
     ]
    }
   ],
   "source": [
    "for param in agent.model.parameters():\n",
    "    print(param)\n",
    "    print(param.numel())\n",
    "    print()"
   ]
  },
  {
   "cell_type": "code",
   "execution_count": 13,
   "metadata": {},
   "outputs": [
    {
     "name": "stdout",
     "output_type": "stream",
     "text": [
      "Parameter containing:\n",
      "tensor([[-0.2135, -0.0352, -0.2893,  0.2738, -0.1489, -0.3404,  0.2896, -0.1127],\n",
      "        [-0.0489,  0.1643, -0.0158, -0.3029,  0.0589,  0.1783,  0.1873, -0.2515],\n",
      "        [ 0.1522, -0.0740,  0.0879, -0.0931,  0.2703, -0.0887, -0.2505, -0.0940],\n",
      "        [ 0.0456,  0.0192, -0.2729, -0.2834, -0.2378,  0.1901, -0.0123,  0.2135],\n",
      "        [-0.0766, -0.1220,  0.0059, -0.1093,  0.0864,  0.0491,  0.1535, -0.1776],\n",
      "        [-0.0435,  0.2273,  0.0524,  0.1468, -0.0622,  0.2578, -0.1453,  0.0916],\n",
      "        [ 0.2571, -0.0443,  0.0321, -0.1600, -0.1483, -0.0945, -0.2333, -0.3029],\n",
      "        [-0.2732,  0.3225,  0.1713, -0.1651,  0.1890,  0.0338,  0.2316, -0.2264],\n",
      "        [-0.2352,  0.0071, -0.0358, -0.3514,  0.3086, -0.0530,  0.3321, -0.0910],\n",
      "        [-0.0244,  0.2847,  0.0361,  0.3057,  0.1904,  0.2756, -0.2460,  0.2849],\n",
      "        [ 0.2613, -0.2842, -0.1209,  0.2178,  0.0607, -0.1048,  0.3273, -0.1953],\n",
      "        [ 0.2457,  0.1992,  0.0329, -0.3088, -0.2419,  0.1442, -0.3100, -0.0862],\n",
      "        [ 0.0361,  0.1803,  0.2366, -0.3462, -0.1743, -0.0326,  0.0116,  0.0848],\n",
      "        [-0.2761,  0.2059, -0.1218, -0.1085, -0.1750,  0.1610,  0.2341,  0.1233],\n",
      "        [-0.3324,  0.1126, -0.1199,  0.1105,  0.0134, -0.3114,  0.0982, -0.0747],\n",
      "        [-0.1794, -0.2695,  0.1148, -0.1565, -0.3453, -0.3121, -0.0630,  0.3479],\n",
      "        [-0.3206, -0.0805, -0.2503,  0.0372, -0.2831,  0.1799, -0.2828, -0.1766],\n",
      "        [-0.2957,  0.0021, -0.1834,  0.2912,  0.3112, -0.0728,  0.0613, -0.2903],\n",
      "        [ 0.2493, -0.2402,  0.1341,  0.3260, -0.2910, -0.0250,  0.0321,  0.0142],\n",
      "        [ 0.3116,  0.2858,  0.0591,  0.1588,  0.0857, -0.2252, -0.3523,  0.2645],\n",
      "        [ 0.2387, -0.2525,  0.3069,  0.0893,  0.3112, -0.1830, -0.2137, -0.2384],\n",
      "        [ 0.1361, -0.2046, -0.2807,  0.0211,  0.0348, -0.0970, -0.1556, -0.1118],\n",
      "        [-0.1193, -0.1656, -0.0589, -0.1856,  0.0046, -0.2163, -0.0372, -0.0971],\n",
      "        [-0.0023, -0.2871,  0.1790, -0.1719, -0.0780,  0.1106,  0.0765,  0.1051],\n",
      "        [ 0.0312,  0.1225, -0.1934, -0.0812,  0.2813, -0.3048,  0.2626, -0.2478],\n",
      "        [ 0.2182, -0.1847,  0.1195, -0.2904,  0.0509, -0.2020, -0.0803,  0.3303],\n",
      "        [-0.3380, -0.0414,  0.2620,  0.2831,  0.1497,  0.1667, -0.2750,  0.1838],\n",
      "        [ 0.1261,  0.0522,  0.3303, -0.1946,  0.2074,  0.1355,  0.3222,  0.2844],\n",
      "        [-0.0334, -0.0453, -0.0255, -0.1080, -0.1991,  0.3261,  0.0295,  0.1157],\n",
      "        [-0.3204,  0.0530,  0.2730,  0.2091,  0.1535,  0.1032, -0.3214, -0.0750]],\n",
      "       requires_grad=True)\n",
      "240\n",
      "\n",
      "Parameter containing:\n",
      "tensor([-0.1781,  0.2280, -0.0532, -0.1628, -0.0714,  0.2679, -0.0894, -0.2059,\n",
      "         0.2594, -0.2542, -0.1492,  0.3061, -0.0900,  0.3124, -0.1663,  0.2074,\n",
      "         0.3199, -0.0112, -0.0760,  0.2548,  0.1711, -0.1479, -0.1665,  0.0640,\n",
      "         0.3425, -0.1190,  0.1782,  0.1055,  0.3297, -0.1032],\n",
      "       requires_grad=True)\n",
      "30\n",
      "\n",
      "Parameter containing:\n",
      "tensor([[-0.0699, -0.0961,  0.0337,  ...,  0.1395, -0.0824, -0.1751],\n",
      "        [-0.1746,  0.0623,  0.1072,  ..., -0.0101,  0.0682,  0.0326],\n",
      "        [ 0.0089, -0.1823,  0.0138,  ...,  0.1665,  0.0427,  0.1677],\n",
      "        ...,\n",
      "        [ 0.1026,  0.1024, -0.0210,  ..., -0.1323,  0.1396, -0.0168],\n",
      "        [ 0.1185, -0.0350, -0.1341,  ...,  0.1001,  0.1285,  0.1198],\n",
      "        [-0.0187, -0.1087, -0.1264,  ...,  0.0566,  0.1031, -0.1646]],\n",
      "       requires_grad=True)\n",
      "1200\n",
      "\n",
      "Parameter containing:\n",
      "tensor([ 2.0010e-02,  1.6773e-01, -1.2300e-02, -1.6211e-01, -2.0626e-02,\n",
      "        -1.5740e-04, -1.5422e-01, -7.0076e-02, -1.0443e-01,  2.0423e-02,\n",
      "         3.4757e-02, -1.5498e-01,  1.7106e-01, -8.4801e-02,  3.2670e-02,\n",
      "         1.3365e-01, -1.1062e-01,  8.3403e-02, -4.8445e-02,  7.2092e-02,\n",
      "         1.4585e-01,  1.6601e-01,  2.9912e-02, -1.0092e-01, -9.5551e-02,\n",
      "        -1.4036e-01,  4.4124e-03, -1.7230e-01,  1.5727e-01,  1.5972e-01,\n",
      "         1.7553e-02, -1.5246e-01,  1.2726e-01,  1.1109e-01,  1.3177e-02,\n",
      "         1.2452e-02,  1.5754e-01, -2.5676e-03,  1.8236e-01,  1.1149e-01],\n",
      "       requires_grad=True)\n",
      "40\n",
      "\n",
      "Parameter containing:\n",
      "tensor([[ 0.1148, -0.0321,  0.1085,  0.1464, -0.0925,  0.1091,  0.0536, -0.0288,\n",
      "          0.0923,  0.0344,  0.1128,  0.0607, -0.1407,  0.0076, -0.0045,  0.1492,\n",
      "          0.1495, -0.0145,  0.1276,  0.0578,  0.0876,  0.0901, -0.1215,  0.0671,\n",
      "         -0.1113, -0.0235, -0.0311, -0.1335, -0.1466,  0.0382,  0.0574,  0.0833,\n",
      "          0.0718,  0.0993,  0.0081,  0.0634, -0.1113,  0.0190,  0.1556, -0.1032],\n",
      "        [-0.0278,  0.0196,  0.1223, -0.0271, -0.1358, -0.1145, -0.0755,  0.1314,\n",
      "          0.0149,  0.0801,  0.1479,  0.0379,  0.0725,  0.0322, -0.1288,  0.0323,\n",
      "          0.0247, -0.0079, -0.1485, -0.1540, -0.0955,  0.1337,  0.1576, -0.1325,\n",
      "          0.0615, -0.0885, -0.1515,  0.1515, -0.1070, -0.1424, -0.0471,  0.0147,\n",
      "          0.0349, -0.0567, -0.0344,  0.1409, -0.0234,  0.0937,  0.0241, -0.0739],\n",
      "        [-0.1486,  0.0994, -0.0961, -0.1045, -0.0072,  0.0665, -0.1421, -0.0143,\n",
      "         -0.1305,  0.1186, -0.1578, -0.0049, -0.0178, -0.0775,  0.1476,  0.1407,\n",
      "          0.0362, -0.0183,  0.0751,  0.0951, -0.0371,  0.0554, -0.0670,  0.0602,\n",
      "         -0.0179, -0.0820, -0.1160,  0.0283,  0.1097,  0.0651,  0.1513,  0.0903,\n",
      "          0.1344,  0.1125, -0.0965, -0.0494, -0.0134,  0.1402, -0.1168, -0.0218]],\n",
      "       requires_grad=True)\n",
      "120\n",
      "\n",
      "Parameter containing:\n",
      "tensor([ 0.0951, -0.0575,  0.0019], requires_grad=True)\n",
      "3\n",
      "\n"
     ]
    }
   ],
   "source": [
    "for param in agent.model.parameters():\n",
    "    print(param)\n",
    "    print(param.numel())\n",
    "    print()"
   ]
  },
  {
   "cell_type": "code",
   "execution_count": 14,
   "metadata": {
    "scrolled": true
   },
   "outputs": [
    {
     "data": {
      "application/vnd.jupyter.widget-view+json": {
       "model_id": "1c2649190bf54557a92105eb580cd7e5",
       "version_major": 2,
       "version_minor": 0
      },
      "text/plain": [
       "  0%|          | 0/50 [00:00<?, ?it/s]"
      ]
     },
     "metadata": {},
     "output_type": "display_data"
    },
    {
     "name": "stdout",
     "output_type": "stream",
     "text": [
      "episode: 1/50, episode end value: 969807.99\n",
      "episode: 2/50, episode end value: 945591.37\n",
      "episode: 3/50, episode end value: 896045.82\n",
      "episode: 4/50, episode end value: 946516.09\n",
      "episode: 5/50, episode end value: 1095689.98\n",
      "episode: 6/50, episode end value: 1238775.77\n",
      "episode: 7/50, episode end value: 1432795.11\n",
      "episode: 8/50, episode end value: 895123.31\n",
      "episode: 9/50, episode end value: 926202.66\n",
      "episode: 10/50, episode end value: 1092980.29\n",
      "episode: 11/50, episode end value: 1436318.87\n",
      "episode: 12/50, episode end value: 1087689.98\n",
      "episode: 13/50, episode end value: 1516063.96\n",
      "episode: 14/50, episode end value: 1067563.26\n",
      "episode: 15/50, episode end value: 909791.06\n",
      "episode: 16/50, episode end value: 1203487.06\n",
      "episode: 17/50, episode end value: 1148443.78\n",
      "episode: 18/50, episode end value: 779144.17\n",
      "episode: 19/50, episode end value: 1013468.75\n",
      "episode: 20/50, episode end value: 1154149.29\n",
      "episode: 21/50, episode end value: 1071308.63\n",
      "episode: 22/50, episode end value: 1100911.25\n",
      "episode: 23/50, episode end value: 1221849.16\n",
      "episode: 24/50, episode end value: 1283602.91\n",
      "episode: 25/50, episode end value: 1018052.22\n",
      "episode: 26/50, episode end value: 781505.71\n",
      "episode: 27/50, episode end value: 1426998.39\n",
      "episode: 28/50, episode end value: 1820456.63\n",
      "episode: 29/50, episode end value: 1389499.49\n",
      "episode: 30/50, episode end value: 962819.72\n",
      "episode: 31/50, episode end value: 1002670.14\n",
      "episode: 32/50, episode end value: 977651.03\n",
      "episode: 33/50, episode end value: 1744030.99\n",
      "episode: 34/50, episode end value: 938683.06\n",
      "episode: 35/50, episode end value: 1102272.66\n",
      "episode: 36/50, episode end value: 1013684.55\n",
      "episode: 37/50, episode end value: 1164495.47\n",
      "episode: 38/50, episode end value: 1100122.67\n",
      "episode: 39/50, episode end value: 951645.49\n",
      "episode: 40/50, episode end value: 991030.56\n",
      "episode: 41/50, episode end value: 913165.32\n",
      "episode: 42/50, episode end value: 1791570.75\n",
      "episode: 43/50, episode end value: 1130046.01\n",
      "episode: 44/50, episode end value: 862049.23\n",
      "episode: 45/50, episode end value: 966746.85\n",
      "episode: 46/50, episode end value: 1152901.25\n",
      "episode: 47/50, episode end value: 1350267.16\n",
      "episode: 48/50, episode end value: 1548945.02\n",
      "episode: 49/50, episode end value: 1415208.60\n",
      "episode: 50/50, episode end value: 1392288.06\n",
      "=> Saved!!!...\n",
      "average reward: 1146842.55, min: 779144.17, max: 1820456.63\n"
     ]
    },
    {
     "data": {
      "image/png": "[encoded data removed]",
      "text/plain": [
       "<Figure size 432x288 with 1 Axes>"
      ]
     },
     "metadata": {
      "needs_background": "light"
     },
     "output_type": "display_data"
    }
   ],
   "source": [
    "#train\n",
    "\n",
    "portfolio_value = []\n",
    "for e in tqdm(range(num_episodes)):\n",
    "\n",
    "    val, scores = play_one_episode(agent, env, scaler)\n",
    "\n",
    "    print(f\"episode: {e + 1}/{num_episodes}, episode end value: {val['portfolio_value'][-1]:.2f}\")\n",
    "    portfolio_value.append(val['portfolio_value'][-1]) \n",
    "    \n",
    "agent.save()\n",
    "losses = agent.losses\n",
    "\n",
    "print(f'average reward: {np.mean(portfolio_value):.2f}, min: {np.min(portfolio_value):.2f}, max: {np.max(portfolio_value):.2f}')\n",
    "sns.histplot(portfolio_value, bins=100, color='r', kde=True);\n",
    "plt.xlabel('Portfolio Value');\n",
    "plt.ylabel('Count');"
   ]
  },
  {
   "cell_type": "code",
   "execution_count": 15,
   "metadata": {},
   "outputs": [
    {
     "data": {
      "text/plain": [
       "<AxesSubplot:>"
      ]
     },
     "execution_count": 15,
     "metadata": {},
     "output_type": "execute_result"
    },
    {
     "data": {
      "image/png": "[encoded data removed]",
      "text/plain": [
       "<Figure size 720x432 with 1 Axes>"
      ]
     },
     "metadata": {
      "needs_background": "light"
     },
     "output_type": "display_data"
    }
   ],
   "source": [
    "pd.Series(losses).plot(figsize=(10,6))"
   ]
  },
  {
   "cell_type": "code",
   "execution_count": 16,
   "metadata": {},
   "outputs": [
    {
     "data": {
      "text/plain": [
       "<AxesSubplot:>"
      ]
     },
     "execution_count": 16,
     "metadata": {},
     "output_type": "execute_result"
    },
    {
     "data": {
      "image/png": "[encoded data removed]",
      "text/plain": [
       "<Figure size 720x432 with 1 Axes>"
      ]
     },
     "metadata": {
      "needs_background": "light"
     },
     "output_type": "display_data"
    }
   ],
   "source": [
    "pd.Series(losses).rolling(128).mean().plot(figsize=(10,6))"
   ]
  },
  {
   "cell_type": "code",
   "execution_count": 17,
   "metadata": {},
   "outputs": [
    {
     "data": {
      "text/plain": [
       "<AxesSubplot:>"
      ]
     },
     "execution_count": 17,
     "metadata": {},
     "output_type": "execute_result"
    },
    {
     "data": {
      "image/png": "[encoded data removed]",
      "text/plain": [
       "<Figure size 432x288 with 1 Axes>"
      ]
     },
     "metadata": {
      "needs_background": "light"
     },
     "output_type": "display_data"
    }
   ],
   "source": [
    "pd.Series(scores).plot()"
   ]
  },
  {
   "cell_type": "markdown",
   "metadata": {},
   "source": [
    "# Testing Model"
   ]
  },
  {
   "cell_type": "code",
   "execution_count": 20,
   "metadata": {},
   "outputs": [
    {
     "name": "stdout",
     "output_type": "stream",
     "text": [
      "==> loading parameters!\n",
      "done !\n",
      "tensor([[ 1.0003e+07, -5.5021e+03,  7.4076e+03]])\n",
      "tensor([[ 1.0025e+07, -5.5144e+03,  7.4245e+03]])\n",
      "tensor([[ 1.0029e+07, -5.5166e+03,  7.4271e+03]])\n",
      "tensor([[ 1.0044e+07, -5.5247e+03,  7.4380e+03]])\n",
      "tensor([[ 1.0036e+07, -5.5202e+03,  7.4320e+03]])\n",
      "tensor([[ 1.0057e+07, -5.5323e+03,  7.4493e+03]])\n",
      "tensor([[ 1.0087e+07, -5.5495e+03,  7.4738e+03]])\n",
      "tensor([[ 1.0107e+07, -5.5605e+03,  7.4888e+03]])\n",
      "tensor([[ 1.0173e+07, -5.5977e+03,  7.5401e+03]])\n",
      "tensor([[ 1.0221e+07, -5.6242e+03,  7.5762e+03]])\n",
      "tensor([[ 1.0205e+07, -5.6154e+03,  7.5638e+03]])\n",
      "tensor([[ 1.0298e+07, -5.6668e+03,  7.6335e+03]])\n",
      "tensor([[ 1.0275e+07, -5.6538e+03,  7.6156e+03]])\n",
      "tensor([[ 1.0350e+07, -5.6954e+03,  7.6725e+03]])\n",
      "tensor([[ 1.0453e+07, -5.7527e+03,  7.7504e+03]])\n",
      "tensor([[ 1.0775e+07, -5.9309e+03,  7.9922e+03]])\n",
      "tensor([[ 1.0702e+07, -5.8900e+03,  7.9361e+03]])\n",
      "tensor([[ 1.0821e+07, -5.9560e+03,  8.0259e+03]])\n",
      "tensor([[ 1.1165e+07, -6.1457e+03,  8.2819e+03]])\n",
      "tensor([[ 1.1132e+07, -6.1277e+03,  8.2574e+03]])\n",
      "tensor([[ 1.1840e+07, -6.5173e+03,  8.7828e+03]])\n",
      "tensor([[ 1.2178e+07, -6.7033e+03,  9.0336e+03]])\n",
      "tensor([[ 1.3192e+07, -7.2611e+03,  9.7857e+03]])\n",
      "tensor([[ 1.3295e+07, -7.3185e+03,  9.8628e+03]])\n",
      "tensor([[ 1.3363e+07, -7.3558e+03,  9.9132e+03]])\n",
      "tensor([[ 1.3258e+07, -7.2978e+03,  9.8351e+03]])\n",
      "tensor([[ 1.2943e+07, -7.1249e+03,  9.6020e+03]])\n",
      "tensor([[ 1.2644e+07, -6.9604e+03,  9.3803e+03]])\n",
      "tensor([[ 1.2010e+07, -6.6107e+03,  8.9092e+03]])\n",
      "tensor([[ 1.2063e+07, -6.6403e+03,  8.9488e+03]])\n",
      "tensor([[ 1.1706e+07, -6.4429e+03,  8.6830e+03]])\n",
      "tensor([[ 1.1594e+07, -6.3809e+03,  8.5993e+03]])\n",
      "tensor([[ 1.1519e+07, -6.3392e+03,  8.5432e+03]])\n",
      "tensor([[ 1.1586e+07, -6.3765e+03,  8.5936e+03]])\n",
      "tensor([[ 1.1599e+07, -6.3836e+03,  8.6032e+03]])\n",
      "tensor([[ 1.1423e+07, -6.2861e+03,  8.4715e+03]])\n",
      "tensor([[ 1.1274e+07, -6.2042e+03,  8.3608e+03]])\n",
      "tensor([[ 1.1083e+07, -6.0982e+03,  8.2168e+03]])\n",
      "tensor([[ 1.0856e+07, -5.9729e+03,  8.0471e+03]])\n",
      "tensor([[ 1.0757e+07, -5.9178e+03,  7.9725e+03]])\n",
      "tensor([[ 1.0653e+07, -5.8601e+03,  7.8945e+03]])\n",
      "tensor([[ 1.0646e+07, -5.8560e+03,  7.8891e+03]])\n",
      "tensor([[ 1.0658e+07, -5.8625e+03,  7.8977e+03]])\n",
      "tensor([[ 1.0517e+07, -5.7835e+03,  7.7899e+03]])\n",
      "tensor([[ 1.0480e+07, -5.7630e+03,  7.7620e+03]])\n",
      "tensor([[ 1.0550e+07, -5.8020e+03,  7.8154e+03]])\n",
      "tensor([[ 1.0558e+07, -5.8067e+03,  7.8221e+03]])\n",
      "tensor([[ 1.0561e+07, -5.8090e+03,  7.8256e+03]])\n",
      "tensor([[ 1.0532e+07, -5.7930e+03,  7.8040e+03]])\n",
      "tensor([[ 1.0460e+07, -5.7527e+03,  7.7489e+03]])\n",
      "tensor([[ 1.0481e+07, -5.7638e+03,  7.7640e+03]])\n",
      "tensor([[ 1.0297e+07, -5.6616e+03,  7.6248e+03]])\n",
      "tensor([[ 1.0400e+07, -5.7185e+03,  7.7021e+03]])\n",
      "tensor([[ 1.0554e+07, -5.8038e+03,  7.8185e+03]])\n",
      "tensor([[ 1.0587e+07, -5.8222e+03,  7.8433e+03]])\n",
      "tensor([[ 1.0558e+07, -5.8056e+03,  7.8203e+03]])\n",
      "tensor([[ 1.0503e+07, -5.7754e+03,  7.7792e+03]])\n",
      "tensor([[ 1.0443e+07, -5.7421e+03,  7.7339e+03]])\n",
      "tensor([[ 1.0267e+07, -5.6447e+03,  7.6017e+03]])\n",
      "tensor([[ 1.0331e+07, -5.6805e+03,  7.6509e+03]])\n",
      "tensor([[ 1.0334e+07, -5.6817e+03,  7.6527e+03]])\n",
      "tensor([[ 1.0492e+07, -5.7694e+03,  7.7715e+03]])\n",
      "tensor([[ 1.0403e+07, -5.7197e+03,  7.7039e+03]])\n",
      "tensor([[ 1.0361e+07, -5.6961e+03,  7.6715e+03]])\n",
      "tensor([[ 1.0119e+07, -5.5622e+03,  7.4895e+03]])\n",
      "tensor([[ 1.0075e+07, -5.5383e+03,  7.4575e+03]])\n",
      "tensor([[ 1.0007e+07, -5.5004e+03,  7.4060e+03]])\n",
      "tensor([[ 9.9958e+06, -5.4944e+03,  7.3977e+03]])\n",
      "tensor([[ 1.0023e+07, -5.5097e+03,  7.4184e+03]])\n",
      "tensor([[ 1.0041e+07, -5.5186e+03,  7.4297e+03]])\n",
      "tensor([[ 1.0068e+07, -5.5327e+03,  7.4487e+03]])\n",
      "tensor([[ 1.0103e+07, -5.5522e+03,  7.4751e+03]])\n",
      "tensor([[ 1.0151e+07, -5.5794e+03,  7.5120e+03]])\n",
      "tensor([[ 1.0159e+07, -5.5836e+03,  7.5176e+03]])\n",
      "tensor([[ 1.0184e+07, -5.5976e+03,  7.5367e+03]])\n",
      "tensor([[ 1.0174e+07, -5.5912e+03,  7.5278e+03]])\n",
      "tensor([[ 1.0198e+07, -5.6046e+03,  7.5459e+03]])\n",
      "tensor([[ 1.0201e+07, -5.6055e+03,  7.5469e+03]])\n",
      "tensor([[ 1.0220e+07, -5.6161e+03,  7.5613e+03]])\n",
      "tensor([[ 1.0279e+07, -5.6497e+03,  7.6068e+03]])\n",
      "tensor([[ 1.0322e+07, -5.6743e+03,  7.6402e+03]])\n",
      "tensor([[ 1.0366e+07, -5.6994e+03,  7.6742e+03]])\n",
      "tensor([[ 1.0337e+07, -5.6823e+03,  7.6509e+03]])\n",
      "tensor([[ 1.0341e+07, -5.6848e+03,  7.6545e+03]])\n",
      "tensor([[ 1.0323e+07, -5.6754e+03,  7.6420e+03]])\n",
      "tensor([[ 1.0317e+07, -5.6729e+03,  7.6391e+03]])\n",
      "tensor([[ 1.0292e+07, -5.6593e+03,  7.6209e+03]])\n",
      "tensor([[ 1.0278e+07, -5.6526e+03,  7.6122e+03]])\n",
      "tensor([[ 1.0252e+07, -5.6384e+03,  7.5932e+03]])\n",
      "tensor([[ 1.0214e+07, -5.6173e+03,  7.5647e+03]])\n",
      "tensor([[ 1.0222e+07, -5.6220e+03,  7.5716e+03]])\n",
      "tensor([[ 1.0175e+07, -5.5956e+03,  7.5360e+03]])\n",
      "tensor([[ 1.0223e+07, -5.6226e+03,  7.5735e+03]])\n",
      "tensor([[ 1.0168e+07, -5.5918e+03,  7.5315e+03]])\n",
      "tensor([[ 1.0174e+07, -5.5950e+03,  7.5360e+03]])\n",
      "tensor([[ 1.0215e+07, -5.6177e+03,  7.5665e+03]])\n",
      "tensor([[ 1.0223e+07, -5.6220e+03,  7.5721e+03]])\n",
      "tensor([[ 1.0209e+07, -5.6139e+03,  7.5607e+03]])\n",
      "tensor([[ 1.0281e+07, -5.6537e+03,  7.6146e+03]])\n",
      "tensor([[ 1.0315e+07, -5.6726e+03,  7.6402e+03]])\n",
      "tensor([[ 1.0447e+07, -5.7457e+03,  7.7395e+03]])\n",
      "tensor([[ 1.0373e+07, -5.7046e+03,  7.6836e+03]])\n",
      "tensor([[ 1.0334e+07, -5.6831e+03,  7.6540e+03]])\n",
      "tensor([[ 1.0284e+07, -5.6551e+03,  7.6159e+03]])\n",
      "tensor([[ 1.0158e+07, -5.5855e+03,  7.5213e+03]])\n",
      "tensor([[ 1.0105e+07, -5.5559e+03,  7.4811e+03]])\n",
      "tensor([[ 1.0111e+07, -5.5596e+03,  7.4865e+03]])\n",
      "tensor([[ 1.0151e+07, -5.5819e+03,  7.5169e+03]])\n",
      "tensor([[ 1.0135e+07, -5.5726e+03,  7.5042e+03]])\n",
      "tensor([[ 1.0124e+07, -5.5666e+03,  7.4959e+03]])\n",
      "tensor([[ 1.0056e+07, -5.5285e+03,  7.4437e+03]])\n",
      "tensor([[ 1.0101e+07, -5.5535e+03,  7.4781e+03]])\n",
      "tensor([[ 1.0162e+07, -5.5873e+03,  7.5242e+03]])\n",
      "tensor([[ 1.0134e+07, -5.5717e+03,  7.5029e+03]])\n",
      "tensor([[ 1.0193e+07, -5.6050e+03,  7.5485e+03]])\n",
      "tensor([[ 1.0269e+07, -5.6470e+03,  7.6056e+03]])\n",
      "tensor([[ 1.0314e+07, -5.6718e+03,  7.6391e+03]])\n",
      "tensor([[ 1.0274e+07, -5.6495e+03,  7.6083e+03]])\n",
      "tensor([[ 1.0272e+07, -5.6483e+03,  7.6066e+03]])\n",
      "tensor([[ 1.0221e+07, -5.6198e+03,  7.5678e+03]])\n",
      "tensor([[ 1.0173e+07, -5.5934e+03,  7.5323e+03]])\n",
      "tensor([[ 1.0136e+07, -5.5728e+03,  7.5042e+03]])\n",
      "tensor([[ 1.0013e+07, -5.5049e+03,  7.4116e+03]])\n",
      "tensor([[ 9.9591e+06, -5.4752e+03,  7.3712e+03]])\n",
      "tensor([[ 9.9650e+06, -5.4785e+03,  7.3759e+03]])\n",
      "tensor([[ 9.9732e+06, -5.4831e+03,  7.3822e+03]])\n",
      "tensor([[ 9.9877e+06, -5.4907e+03,  7.3923e+03]])\n",
      "tensor([[ 9.9904e+06, -5.4914e+03,  7.3926e+03]])\n",
      "tensor([[ 9.9974e+06, -5.4953e+03,  7.3981e+03]])\n",
      "tensor([[ 1.0015e+07, -5.5055e+03,  7.4123e+03]])\n",
      "tensor([[ 1.0034e+07, -5.5161e+03,  7.4269e+03]])\n",
      "tensor([[ 1.0048e+07, -5.5242e+03,  7.4380e+03]])\n",
      "tensor([[ 1.0054e+07, -5.5267e+03,  7.4409e+03]])\n",
      "tensor([[ 1.0057e+07, -5.5292e+03,  7.4448e+03]])\n",
      "tensor([[ 1.0061e+07, -5.5312e+03,  7.4475e+03]])\n",
      "tensor([[ 1.0059e+07, -5.5299e+03,  7.4456e+03]])\n",
      "tensor([[ 1.0058e+07, -5.5296e+03,  7.4451e+03]])\n",
      "tensor([[ 1.0060e+07, -5.5316e+03,  7.4486e+03]])\n",
      "tensor([[ 1.0059e+07, -5.5308e+03,  7.4473e+03]])\n",
      "tensor([[ 1.0048e+07, -5.5242e+03,  7.4378e+03]])\n",
      "tensor([[ 1.0045e+07, -5.5229e+03,  7.4367e+03]])\n",
      "tensor([[ 1.0040e+07, -5.5201e+03,  7.4326e+03]])\n",
      "tensor([[ 1.0027e+07, -5.5126e+03,  7.4218e+03]])\n",
      "tensor([[ 1.0017e+07, -5.5070e+03,  7.4145e+03]])\n",
      "tensor([[ 1.0026e+07, -5.5130e+03,  7.4233e+03]])\n",
      "tensor([[ 1.0034e+07, -5.5170e+03,  7.4286e+03]])\n",
      "tensor([[ 1.0032e+07, -5.5158e+03,  7.4267e+03]])\n",
      "tensor([[ 1.0020e+07, -5.5089e+03,  7.4171e+03]])\n",
      "tensor([[ 1.0012e+07, -5.5044e+03,  7.4111e+03]])\n",
      "tensor([[ 1.0019e+07, -5.5089e+03,  7.4174e+03]])\n",
      "tensor([[ 1.0016e+07, -5.5070e+03,  7.4146e+03]])\n",
      "tensor([[ 1.0035e+07, -5.5181e+03,  7.4304e+03]])\n",
      "tensor([[ 1.0046e+07, -5.5256e+03,  7.4411e+03]])\n",
      "tensor([[ 1.0042e+07, -5.5230e+03,  7.4374e+03]])\n",
      "tensor([[ 1.0022e+07, -5.5122e+03,  7.4224e+03]])\n",
      "tensor([[ 1.0005e+07, -5.5028e+03,  7.4098e+03]])\n",
      "tensor([[ 9.9932e+06, -5.4965e+03,  7.4011e+03]])\n",
      "tensor([[ 1.0008e+07, -5.5050e+03,  7.4132e+03]])\n",
      "tensor([[ 9.9878e+06, -5.4936e+03,  7.3973e+03]])\n",
      "tensor([[ 9.9744e+06, -5.4860e+03,  7.3867e+03]])\n",
      "tensor([[ 9.9695e+06, -5.4831e+03,  7.3826e+03]])\n",
      "tensor([[ 9.9711e+06, -5.4832e+03,  7.3822e+03]])\n",
      "tensor([[ 9.9670e+06, -5.4811e+03,  7.3793e+03]])\n",
      "tensor([[ 9.9909e+06, -5.4935e+03,  7.3956e+03]])\n",
      "tensor([[ 1.0000e+07, -5.4982e+03,  7.4017e+03]])\n",
      "tensor([[ 1.0004e+07, -5.5004e+03,  7.4046e+03]])\n",
      "tensor([[ 1.0014e+07, -5.5057e+03,  7.4117e+03]])\n",
      "tensor([[ 1.0027e+07, -5.5126e+03,  7.4210e+03]])\n",
      "tensor([[ 1.0042e+07, -5.5212e+03,  7.4328e+03]])\n",
      "tensor([[ 1.0081e+07, -5.5423e+03,  7.4610e+03]])\n",
      "tensor([[ 1.0108e+07, -5.5568e+03,  7.4802e+03]])\n",
      "tensor([[ 1.0118e+07, -5.5626e+03,  7.4881e+03]])\n",
      "tensor([[ 1.0147e+07, -5.5771e+03,  7.5069e+03]])\n",
      "tensor([[ 1.0151e+07, -5.5799e+03,  7.5108e+03]])\n",
      "tensor([[ 1.0219e+07, -5.6167e+03,  7.5598e+03]])\n",
      "tensor([[ 1.0215e+07, -5.6147e+03,  7.5573e+03]])\n",
      "tensor([[ 1.0215e+07, -5.6151e+03,  7.5587e+03]])\n",
      "tensor([[ 1.0246e+07, -5.6322e+03,  7.5821e+03]])\n",
      "tensor([[ 1.0275e+07, -5.6485e+03,  7.6045e+03]])\n",
      "tensor([[ 1.0287e+07, -5.6553e+03,  7.6133e+03]])\n",
      "tensor([[ 1.0296e+07, -5.6608e+03,  7.6210e+03]])\n",
      "tensor([[ 1.0292e+07, -5.6588e+03,  7.6183e+03]])\n",
      "tensor([[ 1.0288e+07, -5.6570e+03,  7.6160e+03]])\n",
      "tensor([[ 1.0287e+07, -5.6562e+03,  7.6149e+03]])\n",
      "tensor([[ 1.0292e+07, -5.6590e+03,  7.6184e+03]])\n",
      "tensor([[ 1.0286e+07, -5.6554e+03,  7.6133e+03]])\n",
      "tensor([[ 1.0355e+07, -5.6923e+03,  7.6619e+03]])\n",
      "tensor([[ 1.0644e+07, -5.8496e+03,  7.8721e+03]])\n",
      "tensor([[ 1.0661e+07, -5.8590e+03,  7.8847e+03]])\n",
      "tensor([[ 1.0533e+07, -5.7896e+03,  7.7921e+03]])\n",
      "tensor([[ 1.0794e+07, -5.9319e+03,  7.9826e+03]])\n",
      "tensor([[ 1.0949e+07, -6.0163e+03,  8.0956e+03]])\n",
      "tensor([[ 1.0960e+07, -6.0226e+03,  8.1043e+03]])\n",
      "tensor([[ 1.1096e+07, -6.0970e+03,  8.2041e+03]])\n",
      "tensor([[ 1.1099e+07, -6.0991e+03,  8.2074e+03]])\n",
      "tensor([[ 1.1159e+07, -6.1319e+03,  8.2514e+03]])\n",
      "tensor([[ 1.1345e+07, -6.2339e+03,  8.3883e+03]])\n",
      "tensor([[ 1.1519e+07, -6.3290e+03,  8.5160e+03]])\n",
      "tensor([[ 1.1465e+07, -6.3001e+03,  8.4775e+03]])\n",
      "tensor([[ 1.1500e+07, -6.3191e+03,  8.5030e+03]])\n",
      "tensor([[ 1.1335e+07, -6.2295e+03,  8.3839e+03]])\n",
      "tensor([[ 1.1386e+07, -6.2578e+03,  8.4217e+03]])\n",
      "tensor([[ 1.1370e+07, -6.2489e+03,  8.4098e+03]])\n",
      "tensor([[ 1.1273e+07, -6.1961e+03,  8.3394e+03]])\n",
      "tensor([[ 1.1280e+07, -6.2003e+03,  8.3449e+03]])\n",
      "tensor([[ 1.1230e+07, -6.1730e+03,  8.3085e+03]])\n",
      "tensor([[ 1.1074e+07, -6.0884e+03,  8.1956e+03]])\n",
      "tensor([[ 1.1052e+07, -6.0767e+03,  8.1802e+03]])\n",
      "tensor([[ 1.0836e+07, -5.9587e+03,  8.0220e+03]])\n",
      "tensor([[ 1.0662e+07, -5.8641e+03,  7.8952e+03]])\n",
      "tensor([[ 1.0580e+07, -5.8190e+03,  7.8345e+03]])\n",
      "tensor([[ 1.0472e+07, -5.7601e+03,  7.7557e+03]])\n",
      "tensor([[ 1.0401e+07, -5.7215e+03,  7.7038e+03]])\n",
      "tensor([[ 1.0428e+07, -5.7362e+03,  7.7233e+03]])\n",
      "tensor([[ 1.0363e+07, -5.7015e+03,  7.6770e+03]])\n",
      "tensor([[ 1.0371e+07, -5.7057e+03,  7.6828e+03]])\n",
      "tensor([[ 1.0353e+07, -5.6966e+03,  7.6705e+03]])\n",
      "tensor([[ 1.0426e+07, -5.7361e+03,  7.7235e+03]])\n",
      "tensor([[ 1.0386e+07, -5.7142e+03,  7.6938e+03]])\n",
      "tensor([[ 1.0396e+07, -5.7193e+03,  7.7004e+03]])\n",
      "tensor([[ 1.0395e+07, -5.7185e+03,  7.6992e+03]])\n",
      "tensor([[ 1.0409e+07, -5.7264e+03,  7.7098e+03]])\n",
      "tensor([[ 1.0399e+07, -5.7209e+03,  7.7024e+03]])\n",
      "tensor([[ 1.0339e+07, -5.6890e+03,  7.6600e+03]])\n",
      "tensor([[ 1.0392e+07, -5.7174e+03,  7.6978e+03]])\n",
      "tensor([[ 1.0477e+07, -5.7633e+03,  7.7594e+03]])\n",
      "tensor([[ 1.0491e+07, -5.7707e+03,  7.7690e+03]])\n",
      "tensor([[ 1.0455e+07, -5.7512e+03,  7.7429e+03]])\n",
      "tensor([[ 1.0623e+07, -5.8420e+03,  7.8648e+03]])\n",
      "tensor([[ 1.1139e+07, -6.1239e+03,  8.2433e+03]])\n",
      "tensor([[ 1.1249e+07, -6.1837e+03,  8.3226e+03]])\n",
      "tensor([[ 1.1718e+07, -6.4402e+03,  8.6665e+03]])\n",
      "tensor([[ 1.1440e+07, -6.2876e+03,  8.4610e+03]])\n",
      "tensor([[ 1.2327e+07, -6.7725e+03,  9.1113e+03]])\n",
      "tensor([[ 1.2470e+07, -6.8502e+03,  9.2152e+03]])\n",
      "tensor([[ 1.2332e+07, -6.7749e+03,  9.1138e+03]])\n",
      "tensor([[ 1.2446e+07, -6.8369e+03,  9.1969e+03]])\n",
      "tensor([[ 1.2224e+07, -6.7158e+03,  9.0346e+03]])\n",
      "tensor([[ 1.2020e+07, -6.6049e+03,  8.8864e+03]])\n",
      "tensor([[ 1.1620e+07, -6.3873e+03,  8.5959e+03]])\n",
      "tensor([[ 1.1795e+07, -6.4833e+03,  8.7247e+03]])\n",
      "tensor([[ 1.1647e+07, -6.4033e+03,  8.6183e+03]])\n",
      "tensor([[ 1.1811e+07, -6.4928e+03,  8.7381e+03]])\n",
      "tensor([[ 1.1814e+07, -6.4957e+03,  8.7431e+03]])\n",
      "tensor([[ 1.2014e+07, -6.6052e+03,  8.8902e+03]])\n",
      "tensor([[ 1.2008e+07, -6.6017e+03,  8.8853e+03]])\n",
      "tensor([[ 1.2040e+07, -6.6192e+03,  8.9089e+03]])\n",
      "tensor([[ 1.2478e+07, -6.8584e+03,  9.2293e+03]])\n",
      "tensor([[ 1.2384e+07, -6.8067e+03,  9.1595e+03]])\n",
      "tensor([[ 1.2276e+07, -6.7473e+03,  9.0793e+03]])\n",
      "tensor([[ 1.2011e+07, -6.6028e+03,  8.8860e+03]])\n",
      "tensor([[ 1.2040e+07, -6.6186e+03,  8.9074e+03]])\n",
      "Portfolio Value: 1000000.0\n",
      "Sell: 0 times, Buy: 0 times\n"
     ]
    }
   ],
   "source": [
    "\n",
    "env = SingleStock(test_data, capital)\n",
    "state_size = env.state_dim\n",
    "action_size = len(env.action_space)\n",
    "agent = DQNAgent(state_size, action_size,0.9)\n",
    "\n",
    "last_state = env.reset()\n",
    "last_reward = 0\n",
    "done = False\n",
    "scores = []\n",
    "agent.load()\n",
    "\n",
    "while not done:\n",
    "    last_state = scaler.transform([last_state])\n",
    "    last_state = torch.Tensor(last_state[0]).float().unsqueeze(0)\n",
    "    with torch.no_grad():\n",
    "        action = agent.model(last_state).argmax().item()\n",
    "        print(agent.model(last_state))\n",
    "    last_state, last_reward, done, info = env.step(action)\n",
    "\n",
    "\n",
    "\n",
    "print(f\"Portfolio Value: {info['portfolio_value'][-1]}\")\n",
    "print(f\"Sell: {env.sell_buy.count('sell')} times, Buy: {env.sell_buy.count('buy')} times\")"
   ]
  },
  {
   "cell_type": "code",
   "execution_count": 21,
   "metadata": {},
   "outputs": [],
   "source": [
    "result = pd.DataFrame(info)\n",
    "result.index = test_data.index"
   ]
  },
  {
   "cell_type": "code",
   "execution_count": 22,
   "metadata": {},
   "outputs": [],
   "source": [
    "def marker_buy(col):\n",
    "    price = col[0] \n",
    "    sellbuy = col[1]\n",
    "    \n",
    "    if sellbuy == 'buy':\n",
    "        return price\n",
    "    else:\n",
    "        return np.nan\n",
    "    \n",
    "def marker_sell(col):\n",
    "    price = col[0] \n",
    "    sellbuy = col[1]\n",
    "    \n",
    "    if sellbuy == 'sell':\n",
    "        return price\n",
    "    else:\n",
    "        return np.nan"
   ]
  },
  {
   "cell_type": "code",
   "execution_count": 23,
   "metadata": {},
   "outputs": [],
   "source": [
    "result['marker_buy'] = result[['stock_price', 'sell_buy']].apply(marker_buy, axis=1)\n",
    "result['marker_sell'] = result[['stock_price', 'sell_buy']].apply(marker_sell, axis=1)"
   ]
  },
  {
   "cell_type": "code",
   "execution_count": 24,
   "metadata": {},
   "outputs": [
    {
     "data": {
      "text/html": [
       "<div>\n",
       "<style scoped>\n",
       "    .dataframe tbody tr th:only-of-type {\n",
       "        vertical-align: middle;\n",
       "    }\n",
       "\n",
       "    .dataframe tbody tr th {\n",
       "        vertical-align: top;\n",
       "    }\n",
       "\n",
       "    .dataframe thead th {\n",
       "        text-align: right;\n",
       "    }\n",
       "</style>\n",
       "<table border=\"1\" class=\"dataframe\">\n",
       "  <thead>\n",
       "    <tr style=\"text-align: right;\">\n",
       "      <th></th>\n",
       "      <th>stock_price</th>\n",
       "      <th>portfolio_value</th>\n",
       "      <th>current_val</th>\n",
       "      <th>stock_owned</th>\n",
       "      <th>cash_in_hand</th>\n",
       "      <th>stock_value</th>\n",
       "      <th>sell_buy</th>\n",
       "      <th>marker_buy</th>\n",
       "      <th>marker_sell</th>\n",
       "    </tr>\n",
       "    <tr>\n",
       "      <th>Date</th>\n",
       "      <th></th>\n",
       "      <th></th>\n",
       "      <th></th>\n",
       "      <th></th>\n",
       "      <th></th>\n",
       "      <th></th>\n",
       "      <th></th>\n",
       "      <th></th>\n",
       "      <th></th>\n",
       "    </tr>\n",
       "  </thead>\n",
       "  <tbody>\n",
       "    <tr>\n",
       "      <th>2020-02-14</th>\n",
       "      <td>34.341072</td>\n",
       "      <td>1000000.0</td>\n",
       "      <td>0.0</td>\n",
       "      <td>0</td>\n",
       "      <td>1000000</td>\n",
       "      <td>0.0</td>\n",
       "      <td>hold</td>\n",
       "      <td>NaN</td>\n",
       "      <td>NaN</td>\n",
       "    </tr>\n",
       "    <tr>\n",
       "      <th>2020-02-18</th>\n",
       "      <td>33.995289</td>\n",
       "      <td>1000000.0</td>\n",
       "      <td>1000000.0</td>\n",
       "      <td>0</td>\n",
       "      <td>1000000</td>\n",
       "      <td>0.0</td>\n",
       "      <td>hold</td>\n",
       "      <td>NaN</td>\n",
       "      <td>NaN</td>\n",
       "    </tr>\n",
       "    <tr>\n",
       "      <th>2020-02-19</th>\n",
       "      <td>34.499142</td>\n",
       "      <td>1000000.0</td>\n",
       "      <td>1000000.0</td>\n",
       "      <td>0</td>\n",
       "      <td>1000000</td>\n",
       "      <td>0.0</td>\n",
       "      <td>hold</td>\n",
       "      <td>NaN</td>\n",
       "      <td>NaN</td>\n",
       "    </tr>\n",
       "    <tr>\n",
       "      <th>2020-02-20</th>\n",
       "      <td>34.864685</td>\n",
       "      <td>1000000.0</td>\n",
       "      <td>1000000.0</td>\n",
       "      <td>0</td>\n",
       "      <td>1000000</td>\n",
       "      <td>0.0</td>\n",
       "      <td>hold</td>\n",
       "      <td>NaN</td>\n",
       "      <td>NaN</td>\n",
       "    </tr>\n",
       "    <tr>\n",
       "      <th>2020-02-21</th>\n",
       "      <td>34.232399</td>\n",
       "      <td>1000000.0</td>\n",
       "      <td>1000000.0</td>\n",
       "      <td>0</td>\n",
       "      <td>1000000</td>\n",
       "      <td>0.0</td>\n",
       "      <td>hold</td>\n",
       "      <td>NaN</td>\n",
       "      <td>NaN</td>\n",
       "    </tr>\n",
       "    <tr>\n",
       "      <th>...</th>\n",
       "      <td>...</td>\n",
       "      <td>...</td>\n",
       "      <td>...</td>\n",
       "      <td>...</td>\n",
       "      <td>...</td>\n",
       "      <td>...</td>\n",
       "      <td>...</td>\n",
       "      <td>...</td>\n",
       "      <td>...</td>\n",
       "    </tr>\n",
       "    <tr>\n",
       "      <th>2021-02-09</th>\n",
       "      <td>56.060001</td>\n",
       "      <td>1000000.0</td>\n",
       "      <td>1000000.0</td>\n",
       "      <td>0</td>\n",
       "      <td>1000000</td>\n",
       "      <td>0.0</td>\n",
       "      <td>hold</td>\n",
       "      <td>NaN</td>\n",
       "      <td>NaN</td>\n",
       "    </tr>\n",
       "    <tr>\n",
       "      <th>2021-02-10</th>\n",
       "      <td>54.880001</td>\n",
       "      <td>1000000.0</td>\n",
       "      <td>1000000.0</td>\n",
       "      <td>0</td>\n",
       "      <td>1000000</td>\n",
       "      <td>0.0</td>\n",
       "      <td>hold</td>\n",
       "      <td>NaN</td>\n",
       "      <td>NaN</td>\n",
       "    </tr>\n",
       "    <tr>\n",
       "      <th>2021-02-11</th>\n",
       "      <td>53.500000</td>\n",
       "      <td>1000000.0</td>\n",
       "      <td>1000000.0</td>\n",
       "      <td>0</td>\n",
       "      <td>1000000</td>\n",
       "      <td>0.0</td>\n",
       "      <td>hold</td>\n",
       "      <td>NaN</td>\n",
       "      <td>NaN</td>\n",
       "    </tr>\n",
       "    <tr>\n",
       "      <th>2021-02-12</th>\n",
       "      <td>53.599998</td>\n",
       "      <td>1000000.0</td>\n",
       "      <td>1000000.0</td>\n",
       "      <td>0</td>\n",
       "      <td>1000000</td>\n",
       "      <td>0.0</td>\n",
       "      <td>hold</td>\n",
       "      <td>NaN</td>\n",
       "      <td>NaN</td>\n",
       "    </tr>\n",
       "    <tr>\n",
       "      <th>2021-02-16</th>\n",
       "      <td>53.459999</td>\n",
       "      <td>1000000.0</td>\n",
       "      <td>1000000.0</td>\n",
       "      <td>0</td>\n",
       "      <td>1000000</td>\n",
       "      <td>0.0</td>\n",
       "      <td>hold</td>\n",
       "      <td>NaN</td>\n",
       "      <td>NaN</td>\n",
       "    </tr>\n",
       "  </tbody>\n",
       "</table>\n",
       "<p>253 rows × 9 columns</p>\n",
       "</div>"
      ],
      "text/plain": [
       "            stock_price  portfolio_value  current_val  stock_owned  \\\n",
       "Date                                                                 \n",
       "2020-02-14    34.341072        1000000.0          0.0            0   \n",
       "2020-02-18    33.995289        1000000.0    1000000.0            0   \n",
       "2020-02-19    34.499142        1000000.0    1000000.0            0   \n",
       "2020-02-20    34.864685        1000000.0    1000000.0            0   \n",
       "2020-02-21    34.232399        1000000.0    1000000.0            0   \n",
       "...                 ...              ...          ...          ...   \n",
       "2021-02-09    56.060001        1000000.0    1000000.0            0   \n",
       "2021-02-10    54.880001        1000000.0    1000000.0            0   \n",
       "2021-02-11    53.500000        1000000.0    1000000.0            0   \n",
       "2021-02-12    53.599998        1000000.0    1000000.0            0   \n",
       "2021-02-16    53.459999        1000000.0    1000000.0            0   \n",
       "\n",
       "            cash_in_hand  stock_value sell_buy  marker_buy  marker_sell  \n",
       "Date                                                                     \n",
       "2020-02-14       1000000          0.0     hold         NaN          NaN  \n",
       "2020-02-18       1000000          0.0     hold         NaN          NaN  \n",
       "2020-02-19       1000000          0.0     hold         NaN          NaN  \n",
       "2020-02-20       1000000          0.0     hold         NaN          NaN  \n",
       "2020-02-21       1000000          0.0     hold         NaN          NaN  \n",
       "...                  ...          ...      ...         ...          ...  \n",
       "2021-02-09       1000000          0.0     hold         NaN          NaN  \n",
       "2021-02-10       1000000          0.0     hold         NaN          NaN  \n",
       "2021-02-11       1000000          0.0     hold         NaN          NaN  \n",
       "2021-02-12       1000000          0.0     hold         NaN          NaN  \n",
       "2021-02-16       1000000          0.0     hold         NaN          NaN  \n",
       "\n",
       "[253 rows x 9 columns]"
      ]
     },
     "execution_count": 24,
     "metadata": {},
     "output_type": "execute_result"
    }
   ],
   "source": [
    "result"
   ]
  },
  {
   "cell_type": "code",
   "execution_count": 25,
   "metadata": {
    "scrolled": false
   },
   "outputs": [
    {
     "data": {
      "text/plain": [
       "<matplotlib.legend.Legend at 0x175514af610>"
      ]
     },
     "execution_count": 25,
     "metadata": {},
     "output_type": "execute_result"
    },
    {
     "data": {
      "image/png": "[encoded data removed]",
      "text/plain": [
       "<Figure size 936x504 with 1 Axes>"
      ]
     },
     "metadata": {
      "needs_background": "light"
     },
     "output_type": "display_data"
    }
   ],
   "source": [
    "result['stock_price'].plot(figsize=(13,7))\n",
    "result['marker_buy'].plot(style='o', ms=7, label='buy')\n",
    "result['marker_sell'].plot(style='o', ms=7, label='sell')\n",
    "plt.legend()"
   ]
  },
  {
   "cell_type": "code",
   "execution_count": 20,
   "metadata": {},
   "outputs": [
    {
     "data": {
      "text/plain": [
       "<AxesSubplot:xlabel='Date'>"
      ]
     },
     "execution_count": 20,
     "metadata": {},
     "output_type": "execute_result"
    },
    {
     "data": {
      "image/png": "[encoded data removed]",
      "text/plain": [
       "<Figure size 936x504 with 1 Axes>"
      ]
     },
     "metadata": {
      "needs_background": "light"
     },
     "output_type": "display_data"
    }
   ],
   "source": [
    "result['portfolio_value'].plot(figsize=(13,7))"
   ]
  },
  {
   "cell_type": "code",
   "execution_count": 21,
   "metadata": {},
   "outputs": [
    {
     "data": {
      "text/plain": [
       "<AxesSubplot:xlabel='Date'>"
      ]
     },
     "execution_count": 21,
     "metadata": {},
     "output_type": "execute_result"
    },
    {
     "data": {
      "image/png": "[encoded data removed]",
      "text/plain": [
       "<Figure size 432x288 with 1 Axes>"
      ]
     },
     "metadata": {
      "needs_background": "light"
     },
     "output_type": "display_data"
    }
   ],
   "source": [
    "result['stock_value'].plot()"
   ]
  },
  {
   "cell_type": "code",
   "execution_count": 22,
   "metadata": {},
   "outputs": [
    {
     "data": {
      "text/plain": [
       "<AxesSubplot:xlabel='Date'>"
      ]
     },
     "execution_count": 22,
     "metadata": {},
     "output_type": "execute_result"
    },
    {
     "data": {
      "image/png": "[encoded data removed]",
      "text/plain": [
       "<Figure size 432x288 with 1 Axes>"
      ]
     },
     "metadata": {
      "needs_background": "light"
     },
     "output_type": "display_data"
    }
   ],
   "source": [
    "result[['cash_in_hand', 'stock_value']].plot()"
   ]
  },
  {
   "cell_type": "markdown",
   "metadata": {},
   "source": [
    "# Performance Measurement"
   ]
  },
  {
   "cell_type": "code",
   "execution_count": 37,
   "metadata": {},
   "outputs": [],
   "source": [
    "import numpy as np\n",
    "import datetime as dt\n",
    "\n",
    "\n",
    "bn = test_data\n",
    "\n",
    "\n",
    "def CAGR(DF):\n",
    "    df = DF.copy()\n",
    "    try:\n",
    "        df['daily_ret'] = df['portfolio_value'].pct_change()\n",
    "    except:\n",
    "        df['daily_ret'] = df['Adj Close'].pct_change() \n",
    "    \n",
    "    df['cumulative_ret'] = (1 + df['daily_ret']).cumprod()\n",
    "    n = len(df)/21168\n",
    "    cagr = (df['cumulative_ret'][-1])**(1/n) - 1\n",
    "    return cagr\n",
    "\n",
    "def volatility(DF):\n",
    "    df = DF.copy()\n",
    "    try:\n",
    "        df['daily_ret'] = df['portfolio_value'].pct_change()\n",
    "    except:\n",
    "        df['daily_ret'] = df['Adj Close'].pct_change() \n",
    "    vol = df['daily_ret'].std() * np.sqrt(21168)\n",
    "    return vol\n",
    "\n",
    "\n",
    "def sharpe(DF, rf):\n",
    "    df = DF.copy()\n",
    "    sr = (CAGR(df) - rf)/volatility(df)\n",
    "    return sr\n",
    "\n",
    "def max_dd(DF):\n",
    "    df = DF.copy()\n",
    "    try:\n",
    "        df['daily_ret'] = df['portfolio_value'].pct_change()\n",
    "    except:\n",
    "        df['daily_ret'] = df['Adj Close'].pct_change() \n",
    "    df['cumulative_ret'] = (1 + df['daily_ret']).cumprod()\n",
    "    df['cum_roll_max'] = df['cumulative_ret'].cummax()\n",
    "    df['drawdown'] = df['cum_roll_max'] - df['cumulative_ret']\n",
    "    df['drawdown_pct'] = df['drawdown']/df['cum_roll_max']\n",
    "    max_dd = df['drawdown_pct'].max()\n",
    "    return max_dd\n",
    "\n",
    "def calmer(DF):\n",
    "    df = DF.copy()\n",
    "    clmr = CAGR(df)/max_dd(df)\n",
    "    return clmr\n"
   ]
  },
  {
   "cell_type": "code",
   "execution_count": 38,
   "metadata": {
    "scrolled": false
   },
   "outputs": [
    {
     "name": "stdout",
     "output_type": "stream",
     "text": [
      "Stock name: gold\n",
      "Start: 2020-12-28 13:40:00-05:00  End: 2021-02-09 15:55:00-05:00\n",
      "Compound Annual Growth Rate: -0.2016\n",
      "Volatility: 0.3695\n",
      "shape ratio: -0.5754\n",
      "Maximun drawdown: 0.1256\n",
      "Calmar ratio: -1.6047\n",
      "\n",
      "Comparing with Benchmark\n",
      "Compound Annual Growth Rate (benchmark): -0.2104\n",
      "Volatility (benchmark): 0.3695\n",
      "shape ratio: -0.5992\n",
      "Calmar ratio (benchmark): -1.6749\n"
     ]
    }
   ],
   "source": [
    "print(f'Stock name: {stock_name}')\n",
    "print(f'Start: {result.index[0]}  End: {result.index[-1]}')\n",
    "print(f'Compound Annual Growth Rate: {CAGR(result):.4f}')\n",
    "print(f'Volatility: {volatility(result):.4f}')\n",
    "print(f'shape ratio: {sharpe(result, 0.011):.4f}')\n",
    "print(f'Maximun drawdown: {max_dd(result):.4f}')\n",
    "print(f'Calmar ratio: {calmer(result):.4f}')\n",
    "print()\n",
    "print('Comparing with Benchmark')\n",
    "print(f'Compound Annual Growth Rate (benchmark): {CAGR(bn):.4f}')\n",
    "print(f'Volatility (benchmark): {volatility(bn):.4f}')\n",
    "print(f'shape ratio: {sharpe(bn, 0.011):.4f}')\n",
    "print(f'Calmar ratio (benchmark): {calmer(bn):.4f}')"
   ]
  },
  {
   "cell_type": "code",
   "execution_count": 49,
   "metadata": {},
   "outputs": [],
   "source": [
    "df = pd.read_csv('bitstampUSD_1-min_data_2012-01-01_to_2018-06-27.csv')"
   ]
  }
 ],
 "metadata": {
  "kernelspec": {
   "display_name": "Python 3",
   "language": "python",
   "name": "python3"
  },
  "language_info": {
   "codemirror_mode": {
    "name": "ipython",
    "version": 3
   },
   "file_extension": ".py",
   "mimetype": "text/x-python",
   "name": "python",
   "nbconvert_exporter": "python",
   "pygments_lexer": "ipython3",
   "version": "3.8.5"
  }
 },
 "nbformat": 4,
 "nbformat_minor": 4
}

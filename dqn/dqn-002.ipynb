{
 "cells": [
  {
   "cell_type": "markdown",
   "metadata": {},
   "source": [
    "# Import Module"
   ]
  },
  {
   "cell_type": "code",
   "execution_count": 1,
   "metadata": {},
   "outputs": [],
   "source": [
    "import numpy as np\n",
    "import pandas as pd\n",
    "import matplotlib.pyplot as plt\n",
    "import seaborn as sns\n",
    "import yfinance as yf\n",
    "from tqdm.notebook import tqdm\n",
    "import talib\n",
    "import os\n",
    "import random\n",
    "import torch\n",
    "import torch.nn as nn\n",
    "import torch.optim as optim\n",
    "import torch.nn.functional as F\n",
    "import torch.autograd as autograd\n",
    "from torch.autograd import Variable\n",
    "from sklearn.preprocessing import StandardScaler\n",
    "from plotly.offline import download_plotlyjs, init_notebook_mode, plot, iplot\n",
    "from yahoofinancials import YahooFinancials\n",
    "import pandas_datareader as web\n",
    "%matplotlib inline"
   ]
  },
  {
   "cell_type": "markdown",
   "metadata": {},
   "source": [
    "# Environment"
   ]
  },
  {
   "cell_type": "code",
   "execution_count": 2,
   "metadata": {},
   "outputs": [],
   "source": [
    "class SingleStock:\n",
    "    '''\n",
    "    Single Stock for trading \n",
    "\n",
    "    '''\n",
    "    def __init__(self, data, capital):\n",
    "        self.stock_price_history = data\n",
    "        self.n_step = self.stock_price_history.shape[0]\n",
    "        self.capital = capital\n",
    "        self.current_step = None\n",
    "        self.stock_owned = None\n",
    "        self.stock_price = None\n",
    "        self.cash_in_hand = None\n",
    "        self.state_dim = 8  # [stock price, stock_owned, cash_in_hand, rsi, mom, adx, macd, macd_sig]\n",
    "        self.save_position = []\n",
    "        self.save_port_val = []\n",
    "        self.save_cash = []\n",
    "        self.stock_value = []\n",
    "        self.action_space = list(range(-500, 600, 100))\n",
    "        self.sell_buy = None\n",
    "        self.save_stock_price = []\n",
    "        self.rsi = None\n",
    "        self.mom = None\n",
    "        self.adx = None\n",
    "        self.macd = None\n",
    "        self.masc_sig = None\n",
    "        self.save_reward = None\n",
    "        self.reset()\n",
    "\n",
    "    def state_vector(self):\n",
    "        vector = np.empty(self.state_dim)\n",
    "        vector[0] = self.stock_price\n",
    "        vector[1] = self.stock_owned\n",
    "        vector[2] = self.cash_in_hand\n",
    "        vector[3] = self.rsi\n",
    "        vector[4] = self.mom\n",
    "        vector[5] = self.adx\n",
    "        vector[6] = self.macd\n",
    "        vector[7] = self.masc_sig\n",
    "        return vector\n",
    "\n",
    "    \n",
    "    def reset(self):\n",
    "        self.current_step = 0\n",
    "        self.stock_owned = 0\n",
    "        self.stock_price = self.stock_price_history['Adj Close'][self.current_step]\n",
    "        self.cash_in_hand = self.capital\n",
    "        self.save_position = [0]\n",
    "        self.save_port_val = [self.capital]\n",
    "        self.save_cash = [self.capital]\n",
    "        self.stock_value = [0]\n",
    "        self.sell_buy = ['hold']\n",
    "        self.save_stock_price = [self.stock_price]\n",
    "        self.rsi = self.stock_price_history['rsi'][self.current_step]\n",
    "        self.mom = self.stock_price_history['mom'][self.current_step]\n",
    "        self.adx = self.stock_price_history['adx'][self.current_step]\n",
    "        self.macd = self.stock_price_history['macd'][self.current_step]\n",
    "        self.masc_sig = self.stock_price_history['macd sig'][self.current_step]\n",
    "        self.save_reward = [0]\n",
    "        return self.state_vector()\n",
    "\n",
    "    def port_val(self):\n",
    "        return (self.stock_owned * self.stock_price) + self.cash_in_hand\n",
    "\n",
    "    def trade(self, action):\n",
    "\n",
    "        assert action in range(len(self.action_space))\n",
    "\n",
    "        position = self.action_space[action]\n",
    "        \n",
    "        \n",
    "        if position > 0:\n",
    "            #buy\n",
    "            if self.cash_in_hand >= (position * self.stock_price):\n",
    "                self.cash_in_hand -= (position * self.stock_price)\n",
    "                self.stock_owned += position\n",
    "                self.sell_buy.append('buy')\n",
    "                \n",
    "            else:\n",
    "                self.sell_buy.append('hold')\n",
    "                \n",
    "        elif position < 0:\n",
    "            #sell\n",
    "            if self.stock_owned >= abs(position):\n",
    "                self.stock_owned -= abs(position)\n",
    "                self.cash_in_hand += abs(position * self.stock_price)\n",
    "                self.sell_buy.append('sell')\n",
    "                \n",
    "            else:\n",
    "                self.sell_buy.append('hold')\n",
    "                \n",
    "        else:\n",
    "            self.sell_buy.append('hold')\n",
    "\n",
    "                \n",
    "        self.save_cash.append(self.cash_in_hand)\n",
    "        self.save_port_val.append(self.port_val())\n",
    "        self.save_position.append(self.stock_owned)\n",
    "        self.stock_value.append(self.stock_owned * self.stock_price)\n",
    "        self.save_stock_price.append(self.stock_price)\n",
    "\n",
    "    def step(self, action):\n",
    "        assert action in range(len(self.action_space))\n",
    "\n",
    "        prev_val = self.port_val()\n",
    "        self.current_step += 1\n",
    "        self.stock_price = self.stock_price_history['Adj Close'][self.current_step]\n",
    "        self.rsi = self.stock_price_history['rsi'][self.current_step]\n",
    "        self.mom = self.stock_price_history['mom'][self.current_step]\n",
    "        self.adx = self.stock_price_history['adx'][self.current_step]\n",
    "        self.macd = self.stock_price_history['macd'][self.current_step]\n",
    "        self.masc_sig = self.stock_price_history['macd sig'][self.current_step]\n",
    "        self.trade(action)\n",
    "        current_val = self.port_val()\n",
    "        reward = self.port_val()\n",
    "        self.save_reward.append(reward)\n",
    "        done = self.current_step == self.n_step - 1\n",
    "        info = {'stock_price': self.save_stock_price,\n",
    "                'portfolio_value': self.save_port_val,\n",
    "                'current_val': self.save_reward,\n",
    "                'stock_owned': self.save_position,\n",
    "                'cash_in_hand': self.save_cash,\n",
    "                'stock_value': self.stock_value,\n",
    "                'sell_buy': self.sell_buy\n",
    "                }\n",
    "        return self.state_vector(), reward, done, info"
   ]
  },
  {
   "cell_type": "markdown",
   "metadata": {},
   "source": [
    "# Scaler"
   ]
  },
  {
   "cell_type": "code",
   "execution_count": 3,
   "metadata": {},
   "outputs": [],
   "source": [
    "def get_scaler(env):\n",
    "    states = []\n",
    "    for i in range(env.n_step):\n",
    "        action = np.random.choice(range(len(env.action_space)))\n",
    "        state, reward, done, info = env.step(action)\n",
    "        states.append(state)\n",
    "        if done:\n",
    "            break\n",
    "    scaler = StandardScaler()\n",
    "    scaler.fit(states)\n",
    "    return scaler"
   ]
  },
  {
   "cell_type": "markdown",
   "metadata": {},
   "source": [
    "# Neural Network"
   ]
  },
  {
   "cell_type": "code",
   "execution_count": 4,
   "metadata": {},
   "outputs": [],
   "source": [
    "class NeuralNetwork(nn.Module):\n",
    "    '''\n",
    "    Network for predict action trading \n",
    "    '''\n",
    "    \n",
    "    def __init__(self, input_sz, action_sz):\n",
    "        super().__init__()\n",
    "        self.input_sz = input_sz\n",
    "        self.action_sz = action_sz\n",
    "        self.fc1 = nn.Linear(input_sz, 30)\n",
    "        self.fc2 = nn.Linear(30, 40)\n",
    "        self.out = nn.Linear(40, action_sz)\n",
    "        \n",
    "    def forward(self, state):\n",
    "        x = F.relu(self.fc1(state))\n",
    "        x = F.relu(self.fc2(x))\n",
    "        q_values = F.relu(self.out(x))\n",
    "        return q_values\n",
    "    \n"
   ]
  },
  {
   "cell_type": "markdown",
   "metadata": {},
   "source": [
    "# Memory"
   ]
  },
  {
   "cell_type": "code",
   "execution_count": 5,
   "metadata": {},
   "outputs": [],
   "source": [
    "class ExperienceReplayMemory:\n",
    "    '''\n",
    "    Memory storage for experience replay\n",
    "    '''\n",
    "    \n",
    "    def __init__(self, capacity):\n",
    "        self.capacity = capacity\n",
    "        self.memory = []\n",
    "        \n",
    "    def push(self, event):\n",
    "        self.memory.append(event)\n",
    "        if len(self.memory) > self.capacity:\n",
    "            del self.memory[0]\n",
    "            \n",
    "    def sample(self, batch_size):\n",
    "        '''Sample event from memory (len = batch size)'''\n",
    "        # [batch_state, batch_next_state, batch_action, batch_reward]\n",
    "        samples = zip(*random.sample(self.memory, batch_size))\n",
    "        return map(lambda x: Variable(torch.cat(x, 0)), samples)\n",
    "    \n"
   ]
  },
  {
   "cell_type": "markdown",
   "metadata": {},
   "source": [
    "# Agent"
   ]
  },
  {
   "cell_type": "code",
   "execution_count": 6,
   "metadata": {},
   "outputs": [],
   "source": [
    "class DQNAgent:\n",
    "    '''Agent'''\n",
    "    def __init__(self, input_sz, action_sz, discount_factor):\n",
    "        self.model = NeuralNetwork(input_sz, action_sz)\n",
    "        self.memory = ExperienceReplayMemory(capacity=10000)\n",
    "        self.discount_factor = discount_factor\n",
    "        self.reward_window = []\n",
    "        self.optimizer = torch.optim.Adam(self.model.parameters(), lr=0.001)\n",
    "        self.last_state = torch.Tensor(input_sz).unsqueeze(0) #shape [1, 5]\n",
    "        self.last_action = 0\n",
    "        self.last_raward = 0\n",
    "        self.epsilon = 1.0  # exploration rate\n",
    "        self.epsilon_min = 0.01\n",
    "        self.epsilon_decay = 0.995\n",
    "        self.batch_size = 256\n",
    "        self.action_sz = action_sz\n",
    "        self.criterion = nn.MSELoss()\n",
    "        self.losses = []\n",
    "        \n",
    "    \n",
    "    def get_action(self, state):\n",
    "        '''\n",
    "        Epsilon-greedy selection\n",
    "        '''\n",
    "        if np.random.rand() <= self.epsilon:\n",
    "            return np.random.choice(self.action_sz)\n",
    "        \n",
    "        q_values_probs = F.softmax(self.model(state.clone().detach()) * 10, dim=0)\n",
    "        action = q_values_probs.multinomial(num_samples=1)\n",
    "        return action.data[0, 0]\n",
    "    \n",
    "    \n",
    "    def train(self, batch_state, batch_next_state, batch_action, batch_reward):\n",
    "        outputs = self.model(batch_state).gather(1, batch_action.unsqueeze(1)).squeeze(1) #Q(s,a)\n",
    "        #output = outputs.gather(1, batch_action.unsqueeze(1)).squeeze(1) #Q(s,a)\n",
    "        next_outputs = self.model(batch_next_state).detach().max(1)[0] #Q(s',a')\n",
    "        target = batch_reward + self.discount_factor * next_outputs #target = reward + gamma*Q(s',a')\n",
    "        loss = F.smooth_l1_loss(outputs, target)\n",
    "        self.losses.append(loss.item()) #loss\n",
    "        self.optimizer.zero_grad()\n",
    "        loss.backward()\n",
    "        self.optimizer.step()\n",
    "        \n",
    "        \n",
    "    def update(self, reward, new_state):\n",
    "        new_state = torch.tensor(new_state[0]).float().unsqueeze(0)\n",
    "        self.memory.push((self.last_state,\n",
    "                        new_state,\n",
    "                        torch.LongTensor([int(self.last_action)]),\n",
    "                        torch.Tensor([self.last_raward])))\n",
    "        action = self.get_action(new_state)\n",
    "        if len(self.memory.memory) > self.batch_size:\n",
    "            #sample batch event from memory (experience replay)\n",
    "            batch_state, batch_next_state, batch_action, batch_reward = self.memory.sample(self.batch_size)\n",
    "            #learn\n",
    "            self.train(batch_state, batch_next_state, batch_action, batch_reward)\n",
    "            \n",
    "        if self.epsilon > self.epsilon_min:\n",
    "            self.epsilon *= self.epsilon_decay\n",
    "        \n",
    "        self.last_action = action\n",
    "        self.last_state = new_state\n",
    "        self.last_raward = reward\n",
    "        self.reward_window.append(reward)\n",
    "        if len(self.reward_window) > self.batch_size:\n",
    "            del self.reward_window[0]\n",
    "        return action\n",
    "    \n",
    "\n",
    "    def score(self):\n",
    "        return sum(self.reward_window) / (len(self.reward_window) + 1.)\n",
    "    \n",
    "    def save(self):\n",
    "        torch.save({'state_dict': self.model.state_dict(),\n",
    "                    'optimizer': self.optimizer.state_dict(),\n",
    "                    }, 'trading010.pth')\n",
    "        print('=> Saved!!!...')\n",
    "        \n",
    "\n",
    "    def load(self):\n",
    "        if os.path.isfile('trading010.pth'):\n",
    "            print(\"==> loading parameters!\")\n",
    "            checkpoint = torch.load('trading010.pth')\n",
    "            self.model.load_state_dict(checkpoint['state_dict'])\n",
    "            self.optimizer.load_state_dict(checkpoint['optimizer'])\n",
    "            self.model.eval()\n",
    "            print(\"done !\")\n",
    "        else:\n",
    "            print(\"no parameters found...\")\n",
    "        \n",
    "   \n",
    "        "
   ]
  },
  {
   "cell_type": "markdown",
   "metadata": {},
   "source": [
    "# Play one episode"
   ]
  },
  {
   "cell_type": "code",
   "execution_count": 7,
   "metadata": {},
   "outputs": [],
   "source": [
    "def play_one_episode(agent, env, scaler):\n",
    "    last_state = env.reset()\n",
    "    last_reward = 0\n",
    "    done = False\n",
    "    scores = []\n",
    "    while not done:\n",
    "        last_state = scaler.transform([last_state])\n",
    "        action = agent.update(last_reward, last_state)\n",
    "        scores.append(agent.score())\n",
    "        last_state, last_reward, done, info = env.step(action)\n",
    "        \n",
    "    \n",
    "    return info, scores"
   ]
  },
  {
   "cell_type": "markdown",
   "metadata": {},
   "source": [
    "# Stock data"
   ]
  },
  {
   "cell_type": "code",
   "execution_count": 8,
   "metadata": {},
   "outputs": [
    {
     "data": {
      "text/plain": [
       "<matplotlib.legend.Legend at 0x208b5d1d700>"
      ]
     },
     "execution_count": 8,
     "metadata": {},
     "output_type": "execute_result"
    },
    {
     "data": {
      "image/png": "[encoded data removed]",
      "text/plain": [
       "<Figure size 432x288 with 1 Axes>"
      ]
     },
     "metadata": {
      "needs_background": "light"
     },
     "output_type": "display_data"
    }
   ],
   "source": [
    "# stock_name = 'aapl'\n",
    "# stock_data = yf.download(stock_name, period='60d', interval='5m');\n",
    "# stock_data['Volume'] = stock_data['Volume'].apply(lambda vol: np.NaN if vol == 0 else vol)\n",
    "# stock_data.dropna(axis=0, inplace=True)\n",
    "stock_data = web.DataReader('goog', 'yahoo', '2015-01-01', '2026-01-01')\n",
    "stock_data['rsi'] = talib.RSI(stock_data['Adj Close'])\n",
    "stock_data['mom'] = talib.MOM(stock_data['Adj Close'])\n",
    "stock_data['adx'] = talib.ADX(stock_data['High'], stock_data['Low'], stock_data['Adj Close'])\n",
    "stock_data['macd'], stock_data['macd sig'], _ = talib.MACD(stock_data['Adj Close'])\n",
    "stock_data.dropna(axis=0, inplace=True)\n",
    "\n",
    "train_data = stock_data.iloc[:-253]\n",
    "test_data = stock_data.iloc[-253:]\n",
    "\n",
    "train_data['Adj Close'].plot(label='training_data')\n",
    "test_data['Adj Close'].plot(label='testing_data')\n",
    "plt.legend()"
   ]
  },
  {
   "cell_type": "markdown",
   "metadata": {},
   "source": [
    "# Training model"
   ]
  },
  {
   "cell_type": "code",
   "execution_count": 9,
   "metadata": {},
   "outputs": [],
   "source": [
    "num_episodes = 100\n",
    "capital = 100000\n",
    "env = SingleStock(train_data, capital)\n",
    "state_size = env.state_dim\n",
    "action_size = len(env.action_space)\n",
    "agent = DQNAgent(state_size, action_size, 0.9)\n",
    "scaler = get_scaler(env)"
   ]
  },
  {
   "cell_type": "code",
   "execution_count": 11,
   "metadata": {},
   "outputs": [
    {
     "data": {
      "application/vnd.jupyter.widget-view+json": {
       "model_id": "de4e9d607a784aefb9fa44a25cf8baba",
       "version_major": 2,
       "version_minor": 0
      },
      "text/plain": [
       "  0%|          | 0/100 [00:00<?, ?it/s]"
      ]
     },
     "metadata": {},
     "output_type": "display_data"
    },
    {
     "name": "stdout",
     "output_type": "stream",
     "text": [
      "episode: 1/100, episode end value: 151067.94\n",
      "episode: 2/100, episode end value: 131743.80\n",
      "episode: 3/100, episode end value: 169990.13\n",
      "episode: 4/100, episode end value: 102310.07\n",
      "episode: 5/100, episode end value: 163994.46\n",
      "episode: 6/100, episode end value: 157103.04\n",
      "episode: 7/100, episode end value: 130028.83\n",
      "episode: 8/100, episode end value: 133319.48\n",
      "episode: 9/100, episode end value: 102950.26\n",
      "episode: 10/100, episode end value: 172790.73\n",
      "episode: 11/100, episode end value: 175376.73\n",
      "episode: 12/100, episode end value: 173858.65\n",
      "episode: 13/100, episode end value: 157108.51\n",
      "episode: 14/100, episode end value: 162889.82\n",
      "episode: 15/100, episode end value: 132407.89\n",
      "episode: 16/100, episode end value: 144805.20\n",
      "episode: 17/100, episode end value: 178402.74\n",
      "episode: 18/100, episode end value: 111084.58\n",
      "episode: 19/100, episode end value: 135246.09\n",
      "episode: 20/100, episode end value: 106544.18\n",
      "episode: 21/100, episode end value: 110851.13\n",
      "episode: 22/100, episode end value: 97881.82\n",
      "episode: 23/100, episode end value: 133554.46\n",
      "episode: 24/100, episode end value: 153141.90\n",
      "episode: 25/100, episode end value: 136810.58\n",
      "episode: 26/100, episode end value: 124013.13\n",
      "episode: 27/100, episode end value: 112856.41\n",
      "episode: 28/100, episode end value: 158203.03\n",
      "episode: 29/100, episode end value: 150890.27\n",
      "episode: 30/100, episode end value: 127039.22\n",
      "episode: 31/100, episode end value: 133791.50\n",
      "episode: 32/100, episode end value: 106016.50\n",
      "episode: 33/100, episode end value: 164104.36\n",
      "episode: 34/100, episode end value: 178948.50\n",
      "episode: 35/100, episode end value: 149219.75\n",
      "episode: 36/100, episode end value: 97416.69\n",
      "episode: 37/100, episode end value: 138158.34\n",
      "episode: 38/100, episode end value: 125283.70\n",
      "episode: 39/100, episode end value: 101753.61\n",
      "episode: 40/100, episode end value: 123254.71\n",
      "episode: 41/100, episode end value: 205076.46\n",
      "episode: 42/100, episode end value: 105207.29\n",
      "episode: 43/100, episode end value: 152645.43\n",
      "episode: 44/100, episode end value: 181853.86\n",
      "episode: 45/100, episode end value: 142761.99\n",
      "episode: 46/100, episode end value: 152419.48\n",
      "episode: 47/100, episode end value: 123349.71\n",
      "episode: 48/100, episode end value: 191699.90\n",
      "episode: 49/100, episode end value: 153929.95\n",
      "episode: 50/100, episode end value: 155986.87\n",
      "episode: 51/100, episode end value: 130018.88\n",
      "episode: 52/100, episode end value: 152095.82\n",
      "episode: 53/100, episode end value: 115512.04\n",
      "episode: 54/100, episode end value: 137988.84\n",
      "episode: 55/100, episode end value: 152723.56\n",
      "episode: 56/100, episode end value: 115255.72\n",
      "episode: 57/100, episode end value: 139232.04\n",
      "episode: 58/100, episode end value: 129831.83\n",
      "episode: 59/100, episode end value: 155614.42\n",
      "episode: 60/100, episode end value: 128270.88\n",
      "episode: 61/100, episode end value: 124138.22\n",
      "episode: 62/100, episode end value: 138650.48\n",
      "episode: 63/100, episode end value: 168833.15\n",
      "episode: 64/100, episode end value: 170081.72\n",
      "episode: 65/100, episode end value: 108464.72\n",
      "episode: 66/100, episode end value: 103685.37\n",
      "episode: 67/100, episode end value: 122529.02\n",
      "episode: 68/100, episode end value: 165915.98\n",
      "episode: 69/100, episode end value: 138893.59\n",
      "episode: 70/100, episode end value: 183631.62\n",
      "episode: 71/100, episode end value: 104334.91\n",
      "episode: 72/100, episode end value: 162869.79\n",
      "episode: 73/100, episode end value: 162159.01\n",
      "episode: 74/100, episode end value: 107779.15\n",
      "episode: 75/100, episode end value: 95208.32\n",
      "episode: 76/100, episode end value: 192325.99\n",
      "episode: 77/100, episode end value: 150395.12\n",
      "episode: 78/100, episode end value: 109058.58\n",
      "episode: 79/100, episode end value: 156305.06\n",
      "episode: 80/100, episode end value: 175919.81\n",
      "episode: 81/100, episode end value: 97676.20\n",
      "episode: 82/100, episode end value: 129787.89\n",
      "episode: 83/100, episode end value: 186087.35\n",
      "episode: 84/100, episode end value: 154652.80\n",
      "episode: 85/100, episode end value: 106696.22\n",
      "episode: 86/100, episode end value: 107183.51\n",
      "episode: 87/100, episode end value: 166756.05\n",
      "episode: 88/100, episode end value: 160697.62\n",
      "episode: 89/100, episode end value: 117120.53\n",
      "episode: 90/100, episode end value: 172281.41\n",
      "episode: 91/100, episode end value: 164241.27\n",
      "episode: 92/100, episode end value: 178296.67\n",
      "episode: 93/100, episode end value: 165534.62\n",
      "episode: 94/100, episode end value: 123552.67\n",
      "episode: 95/100, episode end value: 149888.32\n",
      "episode: 96/100, episode end value: 142896.12\n",
      "episode: 97/100, episode end value: 125483.98\n",
      "episode: 98/100, episode end value: 138143.19\n",
      "episode: 99/100, episode end value: 162614.28\n",
      "episode: 100/100, episode end value: 154674.51\n",
      "=> Saved!!!...\n",
      "average reward: 141831.32, min: 95208.32, max: 205076.46\n"
     ]
    },
    {
     "data": {
      "image/png": "[encoded data removed]",
      "text/plain": [
       "<Figure size 432x288 with 1 Axes>"
      ]
     },
     "metadata": {
      "needs_background": "light"
     },
     "output_type": "display_data"
    }
   ],
   "source": [
    "#train\n",
    "\n",
    "portfolio_value = []\n",
    "for e in tqdm(range(num_episodes)):\n",
    "\n",
    "    val, scores = play_one_episode(agent, env, scaler)\n",
    "\n",
    "    print(f\"episode: {e + 1}/{num_episodes}, episode end value: {val['portfolio_value'][-1]:.2f}\")\n",
    "    portfolio_value.append(val['portfolio_value'][-1]) \n",
    "    \n",
    "agent.save()\n",
    "losses = agent.losses\n",
    "\n",
    "print(f'average reward: {np.mean(portfolio_value):.2f}, min: {np.min(portfolio_value):.2f}, max: {np.max(portfolio_value):.2f}')\n",
    "sns.histplot(portfolio_value, bins=100, color='r', kde=True);\n",
    "plt.xlabel('Portfolio Value');\n",
    "plt.ylabel('Count');"
   ]
  },
  {
   "cell_type": "code",
   "execution_count": 12,
   "metadata": {},
   "outputs": [
    {
     "data": {
      "text/plain": [
       "<AxesSubplot:>"
      ]
     },
     "execution_count": 12,
     "metadata": {},
     "output_type": "execute_result"
    },
    {
     "data": {
      "image/png": "[encoded data removed]",
      "text/plain": [
       "<Figure size 720x432 with 1 Axes>"
      ]
     },
     "metadata": {
      "needs_background": "light"
     },
     "output_type": "display_data"
    }
   ],
   "source": [
    "pd.Series(losses).plot(figsize=(10,6))"
   ]
  },
  {
   "cell_type": "code",
   "execution_count": 14,
   "metadata": {},
   "outputs": [
    {
     "data": {
      "text/plain": [
       "[<matplotlib.lines.Line2D at 0x208ba99eb50>]"
      ]
     },
     "execution_count": 14,
     "metadata": {},
     "output_type": "execute_result"
    },
    {
     "data": {
      "image/png": "[encoded data removed]",
      "text/plain": [
       "<Figure size 432x288 with 1 Axes>"
      ]
     },
     "metadata": {
      "needs_background": "light"
     },
     "output_type": "display_data"
    }
   ],
   "source": [
    "plt.plot(range(len(losses[:1000])), losses[:1000])"
   ]
  },
  {
   "cell_type": "code",
   "execution_count": 15,
   "metadata": {},
   "outputs": [
    {
     "data": {
      "text/plain": [
       "<AxesSubplot:>"
      ]
     },
     "execution_count": 15,
     "metadata": {},
     "output_type": "execute_result"
    },
    {
     "data": {
      "image/png": "[encoded data removed]",
      "text/plain": [
       "<Figure size 432x288 with 1 Axes>"
      ]
     },
     "metadata": {
      "needs_background": "light"
     },
     "output_type": "display_data"
    }
   ],
   "source": [
    "pd.Series(scores).plot()"
   ]
  },
  {
   "cell_type": "markdown",
   "metadata": {},
   "source": [
    "# Testing Model"
   ]
  },
  {
   "cell_type": "code",
   "execution_count": 16,
   "metadata": {},
   "outputs": [
    {
     "name": "stdout",
     "output_type": "stream",
     "text": [
      "==> loading parameters!\n",
      "done !\n",
      "Portfolio Value: 100000.0\n",
      "Sell: 0 times, Buy: 0 times\n"
     ]
    }
   ],
   "source": [
    "\n",
    "env = SingleStock(test_data, capital)\n",
    "state_size = env.state_dim\n",
    "action_size = len(env.action_space)\n",
    "agent = DQNAgent(state_size, action_size,0.9)\n",
    "\n",
    "last_state = env.reset()\n",
    "last_reward = 0\n",
    "done = False\n",
    "scores = []\n",
    "agent.load()\n",
    "\n",
    "while not done:\n",
    "    last_state = scaler.transform([last_state])\n",
    "    last_state = torch.Tensor(last_state[0]).float().unsqueeze(0)\n",
    "    with torch.no_grad():\n",
    "        action = agent.model(last_state).argmax().item()\n",
    "    last_state, last_reward, done, info = env.step(action)\n",
    "\n",
    "\n",
    "\n",
    "print(f\"Portfolio Value: {info['portfolio_value'][-1]}\")\n",
    "print(f\"Sell: {env.sell_buy.count('sell')} times, Buy: {env.sell_buy.count('buy')} times\")"
   ]
  },
  {
   "cell_type": "code",
   "execution_count": 17,
   "metadata": {},
   "outputs": [],
   "source": [
    "result = pd.DataFrame(info)\n",
    "result.index = test_data.index"
   ]
  },
  {
   "cell_type": "code",
   "execution_count": 18,
   "metadata": {},
   "outputs": [],
   "source": [
    "def marker_buy(col):\n",
    "    price = col[0] \n",
    "    sellbuy = col[1]\n",
    "    \n",
    "    if sellbuy == 'buy':\n",
    "        return price\n",
    "    else:\n",
    "        return np.nan\n",
    "    \n",
    "def marker_sell(col):\n",
    "    price = col[0] \n",
    "    sellbuy = col[1]\n",
    "    \n",
    "    if sellbuy == 'sell':\n",
    "        return price\n",
    "    else:\n",
    "        return np.nan"
   ]
  },
  {
   "cell_type": "code",
   "execution_count": 19,
   "metadata": {},
   "outputs": [],
   "source": [
    "result['marker_buy'] = result[['stock_price', 'sell_buy']].apply(marker_buy, axis=1)\n",
    "result['marker_sell'] = result[['stock_price', 'sell_buy']].apply(marker_sell, axis=1)"
   ]
  },
  {
   "cell_type": "code",
   "execution_count": 20,
   "metadata": {},
   "outputs": [
    {
     "data": {
      "text/html": [
       "<div>\n",
       "<style scoped>\n",
       "    .dataframe tbody tr th:only-of-type {\n",
       "        vertical-align: middle;\n",
       "    }\n",
       "\n",
       "    .dataframe tbody tr th {\n",
       "        vertical-align: top;\n",
       "    }\n",
       "\n",
       "    .dataframe thead th {\n",
       "        text-align: right;\n",
       "    }\n",
       "</style>\n",
       "<table border=\"1\" class=\"dataframe\">\n",
       "  <thead>\n",
       "    <tr style=\"text-align: right;\">\n",
       "      <th></th>\n",
       "      <th>stock_price</th>\n",
       "      <th>portfolio_value</th>\n",
       "      <th>current_val</th>\n",
       "      <th>stock_owned</th>\n",
       "      <th>cash_in_hand</th>\n",
       "      <th>stock_value</th>\n",
       "      <th>sell_buy</th>\n",
       "      <th>marker_buy</th>\n",
       "      <th>marker_sell</th>\n",
       "    </tr>\n",
       "    <tr>\n",
       "      <th>Date</th>\n",
       "      <th></th>\n",
       "      <th></th>\n",
       "      <th></th>\n",
       "      <th></th>\n",
       "      <th></th>\n",
       "      <th></th>\n",
       "      <th></th>\n",
       "      <th></th>\n",
       "      <th></th>\n",
       "    </tr>\n",
       "  </thead>\n",
       "  <tbody>\n",
       "    <tr>\n",
       "      <th>2020-02-13</th>\n",
       "      <td>1514.660034</td>\n",
       "      <td>100000.0</td>\n",
       "      <td>0.0</td>\n",
       "      <td>0</td>\n",
       "      <td>100000</td>\n",
       "      <td>0.0</td>\n",
       "      <td>hold</td>\n",
       "      <td>NaN</td>\n",
       "      <td>NaN</td>\n",
       "    </tr>\n",
       "    <tr>\n",
       "      <th>2020-02-14</th>\n",
       "      <td>1520.739990</td>\n",
       "      <td>100000.0</td>\n",
       "      <td>100000.0</td>\n",
       "      <td>0</td>\n",
       "      <td>100000</td>\n",
       "      <td>0.0</td>\n",
       "      <td>hold</td>\n",
       "      <td>NaN</td>\n",
       "      <td>NaN</td>\n",
       "    </tr>\n",
       "    <tr>\n",
       "      <th>2020-02-18</th>\n",
       "      <td>1519.670044</td>\n",
       "      <td>100000.0</td>\n",
       "      <td>100000.0</td>\n",
       "      <td>0</td>\n",
       "      <td>100000</td>\n",
       "      <td>0.0</td>\n",
       "      <td>hold</td>\n",
       "      <td>NaN</td>\n",
       "      <td>NaN</td>\n",
       "    </tr>\n",
       "    <tr>\n",
       "      <th>2020-02-19</th>\n",
       "      <td>1526.689941</td>\n",
       "      <td>100000.0</td>\n",
       "      <td>100000.0</td>\n",
       "      <td>0</td>\n",
       "      <td>100000</td>\n",
       "      <td>0.0</td>\n",
       "      <td>hold</td>\n",
       "      <td>NaN</td>\n",
       "      <td>NaN</td>\n",
       "    </tr>\n",
       "    <tr>\n",
       "      <th>2020-02-20</th>\n",
       "      <td>1518.150024</td>\n",
       "      <td>100000.0</td>\n",
       "      <td>100000.0</td>\n",
       "      <td>0</td>\n",
       "      <td>100000</td>\n",
       "      <td>0.0</td>\n",
       "      <td>hold</td>\n",
       "      <td>NaN</td>\n",
       "      <td>NaN</td>\n",
       "    </tr>\n",
       "    <tr>\n",
       "      <th>...</th>\n",
       "      <td>...</td>\n",
       "      <td>...</td>\n",
       "      <td>...</td>\n",
       "      <td>...</td>\n",
       "      <td>...</td>\n",
       "      <td>...</td>\n",
       "      <td>...</td>\n",
       "      <td>...</td>\n",
       "      <td>...</td>\n",
       "    </tr>\n",
       "    <tr>\n",
       "      <th>2021-02-08</th>\n",
       "      <td>2092.909912</td>\n",
       "      <td>100000.0</td>\n",
       "      <td>100000.0</td>\n",
       "      <td>0</td>\n",
       "      <td>100000</td>\n",
       "      <td>0.0</td>\n",
       "      <td>hold</td>\n",
       "      <td>NaN</td>\n",
       "      <td>NaN</td>\n",
       "    </tr>\n",
       "    <tr>\n",
       "      <th>2021-02-09</th>\n",
       "      <td>2083.510010</td>\n",
       "      <td>100000.0</td>\n",
       "      <td>100000.0</td>\n",
       "      <td>0</td>\n",
       "      <td>100000</td>\n",
       "      <td>0.0</td>\n",
       "      <td>hold</td>\n",
       "      <td>NaN</td>\n",
       "      <td>NaN</td>\n",
       "    </tr>\n",
       "    <tr>\n",
       "      <th>2021-02-10</th>\n",
       "      <td>2095.379883</td>\n",
       "      <td>100000.0</td>\n",
       "      <td>100000.0</td>\n",
       "      <td>0</td>\n",
       "      <td>100000</td>\n",
       "      <td>0.0</td>\n",
       "      <td>hold</td>\n",
       "      <td>NaN</td>\n",
       "      <td>NaN</td>\n",
       "    </tr>\n",
       "    <tr>\n",
       "      <th>2021-02-11</th>\n",
       "      <td>2095.889893</td>\n",
       "      <td>100000.0</td>\n",
       "      <td>100000.0</td>\n",
       "      <td>0</td>\n",
       "      <td>100000</td>\n",
       "      <td>0.0</td>\n",
       "      <td>hold</td>\n",
       "      <td>NaN</td>\n",
       "      <td>NaN</td>\n",
       "    </tr>\n",
       "    <tr>\n",
       "      <th>2021-02-12</th>\n",
       "      <td>2104.110107</td>\n",
       "      <td>100000.0</td>\n",
       "      <td>100000.0</td>\n",
       "      <td>0</td>\n",
       "      <td>100000</td>\n",
       "      <td>0.0</td>\n",
       "      <td>hold</td>\n",
       "      <td>NaN</td>\n",
       "      <td>NaN</td>\n",
       "    </tr>\n",
       "  </tbody>\n",
       "</table>\n",
       "<p>253 rows × 9 columns</p>\n",
       "</div>"
      ],
      "text/plain": [
       "            stock_price  portfolio_value  current_val  stock_owned  \\\n",
       "Date                                                                 \n",
       "2020-02-13  1514.660034         100000.0          0.0            0   \n",
       "2020-02-14  1520.739990         100000.0     100000.0            0   \n",
       "2020-02-18  1519.670044         100000.0     100000.0            0   \n",
       "2020-02-19  1526.689941         100000.0     100000.0            0   \n",
       "2020-02-20  1518.150024         100000.0     100000.0            0   \n",
       "...                 ...              ...          ...          ...   \n",
       "2021-02-08  2092.909912         100000.0     100000.0            0   \n",
       "2021-02-09  2083.510010         100000.0     100000.0            0   \n",
       "2021-02-10  2095.379883         100000.0     100000.0            0   \n",
       "2021-02-11  2095.889893         100000.0     100000.0            0   \n",
       "2021-02-12  2104.110107         100000.0     100000.0            0   \n",
       "\n",
       "            cash_in_hand  stock_value sell_buy  marker_buy  marker_sell  \n",
       "Date                                                                     \n",
       "2020-02-13        100000          0.0     hold         NaN          NaN  \n",
       "2020-02-14        100000          0.0     hold         NaN          NaN  \n",
       "2020-02-18        100000          0.0     hold         NaN          NaN  \n",
       "2020-02-19        100000          0.0     hold         NaN          NaN  \n",
       "2020-02-20        100000          0.0     hold         NaN          NaN  \n",
       "...                  ...          ...      ...         ...          ...  \n",
       "2021-02-08        100000          0.0     hold         NaN          NaN  \n",
       "2021-02-09        100000          0.0     hold         NaN          NaN  \n",
       "2021-02-10        100000          0.0     hold         NaN          NaN  \n",
       "2021-02-11        100000          0.0     hold         NaN          NaN  \n",
       "2021-02-12        100000          0.0     hold         NaN          NaN  \n",
       "\n",
       "[253 rows x 9 columns]"
      ]
     },
     "execution_count": 20,
     "metadata": {},
     "output_type": "execute_result"
    }
   ],
   "source": [
    "result"
   ]
  },
  {
   "cell_type": "code",
   "execution_count": 21,
   "metadata": {
    "scrolled": false
   },
   "outputs": [
    {
     "data": {
      "text/plain": [
       "<matplotlib.legend.Legend at 0x208b704b610>"
      ]
     },
     "execution_count": 21,
     "metadata": {},
     "output_type": "execute_result"
    },
    {
     "data": {
      "image/png": "[encoded data removed]",
      "text/plain": [
       "<Figure size 936x504 with 1 Axes>"
      ]
     },
     "metadata": {
      "needs_background": "light"
     },
     "output_type": "display_data"
    }
   ],
   "source": [
    "result['stock_price'].plot(figsize=(13,7))\n",
    "result['marker_buy'].plot(style='o', ms=7, label='buy')\n",
    "result['marker_sell'].plot(style='o', ms=7, label='sell')\n",
    "plt.legend()"
   ]
  },
  {
   "cell_type": "code",
   "execution_count": 22,
   "metadata": {},
   "outputs": [
    {
     "data": {
      "text/plain": [
       "<AxesSubplot:xlabel='Date'>"
      ]
     },
     "execution_count": 22,
     "metadata": {},
     "output_type": "execute_result"
    },
    {
     "data": {
      "image/png": "[encoded data removed]",
      "text/plain": [
       "<Figure size 936x504 with 1 Axes>"
      ]
     },
     "metadata": {
      "needs_background": "light"
     },
     "output_type": "display_data"
    }
   ],
   "source": [
    "result['portfolio_value'].plot(figsize=(13,7))"
   ]
  },
  {
   "cell_type": "code",
   "execution_count": 21,
   "metadata": {},
   "outputs": [
    {
     "data": {
      "text/plain": [
       "<AxesSubplot:xlabel='Date'>"
      ]
     },
     "execution_count": 21,
     "metadata": {},
     "output_type": "execute_result"
    },
    {
     "data": {
      "image/png": "[encoded data removed]",
      "text/plain": [
       "<Figure size 432x288 with 1 Axes>"
      ]
     },
     "metadata": {
      "needs_background": "light"
     },
     "output_type": "display_data"
    }
   ],
   "source": [
    "result['stock_value'].plot()"
   ]
  },
  {
   "cell_type": "code",
   "execution_count": 22,
   "metadata": {},
   "outputs": [
    {
     "data": {
      "text/plain": [
       "<AxesSubplot:xlabel='Date'>"
      ]
     },
     "execution_count": 22,
     "metadata": {},
     "output_type": "execute_result"
    },
    {
     "data": {
      "image/png": "[encoded data removed]",
      "text/plain": [
       "<Figure size 432x288 with 1 Axes>"
      ]
     },
     "metadata": {
      "needs_background": "light"
     },
     "output_type": "display_data"
    }
   ],
   "source": [
    "result[['cash_in_hand', 'stock_value']].plot()"
   ]
  },
  {
   "cell_type": "markdown",
   "metadata": {},
   "source": [
    "# Performance Measurement"
   ]
  },
  {
   "cell_type": "code",
   "execution_count": 37,
   "metadata": {},
   "outputs": [],
   "source": [
    "import numpy as np\n",
    "import datetime as dt\n",
    "\n",
    "\n",
    "bn = test_data\n",
    "\n",
    "\n",
    "def CAGR(DF):\n",
    "    df = DF.copy()\n",
    "    try:\n",
    "        df['daily_ret'] = df['portfolio_value'].pct_change()\n",
    "    except:\n",
    "        df['daily_ret'] = df['Adj Close'].pct_change() \n",
    "    \n",
    "    df['cumulative_ret'] = (1 + df['daily_ret']).cumprod()\n",
    "    n = len(df)/21168\n",
    "    cagr = (df['cumulative_ret'][-1])**(1/n) - 1\n",
    "    return cagr\n",
    "\n",
    "def volatility(DF):\n",
    "    df = DF.copy()\n",
    "    try:\n",
    "        df['daily_ret'] = df['portfolio_value'].pct_change()\n",
    "    except:\n",
    "        df['daily_ret'] = df['Adj Close'].pct_change() \n",
    "    vol = df['daily_ret'].std() * np.sqrt(21168)\n",
    "    return vol\n",
    "\n",
    "\n",
    "def sharpe(DF, rf):\n",
    "    df = DF.copy()\n",
    "    sr = (CAGR(df) - rf)/volatility(df)\n",
    "    return sr\n",
    "\n",
    "def max_dd(DF):\n",
    "    df = DF.copy()\n",
    "    try:\n",
    "        df['daily_ret'] = df['portfolio_value'].pct_change()\n",
    "    except:\n",
    "        df['daily_ret'] = df['Adj Close'].pct_change() \n",
    "    df['cumulative_ret'] = (1 + df['daily_ret']).cumprod()\n",
    "    df['cum_roll_max'] = df['cumulative_ret'].cummax()\n",
    "    df['drawdown'] = df['cum_roll_max'] - df['cumulative_ret']\n",
    "    df['drawdown_pct'] = df['drawdown']/df['cum_roll_max']\n",
    "    max_dd = df['drawdown_pct'].max()\n",
    "    return max_dd\n",
    "\n",
    "def calmer(DF):\n",
    "    df = DF.copy()\n",
    "    clmr = CAGR(df)/max_dd(df)\n",
    "    return clmr\n"
   ]
  },
  {
   "cell_type": "code",
   "execution_count": 38,
   "metadata": {},
   "outputs": [
    {
     "name": "stdout",
     "output_type": "stream",
     "text": [
      "Stock name: gold\n",
      "Start: 2020-12-28 13:40:00-05:00  End: 2021-02-09 15:55:00-05:00\n",
      "Compound Annual Growth Rate: -0.2016\n",
      "Volatility: 0.3695\n",
      "shape ratio: -0.5754\n",
      "Maximun drawdown: 0.1256\n",
      "Calmar ratio: -1.6047\n",
      "\n",
      "Comparing with Benchmark\n",
      "Compound Annual Growth Rate (benchmark): -0.2104\n",
      "Volatility (benchmark): 0.3695\n",
      "shape ratio: -0.5992\n",
      "Calmar ratio (benchmark): -1.6749\n"
     ]
    }
   ],
   "source": [
    "print(f'Stock name: {stock_name}')\n",
    "print(f'Start: {result.index[0]}  End: {result.index[-1]}')\n",
    "print(f'Compound Annual Growth Rate: {CAGR(result):.4f}')\n",
    "print(f'Volatility: {volatility(result):.4f}')\n",
    "print(f'shape ratio: {sharpe(result, 0.011):.4f}')\n",
    "print(f'Maximun drawdown: {max_dd(result):.4f}')\n",
    "print(f'Calmar ratio: {calmer(result):.4f}')\n",
    "print()\n",
    "print('Comparing with Benchmark')\n",
    "print(f'Compound Annual Growth Rate (benchmark): {CAGR(bn):.4f}')\n",
    "print(f'Volatility (benchmark): {volatility(bn):.4f}')\n",
    "print(f'shape ratio: {sharpe(bn, 0.011):.4f}')\n",
    "print(f'Calmar ratio (benchmark): {calmer(bn):.4f}')"
   ]
  },
  {
   "cell_type": "code",
   "execution_count": 49,
   "metadata": {},
   "outputs": [],
   "source": [
    "df = pd.read_csv('bitstampUSD_1-min_data_2012-01-01_to_2018-06-27.csv')"
   ]
  }
 ],
 "metadata": {
  "kernelspec": {
   "display_name": "Python 3",
   "language": "python",
   "name": "python3"
  },
  "language_info": {
   "codemirror_mode": {
    "name": "ipython",
    "version": 3
   },
   "file_extension": ".py",
   "mimetype": "text/x-python",
   "name": "python",
   "nbconvert_exporter": "python",
   "pygments_lexer": "ipython3",
   "version": "3.8.5"
  }
 },
 "nbformat": 4,
 "nbformat_minor": 4
}

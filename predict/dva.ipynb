{
 "cells": [
  {
   "cell_type": "markdown",
   "metadata": {},
   "source": [
    "# Import Module"
   ]
  },
  {
   "cell_type": "code",
   "execution_count": 1,
   "metadata": {},
   "outputs": [],
   "source": [
    "import torch\n",
    "import torch.nn as nn\n",
    "import numpy as np\n",
    "import pandas as pd\n",
    "import matplotlib.pyplot as plt\n",
    "import pandas_datareader as web\n",
    "%matplotlib inline\n",
    "from sklearn.preprocessing import MinMaxScaler\n",
    "from pandas.plotting import register_matplotlib_converters\n",
    "register_matplotlib_converters()"
   ]
  },
  {
   "cell_type": "markdown",
   "metadata": {},
   "source": [
    "# Stock Data \n",
    "training data\n",
    "start: 2015/01/01\n",
    "end: 2019/11/01 \n",
    "\n",
    "testing data \n",
    "start: 2019/12/01\n",
    "end: 2020/01/01"
   ]
  },
  {
   "cell_type": "code",
   "execution_count": 2,
   "metadata": {},
   "outputs": [],
   "source": [
    "ticker = 'dva'.upper()"
   ]
  },
  {
   "cell_type": "code",
   "execution_count": 3,
   "metadata": {},
   "outputs": [
    {
     "data": {
      "text/html": [
       "<div>\n",
       "<style scoped>\n",
       "    .dataframe tbody tr th:only-of-type {\n",
       "        vertical-align: middle;\n",
       "    }\n",
       "\n",
       "    .dataframe tbody tr th {\n",
       "        vertical-align: top;\n",
       "    }\n",
       "\n",
       "    .dataframe thead th {\n",
       "        text-align: right;\n",
       "    }\n",
       "</style>\n",
       "<table border=\"1\" class=\"dataframe\">\n",
       "  <thead>\n",
       "    <tr style=\"text-align: right;\">\n",
       "      <th></th>\n",
       "      <th>High</th>\n",
       "      <th>Low</th>\n",
       "      <th>Open</th>\n",
       "      <th>Close</th>\n",
       "      <th>Volume</th>\n",
       "      <th>Adj Close</th>\n",
       "    </tr>\n",
       "    <tr>\n",
       "      <th>Date</th>\n",
       "      <th></th>\n",
       "      <th></th>\n",
       "      <th></th>\n",
       "      <th></th>\n",
       "      <th></th>\n",
       "      <th></th>\n",
       "    </tr>\n",
       "  </thead>\n",
       "  <tbody>\n",
       "    <tr>\n",
       "      <th>2014-12-31</th>\n",
       "      <td>76.769997</td>\n",
       "      <td>75.660004</td>\n",
       "      <td>76.190002</td>\n",
       "      <td>75.739998</td>\n",
       "      <td>575100</td>\n",
       "      <td>75.739998</td>\n",
       "    </tr>\n",
       "    <tr>\n",
       "      <th>2015-01-02</th>\n",
       "      <td>76.370003</td>\n",
       "      <td>75.370003</td>\n",
       "      <td>75.839996</td>\n",
       "      <td>75.830002</td>\n",
       "      <td>945900</td>\n",
       "      <td>75.830002</td>\n",
       "    </tr>\n",
       "    <tr>\n",
       "      <th>2015-01-05</th>\n",
       "      <td>75.930000</td>\n",
       "      <td>74.449997</td>\n",
       "      <td>75.360001</td>\n",
       "      <td>74.699997</td>\n",
       "      <td>1220800</td>\n",
       "      <td>74.699997</td>\n",
       "    </tr>\n",
       "    <tr>\n",
       "      <th>2015-01-06</th>\n",
       "      <td>75.110001</td>\n",
       "      <td>73.430000</td>\n",
       "      <td>74.889999</td>\n",
       "      <td>73.620003</td>\n",
       "      <td>1233600</td>\n",
       "      <td>73.620003</td>\n",
       "    </tr>\n",
       "    <tr>\n",
       "      <th>2015-01-07</th>\n",
       "      <td>74.720001</td>\n",
       "      <td>73.820000</td>\n",
       "      <td>73.870003</td>\n",
       "      <td>74.290001</td>\n",
       "      <td>1155800</td>\n",
       "      <td>74.290001</td>\n",
       "    </tr>\n",
       "    <tr>\n",
       "      <th>...</th>\n",
       "      <td>...</td>\n",
       "      <td>...</td>\n",
       "      <td>...</td>\n",
       "      <td>...</td>\n",
       "      <td>...</td>\n",
       "      <td>...</td>\n",
       "    </tr>\n",
       "    <tr>\n",
       "      <th>2019-12-24</th>\n",
       "      <td>75.300003</td>\n",
       "      <td>74.169998</td>\n",
       "      <td>74.370003</td>\n",
       "      <td>75.019997</td>\n",
       "      <td>595300</td>\n",
       "      <td>75.019997</td>\n",
       "    </tr>\n",
       "    <tr>\n",
       "      <th>2019-12-26</th>\n",
       "      <td>75.150002</td>\n",
       "      <td>74.660004</td>\n",
       "      <td>75.029999</td>\n",
       "      <td>74.769997</td>\n",
       "      <td>477000</td>\n",
       "      <td>74.769997</td>\n",
       "    </tr>\n",
       "    <tr>\n",
       "      <th>2019-12-27</th>\n",
       "      <td>74.970001</td>\n",
       "      <td>74.589996</td>\n",
       "      <td>74.870003</td>\n",
       "      <td>74.750000</td>\n",
       "      <td>690000</td>\n",
       "      <td>74.750000</td>\n",
       "    </tr>\n",
       "    <tr>\n",
       "      <th>2019-12-30</th>\n",
       "      <td>74.849998</td>\n",
       "      <td>73.959999</td>\n",
       "      <td>74.739998</td>\n",
       "      <td>74.080002</td>\n",
       "      <td>684900</td>\n",
       "      <td>74.080002</td>\n",
       "    </tr>\n",
       "    <tr>\n",
       "      <th>2019-12-31</th>\n",
       "      <td>75.129997</td>\n",
       "      <td>73.790001</td>\n",
       "      <td>73.910004</td>\n",
       "      <td>75.029999</td>\n",
       "      <td>1177200</td>\n",
       "      <td>75.029999</td>\n",
       "    </tr>\n",
       "  </tbody>\n",
       "</table>\n",
       "<p>1259 rows × 6 columns</p>\n",
       "</div>"
      ],
      "text/plain": [
       "                 High        Low       Open      Close   Volume  Adj Close\n",
       "Date                                                                      \n",
       "2014-12-31  76.769997  75.660004  76.190002  75.739998   575100  75.739998\n",
       "2015-01-02  76.370003  75.370003  75.839996  75.830002   945900  75.830002\n",
       "2015-01-05  75.930000  74.449997  75.360001  74.699997  1220800  74.699997\n",
       "2015-01-06  75.110001  73.430000  74.889999  73.620003  1233600  73.620003\n",
       "2015-01-07  74.720001  73.820000  73.870003  74.290001  1155800  74.290001\n",
       "...               ...        ...        ...        ...      ...        ...\n",
       "2019-12-24  75.300003  74.169998  74.370003  75.019997   595300  75.019997\n",
       "2019-12-26  75.150002  74.660004  75.029999  74.769997   477000  74.769997\n",
       "2019-12-27  74.970001  74.589996  74.870003  74.750000   690000  74.750000\n",
       "2019-12-30  74.849998  73.959999  74.739998  74.080002   684900  74.080002\n",
       "2019-12-31  75.129997  73.790001  73.910004  75.029999  1177200  75.029999\n",
       "\n",
       "[1259 rows x 6 columns]"
      ]
     },
     "execution_count": 3,
     "metadata": {},
     "output_type": "execute_result"
    }
   ],
   "source": [
    "df = web.DataReader(ticker, 'yahoo', '2015-01-01', '2020-01-01')\n",
    "df"
   ]
  },
  {
   "cell_type": "code",
   "execution_count": 4,
   "metadata": {},
   "outputs": [
    {
     "data": {
      "image/png": "[encoded data removed]",
      "text/plain": [
       "<Figure size 936x288 with 1 Axes>"
      ]
     },
     "metadata": {
      "needs_background": "light"
     },
     "output_type": "display_data"
    }
   ],
   "source": [
    "plt.figure(figsize=(13,4))\n",
    "plt.title('Stock price '+ ticker)\n",
    "plt.ylabel('Price')\n",
    "plt.grid(True)\n",
    "plt.autoscale(axis='x',tight=True)\n",
    "plt.plot(df['Adj Close'], color='g')\n",
    "plt.show()"
   ]
  },
  {
   "cell_type": "code",
   "execution_count": 5,
   "metadata": {},
   "outputs": [],
   "source": [
    "y = df['Adj Close'].values.astype(float)\n",
    "\n",
    "test_size = 21\n",
    "train_set = y[:-test_size]\n",
    "test_set = y[-test_size:]"
   ]
  },
  {
   "cell_type": "code",
   "execution_count": 6,
   "metadata": {},
   "outputs": [
    {
     "data": {
      "image/png": "[encoded data removed]",
      "text/plain": [
       "<Figure size 936x288 with 1 Axes>"
      ]
     },
     "metadata": {
      "needs_background": "light"
     },
     "output_type": "display_data"
    }
   ],
   "source": [
    "df['Adj Close'].iloc[-test_size:].plot(figsize=(13,4))\n",
    "plt.title('test set')\n",
    "plt.grid(True)"
   ]
  },
  {
   "cell_type": "markdown",
   "metadata": {},
   "source": [
    "# Normalizing data\n",
    "convert to range [-1, 1]"
   ]
  },
  {
   "cell_type": "code",
   "execution_count": 7,
   "metadata": {},
   "outputs": [],
   "source": [
    "scaler = MinMaxScaler(feature_range=(-1, 1))\n",
    "train_norm = scaler.fit_transform(train_set.reshape(-1, 1))"
   ]
  },
  {
   "cell_type": "code",
   "execution_count": 8,
   "metadata": {},
   "outputs": [
    {
     "data": {
      "text/plain": [
       "-1.0"
      ]
     },
     "execution_count": 8,
     "metadata": {},
     "output_type": "execute_result"
    }
   ],
   "source": [
    "train_norm.min()"
   ]
  },
  {
   "cell_type": "code",
   "execution_count": 9,
   "metadata": {},
   "outputs": [
    {
     "data": {
      "text/plain": [
       "1.0000000000000004"
      ]
     },
     "execution_count": 9,
     "metadata": {},
     "output_type": "execute_result"
    }
   ],
   "source": [
    "train_norm.max()"
   ]
  },
  {
   "cell_type": "code",
   "execution_count": 10,
   "metadata": {},
   "outputs": [
    {
     "data": {
      "text/plain": [
       "0.16652798887705061"
      ]
     },
     "execution_count": 10,
     "metadata": {},
     "output_type": "execute_result"
    }
   ],
   "source": [
    "train_norm.mean()"
   ]
  },
  {
   "cell_type": "code",
   "execution_count": 11,
   "metadata": {},
   "outputs": [
    {
     "data": {
      "text/plain": [
       "0.4205882535070001"
      ]
     },
     "execution_count": 11,
     "metadata": {},
     "output_type": "execute_result"
    }
   ],
   "source": [
    "train_norm.std()"
   ]
  },
  {
   "cell_type": "markdown",
   "metadata": {},
   "source": [
    "# Input data and label\n",
    "window size = 21\n",
    "\n",
    "[1, 2, 3, ...,21] predict ==> [22]"
   ]
  },
  {
   "cell_type": "code",
   "execution_count": 12,
   "metadata": {},
   "outputs": [
    {
     "data": {
      "text/plain": [
       "1217"
      ]
     },
     "execution_count": 12,
     "metadata": {},
     "output_type": "execute_result"
    }
   ],
   "source": [
    "train_norm = torch.FloatTensor(train_norm).view(-1)\n",
    "\n",
    "window_size = 21\n",
    "\n",
    "\n",
    "def input_data(seq,ws): \n",
    "    out = []\n",
    "    L = len(seq)\n",
    "    for i in range(L-ws):\n",
    "        window = seq[i:i+ws]\n",
    "        label = seq[i+ws:i+ws+1]\n",
    "        out.append((window,label))\n",
    "    return out\n",
    "\n",
    "train_data = input_data(train_norm,window_size)\n",
    "len(train_data)  "
   ]
  },
  {
   "cell_type": "markdown",
   "metadata": {},
   "source": [
    "# 2. LSTM network\n",
    "lstm 2 layers 100 nodes\n",
    "\n",
    "fully connected 1 l layer"
   ]
  },
  {
   "cell_type": "code",
   "execution_count": 13,
   "metadata": {},
   "outputs": [],
   "source": [
    "class LSTMnetwork(nn.Module):\n",
    "    def __init__(self,input_size=1,hidden_size=[100, 100], output_size=1):\n",
    "        super().__init__()\n",
    "        self.hidden_size = hidden_size\n",
    "        \n",
    "        self.lstm1 = nn.LSTM(input_size,hidden_size[0])\n",
    "        \n",
    "        self.lstm2 = nn.LSTM(hidden_size[0], hidden_size[1])\n",
    "        \n",
    "        self.linear = nn.Linear(hidden_size[1], output_size)\n",
    "        \n",
    "        self.hidden = (torch.zeros(1,1,self.hidden_size[0]),\n",
    "                       torch.zeros(1,1,self.hidden_size[0]))\n",
    "\n",
    "    def forward(self,seq):\n",
    "        lstm_out1, self.hidden = self.lstm1(seq.view(len(seq),1,-1), self.hidden)\n",
    "        lstm_out2, self.hidden = self.lstm2(lstm_out1.view(len(seq),1,-1), self.hidden)\n",
    "        pred = self.linear(lstm_out2.view(len(seq),-1))\n",
    "        return pred[-1] \n",
    "        "
   ]
  },
  {
   "cell_type": "code",
   "execution_count": 14,
   "metadata": {},
   "outputs": [
    {
     "data": {
      "text/plain": [
       "LSTMnetwork(\n",
       "  (lstm1): LSTM(1, 100)\n",
       "  (lstm2): LSTM(100, 100)\n",
       "  (linear): Linear(in_features=100, out_features=1, bias=True)\n",
       ")"
      ]
     },
     "execution_count": 14,
     "metadata": {},
     "output_type": "execute_result"
    }
   ],
   "source": [
    "torch.manual_seed(101)\n",
    "model = LSTMnetwork()\n",
    "\n",
    "criterion = nn.MSELoss()\n",
    "optimizer = torch.optim.Adam(model.parameters(), lr=0.001)\n",
    "\n",
    "model"
   ]
  },
  {
   "cell_type": "markdown",
   "metadata": {},
   "source": [
    "# Training"
   ]
  },
  {
   "cell_type": "code",
   "execution_count": 15,
   "metadata": {},
   "outputs": [
    {
     "name": "stdout",
     "output_type": "stream",
     "text": [
      "Epoch:  1 Loss: 0.09700534\n",
      "Epoch:  2 Loss: 0.01297613\n",
      "Epoch:  3 Loss: 0.00320129\n",
      "Epoch:  4 Loss: 0.00100585\n",
      "Epoch:  5 Loss: 0.00043790\n",
      "Epoch:  6 Loss: 0.00001609\n",
      "Epoch:  7 Loss: 0.00002871\n",
      "Epoch:  8 Loss: 0.00054536\n",
      "Epoch:  9 Loss: 0.00055117\n",
      "Epoch: 10 Loss: 0.00002569\n",
      "Epoch: 11 Loss: 0.00022392\n",
      "Epoch: 12 Loss: 0.00018841\n",
      "Epoch: 13 Loss: 0.00026843\n",
      "Epoch: 14 Loss: 0.00010492\n",
      "Epoch: 15 Loss: 0.00003127\n",
      "Epoch: 16 Loss: 0.00053742\n",
      "Epoch: 17 Loss: 0.00023710\n",
      "Epoch: 18 Loss: 0.00015101\n",
      "Epoch: 19 Loss: 0.00004850\n",
      "Epoch: 20 Loss: 0.00093982\n",
      "Epoch: 21 Loss: 0.00001737\n",
      "Epoch: 22 Loss: 0.00002013\n",
      "Epoch: 23 Loss: 0.00018834\n",
      "Epoch: 24 Loss: 0.00035928\n",
      "Epoch: 25 Loss: 0.00026842\n",
      "Epoch: 26 Loss: 0.00075844\n",
      "Epoch: 27 Loss: 0.00129927\n",
      "Epoch: 28 Loss: 0.00082633\n",
      "Epoch: 29 Loss: 0.00118111\n",
      "Epoch: 30 Loss: 0.00063355\n",
      "Epoch: 31 Loss: 0.00046410\n",
      "Epoch: 32 Loss: 0.00089201\n",
      "Epoch: 33 Loss: 0.00034385\n",
      "Epoch: 34 Loss: 0.00015503\n",
      "Epoch: 35 Loss: 0.00049457\n",
      "Epoch: 36 Loss: 0.00112371\n",
      "Epoch: 37 Loss: 0.00052170\n",
      "Epoch: 38 Loss: 0.00085677\n",
      "Epoch: 39 Loss: 0.00045306\n",
      "Epoch: 40 Loss: 0.00008569\n",
      "Epoch: 41 Loss: 0.00001450\n",
      "Epoch: 42 Loss: 0.00004668\n",
      "Epoch: 43 Loss: 0.00005790\n",
      "Epoch: 44 Loss: 0.00013598\n",
      "Epoch: 45 Loss: 0.00077544\n",
      "Epoch: 46 Loss: 0.00033095\n",
      "Epoch: 47 Loss: 0.00030115\n",
      "Epoch: 48 Loss: 0.00000398\n",
      "Epoch: 49 Loss: 0.00009924\n",
      "Epoch: 50 Loss: 0.00078142\n",
      "Epoch: 51 Loss: 0.00005881\n",
      "Epoch: 52 Loss: 0.00022631\n",
      "Epoch: 53 Loss: 0.00149607\n",
      "Epoch: 54 Loss: 0.00001643\n",
      "Epoch: 55 Loss: 0.00024377\n",
      "Epoch: 56 Loss: 0.00060186\n",
      "Epoch: 57 Loss: 0.00043221\n",
      "Epoch: 58 Loss: 0.00075124\n",
      "Epoch: 59 Loss: 0.00099577\n",
      "Epoch: 60 Loss: 0.00004139\n",
      "Epoch: 61 Loss: 0.00042022\n",
      "Epoch: 62 Loss: 0.00090951\n",
      "Epoch: 63 Loss: 0.00296016\n",
      "Epoch: 64 Loss: 0.00167833\n",
      "Epoch: 65 Loss: 0.00067257\n",
      "Epoch: 66 Loss: 0.00074832\n",
      "Epoch: 67 Loss: 0.00132531\n",
      "Epoch: 68 Loss: 0.00038803\n",
      "Epoch: 69 Loss: 0.00598058\n",
      "Epoch: 70 Loss: 0.00048245\n",
      "Epoch: 71 Loss: 0.00163014\n",
      "Epoch: 72 Loss: 0.00077099\n",
      "Epoch: 73 Loss: 0.00017464\n",
      "Epoch: 74 Loss: 0.00063169\n",
      "Epoch: 75 Loss: 0.00033557\n",
      "Epoch: 76 Loss: 0.00125126\n",
      "Epoch: 77 Loss: 0.00021007\n",
      "Epoch: 78 Loss: 0.00115840\n",
      "Epoch: 79 Loss: 0.00051466\n",
      "Epoch: 80 Loss: 0.00063383\n",
      "Epoch: 81 Loss: 0.00038696\n",
      "Epoch: 82 Loss: 0.00165300\n",
      "Epoch: 83 Loss: 0.00049967\n",
      "Epoch: 84 Loss: 0.00013782\n",
      "Epoch: 85 Loss: 0.00117789\n",
      "Epoch: 86 Loss: 0.02034847\n",
      "Epoch: 87 Loss: 0.00214479\n",
      "Epoch: 88 Loss: 0.00041208\n",
      "Epoch: 89 Loss: 0.00107257\n",
      "Epoch: 90 Loss: 0.00107302\n",
      "Epoch: 91 Loss: 0.00175544\n",
      "Epoch: 92 Loss: 0.00040939\n",
      "Epoch: 93 Loss: 0.00194761\n",
      "Epoch: 94 Loss: 0.00041596\n",
      "Epoch: 95 Loss: 0.00031880\n",
      "Epoch: 96 Loss: 0.00170939\n",
      "Epoch: 97 Loss: 0.00138998\n",
      "Epoch: 98 Loss: 0.00108321\n",
      "Epoch: 99 Loss: 0.00229555\n",
      "Epoch: 100 Loss: 0.00079456\n",
      "\n",
      "Duration: 2383 seconds\n"
     ]
    }
   ],
   "source": [
    "epochs = 100\n",
    "losses= []\n",
    "\n",
    "import time\n",
    "start_time = time.time()\n",
    "\n",
    "for epoch in range(epochs):\n",
    "    for seq, y_train in train_data:\n",
    "        \n",
    "        optimizer.zero_grad()\n",
    "        model.hidden = (torch.zeros(1,1,model.hidden_size[0]),\n",
    "                        torch.zeros(1,1,model.hidden_size[0]))\n",
    "        \n",
    "        y_pred = model(seq)\n",
    "        \n",
    "        loss = criterion(y_pred, y_train)\n",
    "        loss.backward()\n",
    "        losses.append(loss.item())\n",
    "        optimizer.step()\n",
    "        \n",
    "    print(f'Epoch: {epoch+1:2} Loss: {loss.item():10.8f}')\n",
    "    \n",
    "print(f'\\nDuration: {time.time() - start_time:.0f} seconds')"
   ]
  },
  {
   "cell_type": "code",
   "execution_count": 16,
   "metadata": {},
   "outputs": [
    {
     "data": {
      "image/png": "[encoded data removed]",
      "text/plain": [
       "<Figure size 936x288 with 1 Axes>"
      ]
     },
     "metadata": {
      "needs_background": "light"
     },
     "output_type": "display_data"
    }
   ],
   "source": [
    "loss = pd.DataFrame(losses, columns=['loss'])\n",
    "loss['loss'].rolling(1217).mean().plot(figsize=(13,4))\n",
    "plt.title('Loss')\n",
    "plt.grid(True)"
   ]
  },
  {
   "cell_type": "markdown",
   "metadata": {},
   "source": [
    "# Forecast\n",
    "21 days in future"
   ]
  },
  {
   "cell_type": "code",
   "execution_count": 17,
   "metadata": {},
   "outputs": [],
   "source": [
    "future = 21\n",
    "\n",
    "preds = train_norm[-window_size:].tolist()\n",
    "\n",
    "model.eval()\n",
    "\n",
    "for i in range(future):\n",
    "    seq = torch.FloatTensor(preds[-window_size:])\n",
    "    with torch.no_grad():\n",
    "        model.hidden = (torch.zeros(1,1,model.hidden_size[0]),\n",
    "                        torch.zeros(1,1,model.hidden_size[0]))\n",
    "        preds.append(model(seq).item())"
   ]
  },
  {
   "cell_type": "code",
   "execution_count": 18,
   "metadata": {},
   "outputs": [],
   "source": [
    "true_predictions = scaler.inverse_transform(np.array(preds[window_size:]).reshape(-1, 1))\n",
    "df1 = pd.DataFrame(true_predictions, index=df.tail(21).index, columns=['pred'])\n"
   ]
  },
  {
   "cell_type": "code",
   "execution_count": 19,
   "metadata": {},
   "outputs": [
    {
     "data": {
      "text/plain": [
       "<matplotlib.legend.Legend at 0x172a0e0c760>"
      ]
     },
     "execution_count": 19,
     "metadata": {},
     "output_type": "execute_result"
    },
    {
     "data": {
      "image/png": "[encoded data removed]",
      "text/plain": [
       "<Figure size 864x288 with 1 Axes>"
      ]
     },
     "metadata": {
      "needs_background": "light"
     },
     "output_type": "display_data"
    }
   ],
   "source": [
    "plt.figure(figsize=(12,4))\n",
    "plt.grid(True)\n",
    "plt.autoscale(axis='x',tight=True)\n",
    "plt.plot(df['Adj Close'].iloc[-21:], label='Stock price')\n",
    "plt.plot(df1['pred'], label='predicted')\n",
    "plt.legend()"
   ]
  },
  {
   "cell_type": "markdown",
   "metadata": {},
   "source": [
    "# Absolute mean squared error"
   ]
  },
  {
   "cell_type": "code",
   "execution_count": 20,
   "metadata": {},
   "outputs": [
    {
     "data": {
      "text/plain": [
       "5.9008439998528575"
      ]
     },
     "execution_count": 20,
     "metadata": {},
     "output_type": "execute_result"
    }
   ],
   "source": [
    "from sklearn.metrics import mean_squared_error\n",
    "np.sqrt(mean_squared_error(true_predictions.reshape(1, -1), df['Adj Close'][-21:].values.reshape(1, -1)))"
   ]
  },
  {
   "cell_type": "code",
   "execution_count": null,
   "metadata": {},
   "outputs": [],
   "source": []
  }
 ],
 "metadata": {
  "kernelspec": {
   "display_name": "Python 3",
   "language": "python",
   "name": "python3"
  },
  "language_info": {
   "codemirror_mode": {
    "name": "ipython",
    "version": 3
   },
   "file_extension": ".py",
   "mimetype": "text/x-python",
   "name": "python",
   "nbconvert_exporter": "python",
   "pygments_lexer": "ipython3",
   "version": "3.8.5"
  }
 },
 "nbformat": 4,
 "nbformat_minor": 4
}

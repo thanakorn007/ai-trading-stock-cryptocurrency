{
 "cells": [
  {
   "cell_type": "markdown",
   "metadata": {},
   "source": [
    "# Import Module"
   ]
  },
  {
   "cell_type": "code",
   "execution_count": 1,
   "metadata": {},
   "outputs": [],
   "source": [
    "import torch\n",
    "import torch.nn as nn\n",
    "import numpy as np\n",
    "import pandas as pd\n",
    "import matplotlib.pyplot as plt\n",
    "import pandas_datareader as web\n",
    "%matplotlib inline\n",
    "from sklearn.preprocessing import MinMaxScaler\n",
    "from pandas.plotting import register_matplotlib_converters\n",
    "register_matplotlib_converters()"
   ]
  },
  {
   "cell_type": "markdown",
   "metadata": {},
   "source": [
    "# Stock Data \n",
    "training data\n",
    "start: 2015/01/01\n",
    "end: 2019/11/01 \n",
    "\n",
    "testing data \n",
    "start: 2019/12/01\n",
    "end: 2020/01/01"
   ]
  },
  {
   "cell_type": "code",
   "execution_count": 2,
   "metadata": {},
   "outputs": [],
   "source": [
    "ticker = 'btc-usd'.upper()"
   ]
  },
  {
   "cell_type": "code",
   "execution_count": 25,
   "metadata": {},
   "outputs": [
    {
     "data": {
      "text/html": [
       "<div>\n",
       "<style scoped>\n",
       "    .dataframe tbody tr th:only-of-type {\n",
       "        vertical-align: middle;\n",
       "    }\n",
       "\n",
       "    .dataframe tbody tr th {\n",
       "        vertical-align: top;\n",
       "    }\n",
       "\n",
       "    .dataframe thead th {\n",
       "        text-align: right;\n",
       "    }\n",
       "</style>\n",
       "<table border=\"1\" class=\"dataframe\">\n",
       "  <thead>\n",
       "    <tr style=\"text-align: right;\">\n",
       "      <th></th>\n",
       "      <th>High</th>\n",
       "      <th>Low</th>\n",
       "      <th>Open</th>\n",
       "      <th>Close</th>\n",
       "      <th>Volume</th>\n",
       "      <th>Adj Close</th>\n",
       "    </tr>\n",
       "    <tr>\n",
       "      <th>Date</th>\n",
       "      <th></th>\n",
       "      <th></th>\n",
       "      <th></th>\n",
       "      <th></th>\n",
       "      <th></th>\n",
       "      <th></th>\n",
       "    </tr>\n",
       "  </thead>\n",
       "  <tbody>\n",
       "    <tr>\n",
       "      <th>2014-12-31</th>\n",
       "      <td>320.192993</td>\n",
       "      <td>310.210999</td>\n",
       "      <td>310.914001</td>\n",
       "      <td>320.192993</td>\n",
       "      <td>13942900</td>\n",
       "      <td>320.192993</td>\n",
       "    </tr>\n",
       "    <tr>\n",
       "      <th>2015-01-01</th>\n",
       "      <td>320.434998</td>\n",
       "      <td>314.002991</td>\n",
       "      <td>320.434998</td>\n",
       "      <td>314.248993</td>\n",
       "      <td>8036550</td>\n",
       "      <td>314.248993</td>\n",
       "    </tr>\n",
       "    <tr>\n",
       "      <th>2015-01-02</th>\n",
       "      <td>315.838989</td>\n",
       "      <td>313.565002</td>\n",
       "      <td>314.079010</td>\n",
       "      <td>315.032013</td>\n",
       "      <td>7860650</td>\n",
       "      <td>315.032013</td>\n",
       "    </tr>\n",
       "    <tr>\n",
       "      <th>2015-01-03</th>\n",
       "      <td>315.149994</td>\n",
       "      <td>281.082001</td>\n",
       "      <td>314.846008</td>\n",
       "      <td>281.082001</td>\n",
       "      <td>33054400</td>\n",
       "      <td>281.082001</td>\n",
       "    </tr>\n",
       "    <tr>\n",
       "      <th>2015-01-04</th>\n",
       "      <td>287.230011</td>\n",
       "      <td>257.612000</td>\n",
       "      <td>281.145996</td>\n",
       "      <td>264.195007</td>\n",
       "      <td>55629100</td>\n",
       "      <td>264.195007</td>\n",
       "    </tr>\n",
       "    <tr>\n",
       "      <th>...</th>\n",
       "      <td>...</td>\n",
       "      <td>...</td>\n",
       "      <td>...</td>\n",
       "      <td>...</td>\n",
       "      <td>...</td>\n",
       "      <td>...</td>\n",
       "    </tr>\n",
       "    <tr>\n",
       "      <th>2019-12-28</th>\n",
       "      <td>7399.041016</td>\n",
       "      <td>7286.905273</td>\n",
       "      <td>7289.031250</td>\n",
       "      <td>7317.990234</td>\n",
       "      <td>21365673026</td>\n",
       "      <td>7317.990234</td>\n",
       "    </tr>\n",
       "    <tr>\n",
       "      <th>2019-12-29</th>\n",
       "      <td>7513.948242</td>\n",
       "      <td>7279.865234</td>\n",
       "      <td>7317.647461</td>\n",
       "      <td>7422.652832</td>\n",
       "      <td>22445257702</td>\n",
       "      <td>7422.652832</td>\n",
       "    </tr>\n",
       "    <tr>\n",
       "      <th>2019-12-30</th>\n",
       "      <td>7454.824219</td>\n",
       "      <td>7276.308105</td>\n",
       "      <td>7420.272949</td>\n",
       "      <td>7292.995117</td>\n",
       "      <td>22874131672</td>\n",
       "      <td>7292.995117</td>\n",
       "    </tr>\n",
       "    <tr>\n",
       "      <th>2019-12-31</th>\n",
       "      <td>7335.290039</td>\n",
       "      <td>7169.777832</td>\n",
       "      <td>7294.438965</td>\n",
       "      <td>7193.599121</td>\n",
       "      <td>21167946112</td>\n",
       "      <td>7193.599121</td>\n",
       "    </tr>\n",
       "    <tr>\n",
       "      <th>2020-01-01</th>\n",
       "      <td>7254.330566</td>\n",
       "      <td>7174.944336</td>\n",
       "      <td>7194.892090</td>\n",
       "      <td>7200.174316</td>\n",
       "      <td>18565664997</td>\n",
       "      <td>7200.174316</td>\n",
       "    </tr>\n",
       "  </tbody>\n",
       "</table>\n",
       "<p>1828 rows × 6 columns</p>\n",
       "</div>"
      ],
      "text/plain": [
       "                   High          Low         Open        Close       Volume  \\\n",
       "Date                                                                          \n",
       "2014-12-31   320.192993   310.210999   310.914001   320.192993     13942900   \n",
       "2015-01-01   320.434998   314.002991   320.434998   314.248993      8036550   \n",
       "2015-01-02   315.838989   313.565002   314.079010   315.032013      7860650   \n",
       "2015-01-03   315.149994   281.082001   314.846008   281.082001     33054400   \n",
       "2015-01-04   287.230011   257.612000   281.145996   264.195007     55629100   \n",
       "...                 ...          ...          ...          ...          ...   \n",
       "2019-12-28  7399.041016  7286.905273  7289.031250  7317.990234  21365673026   \n",
       "2019-12-29  7513.948242  7279.865234  7317.647461  7422.652832  22445257702   \n",
       "2019-12-30  7454.824219  7276.308105  7420.272949  7292.995117  22874131672   \n",
       "2019-12-31  7335.290039  7169.777832  7294.438965  7193.599121  21167946112   \n",
       "2020-01-01  7254.330566  7174.944336  7194.892090  7200.174316  18565664997   \n",
       "\n",
       "              Adj Close  \n",
       "Date                     \n",
       "2014-12-31   320.192993  \n",
       "2015-01-01   314.248993  \n",
       "2015-01-02   315.032013  \n",
       "2015-01-03   281.082001  \n",
       "2015-01-04   264.195007  \n",
       "...                 ...  \n",
       "2019-12-28  7317.990234  \n",
       "2019-12-29  7422.652832  \n",
       "2019-12-30  7292.995117  \n",
       "2019-12-31  7193.599121  \n",
       "2020-01-01  7200.174316  \n",
       "\n",
       "[1828 rows x 6 columns]"
      ]
     },
     "execution_count": 25,
     "metadata": {},
     "output_type": "execute_result"
    }
   ],
   "source": [
    "df = web.DataReader(ticker, 'yahoo', '2015-01-01', '2020-01-01')\n",
    "df"
   ]
  },
  {
   "cell_type": "code",
   "execution_count": 26,
   "metadata": {},
   "outputs": [
    {
     "data": {
      "image/png": "[encoded data removed]",
      "text/plain": [
       "<Figure size 936x288 with 1 Axes>"
      ]
     },
     "metadata": {
      "needs_background": "light"
     },
     "output_type": "display_data"
    }
   ],
   "source": [
    "plt.figure(figsize=(13,4))\n",
    "plt.title('Stock price '+ ticker)\n",
    "plt.ylabel('Price')\n",
    "plt.grid(True)\n",
    "plt.autoscale(axis='x',tight=True)\n",
    "plt.plot(df['Adj Close'], color='g')\n",
    "plt.show()"
   ]
  },
  {
   "cell_type": "code",
   "execution_count": 5,
   "metadata": {},
   "outputs": [],
   "source": [
    "y = df['Adj Close'].values.astype(float)\n",
    "\n",
    "test_size = 21\n",
    "train_set = y[:-test_size]\n",
    "test_set = y[-test_size:]"
   ]
  },
  {
   "cell_type": "code",
   "execution_count": 6,
   "metadata": {},
   "outputs": [
    {
     "data": {
      "image/png": "[encoded data removed]",
      "text/plain": [
       "<Figure size 936x288 with 1 Axes>"
      ]
     },
     "metadata": {
      "needs_background": "light"
     },
     "output_type": "display_data"
    }
   ],
   "source": [
    "df['Adj Close'].iloc[-test_size:].plot(figsize=(13,4))\n",
    "plt.title('test set')\n",
    "plt.grid(True)"
   ]
  },
  {
   "cell_type": "markdown",
   "metadata": {},
   "source": [
    "# Normalizing data\n",
    "convert to range [-1, 1]"
   ]
  },
  {
   "cell_type": "code",
   "execution_count": 7,
   "metadata": {},
   "outputs": [],
   "source": [
    "scaler = MinMaxScaler(feature_range=(-1, 1))\n",
    "train_norm = scaler.fit_transform(train_set.reshape(-1, 1))"
   ]
  },
  {
   "cell_type": "code",
   "execution_count": 8,
   "metadata": {},
   "outputs": [
    {
     "data": {
      "text/plain": [
       "-1.0"
      ]
     },
     "execution_count": 8,
     "metadata": {},
     "output_type": "execute_result"
    }
   ],
   "source": [
    "train_norm.min()"
   ]
  },
  {
   "cell_type": "code",
   "execution_count": 9,
   "metadata": {},
   "outputs": [
    {
     "data": {
      "text/plain": [
       "1.0"
      ]
     },
     "execution_count": 9,
     "metadata": {},
     "output_type": "execute_result"
    }
   ],
   "source": [
    "train_norm.max()"
   ]
  },
  {
   "cell_type": "code",
   "execution_count": 10,
   "metadata": {},
   "outputs": [
    {
     "data": {
      "text/plain": [
       "-0.6123236783209647"
      ]
     },
     "execution_count": 10,
     "metadata": {},
     "output_type": "execute_result"
    }
   ],
   "source": [
    "train_norm.mean()"
   ]
  },
  {
   "cell_type": "code",
   "execution_count": 11,
   "metadata": {},
   "outputs": [
    {
     "data": {
      "text/plain": [
       "0.4129920616291448"
      ]
     },
     "execution_count": 11,
     "metadata": {},
     "output_type": "execute_result"
    }
   ],
   "source": [
    "train_norm.std()"
   ]
  },
  {
   "cell_type": "markdown",
   "metadata": {},
   "source": [
    "# Input data and label\n",
    "window size = 21\n",
    "\n",
    "[1, 2, 3, ...,21] predict ==> [22]"
   ]
  },
  {
   "cell_type": "code",
   "execution_count": 12,
   "metadata": {},
   "outputs": [
    {
     "data": {
      "text/plain": [
       "1786"
      ]
     },
     "execution_count": 12,
     "metadata": {},
     "output_type": "execute_result"
    }
   ],
   "source": [
    "train_norm = torch.FloatTensor(train_norm).view(-1)\n",
    "\n",
    "window_size = 21\n",
    "\n",
    "\n",
    "def input_data(seq,ws): \n",
    "    out = []\n",
    "    L = len(seq)\n",
    "    for i in range(L-ws):\n",
    "        window = seq[i:i+ws]\n",
    "        label = seq[i+ws:i+ws+1]\n",
    "        out.append((window,label))\n",
    "    return out\n",
    "\n",
    "train_data = input_data(train_norm,window_size)\n",
    "len(train_data)  "
   ]
  },
  {
   "cell_type": "markdown",
   "metadata": {},
   "source": [
    "# 2. LSTM network\n",
    "lstm 2 layers 100 nodes\n",
    "\n",
    "fully connected 1 l layer"
   ]
  },
  {
   "cell_type": "code",
   "execution_count": 13,
   "metadata": {},
   "outputs": [],
   "source": [
    "class LSTMnetwork(nn.Module):\n",
    "    def __init__(self,input_size=1,hidden_size=[100, 100], output_size=1):\n",
    "        super().__init__()\n",
    "        self.hidden_size = hidden_size\n",
    "        \n",
    "        self.lstm1 = nn.LSTM(input_size,hidden_size[0])\n",
    "        \n",
    "        self.lstm2 = nn.LSTM(hidden_size[0], hidden_size[1])\n",
    "        \n",
    "        self.linear = nn.Linear(hidden_size[1], output_size)\n",
    "        \n",
    "        self.hidden = (torch.zeros(1,1,self.hidden_size[0]),\n",
    "                       torch.zeros(1,1,self.hidden_size[0]))\n",
    "\n",
    "    def forward(self,seq):\n",
    "        lstm_out1, self.hidden = self.lstm1(seq.view(len(seq),1,-1), self.hidden)\n",
    "        lstm_out2, self.hidden = self.lstm2(lstm_out1.view(len(seq),1,-1), self.hidden)\n",
    "        pred = self.linear(lstm_out2.view(len(seq),-1))\n",
    "        return pred[-1] \n",
    "        "
   ]
  },
  {
   "cell_type": "code",
   "execution_count": 14,
   "metadata": {},
   "outputs": [
    {
     "data": {
      "text/plain": [
       "LSTMnetwork(\n",
       "  (lstm1): LSTM(1, 100)\n",
       "  (lstm2): LSTM(100, 100)\n",
       "  (linear): Linear(in_features=100, out_features=1, bias=True)\n",
       ")"
      ]
     },
     "execution_count": 14,
     "metadata": {},
     "output_type": "execute_result"
    }
   ],
   "source": [
    "torch.manual_seed(101)\n",
    "model = LSTMnetwork()\n",
    "\n",
    "criterion = nn.MSELoss()\n",
    "optimizer = torch.optim.Adam(model.parameters(), lr=0.001)\n",
    "\n",
    "model"
   ]
  },
  {
   "cell_type": "markdown",
   "metadata": {},
   "source": [
    "# Training"
   ]
  },
  {
   "cell_type": "code",
   "execution_count": 15,
   "metadata": {},
   "outputs": [
    {
     "name": "stdout",
     "output_type": "stream",
     "text": [
      "Epoch:  1 Loss: 0.00932341\n",
      "Epoch:  2 Loss: 0.00886890\n",
      "Epoch:  3 Loss: 0.00672917\n",
      "Epoch:  4 Loss: 0.01206144\n",
      "Epoch:  5 Loss: 0.00660408\n",
      "Epoch:  6 Loss: 0.00316513\n",
      "Epoch:  7 Loss: 0.00523259\n",
      "Epoch:  8 Loss: 0.00596627\n",
      "Epoch:  9 Loss: 0.00337264\n",
      "Epoch: 10 Loss: 0.00153830\n",
      "Epoch: 11 Loss: 0.00433160\n",
      "Epoch: 12 Loss: 0.00637031\n",
      "Epoch: 13 Loss: 0.00586915\n",
      "Epoch: 14 Loss: 0.00434892\n",
      "Epoch: 15 Loss: 0.00611497\n",
      "Epoch: 16 Loss: 0.00652417\n",
      "Epoch: 17 Loss: 0.00402158\n",
      "Epoch: 18 Loss: 0.00308785\n",
      "Epoch: 19 Loss: 0.00049903\n",
      "Epoch: 20 Loss: 0.00543309\n",
      "Epoch: 21 Loss: 0.00372178\n",
      "Epoch: 22 Loss: 0.00601156\n",
      "Epoch: 23 Loss: 0.00657675\n",
      "Epoch: 24 Loss: 0.00674729\n",
      "Epoch: 25 Loss: 0.00680348\n",
      "Epoch: 26 Loss: 0.00682467\n",
      "Epoch: 27 Loss: 0.00683295\n",
      "Epoch: 28 Loss: 0.00683549\n",
      "Epoch: 29 Loss: 0.00683661\n",
      "Epoch: 30 Loss: 0.00683359\n",
      "Epoch: 31 Loss: 0.00683596\n",
      "Epoch: 32 Loss: 0.00683672\n",
      "Epoch: 33 Loss: 0.00683698\n",
      "Epoch: 34 Loss: 0.00683706\n",
      "Epoch: 35 Loss: 0.00683710\n",
      "Epoch: 36 Loss: 0.00683711\n",
      "Epoch: 37 Loss: 0.00683711\n",
      "Epoch: 38 Loss: 0.00349803\n",
      "Epoch: 39 Loss: 0.00571609\n",
      "Epoch: 40 Loss: 0.00673575\n",
      "Epoch: 41 Loss: 0.00602729\n",
      "Epoch: 42 Loss: 0.00505685\n",
      "Epoch: 43 Loss: 0.00458053\n",
      "Epoch: 44 Loss: 0.00473968\n",
      "Epoch: 45 Loss: 0.00609417\n",
      "Epoch: 46 Loss: 0.00651175\n",
      "Epoch: 47 Loss: 0.00666553\n",
      "Epoch: 48 Loss: 0.00662014\n",
      "Epoch: 49 Loss: 0.00669827\n",
      "Epoch: 50 Loss: 0.00671239\n",
      "Epoch: 51 Loss: 0.00672478\n",
      "Epoch: 52 Loss: 0.00606377\n",
      "Epoch: 53 Loss: 0.00853246\n",
      "Epoch: 54 Loss: 0.00731080\n",
      "Epoch: 55 Loss: 0.00483998\n",
      "Epoch: 56 Loss: 0.00379132\n",
      "Epoch: 57 Loss: 0.00253257\n",
      "Epoch: 58 Loss: 0.00590920\n",
      "Epoch: 59 Loss: 0.00829879\n",
      "Epoch: 60 Loss: 0.00781020\n",
      "Epoch: 61 Loss: 0.00557550\n",
      "Epoch: 62 Loss: 0.00508849\n",
      "Epoch: 63 Loss: 0.00604204\n",
      "Epoch: 64 Loss: 0.00578246\n",
      "Epoch: 65 Loss: 0.00314275\n",
      "Epoch: 66 Loss: 0.00538570\n",
      "Epoch: 67 Loss: 0.00583721\n",
      "Epoch: 68 Loss: 0.00739816\n",
      "Epoch: 69 Loss: 0.00740460\n",
      "Epoch: 70 Loss: 0.00468983\n",
      "Epoch: 71 Loss: 0.00536892\n",
      "Epoch: 72 Loss: 0.00555328\n",
      "Epoch: 73 Loss: 0.00561551\n",
      "Epoch: 74 Loss: 0.00563724\n",
      "Epoch: 75 Loss: 0.00564672\n",
      "Epoch: 76 Loss: 0.00677095\n",
      "Epoch: 77 Loss: 0.00378318\n",
      "Epoch: 78 Loss: 0.00658824\n",
      "Epoch: 79 Loss: 0.00831099\n",
      "Epoch: 80 Loss: 0.00995004\n",
      "Epoch: 81 Loss: 0.00455620\n",
      "Epoch: 82 Loss: 0.00213584\n",
      "Epoch: 83 Loss: 0.00394328\n",
      "Epoch: 84 Loss: 0.00438818\n",
      "Epoch: 85 Loss: 0.00451957\n",
      "Epoch: 86 Loss: 0.00456311\n",
      "Epoch: 87 Loss: 0.00457759\n",
      "Epoch: 88 Loss: 0.00458285\n",
      "Epoch: 89 Loss: 0.00458484\n",
      "Epoch: 90 Loss: 0.00458565\n",
      "Epoch: 91 Loss: 0.00458598\n",
      "Epoch: 92 Loss: 0.00458594\n",
      "Epoch: 93 Loss: 0.00458613\n",
      "Epoch: 94 Loss: 0.00458622\n",
      "Epoch: 95 Loss: 0.00498129\n",
      "Epoch: 96 Loss: 0.00494477\n",
      "Epoch: 97 Loss: 0.00492568\n",
      "Epoch: 98 Loss: 0.00491873\n",
      "Epoch: 99 Loss: 0.00491679\n",
      "Epoch: 100 Loss: 0.00491605\n",
      "\n",
      "Duration: 3011 seconds\n"
     ]
    }
   ],
   "source": [
    "epochs = 100\n",
    "losses= []\n",
    "\n",
    "import time\n",
    "start_time = time.time()\n",
    "\n",
    "for epoch in range(epochs):\n",
    "    for seq, y_train in train_data:\n",
    "        \n",
    "        optimizer.zero_grad()\n",
    "        model.hidden = (torch.zeros(1,1,model.hidden_size[0]),\n",
    "                        torch.zeros(1,1,model.hidden_size[0]))\n",
    "        \n",
    "        y_pred = model(seq)\n",
    "        \n",
    "        loss = criterion(y_pred, y_train)\n",
    "        loss.backward()\n",
    "        losses.append(loss.item())\n",
    "        optimizer.step()\n",
    "        \n",
    "    print(f'Epoch: {epoch+1:2} Loss: {loss.item():10.8f}')\n",
    "    \n",
    "print(f'\\nDuration: {time.time() - start_time:.0f} seconds')"
   ]
  },
  {
   "cell_type": "code",
   "execution_count": 28,
   "metadata": {},
   "outputs": [
    {
     "data": {
      "image/png": "[encoded data removed]",
      "text/plain": [
       "<Figure size 936x288 with 1 Axes>"
      ]
     },
     "metadata": {
      "needs_background": "light"
     },
     "output_type": "display_data"
    }
   ],
   "source": [
    "loss = pd.DataFrame(losses, columns=['loss'])\n",
    "loss['loss'].rolling(1828).mean().plot(figsize=(13,4))\n",
    "plt.title('Loss')\n",
    "plt.grid(True)"
   ]
  },
  {
   "cell_type": "markdown",
   "metadata": {},
   "source": [
    "# Forecast\n",
    "21 days in future"
   ]
  },
  {
   "cell_type": "code",
   "execution_count": 17,
   "metadata": {},
   "outputs": [],
   "source": [
    "future = 21\n",
    "\n",
    "preds = train_norm[-window_size:].tolist()\n",
    "\n",
    "model.eval()\n",
    "\n",
    "for i in range(future):\n",
    "    seq = torch.FloatTensor(preds[-window_size:])\n",
    "    with torch.no_grad():\n",
    "        model.hidden = (torch.zeros(1,1,model.hidden_size[0]),\n",
    "                        torch.zeros(1,1,model.hidden_size[0]))\n",
    "        preds.append(model(seq).item())"
   ]
  },
  {
   "cell_type": "code",
   "execution_count": 18,
   "metadata": {},
   "outputs": [],
   "source": [
    "true_predictions = scaler.inverse_transform(np.array(preds[window_size:]).reshape(-1, 1))\n",
    "df1 = pd.DataFrame(true_predictions, index=df.tail(21).index, columns=['pred'])\n"
   ]
  },
  {
   "cell_type": "code",
   "execution_count": 22,
   "metadata": {},
   "outputs": [
    {
     "data": {
      "text/plain": [
       "<matplotlib.legend.Legend at 0x2c42a4dac10>"
      ]
     },
     "execution_count": 22,
     "metadata": {},
     "output_type": "execute_result"
    },
    {
     "data": {
      "image/png": "[encoded data removed]",
      "text/plain": [
       "<Figure size 864x288 with 1 Axes>"
      ]
     },
     "metadata": {
      "needs_background": "light"
     },
     "output_type": "display_data"
    }
   ],
   "source": [
    "plt.figure(figsize=(12,4))\n",
    "plt.grid(True)\n",
    "plt.autoscale(axis='x',tight=True)\n",
    "plt.plot(df['Adj Close'].iloc[-21:], label='Stock price')\n",
    "plt.plot(df1['pred'], label='predicted')\n",
    "plt.legend()"
   ]
  },
  {
   "cell_type": "markdown",
   "metadata": {},
   "source": [
    "# Absolute mean squared error"
   ]
  },
  {
   "cell_type": "code",
   "execution_count": 20,
   "metadata": {},
   "outputs": [
    {
     "data": {
      "text/plain": [
       "647.8268756961668"
      ]
     },
     "execution_count": 20,
     "metadata": {},
     "output_type": "execute_result"
    }
   ],
   "source": [
    "from sklearn.metrics import mean_squared_error\n",
    "np.sqrt(mean_squared_error(true_predictions.reshape(1, -1), df['Adj Close'][-21:].values.reshape(1, -1)))"
   ]
  },
  {
   "cell_type": "code",
   "execution_count": null,
   "metadata": {},
   "outputs": [],
   "source": []
  }
 ],
 "metadata": {
  "kernelspec": {
   "display_name": "Python 3",
   "language": "python",
   "name": "python3"
  },
  "language_info": {
   "codemirror_mode": {
    "name": "ipython",
    "version": 3
   },
   "file_extension": ".py",
   "mimetype": "text/x-python",
   "name": "python",
   "nbconvert_exporter": "python",
   "pygments_lexer": "ipython3",
   "version": "3.8.5"
  }
 },
 "nbformat": 4,
 "nbformat_minor": 4
}

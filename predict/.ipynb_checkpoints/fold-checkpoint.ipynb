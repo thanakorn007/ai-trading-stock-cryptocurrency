{
 "cells": [
  {
   "cell_type": "markdown",
   "metadata": {},
   "source": [
    "# Import Module"
   ]
  },
  {
   "cell_type": "code",
   "execution_count": 1,
   "metadata": {},
   "outputs": [],
   "source": [
    "import torch\n",
    "import torch.nn as nn\n",
    "import numpy as np\n",
    "import pandas as pd\n",
    "import matplotlib.pyplot as plt\n",
    "import pandas_datareader as web\n",
    "%matplotlib inline\n",
    "from sklearn.preprocessing import MinMaxScaler\n",
    "from pandas.plotting import register_matplotlib_converters\n",
    "register_matplotlib_converters()"
   ]
  },
  {
   "cell_type": "markdown",
   "metadata": {},
   "source": [
    "# Stock Data \n",
    "training data\n",
    "start: 2015/01/01\n",
    "end: 2019/11/01 \n",
    "\n",
    "testing data \n",
    "start: 2019/12/01\n",
    "end: 2020/01/01"
   ]
  },
  {
   "cell_type": "code",
   "execution_count": 2,
   "metadata": {},
   "outputs": [],
   "source": [
    "ticker = 'fb'.upper()"
   ]
  },
  {
   "cell_type": "code",
   "execution_count": 3,
   "metadata": {},
   "outputs": [
    {
     "data": {
      "text/html": [
       "<div>\n",
       "<style scoped>\n",
       "    .dataframe tbody tr th:only-of-type {\n",
       "        vertical-align: middle;\n",
       "    }\n",
       "\n",
       "    .dataframe tbody tr th {\n",
       "        vertical-align: top;\n",
       "    }\n",
       "\n",
       "    .dataframe thead th {\n",
       "        text-align: right;\n",
       "    }\n",
       "</style>\n",
       "<table border=\"1\" class=\"dataframe\">\n",
       "  <thead>\n",
       "    <tr style=\"text-align: right;\">\n",
       "      <th></th>\n",
       "      <th>High</th>\n",
       "      <th>Low</th>\n",
       "      <th>Open</th>\n",
       "      <th>Close</th>\n",
       "      <th>Volume</th>\n",
       "      <th>Adj Close</th>\n",
       "    </tr>\n",
       "    <tr>\n",
       "      <th>Date</th>\n",
       "      <th></th>\n",
       "      <th></th>\n",
       "      <th></th>\n",
       "      <th></th>\n",
       "      <th></th>\n",
       "      <th></th>\n",
       "    </tr>\n",
       "  </thead>\n",
       "  <tbody>\n",
       "    <tr>\n",
       "      <th>2014-12-31</th>\n",
       "      <td>79.800003</td>\n",
       "      <td>77.860001</td>\n",
       "      <td>79.540001</td>\n",
       "      <td>78.019997</td>\n",
       "      <td>19935400</td>\n",
       "      <td>78.019997</td>\n",
       "    </tr>\n",
       "    <tr>\n",
       "      <th>2015-01-02</th>\n",
       "      <td>78.930000</td>\n",
       "      <td>77.699997</td>\n",
       "      <td>78.580002</td>\n",
       "      <td>78.449997</td>\n",
       "      <td>18177500</td>\n",
       "      <td>78.449997</td>\n",
       "    </tr>\n",
       "    <tr>\n",
       "      <th>2015-01-05</th>\n",
       "      <td>79.250000</td>\n",
       "      <td>76.860001</td>\n",
       "      <td>77.980003</td>\n",
       "      <td>77.190002</td>\n",
       "      <td>26452200</td>\n",
       "      <td>77.190002</td>\n",
       "    </tr>\n",
       "    <tr>\n",
       "      <th>2015-01-06</th>\n",
       "      <td>77.589996</td>\n",
       "      <td>75.360001</td>\n",
       "      <td>77.230003</td>\n",
       "      <td>76.150002</td>\n",
       "      <td>27399300</td>\n",
       "      <td>76.150002</td>\n",
       "    </tr>\n",
       "    <tr>\n",
       "      <th>2015-01-07</th>\n",
       "      <td>77.360001</td>\n",
       "      <td>75.820000</td>\n",
       "      <td>76.760002</td>\n",
       "      <td>76.150002</td>\n",
       "      <td>22045300</td>\n",
       "      <td>76.150002</td>\n",
       "    </tr>\n",
       "    <tr>\n",
       "      <th>...</th>\n",
       "      <td>...</td>\n",
       "      <td>...</td>\n",
       "      <td>...</td>\n",
       "      <td>...</td>\n",
       "      <td>...</td>\n",
       "      <td>...</td>\n",
       "    </tr>\n",
       "    <tr>\n",
       "      <th>2019-12-24</th>\n",
       "      <td>206.789993</td>\n",
       "      <td>205.000000</td>\n",
       "      <td>206.300003</td>\n",
       "      <td>205.119995</td>\n",
       "      <td>6046300</td>\n",
       "      <td>205.119995</td>\n",
       "    </tr>\n",
       "    <tr>\n",
       "      <th>2019-12-26</th>\n",
       "      <td>207.820007</td>\n",
       "      <td>205.309998</td>\n",
       "      <td>205.570007</td>\n",
       "      <td>207.789993</td>\n",
       "      <td>9350700</td>\n",
       "      <td>207.789993</td>\n",
       "    </tr>\n",
       "    <tr>\n",
       "      <th>2019-12-27</th>\n",
       "      <td>208.929993</td>\n",
       "      <td>206.589996</td>\n",
       "      <td>208.669998</td>\n",
       "      <td>208.100006</td>\n",
       "      <td>10284200</td>\n",
       "      <td>208.100006</td>\n",
       "    </tr>\n",
       "    <tr>\n",
       "      <th>2019-12-30</th>\n",
       "      <td>207.899994</td>\n",
       "      <td>203.899994</td>\n",
       "      <td>207.860001</td>\n",
       "      <td>204.410004</td>\n",
       "      <td>10524300</td>\n",
       "      <td>204.410004</td>\n",
       "    </tr>\n",
       "    <tr>\n",
       "      <th>2019-12-31</th>\n",
       "      <td>205.559998</td>\n",
       "      <td>203.600006</td>\n",
       "      <td>204.000000</td>\n",
       "      <td>205.250000</td>\n",
       "      <td>8953500</td>\n",
       "      <td>205.250000</td>\n",
       "    </tr>\n",
       "  </tbody>\n",
       "</table>\n",
       "<p>1259 rows × 6 columns</p>\n",
       "</div>"
      ],
      "text/plain": [
       "                  High         Low        Open       Close    Volume  \\\n",
       "Date                                                                   \n",
       "2014-12-31   79.800003   77.860001   79.540001   78.019997  19935400   \n",
       "2015-01-02   78.930000   77.699997   78.580002   78.449997  18177500   \n",
       "2015-01-05   79.250000   76.860001   77.980003   77.190002  26452200   \n",
       "2015-01-06   77.589996   75.360001   77.230003   76.150002  27399300   \n",
       "2015-01-07   77.360001   75.820000   76.760002   76.150002  22045300   \n",
       "...                ...         ...         ...         ...       ...   \n",
       "2019-12-24  206.789993  205.000000  206.300003  205.119995   6046300   \n",
       "2019-12-26  207.820007  205.309998  205.570007  207.789993   9350700   \n",
       "2019-12-27  208.929993  206.589996  208.669998  208.100006  10284200   \n",
       "2019-12-30  207.899994  203.899994  207.860001  204.410004  10524300   \n",
       "2019-12-31  205.559998  203.600006  204.000000  205.250000   8953500   \n",
       "\n",
       "             Adj Close  \n",
       "Date                    \n",
       "2014-12-31   78.019997  \n",
       "2015-01-02   78.449997  \n",
       "2015-01-05   77.190002  \n",
       "2015-01-06   76.150002  \n",
       "2015-01-07   76.150002  \n",
       "...                ...  \n",
       "2019-12-24  205.119995  \n",
       "2019-12-26  207.789993  \n",
       "2019-12-27  208.100006  \n",
       "2019-12-30  204.410004  \n",
       "2019-12-31  205.250000  \n",
       "\n",
       "[1259 rows x 6 columns]"
      ]
     },
     "execution_count": 3,
     "metadata": {},
     "output_type": "execute_result"
    }
   ],
   "source": [
    "df = web.DataReader(ticker, 'yahoo', '2015-01-01', '2020-01-01')\n",
    "df"
   ]
  },
  {
   "cell_type": "code",
   "execution_count": 4,
   "metadata": {},
   "outputs": [
    {
     "data": {
      "image/png": "[encoded data removed]",
      "text/plain": [
       "<Figure size 936x288 with 1 Axes>"
      ]
     },
     "metadata": {
      "needs_background": "light"
     },
     "output_type": "display_data"
    }
   ],
   "source": [
    "plt.figure(figsize=(13,4))\n",
    "plt.title('Stock price '+ ticker)\n",
    "plt.ylabel('Price')\n",
    "plt.grid(True)\n",
    "plt.autoscale(axis='x',tight=True)\n",
    "plt.plot(df['Adj Close'], color='g')\n",
    "plt.show()"
   ]
  },
  {
   "cell_type": "code",
   "execution_count": 5,
   "metadata": {},
   "outputs": [],
   "source": [
    "y = df['Adj Close'].values.astype(float)\n",
    "\n",
    "test_size = 21\n",
    "train_set = y[:-test_size]\n",
    "test_set = y[-test_size:]"
   ]
  },
  {
   "cell_type": "code",
   "execution_count": 6,
   "metadata": {},
   "outputs": [
    {
     "data": {
      "image/png": "[encoded data removed]",
      "text/plain": [
       "<Figure size 936x288 with 1 Axes>"
      ]
     },
     "metadata": {
      "needs_background": "light"
     },
     "output_type": "display_data"
    }
   ],
   "source": [
    "df['Adj Close'].iloc[-test_size:].plot(figsize=(13,4))\n",
    "plt.title('test set')\n",
    "plt.grid(True)"
   ]
  },
  {
   "cell_type": "markdown",
   "metadata": {},
   "source": [
    "# Normalizing data\n",
    "convert to range [-1, 1]"
   ]
  },
  {
   "cell_type": "code",
   "execution_count": 7,
   "metadata": {},
   "outputs": [],
   "source": [
    "scaler = MinMaxScaler(feature_range=(-1, 1))\n",
    "train_norm = scaler.fit_transform(train_set.reshape(-1, 1))"
   ]
  },
  {
   "cell_type": "code",
   "execution_count": 8,
   "metadata": {},
   "outputs": [
    {
     "data": {
      "text/plain": [
       "-1.0000000000000002"
      ]
     },
     "execution_count": 8,
     "metadata": {},
     "output_type": "execute_result"
    }
   ],
   "source": [
    "train_norm.min()"
   ]
  },
  {
   "cell_type": "code",
   "execution_count": 9,
   "metadata": {},
   "outputs": [
    {
     "data": {
      "text/plain": [
       "1.0"
      ]
     },
     "execution_count": 9,
     "metadata": {},
     "output_type": "execute_result"
    }
   ],
   "source": [
    "train_norm.max()"
   ]
  },
  {
   "cell_type": "code",
   "execution_count": 10,
   "metadata": {},
   "outputs": [
    {
     "data": {
      "text/plain": [
       "-0.05232359196755176"
      ]
     },
     "execution_count": 10,
     "metadata": {},
     "output_type": "execute_result"
    }
   ],
   "source": [
    "train_norm.mean()"
   ]
  },
  {
   "cell_type": "code",
   "execution_count": 11,
   "metadata": {},
   "outputs": [
    {
     "data": {
      "text/plain": [
       "0.5246630213052309"
      ]
     },
     "execution_count": 11,
     "metadata": {},
     "output_type": "execute_result"
    }
   ],
   "source": [
    "train_norm.std()"
   ]
  },
  {
   "cell_type": "markdown",
   "metadata": {},
   "source": [
    "# Input data and label\n",
    "window size = 21\n",
    "\n",
    "[1, 2, 3, ...,21] predict ==> [22]"
   ]
  },
  {
   "cell_type": "code",
   "execution_count": 12,
   "metadata": {},
   "outputs": [
    {
     "data": {
      "text/plain": [
       "1217"
      ]
     },
     "execution_count": 12,
     "metadata": {},
     "output_type": "execute_result"
    }
   ],
   "source": [
    "train_norm = torch.FloatTensor(train_norm).view(-1)\n",
    "\n",
    "window_size = 21\n",
    "\n",
    "\n",
    "def input_data(seq,ws): \n",
    "    out = []\n",
    "    L = len(seq)\n",
    "    for i in range(L-ws):\n",
    "        window = seq[i:i+ws]\n",
    "        label = seq[i+ws:i+ws+1]\n",
    "        out.append((window,label))\n",
    "    return out\n",
    "\n",
    "train_data = input_data(train_norm,window_size)\n",
    "len(train_data)  "
   ]
  },
  {
   "cell_type": "markdown",
   "metadata": {},
   "source": [
    "# 2. LSTM network\n",
    "lstm 2 layers 100 nodes\n",
    "\n",
    "fully connected 1 l layer"
   ]
  },
  {
   "cell_type": "code",
   "execution_count": 13,
   "metadata": {},
   "outputs": [],
   "source": [
    "class LSTMnetwork(nn.Module):\n",
    "    def __init__(self,input_size=1,hidden_size=[100, 100], output_size=1):\n",
    "        super().__init__()\n",
    "        self.hidden_size = hidden_size\n",
    "        \n",
    "        self.lstm1 = nn.LSTM(input_size,hidden_size[0])\n",
    "        \n",
    "        self.lstm2 = nn.LSTM(hidden_size[0], hidden_size[1])\n",
    "        \n",
    "        self.linear = nn.Linear(hidden_size[1], output_size)\n",
    "        \n",
    "        self.hidden = (torch.zeros(1,1,self.hidden_size[0]),\n",
    "                       torch.zeros(1,1,self.hidden_size[0]))\n",
    "\n",
    "    def forward(self,seq):\n",
    "        lstm_out1, self.hidden = self.lstm1(seq.view(len(seq),1,-1), self.hidden)\n",
    "        lstm_out2, self.hidden = self.lstm2(lstm_out1.view(len(seq),1,-1), self.hidden)\n",
    "        pred = self.linear(lstm_out2.view(len(seq),-1))\n",
    "        return pred[-1] \n",
    "        "
   ]
  },
  {
   "cell_type": "code",
   "execution_count": 14,
   "metadata": {},
   "outputs": [
    {
     "data": {
      "text/plain": [
       "LSTMnetwork(\n",
       "  (lstm1): LSTM(1, 100)\n",
       "  (lstm2): LSTM(100, 100)\n",
       "  (linear): Linear(in_features=100, out_features=1, bias=True)\n",
       ")"
      ]
     },
     "execution_count": 14,
     "metadata": {},
     "output_type": "execute_result"
    }
   ],
   "source": [
    "torch.manual_seed(101)\n",
    "model = LSTMnetwork()\n",
    "\n",
    "criterion = nn.MSELoss()\n",
    "optimizer = torch.optim.Adam(model.parameters(), lr=0.001)\n",
    "\n",
    "model"
   ]
  },
  {
   "cell_type": "markdown",
   "metadata": {},
   "source": [
    "# Training"
   ]
  },
  {
   "cell_type": "code",
   "execution_count": 15,
   "metadata": {},
   "outputs": [
    {
     "name": "stdout",
     "output_type": "stream",
     "text": [
      "Epoch:  1 Loss: 0.00073488\n",
      "Epoch:  2 Loss: 0.00306399\n",
      "Epoch:  3 Loss: 0.00533402\n",
      "Epoch:  4 Loss: 0.00030840\n",
      "Epoch:  5 Loss: 0.00442086\n",
      "Epoch:  6 Loss: 0.00932702\n",
      "Epoch:  7 Loss: 0.00540255\n",
      "Epoch:  8 Loss: 0.01524236\n",
      "Epoch:  9 Loss: 0.01442579\n",
      "Epoch: 10 Loss: 0.03145955\n",
      "Epoch: 11 Loss: 0.01946463\n",
      "Epoch: 12 Loss: 0.02056927\n",
      "Epoch: 13 Loss: 0.02182507\n",
      "Epoch: 14 Loss: 0.02622396\n",
      "Epoch: 15 Loss: 0.02660857\n",
      "Epoch: 16 Loss: 0.02857086\n",
      "Epoch: 17 Loss: 0.02925945\n",
      "Epoch: 18 Loss: 0.02628018\n",
      "Epoch: 19 Loss: 0.01669231\n",
      "Epoch: 20 Loss: 0.01664360\n",
      "Epoch: 21 Loss: 0.02077948\n",
      "Epoch: 22 Loss: 0.02399077\n",
      "Epoch: 23 Loss: 0.02484208\n",
      "Epoch: 24 Loss: 0.02426513\n",
      "Epoch: 25 Loss: 0.01878658\n",
      "Epoch: 26 Loss: 0.02127236\n",
      "Epoch: 27 Loss: 0.02157564\n",
      "Epoch: 28 Loss: 0.02229353\n",
      "Epoch: 29 Loss: 0.01927725\n",
      "Epoch: 30 Loss: 0.02120588\n",
      "Epoch: 31 Loss: 0.02160527\n",
      "Epoch: 32 Loss: 0.02457416\n",
      "Epoch: 33 Loss: 0.02503619\n",
      "Epoch: 34 Loss: 0.02205578\n",
      "Epoch: 35 Loss: 0.02022813\n",
      "Epoch: 36 Loss: 0.01487859\n",
      "Epoch: 37 Loss: 0.01409176\n",
      "Epoch: 38 Loss: 0.02032737\n",
      "Epoch: 39 Loss: 0.01804187\n",
      "Epoch: 40 Loss: 0.01888562\n",
      "Epoch: 41 Loss: 0.02324935\n",
      "Epoch: 42 Loss: 0.01790541\n",
      "Epoch: 43 Loss: 0.01271115\n",
      "Epoch: 44 Loss: 0.00474957\n",
      "Epoch: 45 Loss: 0.00580407\n",
      "Epoch: 46 Loss: 0.01059495\n",
      "Epoch: 47 Loss: 0.00705322\n",
      "Epoch: 48 Loss: 0.02199107\n",
      "Epoch: 49 Loss: 0.02242342\n",
      "Epoch: 50 Loss: 0.01965763\n",
      "Epoch: 51 Loss: 0.02015378\n",
      "Epoch: 52 Loss: 0.01652273\n",
      "Epoch: 53 Loss: 0.01358938\n",
      "Epoch: 54 Loss: 0.00133702\n",
      "Epoch: 55 Loss: 0.00494777\n",
      "Epoch: 56 Loss: 0.00489213\n",
      "Epoch: 57 Loss: 0.00812217\n",
      "Epoch: 58 Loss: 0.01068440\n",
      "Epoch: 59 Loss: 0.01245013\n",
      "Epoch: 60 Loss: 0.00779332\n",
      "Epoch: 61 Loss: 0.01023803\n",
      "Epoch: 62 Loss: 0.01709695\n",
      "Epoch: 63 Loss: 0.01341798\n",
      "Epoch: 64 Loss: 0.01202443\n",
      "Epoch: 65 Loss: 0.01394695\n",
      "Epoch: 66 Loss: 0.01507545\n",
      "Epoch: 67 Loss: 0.01045340\n",
      "Epoch: 68 Loss: 0.00823918\n",
      "Epoch: 69 Loss: 0.00408293\n",
      "Epoch: 70 Loss: 0.00260819\n",
      "Epoch: 71 Loss: 0.00153515\n",
      "Epoch: 72 Loss: 0.00076073\n",
      "Epoch: 73 Loss: 0.00059350\n",
      "Epoch: 74 Loss: 0.00085386\n",
      "Epoch: 75 Loss: 0.00024533\n",
      "Epoch: 76 Loss: 0.00041408\n",
      "Epoch: 77 Loss: 0.00046069\n",
      "Epoch: 78 Loss: 0.00015003\n",
      "Epoch: 79 Loss: 0.00013895\n",
      "Epoch: 80 Loss: 0.00027539\n",
      "Epoch: 81 Loss: 0.00065613\n",
      "Epoch: 82 Loss: 0.00025294\n",
      "Epoch: 83 Loss: 0.00085262\n",
      "Epoch: 84 Loss: 0.00065243\n",
      "Epoch: 85 Loss: 0.00063656\n",
      "Epoch: 86 Loss: 0.00042068\n",
      "Epoch: 87 Loss: 0.00044333\n",
      "Epoch: 88 Loss: 0.00034471\n",
      "Epoch: 89 Loss: 0.00035429\n",
      "Epoch: 90 Loss: 0.00026585\n",
      "Epoch: 91 Loss: 0.00027897\n",
      "Epoch: 92 Loss: 0.00021766\n",
      "Epoch: 93 Loss: 0.00041056\n",
      "Epoch: 94 Loss: 0.00025879\n",
      "Epoch: 95 Loss: 0.00001119\n",
      "Epoch: 96 Loss: 0.00001998\n",
      "Epoch: 97 Loss: 0.00004828\n",
      "Epoch: 98 Loss: 0.00001007\n",
      "Epoch: 99 Loss: 0.00021318\n",
      "Epoch: 100 Loss: 0.00137848\n",
      "\n",
      "Duration: 2635 seconds\n"
     ]
    }
   ],
   "source": [
    "epochs = 100\n",
    "losses= []\n",
    "\n",
    "import time\n",
    "start_time = time.time()\n",
    "\n",
    "for epoch in range(epochs):\n",
    "    for seq, y_train in train_data:\n",
    "        \n",
    "        optimizer.zero_grad()\n",
    "        model.hidden = (torch.zeros(1,1,model.hidden_size[0]),\n",
    "                        torch.zeros(1,1,model.hidden_size[0]))\n",
    "        \n",
    "        y_pred = model(seq)\n",
    "        \n",
    "        loss = criterion(y_pred, y_train)\n",
    "        loss.backward()\n",
    "        losses.append(loss.item())\n",
    "        optimizer.step()\n",
    "        \n",
    "    print(f'Epoch: {epoch+1:2} Loss: {loss.item():10.8f}')\n",
    "    \n",
    "print(f'\\nDuration: {time.time() - start_time:.0f} seconds')"
   ]
  },
  {
   "cell_type": "code",
   "execution_count": 16,
   "metadata": {},
   "outputs": [
    {
     "data": {
      "image/png": "[encoded data removed]",
      "text/plain": [
       "<Figure size 936x288 with 1 Axes>"
      ]
     },
     "metadata": {
      "needs_background": "light"
     },
     "output_type": "display_data"
    }
   ],
   "source": [
    "loss = pd.DataFrame(losses, columns=['loss'])\n",
    "loss['loss'].rolling(1217).mean().plot(figsize=(13,4))\n",
    "plt.title('Loss')\n",
    "plt.grid(True)"
   ]
  },
  {
   "cell_type": "markdown",
   "metadata": {},
   "source": [
    "# Forecast\n",
    "21 days in future"
   ]
  },
  {
   "cell_type": "code",
   "execution_count": 17,
   "metadata": {},
   "outputs": [],
   "source": [
    "future = 21\n",
    "\n",
    "preds = train_norm[-window_size:].tolist()\n",
    "\n",
    "model.eval()\n",
    "\n",
    "for i in range(future):\n",
    "    seq = torch.FloatTensor(preds[-window_size:])\n",
    "    with torch.no_grad():\n",
    "        model.hidden = (torch.zeros(1,1,model.hidden_size[0]),\n",
    "                        torch.zeros(1,1,model.hidden_size[0]))\n",
    "        preds.append(model(seq).item())"
   ]
  },
  {
   "cell_type": "code",
   "execution_count": 18,
   "metadata": {},
   "outputs": [],
   "source": [
    "true_predictions = scaler.inverse_transform(np.array(preds[window_size:]).reshape(-1, 1))\n",
    "df1 = pd.DataFrame(true_predictions, index=df.tail(21).index, columns=['pred'])\n"
   ]
  },
  {
   "cell_type": "code",
   "execution_count": 20,
   "metadata": {},
   "outputs": [
    {
     "data": {
      "text/plain": [
       "<matplotlib.legend.Legend at 0x2307f4289a0>"
      ]
     },
     "execution_count": 20,
     "metadata": {},
     "output_type": "execute_result"
    },
    {
     "data": {
      "image/png": "[encoded data removed]",
      "text/plain": [
       "<Figure size 864x288 with 1 Axes>"
      ]
     },
     "metadata": {
      "needs_background": "light"
     },
     "output_type": "display_data"
    }
   ],
   "source": [
    "plt.figure(figsize=(12,4))\n",
    "plt.grid(True)\n",
    "plt.autoscale(axis='x',tight=True)\n",
    "plt.plot(df['Adj Close'].iloc[-21:], label='Stock price')\n",
    "plt.plot(df1['pred'], label='predicted')\n",
    "plt.legend()"
   ]
  },
  {
   "cell_type": "markdown",
   "metadata": {},
   "source": [
    "# Absolute mean squared error"
   ]
  },
  {
   "cell_type": "code",
   "execution_count": 21,
   "metadata": {},
   "outputs": [
    {
     "data": {
      "text/plain": [
       "5.548466852900774"
      ]
     },
     "execution_count": 21,
     "metadata": {},
     "output_type": "execute_result"
    }
   ],
   "source": [
    "from sklearn.metrics import mean_squared_error\n",
    "np.sqrt(mean_squared_error(true_predictions.reshape(1, -1), df['Adj Close'][-21:].values.reshape(1, -1)))"
   ]
  },
  {
   "cell_type": "code",
   "execution_count": null,
   "metadata": {},
   "outputs": [],
   "source": []
  }
 ],
 "metadata": {
  "kernelspec": {
   "display_name": "Python 3",
   "language": "python",
   "name": "python3"
  },
  "language_info": {
   "codemirror_mode": {
    "name": "ipython",
    "version": 3
   },
   "file_extension": ".py",
   "mimetype": "text/x-python",
   "name": "python",
   "nbconvert_exporter": "python",
   "pygments_lexer": "ipython3",
   "version": "3.8.5"
  }
 },
 "nbformat": 4,
 "nbformat_minor": 4
}

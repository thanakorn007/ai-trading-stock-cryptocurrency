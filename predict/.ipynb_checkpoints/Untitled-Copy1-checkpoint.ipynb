{
 "cells": [
  {
   "cell_type": "code",
   "execution_count": 1,
   "metadata": {},
   "outputs": [],
   "source": [
    "import torch\n",
    "import torch.nn as nn\n",
    "import numpy as np\n",
    "import pandas as pd\n",
    "import matplotlib.pyplot as plt\n",
    "import pandas_datareader as web\n",
    "%matplotlib inline\n",
    "from sklearn.preprocessing import MinMaxScaler\n",
    "from pandas.plotting import register_matplotlib_converters\n",
    "register_matplotlib_converters()"
   ]
  },
  {
   "cell_type": "code",
   "execution_count": 2,
   "metadata": {},
   "outputs": [],
   "source": [
    "ticker = 'aal'.upper()"
   ]
  },
  {
   "cell_type": "code",
   "execution_count": 3,
   "metadata": {},
   "outputs": [],
   "source": [
    "df = web.DataReader(ticker, 'yahoo', '2015-01-01', '2020-01-01')"
   ]
  },
  {
   "cell_type": "code",
   "execution_count": 4,
   "metadata": {},
   "outputs": [
    {
     "data": {
      "text/html": [
       "<div>\n",
       "<style scoped>\n",
       "    .dataframe tbody tr th:only-of-type {\n",
       "        vertical-align: middle;\n",
       "    }\n",
       "\n",
       "    .dataframe tbody tr th {\n",
       "        vertical-align: top;\n",
       "    }\n",
       "\n",
       "    .dataframe thead th {\n",
       "        text-align: right;\n",
       "    }\n",
       "</style>\n",
       "<table border=\"1\" class=\"dataframe\">\n",
       "  <thead>\n",
       "    <tr style=\"text-align: right;\">\n",
       "      <th></th>\n",
       "      <th>High</th>\n",
       "      <th>Low</th>\n",
       "      <th>Open</th>\n",
       "      <th>Close</th>\n",
       "      <th>Volume</th>\n",
       "      <th>Adj Close</th>\n",
       "    </tr>\n",
       "    <tr>\n",
       "      <th>Date</th>\n",
       "      <th></th>\n",
       "      <th></th>\n",
       "      <th></th>\n",
       "      <th></th>\n",
       "      <th></th>\n",
       "      <th></th>\n",
       "    </tr>\n",
       "  </thead>\n",
       "  <tbody>\n",
       "    <tr>\n",
       "      <th>2014-12-31</th>\n",
       "      <td>54.639999</td>\n",
       "      <td>53.320000</td>\n",
       "      <td>53.900002</td>\n",
       "      <td>53.630001</td>\n",
       "      <td>10626000.0</td>\n",
       "      <td>50.814617</td>\n",
       "    </tr>\n",
       "    <tr>\n",
       "      <th>2015-01-02</th>\n",
       "      <td>54.599998</td>\n",
       "      <td>53.070000</td>\n",
       "      <td>54.279999</td>\n",
       "      <td>53.910000</td>\n",
       "      <td>10748600.0</td>\n",
       "      <td>51.079918</td>\n",
       "    </tr>\n",
       "    <tr>\n",
       "      <th>2015-01-05</th>\n",
       "      <td>54.540001</td>\n",
       "      <td>53.340000</td>\n",
       "      <td>54.369999</td>\n",
       "      <td>53.880001</td>\n",
       "      <td>11565000.0</td>\n",
       "      <td>51.051483</td>\n",
       "    </tr>\n",
       "    <tr>\n",
       "      <th>2015-01-06</th>\n",
       "      <td>54.430000</td>\n",
       "      <td>52.130001</td>\n",
       "      <td>54.270000</td>\n",
       "      <td>53.040001</td>\n",
       "      <td>13772200.0</td>\n",
       "      <td>50.255585</td>\n",
       "    </tr>\n",
       "    <tr>\n",
       "      <th>2015-01-07</th>\n",
       "      <td>53.650002</td>\n",
       "      <td>52.119999</td>\n",
       "      <td>53.380001</td>\n",
       "      <td>53.009998</td>\n",
       "      <td>10069800.0</td>\n",
       "      <td>50.227158</td>\n",
       "    </tr>\n",
       "    <tr>\n",
       "      <th>...</th>\n",
       "      <td>...</td>\n",
       "      <td>...</td>\n",
       "      <td>...</td>\n",
       "      <td>...</td>\n",
       "      <td>...</td>\n",
       "      <td>...</td>\n",
       "    </tr>\n",
       "    <tr>\n",
       "      <th>2019-12-24</th>\n",
       "      <td>29.430000</td>\n",
       "      <td>29.100000</td>\n",
       "      <td>29.320000</td>\n",
       "      <td>29.180000</td>\n",
       "      <td>2373600.0</td>\n",
       "      <td>29.072563</td>\n",
       "    </tr>\n",
       "    <tr>\n",
       "      <th>2019-12-26</th>\n",
       "      <td>29.709999</td>\n",
       "      <td>29.260000</td>\n",
       "      <td>29.320000</td>\n",
       "      <td>29.670000</td>\n",
       "      <td>4746500.0</td>\n",
       "      <td>29.560759</td>\n",
       "    </tr>\n",
       "    <tr>\n",
       "      <th>2019-12-27</th>\n",
       "      <td>29.809999</td>\n",
       "      <td>28.360001</td>\n",
       "      <td>29.760000</td>\n",
       "      <td>28.440001</td>\n",
       "      <td>8416500.0</td>\n",
       "      <td>28.335287</td>\n",
       "    </tr>\n",
       "    <tr>\n",
       "      <th>2019-12-30</th>\n",
       "      <td>28.530001</td>\n",
       "      <td>28.070000</td>\n",
       "      <td>28.500000</td>\n",
       "      <td>28.299999</td>\n",
       "      <td>4940300.0</td>\n",
       "      <td>28.195801</td>\n",
       "    </tr>\n",
       "    <tr>\n",
       "      <th>2019-12-31</th>\n",
       "      <td>28.790001</td>\n",
       "      <td>28.190001</td>\n",
       "      <td>28.200001</td>\n",
       "      <td>28.680000</td>\n",
       "      <td>4396800.0</td>\n",
       "      <td>28.574404</td>\n",
       "    </tr>\n",
       "  </tbody>\n",
       "</table>\n",
       "<p>1259 rows × 6 columns</p>\n",
       "</div>"
      ],
      "text/plain": [
       "                 High        Low       Open      Close      Volume  Adj Close\n",
       "Date                                                                         \n",
       "2014-12-31  54.639999  53.320000  53.900002  53.630001  10626000.0  50.814617\n",
       "2015-01-02  54.599998  53.070000  54.279999  53.910000  10748600.0  51.079918\n",
       "2015-01-05  54.540001  53.340000  54.369999  53.880001  11565000.0  51.051483\n",
       "2015-01-06  54.430000  52.130001  54.270000  53.040001  13772200.0  50.255585\n",
       "2015-01-07  53.650002  52.119999  53.380001  53.009998  10069800.0  50.227158\n",
       "...               ...        ...        ...        ...         ...        ...\n",
       "2019-12-24  29.430000  29.100000  29.320000  29.180000   2373600.0  29.072563\n",
       "2019-12-26  29.709999  29.260000  29.320000  29.670000   4746500.0  29.560759\n",
       "2019-12-27  29.809999  28.360001  29.760000  28.440001   8416500.0  28.335287\n",
       "2019-12-30  28.530001  28.070000  28.500000  28.299999   4940300.0  28.195801\n",
       "2019-12-31  28.790001  28.190001  28.200001  28.680000   4396800.0  28.574404\n",
       "\n",
       "[1259 rows x 6 columns]"
      ]
     },
     "execution_count": 4,
     "metadata": {},
     "output_type": "execute_result"
    }
   ],
   "source": [
    "df"
   ]
  },
  {
   "cell_type": "code",
   "execution_count": 9,
   "metadata": {},
   "outputs": [
    {
     "data": {
      "image/png": "[encoded data removed]",
      "text/plain": [
       "<Figure size 936x288 with 1 Axes>"
      ]
     },
     "metadata": {
      "needs_background": "light"
     },
     "output_type": "display_data"
    }
   ],
   "source": [
    "plt.figure(figsize=(13,4))\n",
    "plt.title('Stock price '+ ticker)\n",
    "plt.ylabel('Price')\n",
    "plt.grid(True)\n",
    "plt.autoscale(axis='x',tight=True)\n",
    "plt.plot(df['Adj Close'], color='g')\n",
    "plt.show()"
   ]
  },
  {
   "cell_type": "code",
   "execution_count": 10,
   "metadata": {},
   "outputs": [],
   "source": [
    "y = df['Adj Close'].values.astype(float)\n",
    "\n",
    "test_size = 21\n",
    "train_set = y[:-test_size]\n",
    "test_set = y[-test_size:]"
   ]
  },
  {
   "cell_type": "code",
   "execution_count": 11,
   "metadata": {},
   "outputs": [
    {
     "data": {
      "text/plain": [
       "array([27.97661209, 27.18952179, 27.27918816, 27.13970566, 27.62790108,\n",
       "       27.38878441, 26.90058899, 26.76110458, 27.61793709, 27.37882042,\n",
       "       27.81720161, 28.17587662, 27.89690781, 28.44488144, 28.93307877,\n",
       "       29.1921196 , 29.07256317, 29.56075859, 28.33528709, 28.19580078,\n",
       "       28.57440376])"
      ]
     },
     "execution_count": 11,
     "metadata": {},
     "output_type": "execute_result"
    }
   ],
   "source": [
    "test_set"
   ]
  },
  {
   "cell_type": "code",
   "execution_count": 12,
   "metadata": {},
   "outputs": [],
   "source": [
    "scaler = MinMaxScaler(feature_range=(-1, 1))\n",
    "\n",
    "train_norm = scaler.fit_transform(train_set.reshape(-1, 1))"
   ]
  },
  {
   "cell_type": "code",
   "execution_count": 13,
   "metadata": {},
   "outputs": [
    {
     "data": {
      "text/plain": [
       "-1.0000000000000002"
      ]
     },
     "execution_count": 13,
     "metadata": {},
     "output_type": "execute_result"
    }
   ],
   "source": [
    "train_norm.min()"
   ]
  },
  {
   "cell_type": "code",
   "execution_count": 14,
   "metadata": {},
   "outputs": [
    {
     "data": {
      "text/plain": [
       "1.0"
      ]
     },
     "execution_count": 14,
     "metadata": {},
     "output_type": "execute_result"
    }
   ],
   "source": [
    "train_norm.max()"
   ]
  },
  {
   "cell_type": "code",
   "execution_count": 15,
   "metadata": {},
   "outputs": [
    {
     "data": {
      "text/plain": [
       "-0.04827459590507826"
      ]
     },
     "execution_count": 15,
     "metadata": {},
     "output_type": "execute_result"
    }
   ],
   "source": [
    "train_norm.mean()"
   ]
  },
  {
   "cell_type": "code",
   "execution_count": 16,
   "metadata": {},
   "outputs": [
    {
     "data": {
      "text/plain": [
       "0.4333788652445345"
      ]
     },
     "execution_count": 16,
     "metadata": {},
     "output_type": "execute_result"
    }
   ],
   "source": [
    "train_norm.std()"
   ]
  },
  {
   "cell_type": "code",
   "execution_count": 17,
   "metadata": {},
   "outputs": [
    {
     "data": {
      "text/plain": [
       "1217"
      ]
     },
     "execution_count": 17,
     "metadata": {},
     "output_type": "execute_result"
    }
   ],
   "source": [
    "train_norm = torch.FloatTensor(train_norm).view(-1)\n",
    "\n",
    "window_size = 21\n",
    "\n",
    "\n",
    "def input_data(seq,ws): \n",
    "    out = []\n",
    "    L = len(seq)\n",
    "    for i in range(L-ws):\n",
    "        window = seq[i:i+ws]\n",
    "        label = seq[i+ws:i+ws+1]\n",
    "        out.append((window,label))\n",
    "    return out\n",
    "\n",
    "train_data = input_data(train_norm,window_size)\n",
    "len(train_data)  "
   ]
  },
  {
   "cell_type": "code",
   "execution_count": 19,
   "metadata": {},
   "outputs": [
    {
     "data": {
      "text/plain": [
       "1217"
      ]
     },
     "execution_count": 19,
     "metadata": {},
     "output_type": "execute_result"
    }
   ],
   "source": [
    "1259-21-21"
   ]
  },
  {
   "cell_type": "code",
   "execution_count": 20,
   "metadata": {},
   "outputs": [
    {
     "data": {
      "text/plain": [
       "(tensor([0.6225, 0.6387, 0.6369, 0.5883, 0.5865, 0.6242, 0.5292, 0.3878, 0.4353,\n",
       "         0.3780, 0.3780, 0.4011, 0.5715, 0.6248, 0.7360, 0.7418, 0.7279, 0.5686,\n",
       "         0.4481, 0.5419, 0.3588]),\n",
       " tensor([0.3380]))"
      ]
     },
     "execution_count": 20,
     "metadata": {},
     "output_type": "execute_result"
    }
   ],
   "source": [
    "train_data[0]"
   ]
  },
  {
   "cell_type": "code",
   "execution_count": 21,
   "metadata": {},
   "outputs": [],
   "source": [
    "class LSTMnetwork(nn.Module):\n",
    "    def __init__(self,input_size=1,hidden_size=100,output_size=1):\n",
    "        super().__init__()\n",
    "        self.hidden_size = hidden_size\n",
    "        \n",
    "        self.lstm = nn.LSTM(input_size,hidden_size)\n",
    "        \n",
    "        self.linear = nn.Linear(hidden_size,output_size)\n",
    "        \n",
    "        self.hidden = (torch.zeros(1,1,self.hidden_size),\n",
    "                       torch.zeros(1,1,self.hidden_size))\n",
    "\n",
    "    def forward(self,seq):\n",
    "        lstm_out, self.hidden = self.lstm(\n",
    "            seq.view(len(seq),1,-1), self.hidden)\n",
    "        pred = self.linear(lstm_out.view(len(seq),-1))\n",
    "        return pred[-1] \n",
    "        "
   ]
  },
  {
   "cell_type": "code",
   "execution_count": 22,
   "metadata": {},
   "outputs": [
    {
     "data": {
      "text/plain": [
       "LSTMnetwork(\n",
       "  (lstm): LSTM(1, 100)\n",
       "  (linear): Linear(in_features=100, out_features=1, bias=True)\n",
       ")"
      ]
     },
     "execution_count": 22,
     "metadata": {},
     "output_type": "execute_result"
    }
   ],
   "source": [
    "torch.manual_seed(101)\n",
    "model = LSTMnetwork()\n",
    "\n",
    "criterion = nn.MSELoss()\n",
    "optimizer = torch.optim.Adam(model.parameters(), lr=0.001)\n",
    "\n",
    "model"
   ]
  },
  {
   "cell_type": "code",
   "execution_count": null,
   "metadata": {},
   "outputs": [
    {
     "name": "stdout",
     "output_type": "stream",
     "text": [
      "Epoch:  1 Loss: 0.00044133\n",
      "Epoch:  2 Loss: 0.00000168\n",
      "Epoch:  3 Loss: 0.00002277\n",
      "Epoch:  4 Loss: 0.00002270\n",
      "Epoch:  5 Loss: 0.00002739\n",
      "Epoch:  6 Loss: 0.00001798\n",
      "Epoch:  7 Loss: 0.00027617\n",
      "Epoch:  8 Loss: 0.00006761\n",
      "Epoch:  9 Loss: 0.00007635\n",
      "Epoch: 10 Loss: 0.00073969\n",
      "Epoch: 11 Loss: 0.00025235\n"
     ]
    }
   ],
   "source": [
    "epochs = 100\n",
    "\n",
    "import time\n",
    "start_time = time.time()\n",
    "\n",
    "for epoch in range(epochs):\n",
    "    for seq, y_train in train_data:\n",
    "        \n",
    "        optimizer.zero_grad()\n",
    "        model.hidden = (torch.zeros(1,1,model.hidden_size),\n",
    "                        torch.zeros(1,1,model.hidden_size))\n",
    "        \n",
    "        y_pred = model(seq)\n",
    "        \n",
    "        loss = criterion(y_pred, y_train)\n",
    "        loss.backward()\n",
    "        optimizer.step()\n",
    "        \n",
    "    print(f'Epoch: {epoch+1:2} Loss: {loss.item():10.8f}')\n",
    "    \n",
    "print(f'\\nDuration: {time.time() - start_time:.0f} seconds')"
   ]
  },
  {
   "cell_type": "code",
   "execution_count": 69,
   "metadata": {},
   "outputs": [],
   "source": [
    "future = 21\n",
    "\n",
    "# Add the last window of training values to the list of predictions\n",
    "preds = train_norm[-window_size:].tolist()\n",
    "\n",
    "# Set the model to evaluation mode\n",
    "model.eval()\n",
    "\n",
    "for i in range(future):\n",
    "    seq = torch.FloatTensor(preds[-window_size:])\n",
    "    with torch.no_grad():\n",
    "        model.hidden = (torch.zeros(1,1,model.hidden_size),\n",
    "                        torch.zeros(1,1,model.hidden_size))\n",
    "        preds.append(model(seq).item())"
   ]
  },
  {
   "cell_type": "code",
   "execution_count": 70,
   "metadata": {},
   "outputs": [
    {
     "data": {
      "text/plain": [
       "[-0.7449266910552979,\n",
       " -0.7549815773963928,\n",
       " -0.7623367309570312,\n",
       " -0.7649940848350525,\n",
       " -0.7623258829116821,\n",
       " -0.7553907036781311,\n",
       " -0.7432154417037964,\n",
       " -0.724065899848938,\n",
       " -0.6987343430519104,\n",
       " -0.673984706401825,\n",
       " -0.6554581522941589,\n",
       " -0.6419392228126526,\n",
       " -0.6315362453460693,\n",
       " -0.6226688027381897,\n",
       " -0.6133309006690979,\n",
       " -0.6076453924179077,\n",
       " -0.6070617437362671,\n",
       " -0.6087188720703125,\n",
       " -0.6107822060585022,\n",
       " -0.6125168800354004,\n",
       " -0.6139320135116577]"
      ]
     },
     "execution_count": 70,
     "metadata": {},
     "output_type": "execute_result"
    }
   ],
   "source": [
    "preds[window_size:] "
   ]
  },
  {
   "cell_type": "code",
   "execution_count": 71,
   "metadata": {},
   "outputs": [
    {
     "data": {
      "text/plain": [
       "array([[28.45267057],\n",
       "       [28.28823569],\n",
       "       [28.16795151],\n",
       "       [28.12449387],\n",
       "       [28.16812891],\n",
       "       [28.28154495],\n",
       "       [28.48065588],\n",
       "       [28.79382228],\n",
       "       [29.20808768],\n",
       "       [29.61283651],\n",
       "       [29.91581474],\n",
       "       [30.13689964],\n",
       "       [30.30702711],\n",
       "       [30.45204286],\n",
       "       [30.60475237],\n",
       "       [30.69773163],\n",
       "       [30.70727646],\n",
       "       [30.68017623],\n",
       "       [30.64643303],\n",
       "       [30.61806464],\n",
       "       [30.59492194]])"
      ]
     },
     "execution_count": 71,
     "metadata": {},
     "output_type": "execute_result"
    }
   ],
   "source": [
    "true_predictions = scaler.inverse_transform(np.array(preds[window_size:]).reshape(-1, 1))\n",
    "true_predictions"
   ]
  },
  {
   "cell_type": "code",
   "execution_count": 72,
   "metadata": {},
   "outputs": [
    {
     "data": {
      "text/plain": [
       "Date\n",
       "2019-12-02    27.976612\n",
       "2019-12-03    27.189522\n",
       "2019-12-04    27.279188\n",
       "2019-12-05    27.139706\n",
       "2019-12-06    27.627901\n",
       "2019-12-09    27.388784\n",
       "2019-12-10    26.900589\n",
       "2019-12-11    26.761105\n",
       "2019-12-12    27.617937\n",
       "2019-12-13    27.378820\n",
       "2019-12-16    27.817202\n",
       "2019-12-17    28.175877\n",
       "2019-12-18    27.896908\n",
       "2019-12-19    28.444881\n",
       "2019-12-20    28.933079\n",
       "2019-12-23    29.192120\n",
       "2019-12-24    29.072563\n",
       "2019-12-26    29.560759\n",
       "2019-12-27    28.335287\n",
       "2019-12-30    28.195801\n",
       "2019-12-31    28.574404\n",
       "Name: Adj Close, dtype: float64"
      ]
     },
     "execution_count": 72,
     "metadata": {},
     "output_type": "execute_result"
    }
   ],
   "source": [
    "df['Adj Close'][-21:]"
   ]
  },
  {
   "cell_type": "code",
   "execution_count": 73,
   "metadata": {},
   "outputs": [],
   "source": [
    "df1 = pd.DataFrame(true_predictions, index=df.tail(21).index, columns=['pred'])"
   ]
  },
  {
   "cell_type": "code",
   "execution_count": 74,
   "metadata": {},
   "outputs": [
    {
     "data": {
      "image/png": "[encoded data removed]",
      "text/plain": [
       "<Figure size 864x288 with 1 Axes>"
      ]
     },
     "metadata": {
      "needs_background": "light"
     },
     "output_type": "display_data"
    }
   ],
   "source": [
    "plt.figure(figsize=(12,4))\n",
    "plt.grid(True)\n",
    "plt.autoscale(axis='x',tight=True)\n",
    "plt.plot(df['Adj Close'])\n",
    "plt.plot(df1['pred'])\n",
    "plt.show()"
   ]
  },
  {
   "cell_type": "code",
   "execution_count": 76,
   "metadata": {},
   "outputs": [
    {
     "data": {
      "image/png": "[encoded data removed]",
      "text/plain": [
       "<Figure size 864x288 with 1 Axes>"
      ]
     },
     "metadata": {
      "needs_background": "light"
     },
     "output_type": "display_data"
    }
   ],
   "source": [
    "plt.figure(figsize=(12,4))\n",
    "plt.grid(True)\n",
    "plt.autoscale(axis='x',tight=True)\n",
    "plt.plot(df['Adj Close'].iloc[-44:])\n",
    "plt.plot(df1['pred'])\n",
    "plt.show()"
   ]
  },
  {
   "cell_type": "code",
   "execution_count": null,
   "metadata": {},
   "outputs": [],
   "source": []
  }
 ],
 "metadata": {
  "kernelspec": {
   "display_name": "Python 3",
   "language": "python",
   "name": "python3"
  },
  "language_info": {
   "codemirror_mode": {
    "name": "ipython",
    "version": 3
   },
   "file_extension": ".py",
   "mimetype": "text/x-python",
   "name": "python",
   "nbconvert_exporter": "python",
   "pygments_lexer": "ipython3",
   "version": "3.8.5"
  }
 },
 "nbformat": 4,
 "nbformat_minor": 4
}

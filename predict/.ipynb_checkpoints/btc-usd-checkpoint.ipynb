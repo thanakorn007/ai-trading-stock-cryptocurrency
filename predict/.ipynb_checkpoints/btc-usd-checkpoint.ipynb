{
 "cells": [
  {
   "cell_type": "markdown",
   "metadata": {},
   "source": [
    "# Import Module"
   ]
  },
  {
   "cell_type": "code",
   "execution_count": 1,
   "metadata": {},
   "outputs": [],
   "source": [
    "import torch\n",
    "import torch.nn as nn\n",
    "import numpy as np\n",
    "import pandas as pd\n",
    "import matplotlib.pyplot as plt\n",
    "import pandas_datareader as web\n",
    "%matplotlib inline\n",
    "from sklearn.preprocessing import MinMaxScaler\n",
    "from pandas.plotting import register_matplotlib_converters\n",
    "register_matplotlib_converters()"
   ]
  },
  {
   "cell_type": "markdown",
   "metadata": {},
   "source": [
    "# Stock Data \n",
    "training data\n",
    "start: 2015/01/01\n",
    "end: 2019/11/01 \n",
    "\n",
    "testing data \n",
    "start: 2019/12/01\n",
    "end: 2020/01/01"
   ]
  },
  {
   "cell_type": "code",
   "execution_count": 2,
   "metadata": {},
   "outputs": [],
   "source": [
    "ticker = 'fold'.upper()"
   ]
  },
  {
   "cell_type": "code",
   "execution_count": 3,
   "metadata": {},
   "outputs": [
    {
     "data": {
      "text/html": [
       "<div>\n",
       "<style scoped>\n",
       "    .dataframe tbody tr th:only-of-type {\n",
       "        vertical-align: middle;\n",
       "    }\n",
       "\n",
       "    .dataframe tbody tr th {\n",
       "        vertical-align: top;\n",
       "    }\n",
       "\n",
       "    .dataframe thead th {\n",
       "        text-align: right;\n",
       "    }\n",
       "</style>\n",
       "<table border=\"1\" class=\"dataframe\">\n",
       "  <thead>\n",
       "    <tr style=\"text-align: right;\">\n",
       "      <th></th>\n",
       "      <th>High</th>\n",
       "      <th>Low</th>\n",
       "      <th>Open</th>\n",
       "      <th>Close</th>\n",
       "      <th>Volume</th>\n",
       "      <th>Adj Close</th>\n",
       "    </tr>\n",
       "    <tr>\n",
       "      <th>Date</th>\n",
       "      <th></th>\n",
       "      <th></th>\n",
       "      <th></th>\n",
       "      <th></th>\n",
       "      <th></th>\n",
       "      <th></th>\n",
       "    </tr>\n",
       "  </thead>\n",
       "  <tbody>\n",
       "    <tr>\n",
       "      <th>2014-12-31</th>\n",
       "      <td>8.47</td>\n",
       "      <td>8.17</td>\n",
       "      <td>8.25</td>\n",
       "      <td>8.32</td>\n",
       "      <td>1178900</td>\n",
       "      <td>8.32</td>\n",
       "    </tr>\n",
       "    <tr>\n",
       "      <th>2015-01-02</th>\n",
       "      <td>8.75</td>\n",
       "      <td>8.33</td>\n",
       "      <td>8.42</td>\n",
       "      <td>8.61</td>\n",
       "      <td>1199600</td>\n",
       "      <td>8.61</td>\n",
       "    </tr>\n",
       "    <tr>\n",
       "      <th>2015-01-05</th>\n",
       "      <td>9.10</td>\n",
       "      <td>8.53</td>\n",
       "      <td>8.64</td>\n",
       "      <td>8.77</td>\n",
       "      <td>2467700</td>\n",
       "      <td>8.77</td>\n",
       "    </tr>\n",
       "    <tr>\n",
       "      <th>2015-01-06</th>\n",
       "      <td>9.00</td>\n",
       "      <td>8.06</td>\n",
       "      <td>8.86</td>\n",
       "      <td>8.26</td>\n",
       "      <td>1792000</td>\n",
       "      <td>8.26</td>\n",
       "    </tr>\n",
       "    <tr>\n",
       "      <th>2015-01-07</th>\n",
       "      <td>8.70</td>\n",
       "      <td>8.40</td>\n",
       "      <td>8.47</td>\n",
       "      <td>8.54</td>\n",
       "      <td>1636700</td>\n",
       "      <td>8.54</td>\n",
       "    </tr>\n",
       "    <tr>\n",
       "      <th>...</th>\n",
       "      <td>...</td>\n",
       "      <td>...</td>\n",
       "      <td>...</td>\n",
       "      <td>...</td>\n",
       "      <td>...</td>\n",
       "      <td>...</td>\n",
       "    </tr>\n",
       "    <tr>\n",
       "      <th>2019-12-24</th>\n",
       "      <td>10.28</td>\n",
       "      <td>10.05</td>\n",
       "      <td>10.21</td>\n",
       "      <td>10.27</td>\n",
       "      <td>1019800</td>\n",
       "      <td>10.27</td>\n",
       "    </tr>\n",
       "    <tr>\n",
       "      <th>2019-12-26</th>\n",
       "      <td>10.35</td>\n",
       "      <td>9.91</td>\n",
       "      <td>10.30</td>\n",
       "      <td>9.99</td>\n",
       "      <td>1887200</td>\n",
       "      <td>9.99</td>\n",
       "    </tr>\n",
       "    <tr>\n",
       "      <th>2019-12-27</th>\n",
       "      <td>10.08</td>\n",
       "      <td>9.68</td>\n",
       "      <td>10.04</td>\n",
       "      <td>9.74</td>\n",
       "      <td>2052700</td>\n",
       "      <td>9.74</td>\n",
       "    </tr>\n",
       "    <tr>\n",
       "      <th>2019-12-30</th>\n",
       "      <td>9.74</td>\n",
       "      <td>9.39</td>\n",
       "      <td>9.73</td>\n",
       "      <td>9.53</td>\n",
       "      <td>3584100</td>\n",
       "      <td>9.53</td>\n",
       "    </tr>\n",
       "    <tr>\n",
       "      <th>2019-12-31</th>\n",
       "      <td>9.82</td>\n",
       "      <td>9.40</td>\n",
       "      <td>9.52</td>\n",
       "      <td>9.74</td>\n",
       "      <td>3175200</td>\n",
       "      <td>9.74</td>\n",
       "    </tr>\n",
       "  </tbody>\n",
       "</table>\n",
       "<p>1259 rows × 6 columns</p>\n",
       "</div>"
      ],
      "text/plain": [
       "             High    Low   Open  Close   Volume  Adj Close\n",
       "Date                                                      \n",
       "2014-12-31   8.47   8.17   8.25   8.32  1178900       8.32\n",
       "2015-01-02   8.75   8.33   8.42   8.61  1199600       8.61\n",
       "2015-01-05   9.10   8.53   8.64   8.77  2467700       8.77\n",
       "2015-01-06   9.00   8.06   8.86   8.26  1792000       8.26\n",
       "2015-01-07   8.70   8.40   8.47   8.54  1636700       8.54\n",
       "...           ...    ...    ...    ...      ...        ...\n",
       "2019-12-24  10.28  10.05  10.21  10.27  1019800      10.27\n",
       "2019-12-26  10.35   9.91  10.30   9.99  1887200       9.99\n",
       "2019-12-27  10.08   9.68  10.04   9.74  2052700       9.74\n",
       "2019-12-30   9.74   9.39   9.73   9.53  3584100       9.53\n",
       "2019-12-31   9.82   9.40   9.52   9.74  3175200       9.74\n",
       "\n",
       "[1259 rows x 6 columns]"
      ]
     },
     "execution_count": 3,
     "metadata": {},
     "output_type": "execute_result"
    }
   ],
   "source": [
    "df = web.DataReader(ticker, 'yahoo', '2015-01-01', '2020-01-01')\n",
    "df"
   ]
  },
  {
   "cell_type": "code",
   "execution_count": 4,
   "metadata": {},
   "outputs": [
    {
     "data": {
      "image/png": "[encoded data removed]",
      "text/plain": [
       "<Figure size 936x288 with 1 Axes>"
      ]
     },
     "metadata": {
      "needs_background": "light"
     },
     "output_type": "display_data"
    }
   ],
   "source": [
    "plt.figure(figsize=(13,4))\n",
    "plt.title('Stock price '+ ticker)\n",
    "plt.ylabel('Price')\n",
    "plt.grid(True)\n",
    "plt.autoscale(axis='x',tight=True)\n",
    "plt.plot(df['Adj Close'], color='g')\n",
    "plt.show()"
   ]
  },
  {
   "cell_type": "code",
   "execution_count": 5,
   "metadata": {},
   "outputs": [],
   "source": [
    "y = df['Adj Close'].values.astype(float)\n",
    "\n",
    "test_size = 21\n",
    "train_set = y[:-test_size]\n",
    "test_set = y[-test_size:]"
   ]
  },
  {
   "cell_type": "code",
   "execution_count": 6,
   "metadata": {},
   "outputs": [
    {
     "data": {
      "image/png": "[encoded data removed]",
      "text/plain": [
       "<Figure size 936x288 with 1 Axes>"
      ]
     },
     "metadata": {
      "needs_background": "light"
     },
     "output_type": "display_data"
    }
   ],
   "source": [
    "df['Adj Close'].iloc[-test_size:].plot(figsize=(13,4))\n",
    "plt.title('test set')\n",
    "plt.grid(True)"
   ]
  },
  {
   "cell_type": "markdown",
   "metadata": {},
   "source": [
    "# Normalizing data\n",
    "convert to range [-1, 1]"
   ]
  },
  {
   "cell_type": "code",
   "execution_count": 7,
   "metadata": {},
   "outputs": [],
   "source": [
    "scaler = MinMaxScaler(feature_range=(-1, 1))\n",
    "train_norm = scaler.fit_transform(train_set.reshape(-1, 1))"
   ]
  },
  {
   "cell_type": "code",
   "execution_count": 8,
   "metadata": {},
   "outputs": [
    {
     "data": {
      "text/plain": [
       "-1.0"
      ]
     },
     "execution_count": 8,
     "metadata": {},
     "output_type": "execute_result"
    }
   ],
   "source": [
    "train_norm.min()"
   ]
  },
  {
   "cell_type": "code",
   "execution_count": 9,
   "metadata": {},
   "outputs": [
    {
     "data": {
      "text/plain": [
       "1.0000000000000002"
      ]
     },
     "execution_count": 9,
     "metadata": {},
     "output_type": "execute_result"
    }
   ],
   "source": [
    "train_norm.max()"
   ]
  },
  {
   "cell_type": "code",
   "execution_count": 10,
   "metadata": {},
   "outputs": [
    {
     "data": {
      "text/plain": [
       "-0.09110407560627877"
      ]
     },
     "execution_count": 10,
     "metadata": {},
     "output_type": "execute_result"
    }
   ],
   "source": [
    "train_norm.mean()"
   ]
  },
  {
   "cell_type": "code",
   "execution_count": 11,
   "metadata": {},
   "outputs": [
    {
     "data": {
      "text/plain": [
       "0.4839471693597828"
      ]
     },
     "execution_count": 11,
     "metadata": {},
     "output_type": "execute_result"
    }
   ],
   "source": [
    "train_norm.std()"
   ]
  },
  {
   "cell_type": "markdown",
   "metadata": {},
   "source": [
    "# Input data and label\n",
    "window size = 21\n",
    "\n",
    "[1, 2, 3, ...,21] predict ==> [22]"
   ]
  },
  {
   "cell_type": "code",
   "execution_count": 12,
   "metadata": {},
   "outputs": [
    {
     "data": {
      "text/plain": [
       "1217"
      ]
     },
     "execution_count": 12,
     "metadata": {},
     "output_type": "execute_result"
    }
   ],
   "source": [
    "train_norm = torch.FloatTensor(train_norm).view(-1)\n",
    "\n",
    "window_size = 21\n",
    "\n",
    "\n",
    "def input_data(seq,ws): \n",
    "    out = []\n",
    "    L = len(seq)\n",
    "    for i in range(L-ws):\n",
    "        window = seq[i:i+ws]\n",
    "        label = seq[i+ws:i+ws+1]\n",
    "        out.append((window,label))\n",
    "    return out\n",
    "\n",
    "train_data = input_data(train_norm,window_size)\n",
    "len(train_data)  "
   ]
  },
  {
   "cell_type": "markdown",
   "metadata": {},
   "source": [
    "# 2. LSTM network\n",
    "lstm 2 layers 100 nodes\n",
    "\n",
    "fully connected 1 l layer"
   ]
  },
  {
   "cell_type": "code",
   "execution_count": 13,
   "metadata": {},
   "outputs": [],
   "source": [
    "class LSTMnetwork(nn.Module):\n",
    "    def __init__(self,input_size=1,hidden_size=[100, 100], output_size=1):\n",
    "        super().__init__()\n",
    "        self.hidden_size = hidden_size\n",
    "        \n",
    "        self.lstm1 = nn.LSTM(input_size,hidden_size[0])\n",
    "        \n",
    "        self.lstm2 = nn.LSTM(hidden_size[0], hidden_size[1])\n",
    "        \n",
    "        self.linear = nn.Linear(hidden_size[1], output_size)\n",
    "        \n",
    "        self.hidden = (torch.zeros(1,1,self.hidden_size[0]),\n",
    "                       torch.zeros(1,1,self.hidden_size[0]))\n",
    "\n",
    "    def forward(self,seq):\n",
    "        lstm_out1, self.hidden = self.lstm1(seq.view(len(seq),1,-1), self.hidden)\n",
    "        lstm_out2, self.hidden = self.lstm2(lstm_out1.view(len(seq),1,-1), self.hidden)\n",
    "        pred = self.linear(lstm_out2.view(len(seq),-1))\n",
    "        return pred[-1] \n",
    "        "
   ]
  },
  {
   "cell_type": "code",
   "execution_count": 14,
   "metadata": {},
   "outputs": [
    {
     "data": {
      "text/plain": [
       "LSTMnetwork(\n",
       "  (lstm1): LSTM(1, 100)\n",
       "  (lstm2): LSTM(100, 100)\n",
       "  (linear): Linear(in_features=100, out_features=1, bias=True)\n",
       ")"
      ]
     },
     "execution_count": 14,
     "metadata": {},
     "output_type": "execute_result"
    }
   ],
   "source": [
    "torch.manual_seed(101)\n",
    "model = LSTMnetwork()\n",
    "\n",
    "criterion = nn.MSELoss()\n",
    "optimizer = torch.optim.Adam(model.parameters(), lr=0.001)\n",
    "\n",
    "model"
   ]
  },
  {
   "cell_type": "markdown",
   "metadata": {},
   "source": [
    "# Training"
   ]
  },
  {
   "cell_type": "code",
   "execution_count": 15,
   "metadata": {},
   "outputs": [
    {
     "name": "stdout",
     "output_type": "stream",
     "text": [
      "Epoch:  1 Loss: 0.01327498\n",
      "Epoch:  2 Loss: 0.00697241\n",
      "Epoch:  3 Loss: 0.00000760\n",
      "Epoch:  4 Loss: 0.00005743\n",
      "Epoch:  5 Loss: 0.00003486\n",
      "Epoch:  6 Loss: 0.00000474\n",
      "Epoch:  7 Loss: 0.01132942\n",
      "Epoch:  8 Loss: 0.02223867\n",
      "Epoch:  9 Loss: 0.06515417\n",
      "Epoch: 10 Loss: 0.06018403\n",
      "Epoch: 11 Loss: 0.06172666\n",
      "Epoch: 12 Loss: 0.05171405\n",
      "Epoch: 13 Loss: 0.04844690\n",
      "Epoch: 14 Loss: 0.04723331\n",
      "Epoch: 15 Loss: 0.06416328\n",
      "Epoch: 16 Loss: 0.00870661\n",
      "Epoch: 17 Loss: 0.06601348\n",
      "Epoch: 18 Loss: 0.06229426\n",
      "Epoch: 19 Loss: 0.05787913\n",
      "Epoch: 20 Loss: 0.05609749\n",
      "Epoch: 21 Loss: 0.05394892\n",
      "Epoch: 22 Loss: 0.05321467\n",
      "Epoch: 23 Loss: 0.05286032\n",
      "Epoch: 24 Loss: 0.05287312\n",
      "Epoch: 25 Loss: 0.05410350\n",
      "Epoch: 26 Loss: 0.06889523\n",
      "Epoch: 27 Loss: 0.06634686\n",
      "Epoch: 28 Loss: 0.06807081\n",
      "Epoch: 29 Loss: 0.06238078\n",
      "Epoch: 30 Loss: 0.00269695\n",
      "Epoch: 31 Loss: 0.00732553\n",
      "Epoch: 32 Loss: 0.03362910\n",
      "Epoch: 33 Loss: 0.00017203\n",
      "Epoch: 34 Loss: 0.01004619\n",
      "Epoch: 35 Loss: 0.00000515\n",
      "Epoch: 36 Loss: 0.00056883\n",
      "Epoch: 37 Loss: 0.00003678\n",
      "Epoch: 38 Loss: 0.00000124\n",
      "Epoch: 39 Loss: 0.00007007\n",
      "Epoch: 40 Loss: 0.00000191\n",
      "Epoch: 41 Loss: 0.00006481\n",
      "Epoch: 42 Loss: 0.00030160\n",
      "Epoch: 43 Loss: 0.00000255\n",
      "Epoch: 44 Loss: 0.00007862\n",
      "Epoch: 45 Loss: 0.00004016\n",
      "Epoch: 46 Loss: 0.00010405\n",
      "Epoch: 47 Loss: 0.00007813\n",
      "Epoch: 48 Loss: 0.00017650\n",
      "Epoch: 49 Loss: 0.00000166\n",
      "Epoch: 50 Loss: 0.00006802\n",
      "Epoch: 51 Loss: 0.00001635\n",
      "Epoch: 52 Loss: 0.00000833\n",
      "Epoch: 53 Loss: 0.00011305\n",
      "Epoch: 54 Loss: 0.00014952\n",
      "Epoch: 55 Loss: 0.00009360\n",
      "Epoch: 56 Loss: 0.00005649\n",
      "Epoch: 57 Loss: 0.00015506\n",
      "Epoch: 58 Loss: 0.00008585\n",
      "Epoch: 59 Loss: 0.00000001\n",
      "Epoch: 60 Loss: 0.00021932\n",
      "Epoch: 61 Loss: 0.00011827\n",
      "Epoch: 62 Loss: 0.00006530\n",
      "Epoch: 63 Loss: 0.00003971\n",
      "Epoch: 64 Loss: 0.00001879\n",
      "Epoch: 65 Loss: 0.00003430\n",
      "Epoch: 66 Loss: 0.00002622\n",
      "Epoch: 67 Loss: 0.00010470\n",
      "Epoch: 68 Loss: 0.00011137\n",
      "Epoch: 69 Loss: 0.00020549\n",
      "Epoch: 70 Loss: 0.00000451\n",
      "Epoch: 71 Loss: 0.00003219\n",
      "Epoch: 72 Loss: 0.00004759\n",
      "Epoch: 73 Loss: 0.00000291\n",
      "Epoch: 74 Loss: 0.00001334\n",
      "Epoch: 75 Loss: 0.00016949\n",
      "Epoch: 76 Loss: 0.00002232\n",
      "Epoch: 77 Loss: 0.00002288\n",
      "Epoch: 78 Loss: 0.00000003\n",
      "Epoch: 79 Loss: 0.00000018\n",
      "Epoch: 80 Loss: 0.00000042\n",
      "Epoch: 81 Loss: 0.00002793\n",
      "Epoch: 82 Loss: 0.00002142\n",
      "Epoch: 83 Loss: 0.00001675\n",
      "Epoch: 84 Loss: 0.00001668\n",
      "Epoch: 85 Loss: 0.00001522\n",
      "Epoch: 86 Loss: 0.00000001\n",
      "Epoch: 87 Loss: 0.00000389\n",
      "Epoch: 88 Loss: 0.00005083\n",
      "Epoch: 89 Loss: 0.00005725\n",
      "Epoch: 90 Loss: 0.00001528\n",
      "Epoch: 91 Loss: 0.00007496\n",
      "Epoch: 92 Loss: 0.00005305\n",
      "Epoch: 93 Loss: 0.00001868\n",
      "Epoch: 94 Loss: 0.00000900\n",
      "Epoch: 95 Loss: 0.00006189\n",
      "Epoch: 96 Loss: 0.00019829\n",
      "Epoch: 97 Loss: 0.00008366\n",
      "Epoch: 98 Loss: 0.00011128\n",
      "Epoch: 99 Loss: 0.00009709\n",
      "Epoch: 100 Loss: 0.00012415\n",
      "\n",
      "Duration: 2613 seconds\n"
     ]
    }
   ],
   "source": [
    "epochs = 100\n",
    "losses= []\n",
    "\n",
    "import time\n",
    "start_time = time.time()\n",
    "\n",
    "for epoch in range(epochs):\n",
    "    for seq, y_train in train_data:\n",
    "        \n",
    "        optimizer.zero_grad()\n",
    "        model.hidden = (torch.zeros(1,1,model.hidden_size[0]),\n",
    "                        torch.zeros(1,1,model.hidden_size[0]))\n",
    "        \n",
    "        y_pred = model(seq)\n",
    "        \n",
    "        loss = criterion(y_pred, y_train)\n",
    "        loss.backward()\n",
    "        losses.append(loss.item())\n",
    "        optimizer.step()\n",
    "        \n",
    "    print(f'Epoch: {epoch+1:2} Loss: {loss.item():10.8f}')\n",
    "    \n",
    "print(f'\\nDuration: {time.time() - start_time:.0f} seconds')"
   ]
  },
  {
   "cell_type": "code",
   "execution_count": 16,
   "metadata": {},
   "outputs": [
    {
     "data": {
      "image/png": "[encoded data removed]",
      "text/plain": [
       "<Figure size 936x288 with 1 Axes>"
      ]
     },
     "metadata": {
      "needs_background": "light"
     },
     "output_type": "display_data"
    }
   ],
   "source": [
    "loss = pd.DataFrame(losses, columns=['loss'])\n",
    "loss['loss'].rolling(1217).mean().plot(figsize=(13,4))\n",
    "plt.title('Loss')\n",
    "plt.grid(True)"
   ]
  },
  {
   "cell_type": "markdown",
   "metadata": {},
   "source": [
    "# Forecast\n",
    "21 days in future"
   ]
  },
  {
   "cell_type": "code",
   "execution_count": 17,
   "metadata": {},
   "outputs": [],
   "source": [
    "future = 21\n",
    "\n",
    "preds = train_norm[-window_size:].tolist()\n",
    "\n",
    "model.eval()\n",
    "\n",
    "for i in range(future):\n",
    "    seq = torch.FloatTensor(preds[-window_size:])\n",
    "    with torch.no_grad():\n",
    "        model.hidden = (torch.zeros(1,1,model.hidden_size[0]),\n",
    "                        torch.zeros(1,1,model.hidden_size[0]))\n",
    "        preds.append(model(seq).item())"
   ]
  },
  {
   "cell_type": "code",
   "execution_count": 18,
   "metadata": {},
   "outputs": [],
   "source": [
    "true_predictions = scaler.inverse_transform(np.array(preds[window_size:]).reshape(-1, 1))\n",
    "df1 = pd.DataFrame(true_predictions, index=df.tail(21).index, columns=['pred'])\n"
   ]
  },
  {
   "cell_type": "code",
   "execution_count": 19,
   "metadata": {},
   "outputs": [
    {
     "data": {
      "text/plain": [
       "<matplotlib.legend.Legend at 0x27edbe57bb0>"
      ]
     },
     "execution_count": 19,
     "metadata": {},
     "output_type": "execute_result"
    },
    {
     "data": {
      "image/png": "[encoded data removed]",
      "text/plain": [
       "<Figure size 864x288 with 1 Axes>"
      ]
     },
     "metadata": {
      "needs_background": "light"
     },
     "output_type": "display_data"
    }
   ],
   "source": [
    "plt.figure(figsize=(12,4))\n",
    "plt.grid(True)\n",
    "plt.autoscale(axis='x',tight=True)\n",
    "plt.plot(df['Adj Close'].iloc[-21:], label='Stock price')\n",
    "plt.plot(df1['pred'], label='predicted')\n",
    "plt.legend()"
   ]
  },
  {
   "cell_type": "markdown",
   "metadata": {},
   "source": [
    "# Absolute mean squared error"
   ]
  },
  {
   "cell_type": "code",
   "execution_count": 20,
   "metadata": {},
   "outputs": [
    {
     "data": {
      "text/plain": [
       "2.4399861751607297"
      ]
     },
     "execution_count": 20,
     "metadata": {},
     "output_type": "execute_result"
    }
   ],
   "source": [
    "from sklearn.metrics import mean_squared_error\n",
    "np.sqrt(mean_squared_error(true_predictions.reshape(1, -1), df['Adj Close'][-21:].values.reshape(1, -1)))"
   ]
  },
  {
   "cell_type": "code",
   "execution_count": null,
   "metadata": {},
   "outputs": [],
   "source": []
  }
 ],
 "metadata": {
  "kernelspec": {
   "display_name": "Python 3",
   "language": "python",
   "name": "python3"
  },
  "language_info": {
   "codemirror_mode": {
    "name": "ipython",
    "version": 3
   },
   "file_extension": ".py",
   "mimetype": "text/x-python",
   "name": "python",
   "nbconvert_exporter": "python",
   "pygments_lexer": "ipython3",
   "version": "3.8.5"
  }
 },
 "nbformat": 4,
 "nbformat_minor": 4
}

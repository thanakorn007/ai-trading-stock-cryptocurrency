{
 "cells": [
  {
   "cell_type": "markdown",
   "metadata": {},
   "source": [
    "# Import Module"
   ]
  },
  {
   "cell_type": "code",
   "execution_count": 1,
   "metadata": {},
   "outputs": [],
   "source": [
    "import torch\n",
    "import torch.nn as nn\n",
    "import numpy as np\n",
    "import pandas as pd\n",
    "import matplotlib.pyplot as plt\n",
    "import pandas_datareader as web\n",
    "%matplotlib inline\n",
    "from sklearn.preprocessing import MinMaxScaler\n",
    "from pandas.plotting import register_matplotlib_converters\n",
    "register_matplotlib_converters()"
   ]
  },
  {
   "cell_type": "markdown",
   "metadata": {},
   "source": [
    "# Stock Data \n",
    "training data\n",
    "start: 2015/01/01\n",
    "end: 2019/11/01 \n",
    "\n",
    "testing data \n",
    "start: 2019/12/01\n",
    "end: 2020/01/01"
   ]
  },
  {
   "cell_type": "code",
   "execution_count": 2,
   "metadata": {},
   "outputs": [],
   "source": [
    "ticker = 'gold'.upper()"
   ]
  },
  {
   "cell_type": "code",
   "execution_count": 3,
   "metadata": {},
   "outputs": [
    {
     "data": {
      "text/html": [
       "<div>\n",
       "<style scoped>\n",
       "    .dataframe tbody tr th:only-of-type {\n",
       "        vertical-align: middle;\n",
       "    }\n",
       "\n",
       "    .dataframe tbody tr th {\n",
       "        vertical-align: top;\n",
       "    }\n",
       "\n",
       "    .dataframe thead th {\n",
       "        text-align: right;\n",
       "    }\n",
       "</style>\n",
       "<table border=\"1\" class=\"dataframe\">\n",
       "  <thead>\n",
       "    <tr style=\"text-align: right;\">\n",
       "      <th></th>\n",
       "      <th>High</th>\n",
       "      <th>Low</th>\n",
       "      <th>Open</th>\n",
       "      <th>Close</th>\n",
       "      <th>Volume</th>\n",
       "      <th>Adj Close</th>\n",
       "    </tr>\n",
       "    <tr>\n",
       "      <th>Date</th>\n",
       "      <th></th>\n",
       "      <th></th>\n",
       "      <th></th>\n",
       "      <th></th>\n",
       "      <th></th>\n",
       "      <th></th>\n",
       "    </tr>\n",
       "  </thead>\n",
       "  <tbody>\n",
       "    <tr>\n",
       "      <th>2014-12-31</th>\n",
       "      <td>10.890000</td>\n",
       "      <td>10.570000</td>\n",
       "      <td>10.820000</td>\n",
       "      <td>10.750000</td>\n",
       "      <td>10791300.0</td>\n",
       "      <td>10.096320</td>\n",
       "    </tr>\n",
       "    <tr>\n",
       "      <th>2015-01-02</th>\n",
       "      <td>10.940000</td>\n",
       "      <td>10.450000</td>\n",
       "      <td>10.540000</td>\n",
       "      <td>10.910000</td>\n",
       "      <td>13884500.0</td>\n",
       "      <td>10.246591</td>\n",
       "    </tr>\n",
       "    <tr>\n",
       "      <th>2015-01-05</th>\n",
       "      <td>11.080000</td>\n",
       "      <td>10.520000</td>\n",
       "      <td>10.980000</td>\n",
       "      <td>10.900000</td>\n",
       "      <td>16028900.0</td>\n",
       "      <td>10.237196</td>\n",
       "    </tr>\n",
       "    <tr>\n",
       "      <th>2015-01-06</th>\n",
       "      <td>11.460000</td>\n",
       "      <td>10.930000</td>\n",
       "      <td>11.020000</td>\n",
       "      <td>11.270000</td>\n",
       "      <td>21643700.0</td>\n",
       "      <td>10.584700</td>\n",
       "    </tr>\n",
       "    <tr>\n",
       "      <th>2015-01-07</th>\n",
       "      <td>11.410000</td>\n",
       "      <td>10.930000</td>\n",
       "      <td>11.080000</td>\n",
       "      <td>11.120000</td>\n",
       "      <td>14361600.0</td>\n",
       "      <td>10.443819</td>\n",
       "    </tr>\n",
       "    <tr>\n",
       "      <th>...</th>\n",
       "      <td>...</td>\n",
       "      <td>...</td>\n",
       "      <td>...</td>\n",
       "      <td>...</td>\n",
       "      <td>...</td>\n",
       "      <td>...</td>\n",
       "    </tr>\n",
       "    <tr>\n",
       "      <th>2019-12-24</th>\n",
       "      <td>18.320000</td>\n",
       "      <td>17.760000</td>\n",
       "      <td>17.799999</td>\n",
       "      <td>18.309999</td>\n",
       "      <td>8174000.0</td>\n",
       "      <td>18.073359</td>\n",
       "    </tr>\n",
       "    <tr>\n",
       "      <th>2019-12-26</th>\n",
       "      <td>18.559999</td>\n",
       "      <td>18.200001</td>\n",
       "      <td>18.500000</td>\n",
       "      <td>18.360001</td>\n",
       "      <td>9372500.0</td>\n",
       "      <td>18.122713</td>\n",
       "    </tr>\n",
       "    <tr>\n",
       "      <th>2019-12-27</th>\n",
       "      <td>18.480000</td>\n",
       "      <td>18.180000</td>\n",
       "      <td>18.320000</td>\n",
       "      <td>18.370001</td>\n",
       "      <td>9047000.0</td>\n",
       "      <td>18.132584</td>\n",
       "    </tr>\n",
       "    <tr>\n",
       "      <th>2019-12-30</th>\n",
       "      <td>18.680000</td>\n",
       "      <td>18.330000</td>\n",
       "      <td>18.410000</td>\n",
       "      <td>18.610001</td>\n",
       "      <td>9560900.0</td>\n",
       "      <td>18.369484</td>\n",
       "    </tr>\n",
       "    <tr>\n",
       "      <th>2019-12-31</th>\n",
       "      <td>18.830000</td>\n",
       "      <td>18.500000</td>\n",
       "      <td>18.740000</td>\n",
       "      <td>18.590000</td>\n",
       "      <td>9210900.0</td>\n",
       "      <td>18.349741</td>\n",
       "    </tr>\n",
       "  </tbody>\n",
       "</table>\n",
       "<p>1259 rows × 6 columns</p>\n",
       "</div>"
      ],
      "text/plain": [
       "                 High        Low       Open      Close      Volume  Adj Close\n",
       "Date                                                                         \n",
       "2014-12-31  10.890000  10.570000  10.820000  10.750000  10791300.0  10.096320\n",
       "2015-01-02  10.940000  10.450000  10.540000  10.910000  13884500.0  10.246591\n",
       "2015-01-05  11.080000  10.520000  10.980000  10.900000  16028900.0  10.237196\n",
       "2015-01-06  11.460000  10.930000  11.020000  11.270000  21643700.0  10.584700\n",
       "2015-01-07  11.410000  10.930000  11.080000  11.120000  14361600.0  10.443819\n",
       "...               ...        ...        ...        ...         ...        ...\n",
       "2019-12-24  18.320000  17.760000  17.799999  18.309999   8174000.0  18.073359\n",
       "2019-12-26  18.559999  18.200001  18.500000  18.360001   9372500.0  18.122713\n",
       "2019-12-27  18.480000  18.180000  18.320000  18.370001   9047000.0  18.132584\n",
       "2019-12-30  18.680000  18.330000  18.410000  18.610001   9560900.0  18.369484\n",
       "2019-12-31  18.830000  18.500000  18.740000  18.590000   9210900.0  18.349741\n",
       "\n",
       "[1259 rows x 6 columns]"
      ]
     },
     "execution_count": 3,
     "metadata": {},
     "output_type": "execute_result"
    }
   ],
   "source": [
    "df = web.DataReader(ticker, 'yahoo', '2015-01-01', '2020-01-01')\n",
    "df"
   ]
  },
  {
   "cell_type": "code",
   "execution_count": 4,
   "metadata": {},
   "outputs": [
    {
     "data": {
      "image/png": "[encoded data removed]",
      "text/plain": [
       "<Figure size 936x288 with 1 Axes>"
      ]
     },
     "metadata": {
      "needs_background": "light"
     },
     "output_type": "display_data"
    }
   ],
   "source": [
    "plt.figure(figsize=(13,4))\n",
    "plt.title('Stock price '+ ticker)\n",
    "plt.ylabel('Price')\n",
    "plt.grid(True)\n",
    "plt.autoscale(axis='x',tight=True)\n",
    "plt.plot(df['Adj Close'], color='g')\n",
    "plt.show()"
   ]
  },
  {
   "cell_type": "code",
   "execution_count": 5,
   "metadata": {},
   "outputs": [],
   "source": [
    "y = df['Adj Close'].values.astype(float)\n",
    "\n",
    "test_size = 21\n",
    "train_set = y[:-test_size]\n",
    "test_set = y[-test_size:]"
   ]
  },
  {
   "cell_type": "code",
   "execution_count": 6,
   "metadata": {},
   "outputs": [
    {
     "data": {
      "image/png": "[encoded data removed]",
      "text/plain": [
       "<Figure size 936x288 with 1 Axes>"
      ]
     },
     "metadata": {
      "needs_background": "light"
     },
     "output_type": "display_data"
    }
   ],
   "source": [
    "df['Adj Close'].iloc[-test_size:].plot(figsize=(13,4))\n",
    "plt.title('test set')\n",
    "plt.grid(True)"
   ]
  },
  {
   "cell_type": "markdown",
   "metadata": {},
   "source": [
    "# Normalizing data\n",
    "convert to range [-1, 1]"
   ]
  },
  {
   "cell_type": "code",
   "execution_count": 8,
   "metadata": {},
   "outputs": [],
   "source": [
    "scaler = MinMaxScaler(feature_range=(-1, 1))\n",
    "train_norm = scaler.fit_transform(train_set.reshape(-1, 1))"
   ]
  },
  {
   "cell_type": "code",
   "execution_count": 9,
   "metadata": {},
   "outputs": [
    {
     "data": {
      "text/plain": [
       "-1.0"
      ]
     },
     "execution_count": 9,
     "metadata": {},
     "output_type": "execute_result"
    }
   ],
   "source": [
    "train_norm.min()"
   ]
  },
  {
   "cell_type": "code",
   "execution_count": 10,
   "metadata": {},
   "outputs": [
    {
     "data": {
      "text/plain": [
       "1.0"
      ]
     },
     "execution_count": 10,
     "metadata": {},
     "output_type": "execute_result"
    }
   ],
   "source": [
    "train_norm.max()"
   ]
  },
  {
   "cell_type": "code",
   "execution_count": 11,
   "metadata": {},
   "outputs": [
    {
     "data": {
      "text/plain": [
       "-0.039107262476327495"
      ]
     },
     "execution_count": 11,
     "metadata": {},
     "output_type": "execute_result"
    }
   ],
   "source": [
    "train_norm.mean()"
   ]
  },
  {
   "cell_type": "code",
   "execution_count": 12,
   "metadata": {},
   "outputs": [
    {
     "data": {
      "text/plain": [
       "0.4199446719742632"
      ]
     },
     "execution_count": 12,
     "metadata": {},
     "output_type": "execute_result"
    }
   ],
   "source": [
    "train_norm.std()"
   ]
  },
  {
   "cell_type": "markdown",
   "metadata": {},
   "source": [
    "# Input data and label\n",
    "window size = 21\n",
    "\n",
    "[1, 2, 3, ...,21] predict ==> [22]"
   ]
  },
  {
   "cell_type": "code",
   "execution_count": 13,
   "metadata": {},
   "outputs": [
    {
     "data": {
      "text/plain": [
       "1217"
      ]
     },
     "execution_count": 13,
     "metadata": {},
     "output_type": "execute_result"
    }
   ],
   "source": [
    "train_norm = torch.FloatTensor(train_norm).view(-1)\n",
    "\n",
    "window_size = 21\n",
    "\n",
    "\n",
    "def input_data(seq,ws): \n",
    "    out = []\n",
    "    L = len(seq)\n",
    "    for i in range(L-ws):\n",
    "        window = seq[i:i+ws]\n",
    "        label = seq[i+ws:i+ws+1]\n",
    "        out.append((window,label))\n",
    "    return out\n",
    "\n",
    "train_data = input_data(train_norm,window_size)\n",
    "len(train_data)  "
   ]
  },
  {
   "cell_type": "markdown",
   "metadata": {},
   "source": [
    "# 2. LSTM network\n",
    "lstm 2 layers 100 nodes\n",
    "\n",
    "fully connected 1 l layer"
   ]
  },
  {
   "cell_type": "code",
   "execution_count": 14,
   "metadata": {},
   "outputs": [],
   "source": [
    "class LSTMnetwork(nn.Module):\n",
    "    def __init__(self,input_size=1,hidden_size=[100, 100], output_size=1):\n",
    "        super().__init__()\n",
    "        self.hidden_size = hidden_size\n",
    "        \n",
    "        self.lstm1 = nn.LSTM(input_size,hidden_size[0])\n",
    "        \n",
    "        self.lstm2 = nn.LSTM(hidden_size[0], hidden_size[1])\n",
    "        \n",
    "        self.linear = nn.Linear(hidden_size[1], output_size)\n",
    "        \n",
    "        self.hidden = (torch.zeros(1,1,self.hidden_size[0]),\n",
    "                       torch.zeros(1,1,self.hidden_size[0]))\n",
    "\n",
    "    def forward(self,seq):\n",
    "        lstm_out1, self.hidden = self.lstm1(seq.view(len(seq),1,-1), self.hidden)\n",
    "        lstm_out2, self.hidden = self.lstm2(lstm_out1.view(len(seq),1,-1), self.hidden)\n",
    "        pred = self.linear(lstm_out2.view(len(seq),-1))\n",
    "        return pred[-1] \n",
    "        "
   ]
  },
  {
   "cell_type": "code",
   "execution_count": 15,
   "metadata": {},
   "outputs": [
    {
     "data": {
      "text/plain": [
       "LSTMnetwork(\n",
       "  (lstm1): LSTM(1, 100)\n",
       "  (lstm2): LSTM(100, 100)\n",
       "  (linear): Linear(in_features=100, out_features=1, bias=True)\n",
       ")"
      ]
     },
     "execution_count": 15,
     "metadata": {},
     "output_type": "execute_result"
    }
   ],
   "source": [
    "torch.manual_seed(101)\n",
    "model = LSTMnetwork()\n",
    "\n",
    "criterion = nn.MSELoss()\n",
    "optimizer = torch.optim.Adam(model.parameters(), lr=0.001)\n",
    "\n",
    "model"
   ]
  },
  {
   "cell_type": "markdown",
   "metadata": {},
   "source": [
    "# Training"
   ]
  },
  {
   "cell_type": "code",
   "execution_count": 16,
   "metadata": {},
   "outputs": [
    {
     "name": "stdout",
     "output_type": "stream",
     "text": [
      "Epoch:  1 Loss: 0.00139076\n",
      "Epoch:  2 Loss: 0.00129742\n",
      "Epoch:  3 Loss: 0.00061624\n",
      "Epoch:  4 Loss: 0.00058019\n",
      "Epoch:  5 Loss: 0.00055275\n",
      "Epoch:  6 Loss: 0.00049496\n",
      "Epoch:  7 Loss: 0.00049932\n",
      "Epoch:  8 Loss: 0.00085424\n",
      "Epoch:  9 Loss: 0.00067071\n",
      "Epoch: 10 Loss: 0.00071210\n",
      "Epoch: 11 Loss: 0.00063311\n",
      "Epoch: 12 Loss: 0.00013878\n",
      "Epoch: 13 Loss: 0.00051149\n",
      "Epoch: 14 Loss: 0.00041251\n",
      "Epoch: 15 Loss: 0.00063059\n",
      "Epoch: 16 Loss: 0.00045784\n",
      "Epoch: 17 Loss: 0.00037957\n",
      "Epoch: 18 Loss: 0.00037324\n",
      "Epoch: 19 Loss: 0.00029124\n",
      "Epoch: 20 Loss: 0.00022026\n",
      "Epoch: 21 Loss: 0.00033262\n",
      "Epoch: 22 Loss: 0.00028033\n",
      "Epoch: 23 Loss: 0.00031220\n",
      "Epoch: 24 Loss: 0.00042996\n",
      "Epoch: 25 Loss: 0.00016565\n",
      "Epoch: 26 Loss: 0.00020977\n",
      "Epoch: 27 Loss: 0.00032096\n",
      "Epoch: 28 Loss: 0.00030149\n",
      "Epoch: 29 Loss: 0.00027124\n",
      "Epoch: 30 Loss: 0.00036028\n",
      "Epoch: 31 Loss: 0.00027139\n",
      "Epoch: 32 Loss: 0.00020666\n",
      "Epoch: 33 Loss: 0.00017698\n",
      "Epoch: 34 Loss: 0.00021042\n",
      "Epoch: 35 Loss: 0.00030543\n",
      "Epoch: 36 Loss: 0.00017478\n",
      "Epoch: 37 Loss: 0.00022876\n",
      "Epoch: 38 Loss: 0.00025711\n",
      "Epoch: 39 Loss: 0.00022043\n",
      "Epoch: 40 Loss: 0.00017766\n",
      "Epoch: 41 Loss: 0.00026355\n",
      "Epoch: 42 Loss: 0.00028166\n",
      "Epoch: 43 Loss: 0.00021508\n",
      "Epoch: 44 Loss: 0.00025882\n",
      "Epoch: 45 Loss: 0.00021369\n",
      "Epoch: 46 Loss: 0.00019816\n",
      "Epoch: 47 Loss: 0.00018320\n",
      "Epoch: 48 Loss: 0.00034328\n",
      "Epoch: 49 Loss: 0.00024659\n",
      "Epoch: 50 Loss: 0.00025601\n",
      "Epoch: 51 Loss: 0.00029406\n",
      "Epoch: 52 Loss: 0.00026092\n",
      "Epoch: 53 Loss: 0.00026469\n",
      "Epoch: 54 Loss: 0.00025895\n",
      "Epoch: 55 Loss: 0.00030914\n",
      "Epoch: 56 Loss: 0.00033615\n",
      "Epoch: 57 Loss: 0.00030516\n",
      "Epoch: 58 Loss: 0.00027735\n",
      "Epoch: 59 Loss: 0.00033441\n",
      "Epoch: 60 Loss: 0.00031917\n",
      "Epoch: 61 Loss: 0.00030281\n",
      "Epoch: 62 Loss: 0.00026517\n",
      "Epoch: 63 Loss: 0.00028865\n",
      "Epoch: 64 Loss: 0.00025589\n",
      "Epoch: 65 Loss: 0.00036181\n",
      "Epoch: 66 Loss: 0.00032737\n",
      "Epoch: 67 Loss: 0.00024987\n",
      "Epoch: 68 Loss: 0.00032504\n",
      "Epoch: 69 Loss: 0.00031489\n",
      "Epoch: 70 Loss: 0.00029601\n",
      "Epoch: 71 Loss: 0.00024701\n",
      "Epoch: 72 Loss: 0.00006842\n",
      "Epoch: 73 Loss: 0.00020065\n",
      "Epoch: 74 Loss: 0.00029000\n",
      "Epoch: 75 Loss: 0.00031434\n",
      "Epoch: 76 Loss: 0.00033525\n",
      "Epoch: 77 Loss: 0.00034512\n",
      "Epoch: 78 Loss: 0.00031826\n",
      "Epoch: 79 Loss: 0.00028574\n",
      "Epoch: 80 Loss: 0.00031748\n",
      "Epoch: 81 Loss: 0.00032138\n",
      "Epoch: 82 Loss: 0.00030180\n",
      "Epoch: 83 Loss: 0.00011859\n",
      "Epoch: 84 Loss: 0.00023278\n",
      "Epoch: 85 Loss: 0.00035208\n",
      "Epoch: 86 Loss: 0.00031332\n",
      "Epoch: 87 Loss: 0.00035715\n",
      "Epoch: 88 Loss: 0.00032746\n",
      "Epoch: 89 Loss: 0.00027033\n",
      "Epoch: 90 Loss: 0.00027702\n",
      "Epoch: 91 Loss: 0.00028332\n",
      "Epoch: 92 Loss: 0.00028367\n",
      "Epoch: 93 Loss: 0.00027171\n",
      "Epoch: 94 Loss: 0.00015231\n",
      "Epoch: 95 Loss: 0.00020091\n",
      "Epoch: 96 Loss: 0.00018407\n",
      "Epoch: 97 Loss: 0.00024364\n",
      "Epoch: 98 Loss: 0.00024255\n",
      "Epoch: 99 Loss: 0.00030187\n",
      "Epoch: 100 Loss: 0.00027779\n",
      "\n",
      "Duration: 1335 seconds\n"
     ]
    }
   ],
   "source": [
    "epochs = 100\n",
    "losses= []\n",
    "\n",
    "import time\n",
    "start_time = time.time()\n",
    "\n",
    "for epoch in range(epochs):\n",
    "    for seq, y_train in train_data:\n",
    "        \n",
    "        optimizer.zero_grad()\n",
    "        model.hidden = (torch.zeros(1,1,model.hidden_size[0]),\n",
    "                        torch.zeros(1,1,model.hidden_size[0]))\n",
    "        \n",
    "        y_pred = model(seq)\n",
    "        \n",
    "        loss = criterion(y_pred, y_train)\n",
    "        loss.backward()\n",
    "        losses.append(loss.item())\n",
    "        optimizer.step()\n",
    "        \n",
    "    print(f'Epoch: {epoch+1:2} Loss: {loss.item():10.8f}')\n",
    "    \n",
    "print(f'\\nDuration: {time.time() - start_time:.0f} seconds')"
   ]
  },
  {
   "cell_type": "code",
   "execution_count": 42,
   "metadata": {},
   "outputs": [
    {
     "data": {
      "image/png": "[encoded data removed]",
      "text/plain": [
       "<Figure size 936x288 with 1 Axes>"
      ]
     },
     "metadata": {
      "needs_background": "light"
     },
     "output_type": "display_data"
    }
   ],
   "source": [
    "loss = pd.DataFrame(losses, columns=['loss'])\n",
    "loss['loss'].rolling(1217).mean().plot(figsize=(13,4))\n",
    "plt.title('Loss')\n",
    "plt.grid(True)"
   ]
  },
  {
   "cell_type": "markdown",
   "metadata": {},
   "source": [
    "# Forecast\n",
    "21 days in future"
   ]
  },
  {
   "cell_type": "code",
   "execution_count": 30,
   "metadata": {},
   "outputs": [],
   "source": [
    "future = 21\n",
    "\n",
    "preds = train_norm[-window_size:].tolist()\n",
    "\n",
    "model.eval()\n",
    "\n",
    "for i in range(future):\n",
    "    seq = torch.FloatTensor(preds[-window_size:])\n",
    "    with torch.no_grad():\n",
    "        model.hidden = (torch.zeros(1,1,model.hidden_size[0]),\n",
    "                        torch.zeros(1,1,model.hidden_size[0]))\n",
    "        preds.append(model(seq).item())"
   ]
  },
  {
   "cell_type": "code",
   "execution_count": 32,
   "metadata": {},
   "outputs": [],
   "source": [
    "true_predictions = scaler.inverse_transform(np.array(preds[window_size:]).reshape(-1, 1))\n",
    "df1 = pd.DataFrame(true_predictions, index=df.tail(21).index, columns=['pred'])\n"
   ]
  },
  {
   "cell_type": "code",
   "execution_count": 38,
   "metadata": {},
   "outputs": [
    {
     "data": {
      "text/plain": [
       "<matplotlib.legend.Legend at 0x1f5570945b0>"
      ]
     },
     "execution_count": 38,
     "metadata": {},
     "output_type": "execute_result"
    },
    {
     "data": {
      "image/png": "[encoded data removed]",
      "text/plain": [
       "<Figure size 864x288 with 1 Axes>"
      ]
     },
     "metadata": {
      "needs_background": "light"
     },
     "output_type": "display_data"
    }
   ],
   "source": [
    "plt.figure(figsize=(12,4))\n",
    "plt.grid(True)\n",
    "plt.autoscale(axis='x',tight=True)\n",
    "plt.plot(df['Adj Close'].iloc[-30:], label='Stock price')\n",
    "plt.plot(df1['pred'], label='predicted')\n",
    "plt.legend()"
   ]
  },
  {
   "cell_type": "markdown",
   "metadata": {},
   "source": [
    "# Absolute mean squared error"
   ]
  },
  {
   "cell_type": "code",
   "execution_count": 35,
   "metadata": {},
   "outputs": [
    {
     "data": {
      "text/plain": [
       "0.8875085605892064"
      ]
     },
     "execution_count": 35,
     "metadata": {},
     "output_type": "execute_result"
    }
   ],
   "source": [
    "from sklearn.metrics import mean_squared_error\n",
    "np.sqrt(mean_squared_error(true_predictions.reshape(1, -1), df['Adj Close'][-21:].values.reshape(1, -1)))"
   ]
  }
 ],
 "metadata": {
  "kernelspec": {
   "display_name": "Python 3",
   "language": "python",
   "name": "python3"
  },
  "language_info": {
   "codemirror_mode": {
    "name": "ipython",
    "version": 3
   },
   "file_extension": ".py",
   "mimetype": "text/x-python",
   "name": "python",
   "nbconvert_exporter": "python",
   "pygments_lexer": "ipython3",
   "version": "3.8.5"
  }
 },
 "nbformat": 4,
 "nbformat_minor": 4
}

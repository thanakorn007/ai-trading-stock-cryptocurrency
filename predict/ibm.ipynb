{
 "cells": [
  {
   "cell_type": "markdown",
   "metadata": {},
   "source": [
    "# Import Module"
   ]
  },
  {
   "cell_type": "code",
   "execution_count": 1,
   "metadata": {},
   "outputs": [],
   "source": [
    "import torch\n",
    "import torch.nn as nn\n",
    "import numpy as np\n",
    "import pandas as pd\n",
    "import matplotlib.pyplot as plt\n",
    "import pandas_datareader as web\n",
    "%matplotlib inline\n",
    "from sklearn.preprocessing import MinMaxScaler\n",
    "from pandas.plotting import register_matplotlib_converters\n",
    "register_matplotlib_converters()"
   ]
  },
  {
   "cell_type": "markdown",
   "metadata": {},
   "source": [
    "# Stock Data \n",
    "training data\n",
    "start: 2015/01/01\n",
    "end: 2019/11/01 \n",
    "\n",
    "testing data \n",
    "start: 2019/12/01\n",
    "end: 2020/01/01"
   ]
  },
  {
   "cell_type": "code",
   "execution_count": 2,
   "metadata": {},
   "outputs": [],
   "source": [
    "ticker = 'ibm'.upper()"
   ]
  },
  {
   "cell_type": "code",
   "execution_count": 3,
   "metadata": {},
   "outputs": [
    {
     "data": {
      "text/html": [
       "<div>\n",
       "<style scoped>\n",
       "    .dataframe tbody tr th:only-of-type {\n",
       "        vertical-align: middle;\n",
       "    }\n",
       "\n",
       "    .dataframe tbody tr th {\n",
       "        vertical-align: top;\n",
       "    }\n",
       "\n",
       "    .dataframe thead th {\n",
       "        text-align: right;\n",
       "    }\n",
       "</style>\n",
       "<table border=\"1\" class=\"dataframe\">\n",
       "  <thead>\n",
       "    <tr style=\"text-align: right;\">\n",
       "      <th></th>\n",
       "      <th>High</th>\n",
       "      <th>Low</th>\n",
       "      <th>Open</th>\n",
       "      <th>Close</th>\n",
       "      <th>Volume</th>\n",
       "      <th>Adj Close</th>\n",
       "    </tr>\n",
       "    <tr>\n",
       "      <th>Date</th>\n",
       "      <th></th>\n",
       "      <th></th>\n",
       "      <th></th>\n",
       "      <th></th>\n",
       "      <th></th>\n",
       "      <th></th>\n",
       "    </tr>\n",
       "  </thead>\n",
       "  <tbody>\n",
       "    <tr>\n",
       "      <th>2014-12-31</th>\n",
       "      <td>161.500000</td>\n",
       "      <td>160.380005</td>\n",
       "      <td>160.410004</td>\n",
       "      <td>160.440002</td>\n",
       "      <td>4011900.0</td>\n",
       "      <td>123.329521</td>\n",
       "    </tr>\n",
       "    <tr>\n",
       "      <th>2015-01-02</th>\n",
       "      <td>163.309998</td>\n",
       "      <td>161.000000</td>\n",
       "      <td>161.309998</td>\n",
       "      <td>162.059998</td>\n",
       "      <td>5525500.0</td>\n",
       "      <td>124.574829</td>\n",
       "    </tr>\n",
       "    <tr>\n",
       "      <th>2015-01-05</th>\n",
       "      <td>161.270004</td>\n",
       "      <td>159.190002</td>\n",
       "      <td>161.270004</td>\n",
       "      <td>159.509995</td>\n",
       "      <td>4880400.0</td>\n",
       "      <td>122.614647</td>\n",
       "    </tr>\n",
       "    <tr>\n",
       "      <th>2015-01-06</th>\n",
       "      <td>159.960007</td>\n",
       "      <td>155.169998</td>\n",
       "      <td>159.669998</td>\n",
       "      <td>156.070007</td>\n",
       "      <td>6146700.0</td>\n",
       "      <td>119.970337</td>\n",
       "    </tr>\n",
       "    <tr>\n",
       "      <th>2015-01-07</th>\n",
       "      <td>157.199997</td>\n",
       "      <td>154.029999</td>\n",
       "      <td>157.199997</td>\n",
       "      <td>155.050003</td>\n",
       "      <td>4701800.0</td>\n",
       "      <td>119.186256</td>\n",
       "    </tr>\n",
       "    <tr>\n",
       "      <th>...</th>\n",
       "      <td>...</td>\n",
       "      <td>...</td>\n",
       "      <td>...</td>\n",
       "      <td>...</td>\n",
       "      <td>...</td>\n",
       "      <td>...</td>\n",
       "    </tr>\n",
       "    <tr>\n",
       "      <th>2019-12-24</th>\n",
       "      <td>135.619995</td>\n",
       "      <td>134.610001</td>\n",
       "      <td>135.610001</td>\n",
       "      <td>134.979996</td>\n",
       "      <td>1202100.0</td>\n",
       "      <td>126.562637</td>\n",
       "    </tr>\n",
       "    <tr>\n",
       "      <th>2019-12-26</th>\n",
       "      <td>135.309998</td>\n",
       "      <td>134.649994</td>\n",
       "      <td>134.979996</td>\n",
       "      <td>134.910004</td>\n",
       "      <td>2129700.0</td>\n",
       "      <td>126.497017</td>\n",
       "    </tr>\n",
       "    <tr>\n",
       "      <th>2019-12-27</th>\n",
       "      <td>135.750000</td>\n",
       "      <td>134.869995</td>\n",
       "      <td>135.000000</td>\n",
       "      <td>135.270004</td>\n",
       "      <td>2752200.0</td>\n",
       "      <td>126.834549</td>\n",
       "    </tr>\n",
       "    <tr>\n",
       "      <th>2019-12-30</th>\n",
       "      <td>135.300003</td>\n",
       "      <td>132.500000</td>\n",
       "      <td>135.199997</td>\n",
       "      <td>132.809998</td>\n",
       "      <td>4118900.0</td>\n",
       "      <td>124.527962</td>\n",
       "    </tr>\n",
       "    <tr>\n",
       "      <th>2019-12-31</th>\n",
       "      <td>134.119995</td>\n",
       "      <td>132.399994</td>\n",
       "      <td>132.529999</td>\n",
       "      <td>134.039993</td>\n",
       "      <td>3777500.0</td>\n",
       "      <td>125.681244</td>\n",
       "    </tr>\n",
       "  </tbody>\n",
       "</table>\n",
       "<p>1259 rows × 6 columns</p>\n",
       "</div>"
      ],
      "text/plain": [
       "                  High         Low        Open       Close     Volume  \\\n",
       "Date                                                                    \n",
       "2014-12-31  161.500000  160.380005  160.410004  160.440002  4011900.0   \n",
       "2015-01-02  163.309998  161.000000  161.309998  162.059998  5525500.0   \n",
       "2015-01-05  161.270004  159.190002  161.270004  159.509995  4880400.0   \n",
       "2015-01-06  159.960007  155.169998  159.669998  156.070007  6146700.0   \n",
       "2015-01-07  157.199997  154.029999  157.199997  155.050003  4701800.0   \n",
       "...                ...         ...         ...         ...        ...   \n",
       "2019-12-24  135.619995  134.610001  135.610001  134.979996  1202100.0   \n",
       "2019-12-26  135.309998  134.649994  134.979996  134.910004  2129700.0   \n",
       "2019-12-27  135.750000  134.869995  135.000000  135.270004  2752200.0   \n",
       "2019-12-30  135.300003  132.500000  135.199997  132.809998  4118900.0   \n",
       "2019-12-31  134.119995  132.399994  132.529999  134.039993  3777500.0   \n",
       "\n",
       "             Adj Close  \n",
       "Date                    \n",
       "2014-12-31  123.329521  \n",
       "2015-01-02  124.574829  \n",
       "2015-01-05  122.614647  \n",
       "2015-01-06  119.970337  \n",
       "2015-01-07  119.186256  \n",
       "...                ...  \n",
       "2019-12-24  126.562637  \n",
       "2019-12-26  126.497017  \n",
       "2019-12-27  126.834549  \n",
       "2019-12-30  124.527962  \n",
       "2019-12-31  125.681244  \n",
       "\n",
       "[1259 rows x 6 columns]"
      ]
     },
     "execution_count": 3,
     "metadata": {},
     "output_type": "execute_result"
    }
   ],
   "source": [
    "df = web.DataReader(ticker, 'yahoo', '2015-01-01', '2020-01-01')\n",
    "df"
   ]
  },
  {
   "cell_type": "code",
   "execution_count": 4,
   "metadata": {},
   "outputs": [
    {
     "data": {
      "image/png": "[encoded data removed]",
      "text/plain": [
       "<Figure size 936x288 with 1 Axes>"
      ]
     },
     "metadata": {
      "needs_background": "light"
     },
     "output_type": "display_data"
    }
   ],
   "source": [
    "plt.figure(figsize=(13,4))\n",
    "plt.title('Stock price '+ ticker)\n",
    "plt.ylabel('Price')\n",
    "plt.grid(True)\n",
    "plt.autoscale(axis='x',tight=True)\n",
    "plt.plot(df['Adj Close'], color='g')\n",
    "plt.show()"
   ]
  },
  {
   "cell_type": "code",
   "execution_count": 5,
   "metadata": {},
   "outputs": [],
   "source": [
    "y = df['Adj Close'].values.astype(float)\n",
    "\n",
    "test_size = 21\n",
    "train_set = y[:-test_size]\n",
    "test_set = y[-test_size:]"
   ]
  },
  {
   "cell_type": "code",
   "execution_count": 6,
   "metadata": {},
   "outputs": [
    {
     "data": {
      "image/png": "[encoded data removed]",
      "text/plain": [
       "<Figure size 936x288 with 1 Axes>"
      ]
     },
     "metadata": {
      "needs_background": "light"
     },
     "output_type": "display_data"
    }
   ],
   "source": [
    "df['Adj Close'].iloc[-test_size:].plot(figsize=(13,4))\n",
    "plt.title('test set')\n",
    "plt.grid(True)"
   ]
  },
  {
   "cell_type": "markdown",
   "metadata": {},
   "source": [
    "# Normalizing data\n",
    "convert to range [-1, 1]"
   ]
  },
  {
   "cell_type": "code",
   "execution_count": 7,
   "metadata": {},
   "outputs": [],
   "source": [
    "scaler = MinMaxScaler(feature_range=(-1, 1))\n",
    "train_norm = scaler.fit_transform(train_set.reshape(-1, 1))"
   ]
  },
  {
   "cell_type": "code",
   "execution_count": 8,
   "metadata": {},
   "outputs": [
    {
     "data": {
      "text/plain": [
       "-1.0"
      ]
     },
     "execution_count": 8,
     "metadata": {},
     "output_type": "execute_result"
    }
   ],
   "source": [
    "train_norm.min()"
   ]
  },
  {
   "cell_type": "code",
   "execution_count": 9,
   "metadata": {},
   "outputs": [
    {
     "data": {
      "text/plain": [
       "1.0"
      ]
     },
     "execution_count": 9,
     "metadata": {},
     "output_type": "execute_result"
    }
   ],
   "source": [
    "train_norm.max()"
   ]
  },
  {
   "cell_type": "code",
   "execution_count": 10,
   "metadata": {},
   "outputs": [
    {
     "data": {
      "text/plain": [
       "0.09142921426874971"
      ]
     },
     "execution_count": 10,
     "metadata": {},
     "output_type": "execute_result"
    }
   ],
   "source": [
    "train_norm.mean()"
   ]
  },
  {
   "cell_type": "code",
   "execution_count": 11,
   "metadata": {},
   "outputs": [
    {
     "data": {
      "text/plain": [
       "0.3523014041163335"
      ]
     },
     "execution_count": 11,
     "metadata": {},
     "output_type": "execute_result"
    }
   ],
   "source": [
    "train_norm.std()"
   ]
  },
  {
   "cell_type": "markdown",
   "metadata": {},
   "source": [
    "# Input data and label\n",
    "window size = 21\n",
    "\n",
    "[1, 2, 3, ...,21] predict ==> [22]"
   ]
  },
  {
   "cell_type": "code",
   "execution_count": 12,
   "metadata": {},
   "outputs": [
    {
     "data": {
      "text/plain": [
       "1217"
      ]
     },
     "execution_count": 12,
     "metadata": {},
     "output_type": "execute_result"
    }
   ],
   "source": [
    "train_norm = torch.FloatTensor(train_norm).view(-1)\n",
    "\n",
    "window_size = 21\n",
    "\n",
    "\n",
    "def input_data(seq,ws): \n",
    "    out = []\n",
    "    L = len(seq)\n",
    "    for i in range(L-ws):\n",
    "        window = seq[i:i+ws]\n",
    "        label = seq[i+ws:i+ws+1]\n",
    "        out.append((window,label))\n",
    "    return out\n",
    "\n",
    "train_data = input_data(train_norm,window_size)\n",
    "len(train_data)  "
   ]
  },
  {
   "cell_type": "markdown",
   "metadata": {},
   "source": [
    "# 2. LSTM network\n",
    "lstm 2 layers 100 nodes\n",
    "\n",
    "fully connected 1 l layer"
   ]
  },
  {
   "cell_type": "code",
   "execution_count": 13,
   "metadata": {},
   "outputs": [],
   "source": [
    "class LSTMnetwork(nn.Module):\n",
    "    def __init__(self,input_size=1,hidden_size=[100, 100], output_size=1):\n",
    "        super().__init__()\n",
    "        self.hidden_size = hidden_size\n",
    "        \n",
    "        self.lstm1 = nn.LSTM(input_size,hidden_size[0])\n",
    "        \n",
    "        self.lstm2 = nn.LSTM(hidden_size[0], hidden_size[1])\n",
    "        \n",
    "        self.linear = nn.Linear(hidden_size[1], output_size)\n",
    "        \n",
    "        self.hidden = (torch.zeros(1,1,self.hidden_size[0]),\n",
    "                       torch.zeros(1,1,self.hidden_size[0]))\n",
    "\n",
    "    def forward(self,seq):\n",
    "        lstm_out1, self.hidden = self.lstm1(seq.view(len(seq),1,-1), self.hidden)\n",
    "        lstm_out2, self.hidden = self.lstm2(lstm_out1.view(len(seq),1,-1), self.hidden)\n",
    "        pred = self.linear(lstm_out2.view(len(seq),-1))\n",
    "        return pred[-1] \n",
    "        "
   ]
  },
  {
   "cell_type": "code",
   "execution_count": 14,
   "metadata": {},
   "outputs": [
    {
     "data": {
      "text/plain": [
       "LSTMnetwork(\n",
       "  (lstm1): LSTM(1, 100)\n",
       "  (lstm2): LSTM(100, 100)\n",
       "  (linear): Linear(in_features=100, out_features=1, bias=True)\n",
       ")"
      ]
     },
     "execution_count": 14,
     "metadata": {},
     "output_type": "execute_result"
    }
   ],
   "source": [
    "torch.manual_seed(101)\n",
    "model = LSTMnetwork()\n",
    "\n",
    "criterion = nn.MSELoss()\n",
    "optimizer = torch.optim.Adam(model.parameters(), lr=0.001)\n",
    "\n",
    "model"
   ]
  },
  {
   "cell_type": "markdown",
   "metadata": {},
   "source": [
    "# Training"
   ]
  },
  {
   "cell_type": "code",
   "execution_count": 15,
   "metadata": {},
   "outputs": [
    {
     "name": "stdout",
     "output_type": "stream",
     "text": [
      "Epoch:  1 Loss: 0.00131848\n",
      "Epoch:  2 Loss: 0.00115298\n",
      "Epoch:  3 Loss: 0.00250729\n",
      "Epoch:  4 Loss: 0.00408669\n",
      "Epoch:  5 Loss: 0.00803019\n",
      "Epoch:  6 Loss: 0.00014454\n",
      "Epoch:  7 Loss: 0.00000943\n",
      "Epoch:  8 Loss: 0.00059352\n",
      "Epoch:  9 Loss: 0.00034196\n",
      "Epoch: 10 Loss: 0.00214460\n",
      "Epoch: 11 Loss: 0.00014076\n",
      "Epoch: 12 Loss: 0.00098622\n",
      "Epoch: 13 Loss: 0.00101781\n",
      "Epoch: 14 Loss: 0.00019189\n",
      "Epoch: 15 Loss: 0.00221617\n",
      "Epoch: 16 Loss: 0.00041245\n",
      "Epoch: 17 Loss: 0.00105929\n",
      "Epoch: 18 Loss: 0.00072252\n",
      "Epoch: 19 Loss: 0.00091466\n",
      "Epoch: 20 Loss: 0.00112090\n",
      "Epoch: 21 Loss: 0.00117784\n",
      "Epoch: 22 Loss: 0.00144981\n",
      "Epoch: 23 Loss: 0.00082622\n",
      "Epoch: 24 Loss: 0.00058618\n",
      "Epoch: 25 Loss: 0.00081302\n",
      "Epoch: 26 Loss: 0.00029988\n",
      "Epoch: 27 Loss: 0.00034144\n",
      "Epoch: 28 Loss: 0.00071419\n",
      "Epoch: 29 Loss: 0.00068249\n",
      "Epoch: 30 Loss: 0.00005949\n",
      "Epoch: 31 Loss: 0.00062365\n",
      "Epoch: 32 Loss: 0.00001542\n",
      "Epoch: 33 Loss: 0.00002267\n",
      "Epoch: 34 Loss: 0.00026432\n",
      "Epoch: 35 Loss: 0.00012389\n",
      "Epoch: 36 Loss: 0.00040688\n",
      "Epoch: 37 Loss: 0.00008232\n",
      "Epoch: 38 Loss: 0.00047305\n",
      "Epoch: 39 Loss: 0.00045544\n",
      "Epoch: 40 Loss: 0.00007116\n",
      "Epoch: 41 Loss: 0.00039776\n",
      "Epoch: 42 Loss: 0.00003305\n",
      "Epoch: 43 Loss: 0.00001096\n",
      "Epoch: 44 Loss: 0.00032798\n",
      "Epoch: 45 Loss: 0.00015791\n",
      "Epoch: 46 Loss: 0.00006553\n",
      "Epoch: 47 Loss: 0.00060022\n",
      "Epoch: 48 Loss: 0.00003194\n",
      "Epoch: 49 Loss: 0.00021847\n",
      "Epoch: 50 Loss: 0.00008403\n",
      "Epoch: 51 Loss: 0.00016930\n",
      "Epoch: 52 Loss: 0.00000215\n",
      "Epoch: 53 Loss: 0.00039417\n",
      "Epoch: 54 Loss: 0.00001004\n",
      "Epoch: 55 Loss: 0.00006217\n",
      "Epoch: 56 Loss: 0.00005266\n",
      "Epoch: 57 Loss: 0.00002036\n",
      "Epoch: 58 Loss: 0.00001773\n",
      "Epoch: 59 Loss: 0.00000889\n",
      "Epoch: 60 Loss: 0.00009633\n",
      "Epoch: 61 Loss: 0.00004676\n",
      "Epoch: 62 Loss: 0.00001557\n",
      "Epoch: 63 Loss: 0.00000235\n",
      "Epoch: 64 Loss: 0.00002267\n",
      "Epoch: 65 Loss: 0.00000435\n",
      "Epoch: 66 Loss: 0.00000178\n",
      "Epoch: 67 Loss: 0.00005999\n",
      "Epoch: 68 Loss: 0.00000692\n",
      "Epoch: 69 Loss: 0.00009666\n",
      "Epoch: 70 Loss: 0.00000615\n",
      "Epoch: 71 Loss: 0.00011110\n",
      "Epoch: 72 Loss: 0.00005530\n",
      "Epoch: 73 Loss: 0.00006375\n",
      "Epoch: 74 Loss: 0.00025498\n",
      "Epoch: 75 Loss: 0.00017121\n",
      "Epoch: 76 Loss: 0.00011075\n",
      "Epoch: 77 Loss: 0.00005583\n",
      "Epoch: 78 Loss: 0.00004805\n",
      "Epoch: 79 Loss: 0.00004635\n",
      "Epoch: 80 Loss: 0.00020918\n",
      "Epoch: 81 Loss: 0.00002418\n",
      "Epoch: 82 Loss: 0.00006470\n",
      "Epoch: 83 Loss: 0.00003334\n",
      "Epoch: 84 Loss: 0.00001256\n",
      "Epoch: 85 Loss: 0.00003369\n",
      "Epoch: 86 Loss: 0.00002443\n",
      "Epoch: 87 Loss: 0.00001167\n",
      "Epoch: 88 Loss: 0.00007362\n",
      "Epoch: 89 Loss: 0.00001677\n",
      "Epoch: 90 Loss: 0.00008112\n",
      "Epoch: 91 Loss: 0.00004670\n",
      "Epoch: 92 Loss: 0.00001751\n",
      "Epoch: 93 Loss: 0.00000335\n",
      "Epoch: 94 Loss: 0.00000391\n",
      "Epoch: 95 Loss: 0.00001972\n",
      "Epoch: 96 Loss: 0.00001116\n",
      "Epoch: 97 Loss: 0.00000703\n",
      "Epoch: 98 Loss: 0.00000276\n",
      "Epoch: 99 Loss: 0.00001453\n",
      "Epoch: 100 Loss: 0.00001649\n",
      "\n",
      "Duration: 3482 seconds\n"
     ]
    }
   ],
   "source": [
    "epochs = 100\n",
    "losses= []\n",
    "\n",
    "import time\n",
    "start_time = time.time()\n",
    "\n",
    "for epoch in range(epochs):\n",
    "    for seq, y_train in train_data:\n",
    "        \n",
    "        optimizer.zero_grad()\n",
    "        model.hidden = (torch.zeros(1,1,model.hidden_size[0]),\n",
    "                        torch.zeros(1,1,model.hidden_size[0]))\n",
    "        \n",
    "        y_pred = model(seq)\n",
    "        \n",
    "        loss = criterion(y_pred, y_train)\n",
    "        loss.backward()\n",
    "        losses.append(loss.item())\n",
    "        optimizer.step()\n",
    "        \n",
    "    print(f'Epoch: {epoch+1:2} Loss: {loss.item():10.8f}')\n",
    "    \n",
    "print(f'\\nDuration: {time.time() - start_time:.0f} seconds')"
   ]
  },
  {
   "cell_type": "code",
   "execution_count": 17,
   "metadata": {},
   "outputs": [
    {
     "data": {
      "image/png": "[encoded data removed]",
      "text/plain": [
       "<Figure size 936x288 with 1 Axes>"
      ]
     },
     "metadata": {
      "needs_background": "light"
     },
     "output_type": "display_data"
    }
   ],
   "source": [
    "loss = pd.DataFrame(losses, columns=['loss'])\n",
    "loss['loss'].rolling(1217).mean().plot(figsize=(13,4))\n",
    "plt.title('Loss')\n",
    "plt.grid(True)"
   ]
  },
  {
   "cell_type": "markdown",
   "metadata": {},
   "source": [
    "# Forecast\n",
    "21 days in future"
   ]
  },
  {
   "cell_type": "code",
   "execution_count": 18,
   "metadata": {},
   "outputs": [],
   "source": [
    "future = 21\n",
    "\n",
    "preds = train_norm[-window_size:].tolist()\n",
    "\n",
    "model.eval()\n",
    "\n",
    "for i in range(future):\n",
    "    seq = torch.FloatTensor(preds[-window_size:])\n",
    "    with torch.no_grad():\n",
    "        model.hidden = (torch.zeros(1,1,model.hidden_size[0]),\n",
    "                        torch.zeros(1,1,model.hidden_size[0]))\n",
    "        preds.append(model(seq).item())"
   ]
  },
  {
   "cell_type": "code",
   "execution_count": 19,
   "metadata": {},
   "outputs": [],
   "source": [
    "true_predictions = scaler.inverse_transform(np.array(preds[window_size:]).reshape(-1, 1))\n",
    "df1 = pd.DataFrame(true_predictions, index=df.tail(21).index, columns=['pred'])\n"
   ]
  },
  {
   "cell_type": "code",
   "execution_count": 21,
   "metadata": {},
   "outputs": [
    {
     "data": {
      "text/plain": [
       "<matplotlib.legend.Legend at 0x29a5655eb50>"
      ]
     },
     "execution_count": 21,
     "metadata": {},
     "output_type": "execute_result"
    },
    {
     "data": {
      "image/png": "[encoded data removed]",
      "text/plain": [
       "<Figure size 864x288 with 1 Axes>"
      ]
     },
     "metadata": {
      "needs_background": "light"
     },
     "output_type": "display_data"
    }
   ],
   "source": [
    "plt.figure(figsize=(12,4))\n",
    "plt.grid(True)\n",
    "plt.autoscale(axis='x',tight=True)\n",
    "plt.plot(df['Adj Close'].iloc[-21:], label='Stock price')\n",
    "plt.plot(df1['pred'], label='predicted')\n",
    "plt.legend()"
   ]
  },
  {
   "cell_type": "markdown",
   "metadata": {},
   "source": [
    "# Absolute mean squared error"
   ]
  },
  {
   "cell_type": "code",
   "execution_count": 22,
   "metadata": {},
   "outputs": [
    {
     "data": {
      "text/plain": [
       "2.180808346194146"
      ]
     },
     "execution_count": 22,
     "metadata": {},
     "output_type": "execute_result"
    }
   ],
   "source": [
    "from sklearn.metrics import mean_squared_error\n",
    "np.sqrt(mean_squared_error(true_predictions.reshape(1, -1), df['Adj Close'][-21:].values.reshape(1, -1)))"
   ]
  }
 ],
 "metadata": {
  "kernelspec": {
   "display_name": "Python 3",
   "language": "python",
   "name": "python3"
  },
  "language_info": {
   "codemirror_mode": {
    "name": "ipython",
    "version": 3
   },
   "file_extension": ".py",
   "mimetype": "text/x-python",
   "name": "python",
   "nbconvert_exporter": "python",
   "pygments_lexer": "ipython3",
   "version": "3.8.5"
  }
 },
 "nbformat": 4,
 "nbformat_minor": 4
}

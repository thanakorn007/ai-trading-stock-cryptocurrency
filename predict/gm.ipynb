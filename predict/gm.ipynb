{
 "cells": [
  {
   "cell_type": "markdown",
   "metadata": {},
   "source": [
    "# Import Module"
   ]
  },
  {
   "cell_type": "code",
   "execution_count": 3,
   "metadata": {},
   "outputs": [],
   "source": [
    "import torch\n",
    "import torch.nn as nn\n",
    "import numpy as np\n",
    "import pandas as pd\n",
    "import matplotlib.pyplot as plt\n",
    "import pandas_datareader as web\n",
    "%matplotlib inline\n",
    "from sklearn.preprocessing import MinMaxScaler\n",
    "from pandas.plotting import register_matplotlib_converters\n",
    "register_matplotlib_converters()"
   ]
  },
  {
   "cell_type": "markdown",
   "metadata": {},
   "source": [
    "# Stock Data \n",
    "training data\n",
    "start: 2015/01/01\n",
    "end: 2019/11/01 \n",
    "\n",
    "testing data \n",
    "start: 2019/12/01\n",
    "end: 2020/01/01"
   ]
  },
  {
   "cell_type": "code",
   "execution_count": 7,
   "metadata": {},
   "outputs": [],
   "source": [
    "ticker = 'gm'.upper()"
   ]
  },
  {
   "cell_type": "code",
   "execution_count": 8,
   "metadata": {},
   "outputs": [
    {
     "data": {
      "text/html": [
       "<div>\n",
       "<style scoped>\n",
       "    .dataframe tbody tr th:only-of-type {\n",
       "        vertical-align: middle;\n",
       "    }\n",
       "\n",
       "    .dataframe tbody tr th {\n",
       "        vertical-align: top;\n",
       "    }\n",
       "\n",
       "    .dataframe thead th {\n",
       "        text-align: right;\n",
       "    }\n",
       "</style>\n",
       "<table border=\"1\" class=\"dataframe\">\n",
       "  <thead>\n",
       "    <tr style=\"text-align: right;\">\n",
       "      <th></th>\n",
       "      <th>High</th>\n",
       "      <th>Low</th>\n",
       "      <th>Open</th>\n",
       "      <th>Close</th>\n",
       "      <th>Volume</th>\n",
       "      <th>Adj Close</th>\n",
       "    </tr>\n",
       "    <tr>\n",
       "      <th>Date</th>\n",
       "      <th></th>\n",
       "      <th></th>\n",
       "      <th></th>\n",
       "      <th></th>\n",
       "      <th></th>\n",
       "      <th></th>\n",
       "    </tr>\n",
       "  </thead>\n",
       "  <tbody>\n",
       "    <tr>\n",
       "      <th>2014-12-31</th>\n",
       "      <td>35.450001</td>\n",
       "      <td>34.889999</td>\n",
       "      <td>35.240002</td>\n",
       "      <td>34.910000</td>\n",
       "      <td>12004200.0</td>\n",
       "      <td>27.935520</td>\n",
       "    </tr>\n",
       "    <tr>\n",
       "      <th>2015-01-02</th>\n",
       "      <td>35.310001</td>\n",
       "      <td>34.410000</td>\n",
       "      <td>35.270000</td>\n",
       "      <td>34.840000</td>\n",
       "      <td>9756700.0</td>\n",
       "      <td>27.879498</td>\n",
       "    </tr>\n",
       "    <tr>\n",
       "      <th>2015-01-05</th>\n",
       "      <td>35.250000</td>\n",
       "      <td>34.070000</td>\n",
       "      <td>34.980000</td>\n",
       "      <td>34.330002</td>\n",
       "      <td>16223000.0</td>\n",
       "      <td>27.471392</td>\n",
       "    </tr>\n",
       "    <tr>\n",
       "      <th>2015-01-06</th>\n",
       "      <td>35.220001</td>\n",
       "      <td>34.099998</td>\n",
       "      <td>34.410000</td>\n",
       "      <td>34.849998</td>\n",
       "      <td>17747600.0</td>\n",
       "      <td>27.887501</td>\n",
       "    </tr>\n",
       "    <tr>\n",
       "      <th>2015-01-07</th>\n",
       "      <td>35.950001</td>\n",
       "      <td>35.040001</td>\n",
       "      <td>35.230000</td>\n",
       "      <td>35.840000</td>\n",
       "      <td>19319200.0</td>\n",
       "      <td>28.679714</td>\n",
       "    </tr>\n",
       "    <tr>\n",
       "      <th>...</th>\n",
       "      <td>...</td>\n",
       "      <td>...</td>\n",
       "      <td>...</td>\n",
       "      <td>...</td>\n",
       "      <td>...</td>\n",
       "      <td>...</td>\n",
       "    </tr>\n",
       "    <tr>\n",
       "      <th>2019-12-24</th>\n",
       "      <td>36.740002</td>\n",
       "      <td>36.500000</td>\n",
       "      <td>36.730000</td>\n",
       "      <td>36.580002</td>\n",
       "      <td>2924200.0</td>\n",
       "      <td>36.139141</td>\n",
       "    </tr>\n",
       "    <tr>\n",
       "      <th>2019-12-26</th>\n",
       "      <td>36.599998</td>\n",
       "      <td>36.330002</td>\n",
       "      <td>36.590000</td>\n",
       "      <td>36.480000</td>\n",
       "      <td>5439700.0</td>\n",
       "      <td>36.040344</td>\n",
       "    </tr>\n",
       "    <tr>\n",
       "      <th>2019-12-27</th>\n",
       "      <td>36.709999</td>\n",
       "      <td>36.430000</td>\n",
       "      <td>36.560001</td>\n",
       "      <td>36.560001</td>\n",
       "      <td>5753500.0</td>\n",
       "      <td>36.119381</td>\n",
       "    </tr>\n",
       "    <tr>\n",
       "      <th>2019-12-30</th>\n",
       "      <td>36.639999</td>\n",
       "      <td>36.200001</td>\n",
       "      <td>36.500000</td>\n",
       "      <td>36.439999</td>\n",
       "      <td>5353900.0</td>\n",
       "      <td>36.000824</td>\n",
       "    </tr>\n",
       "    <tr>\n",
       "      <th>2019-12-31</th>\n",
       "      <td>36.740002</td>\n",
       "      <td>36.320000</td>\n",
       "      <td>36.369999</td>\n",
       "      <td>36.599998</td>\n",
       "      <td>5160200.0</td>\n",
       "      <td>36.158894</td>\n",
       "    </tr>\n",
       "  </tbody>\n",
       "</table>\n",
       "<p>1259 rows × 6 columns</p>\n",
       "</div>"
      ],
      "text/plain": [
       "                 High        Low       Open      Close      Volume  Adj Close\n",
       "Date                                                                         \n",
       "2014-12-31  35.450001  34.889999  35.240002  34.910000  12004200.0  27.935520\n",
       "2015-01-02  35.310001  34.410000  35.270000  34.840000   9756700.0  27.879498\n",
       "2015-01-05  35.250000  34.070000  34.980000  34.330002  16223000.0  27.471392\n",
       "2015-01-06  35.220001  34.099998  34.410000  34.849998  17747600.0  27.887501\n",
       "2015-01-07  35.950001  35.040001  35.230000  35.840000  19319200.0  28.679714\n",
       "...               ...        ...        ...        ...         ...        ...\n",
       "2019-12-24  36.740002  36.500000  36.730000  36.580002   2924200.0  36.139141\n",
       "2019-12-26  36.599998  36.330002  36.590000  36.480000   5439700.0  36.040344\n",
       "2019-12-27  36.709999  36.430000  36.560001  36.560001   5753500.0  36.119381\n",
       "2019-12-30  36.639999  36.200001  36.500000  36.439999   5353900.0  36.000824\n",
       "2019-12-31  36.740002  36.320000  36.369999  36.599998   5160200.0  36.158894\n",
       "\n",
       "[1259 rows x 6 columns]"
      ]
     },
     "execution_count": 8,
     "metadata": {},
     "output_type": "execute_result"
    }
   ],
   "source": [
    "df = web.DataReader(ticker, 'yahoo', '2015-01-01', '2020-01-01')\n",
    "df"
   ]
  },
  {
   "cell_type": "code",
   "execution_count": 9,
   "metadata": {},
   "outputs": [
    {
     "data": {
      "image/png": "[encoded data removed]",
      "text/plain": [
       "<Figure size 936x288 with 1 Axes>"
      ]
     },
     "metadata": {
      "needs_background": "light"
     },
     "output_type": "display_data"
    }
   ],
   "source": [
    "plt.figure(figsize=(13,4))\n",
    "plt.title('Stock price '+ ticker)\n",
    "plt.ylabel('Price')\n",
    "plt.grid(True)\n",
    "plt.autoscale(axis='x',tight=True)\n",
    "plt.plot(df['Adj Close'], color='g')\n",
    "plt.show()"
   ]
  },
  {
   "cell_type": "code",
   "execution_count": 10,
   "metadata": {},
   "outputs": [],
   "source": [
    "y = df['Adj Close'].values.astype(float)\n",
    "\n",
    "test_size = 21\n",
    "train_set = y[:-test_size]\n",
    "test_set = y[-test_size:]"
   ]
  },
  {
   "cell_type": "code",
   "execution_count": 11,
   "metadata": {},
   "outputs": [
    {
     "data": {
      "image/png": "[encoded data removed]",
      "text/plain": [
       "<Figure size 936x288 with 1 Axes>"
      ]
     },
     "metadata": {
      "needs_background": "light"
     },
     "output_type": "display_data"
    }
   ],
   "source": [
    "df['Adj Close'].iloc[-test_size:].plot(figsize=(13,4))\n",
    "plt.title('test set')\n",
    "plt.grid(True)"
   ]
  },
  {
   "cell_type": "markdown",
   "metadata": {},
   "source": [
    "# Normalizing data\n",
    "convert to range [-1, 1]"
   ]
  },
  {
   "cell_type": "code",
   "execution_count": 12,
   "metadata": {},
   "outputs": [],
   "source": [
    "scaler = MinMaxScaler(feature_range=(-1, 1))\n",
    "train_norm = scaler.fit_transform(train_set.reshape(-1, 1))"
   ]
  },
  {
   "cell_type": "code",
   "execution_count": 13,
   "metadata": {},
   "outputs": [
    {
     "data": {
      "text/plain": [
       "-1.0"
      ]
     },
     "execution_count": 13,
     "metadata": {},
     "output_type": "execute_result"
    }
   ],
   "source": [
    "train_norm.min()"
   ]
  },
  {
   "cell_type": "code",
   "execution_count": 14,
   "metadata": {},
   "outputs": [
    {
     "data": {
      "text/plain": [
       "1.0"
      ]
     },
     "execution_count": 14,
     "metadata": {},
     "output_type": "execute_result"
    }
   ],
   "source": [
    "train_norm.max()"
   ]
  },
  {
   "cell_type": "code",
   "execution_count": 15,
   "metadata": {},
   "outputs": [
    {
     "data": {
      "text/plain": [
       "-0.027397077916937726"
      ]
     },
     "execution_count": 15,
     "metadata": {},
     "output_type": "execute_result"
    }
   ],
   "source": [
    "train_norm.mean()"
   ]
  },
  {
   "cell_type": "code",
   "execution_count": 16,
   "metadata": {},
   "outputs": [
    {
     "data": {
      "text/plain": [
       "0.4668408313115336"
      ]
     },
     "execution_count": 16,
     "metadata": {},
     "output_type": "execute_result"
    }
   ],
   "source": [
    "train_norm.std()"
   ]
  },
  {
   "cell_type": "markdown",
   "metadata": {},
   "source": [
    "# Input data and label\n",
    "window size = 21\n",
    "\n",
    "[1, 2, 3, ...,21] predict ==> [22]"
   ]
  },
  {
   "cell_type": "code",
   "execution_count": 17,
   "metadata": {},
   "outputs": [
    {
     "data": {
      "text/plain": [
       "1217"
      ]
     },
     "execution_count": 17,
     "metadata": {},
     "output_type": "execute_result"
    }
   ],
   "source": [
    "train_norm = torch.FloatTensor(train_norm).view(-1)\n",
    "\n",
    "window_size = 21\n",
    "\n",
    "\n",
    "def input_data(seq,ws): \n",
    "    out = []\n",
    "    L = len(seq)\n",
    "    for i in range(L-ws):\n",
    "        window = seq[i:i+ws]\n",
    "        label = seq[i+ws:i+ws+1]\n",
    "        out.append((window,label))\n",
    "    return out\n",
    "\n",
    "train_data = input_data(train_norm,window_size)\n",
    "len(train_data)  "
   ]
  },
  {
   "cell_type": "markdown",
   "metadata": {},
   "source": [
    "# 2. LSTM network\n",
    "lstm 2 layers 100 nodes\n",
    "\n",
    "fully connected 1 l layer"
   ]
  },
  {
   "cell_type": "code",
   "execution_count": 18,
   "metadata": {},
   "outputs": [],
   "source": [
    "class LSTMnetwork(nn.Module):\n",
    "    def __init__(self,input_size=1,hidden_size=[100, 100], output_size=1):\n",
    "        super().__init__()\n",
    "        self.hidden_size = hidden_size\n",
    "        \n",
    "        self.lstm1 = nn.LSTM(input_size,hidden_size[0])\n",
    "        \n",
    "        self.lstm2 = nn.LSTM(hidden_size[0], hidden_size[1])\n",
    "        \n",
    "        self.linear = nn.Linear(hidden_size[1], output_size)\n",
    "        \n",
    "        self.hidden = (torch.zeros(1,1,self.hidden_size[0]),\n",
    "                       torch.zeros(1,1,self.hidden_size[0]))\n",
    "\n",
    "    def forward(self,seq):\n",
    "        lstm_out1, self.hidden = self.lstm1(seq.view(len(seq),1,-1), self.hidden)\n",
    "        lstm_out2, self.hidden = self.lstm2(lstm_out1.view(len(seq),1,-1), self.hidden)\n",
    "        pred = self.linear(lstm_out2.view(len(seq),-1))\n",
    "        return pred[-1] \n",
    "        "
   ]
  },
  {
   "cell_type": "code",
   "execution_count": 19,
   "metadata": {},
   "outputs": [
    {
     "data": {
      "text/plain": [
       "LSTMnetwork(\n",
       "  (lstm1): LSTM(1, 100)\n",
       "  (lstm2): LSTM(100, 100)\n",
       "  (linear): Linear(in_features=100, out_features=1, bias=True)\n",
       ")"
      ]
     },
     "execution_count": 19,
     "metadata": {},
     "output_type": "execute_result"
    }
   ],
   "source": [
    "torch.manual_seed(101)\n",
    "model = LSTMnetwork()\n",
    "\n",
    "criterion = nn.MSELoss()\n",
    "optimizer = torch.optim.Adam(model.parameters(), lr=0.001)\n",
    "\n",
    "model"
   ]
  },
  {
   "cell_type": "markdown",
   "metadata": {},
   "source": [
    "# Training"
   ]
  },
  {
   "cell_type": "code",
   "execution_count": 20,
   "metadata": {},
   "outputs": [
    {
     "name": "stdout",
     "output_type": "stream",
     "text": [
      "Epoch:  1 Loss: 0.00491818\n",
      "Epoch:  2 Loss: 0.00366372\n",
      "Epoch:  3 Loss: 0.00372100\n",
      "Epoch:  4 Loss: 0.00358945\n",
      "Epoch:  5 Loss: 0.00160095\n",
      "Epoch:  6 Loss: 0.00040291\n",
      "Epoch:  7 Loss: 0.00142743\n",
      "Epoch:  8 Loss: 0.00090450\n",
      "Epoch:  9 Loss: 0.00011956\n",
      "Epoch: 10 Loss: 0.00000183\n",
      "Epoch: 11 Loss: 0.00205536\n",
      "Epoch: 12 Loss: 0.00000070\n",
      "Epoch: 13 Loss: 0.00438994\n",
      "Epoch: 14 Loss: 0.00197363\n",
      "Epoch: 15 Loss: 0.00241583\n",
      "Epoch: 16 Loss: 0.00085069\n",
      "Epoch: 17 Loss: 0.00034904\n",
      "Epoch: 18 Loss: 0.00133794\n",
      "Epoch: 19 Loss: 0.00081265\n",
      "Epoch: 20 Loss: 0.00029529\n",
      "Epoch: 21 Loss: 0.00310794\n",
      "Epoch: 22 Loss: 0.00017641\n",
      "Epoch: 23 Loss: 0.00007432\n",
      "Epoch: 24 Loss: 0.00160094\n",
      "Epoch: 25 Loss: 0.00223977\n",
      "Epoch: 26 Loss: 0.00003680\n",
      "Epoch: 27 Loss: 0.00003981\n",
      "Epoch: 28 Loss: 0.00000024\n",
      "Epoch: 29 Loss: 0.00008627\n",
      "Epoch: 30 Loss: 0.00013866\n",
      "Epoch: 31 Loss: 0.00011318\n",
      "Epoch: 32 Loss: 0.00024601\n",
      "Epoch: 33 Loss: 0.00027313\n",
      "Epoch: 34 Loss: 0.00026789\n",
      "Epoch: 35 Loss: 0.00017453\n",
      "Epoch: 36 Loss: 0.00011608\n",
      "Epoch: 37 Loss: 0.00016722\n",
      "Epoch: 38 Loss: 0.00008520\n",
      "Epoch: 39 Loss: 0.00005738\n",
      "Epoch: 40 Loss: 0.00008756\n",
      "Epoch: 41 Loss: 0.00009575\n",
      "Epoch: 42 Loss: 0.00006229\n",
      "Epoch: 43 Loss: 0.00008105\n",
      "Epoch: 44 Loss: 0.00004336\n",
      "Epoch: 45 Loss: 0.00003801\n",
      "Epoch: 46 Loss: 0.00002789\n",
      "Epoch: 47 Loss: 0.00002506\n",
      "Epoch: 48 Loss: 0.00001482\n",
      "Epoch: 49 Loss: 0.00002261\n",
      "Epoch: 50 Loss: 0.00001552\n",
      "Epoch: 51 Loss: 0.00023424\n",
      "Epoch: 52 Loss: 0.00000204\n",
      "Epoch: 53 Loss: 0.00003737\n",
      "Epoch: 54 Loss: 0.00001670\n",
      "Epoch: 55 Loss: 0.00000674\n",
      "Epoch: 56 Loss: 0.00000038\n",
      "Epoch: 57 Loss: 0.00001143\n",
      "Epoch: 58 Loss: 0.00000013\n",
      "Epoch: 59 Loss: 0.00002317\n",
      "Epoch: 60 Loss: 0.00004197\n",
      "Epoch: 61 Loss: 0.00000236\n",
      "Epoch: 62 Loss: 0.00000675\n",
      "Epoch: 63 Loss: 0.00001220\n",
      "Epoch: 64 Loss: 0.00000353\n",
      "Epoch: 65 Loss: 0.00000031\n",
      "Epoch: 66 Loss: 0.00000245\n",
      "Epoch: 67 Loss: 0.00006712\n",
      "Epoch: 68 Loss: 0.00000592\n",
      "Epoch: 69 Loss: 0.00000151\n",
      "Epoch: 70 Loss: 0.00000581\n",
      "Epoch: 71 Loss: 0.00000297\n",
      "Epoch: 72 Loss: 0.00000548\n",
      "Epoch: 73 Loss: 0.00003788\n",
      "Epoch: 74 Loss: 0.00000006\n",
      "Epoch: 75 Loss: 0.00000028\n",
      "Epoch: 76 Loss: 0.00003877\n",
      "Epoch: 77 Loss: 0.00003715\n",
      "Epoch: 78 Loss: 0.00000922\n",
      "Epoch: 79 Loss: 0.00004002\n",
      "Epoch: 80 Loss: 0.00009547\n",
      "Epoch: 81 Loss: 0.00000007\n",
      "Epoch: 82 Loss: 0.00000017\n",
      "Epoch: 83 Loss: 0.00000166\n",
      "Epoch: 84 Loss: 0.00004333\n",
      "Epoch: 85 Loss: 0.00000585\n",
      "Epoch: 86 Loss: 0.00002466\n",
      "Epoch: 87 Loss: 0.00000529\n",
      "Epoch: 88 Loss: 0.00018383\n",
      "Epoch: 89 Loss: 0.00189540\n",
      "Epoch: 90 Loss: 0.00009267\n",
      "Epoch: 91 Loss: 0.00015382\n",
      "Epoch: 92 Loss: 0.00011427\n",
      "Epoch: 93 Loss: 0.00045784\n",
      "Epoch: 94 Loss: 0.00014647\n",
      "Epoch: 95 Loss: 0.00020864\n",
      "Epoch: 96 Loss: 0.00009428\n",
      "Epoch: 97 Loss: 0.00020687\n",
      "Epoch: 98 Loss: 0.00007225\n",
      "Epoch: 99 Loss: 0.00031020\n",
      "Epoch: 100 Loss: 0.00013451\n",
      "\n",
      "Duration: 2709 seconds\n"
     ]
    }
   ],
   "source": [
    "epochs = 100\n",
    "losses= []\n",
    "\n",
    "import time\n",
    "start_time = time.time()\n",
    "\n",
    "for epoch in range(epochs):\n",
    "    for seq, y_train in train_data:\n",
    "        \n",
    "        optimizer.zero_grad()\n",
    "        model.hidden = (torch.zeros(1,1,model.hidden_size[0]),\n",
    "                        torch.zeros(1,1,model.hidden_size[0]))\n",
    "        \n",
    "        y_pred = model(seq)\n",
    "        \n",
    "        loss = criterion(y_pred, y_train)\n",
    "        loss.backward()\n",
    "        losses.append(loss.item())\n",
    "        optimizer.step()\n",
    "        \n",
    "    print(f'Epoch: {epoch+1:2} Loss: {loss.item():10.8f}')\n",
    "    \n",
    "print(f'\\nDuration: {time.time() - start_time:.0f} seconds')"
   ]
  },
  {
   "cell_type": "code",
   "execution_count": 21,
   "metadata": {},
   "outputs": [
    {
     "data": {
      "image/png": "[encoded data removed]",
      "text/plain": [
       "<Figure size 936x288 with 1 Axes>"
      ]
     },
     "metadata": {
      "needs_background": "light"
     },
     "output_type": "display_data"
    }
   ],
   "source": [
    "loss = pd.DataFrame(losses, columns=['loss'])\n",
    "loss['loss'].rolling(1217).mean().plot(figsize=(13,4))\n",
    "plt.title('Loss')\n",
    "plt.grid(True)"
   ]
  },
  {
   "cell_type": "markdown",
   "metadata": {},
   "source": [
    "# Forecast\n",
    "21 days in future"
   ]
  },
  {
   "cell_type": "code",
   "execution_count": 22,
   "metadata": {},
   "outputs": [],
   "source": [
    "future = 21\n",
    "\n",
    "preds = train_norm[-window_size:].tolist()\n",
    "\n",
    "model.eval()\n",
    "\n",
    "for i in range(future):\n",
    "    seq = torch.FloatTensor(preds[-window_size:])\n",
    "    with torch.no_grad():\n",
    "        model.hidden = (torch.zeros(1,1,model.hidden_size[0]),\n",
    "                        torch.zeros(1,1,model.hidden_size[0]))\n",
    "        preds.append(model(seq).item())"
   ]
  },
  {
   "cell_type": "code",
   "execution_count": 23,
   "metadata": {},
   "outputs": [],
   "source": [
    "true_predictions = scaler.inverse_transform(np.array(preds[window_size:]).reshape(-1, 1))\n",
    "df1 = pd.DataFrame(true_predictions, index=df.tail(21).index, columns=['pred'])\n"
   ]
  },
  {
   "cell_type": "code",
   "execution_count": 25,
   "metadata": {},
   "outputs": [
    {
     "data": {
      "text/plain": [
       "<matplotlib.legend.Legend at 0x25457343e20>"
      ]
     },
     "execution_count": 25,
     "metadata": {},
     "output_type": "execute_result"
    },
    {
     "data": {
      "image/png": "[encoded data removed]",
      "text/plain": [
       "<Figure size 864x288 with 1 Axes>"
      ]
     },
     "metadata": {
      "needs_background": "light"
     },
     "output_type": "display_data"
    }
   ],
   "source": [
    "plt.figure(figsize=(12,4))\n",
    "plt.grid(True)\n",
    "plt.autoscale(axis='x',tight=True)\n",
    "plt.plot(df['Adj Close'].iloc[-21:], label='Stock price')\n",
    "plt.plot(df1['pred'], label='predicted')\n",
    "plt.legend()"
   ]
  },
  {
   "cell_type": "markdown",
   "metadata": {},
   "source": [
    "# Absolute mean squared error"
   ]
  },
  {
   "cell_type": "code",
   "execution_count": 26,
   "metadata": {},
   "outputs": [
    {
     "data": {
      "text/plain": [
       "1.8419750202469112"
      ]
     },
     "execution_count": 26,
     "metadata": {},
     "output_type": "execute_result"
    }
   ],
   "source": [
    "from sklearn.metrics import mean_squared_error\n",
    "np.sqrt(mean_squared_error(true_predictions.reshape(1, -1), df['Adj Close'][-21:].values.reshape(1, -1)))"
   ]
  },
  {
   "cell_type": "code",
   "execution_count": null,
   "metadata": {},
   "outputs": [],
   "source": []
  }
 ],
 "metadata": {
  "kernelspec": {
   "display_name": "Python 3",
   "language": "python",
   "name": "python3"
  },
  "language_info": {
   "codemirror_mode": {
    "name": "ipython",
    "version": 3
   },
   "file_extension": ".py",
   "mimetype": "text/x-python",
   "name": "python",
   "nbconvert_exporter": "python",
   "pygments_lexer": "ipython3",
   "version": "3.8.5"
  }
 },
 "nbformat": 4,
 "nbformat_minor": 4
}

{
 "cells": [
  {
   "cell_type": "markdown",
   "metadata": {},
   "source": [
    "# Import Module"
   ]
  },
  {
   "cell_type": "code",
   "execution_count": 1,
   "metadata": {},
   "outputs": [],
   "source": [
    "import torch\n",
    "import torch.nn as nn\n",
    "import numpy as np\n",
    "import pandas as pd\n",
    "import matplotlib.pyplot as plt\n",
    "import pandas_datareader as web\n",
    "%matplotlib inline\n",
    "from sklearn.preprocessing import MinMaxScaler\n",
    "from pandas.plotting import register_matplotlib_converters\n",
    "register_matplotlib_converters()"
   ]
  },
  {
   "cell_type": "markdown",
   "metadata": {},
   "source": [
    "# Stock Data \n",
    "training data\n",
    "start: 2015/01/01\n",
    "end: 2019/11/01 \n",
    "\n",
    "testing data \n",
    "start: 2019/12/01\n",
    "end: 2020/01/01"
   ]
  },
  {
   "cell_type": "code",
   "execution_count": 2,
   "metadata": {},
   "outputs": [],
   "source": [
    "ticker = 'amzn'.upper()"
   ]
  },
  {
   "cell_type": "code",
   "execution_count": 3,
   "metadata": {},
   "outputs": [
    {
     "data": {
      "text/html": [
       "<div>\n",
       "<style scoped>\n",
       "    .dataframe tbody tr th:only-of-type {\n",
       "        vertical-align: middle;\n",
       "    }\n",
       "\n",
       "    .dataframe tbody tr th {\n",
       "        vertical-align: top;\n",
       "    }\n",
       "\n",
       "    .dataframe thead th {\n",
       "        text-align: right;\n",
       "    }\n",
       "</style>\n",
       "<table border=\"1\" class=\"dataframe\">\n",
       "  <thead>\n",
       "    <tr style=\"text-align: right;\">\n",
       "      <th></th>\n",
       "      <th>High</th>\n",
       "      <th>Low</th>\n",
       "      <th>Open</th>\n",
       "      <th>Close</th>\n",
       "      <th>Volume</th>\n",
       "      <th>Adj Close</th>\n",
       "    </tr>\n",
       "    <tr>\n",
       "      <th>Date</th>\n",
       "      <th></th>\n",
       "      <th></th>\n",
       "      <th></th>\n",
       "      <th></th>\n",
       "      <th></th>\n",
       "      <th></th>\n",
       "    </tr>\n",
       "  </thead>\n",
       "  <tbody>\n",
       "    <tr>\n",
       "      <th>2014-12-31</th>\n",
       "      <td>312.980011</td>\n",
       "      <td>310.010010</td>\n",
       "      <td>311.549988</td>\n",
       "      <td>310.350006</td>\n",
       "      <td>2048000</td>\n",
       "      <td>310.350006</td>\n",
       "    </tr>\n",
       "    <tr>\n",
       "      <th>2015-01-02</th>\n",
       "      <td>314.750000</td>\n",
       "      <td>306.959991</td>\n",
       "      <td>312.579987</td>\n",
       "      <td>308.519989</td>\n",
       "      <td>2783200</td>\n",
       "      <td>308.519989</td>\n",
       "    </tr>\n",
       "    <tr>\n",
       "      <th>2015-01-05</th>\n",
       "      <td>308.380005</td>\n",
       "      <td>300.850006</td>\n",
       "      <td>307.010010</td>\n",
       "      <td>302.190002</td>\n",
       "      <td>2774200</td>\n",
       "      <td>302.190002</td>\n",
       "    </tr>\n",
       "    <tr>\n",
       "      <th>2015-01-06</th>\n",
       "      <td>303.000000</td>\n",
       "      <td>292.380005</td>\n",
       "      <td>302.239990</td>\n",
       "      <td>295.290009</td>\n",
       "      <td>3519000</td>\n",
       "      <td>295.290009</td>\n",
       "    </tr>\n",
       "    <tr>\n",
       "      <th>2015-01-07</th>\n",
       "      <td>301.279999</td>\n",
       "      <td>295.329987</td>\n",
       "      <td>297.500000</td>\n",
       "      <td>298.420013</td>\n",
       "      <td>2640300</td>\n",
       "      <td>298.420013</td>\n",
       "    </tr>\n",
       "    <tr>\n",
       "      <th>...</th>\n",
       "      <td>...</td>\n",
       "      <td>...</td>\n",
       "      <td>...</td>\n",
       "      <td>...</td>\n",
       "      <td>...</td>\n",
       "      <td>...</td>\n",
       "    </tr>\n",
       "    <tr>\n",
       "      <th>2019-12-24</th>\n",
       "      <td>1795.569946</td>\n",
       "      <td>1787.579956</td>\n",
       "      <td>1793.810059</td>\n",
       "      <td>1789.209961</td>\n",
       "      <td>881300</td>\n",
       "      <td>1789.209961</td>\n",
       "    </tr>\n",
       "    <tr>\n",
       "      <th>2019-12-26</th>\n",
       "      <td>1870.459961</td>\n",
       "      <td>1799.500000</td>\n",
       "      <td>1801.010010</td>\n",
       "      <td>1868.770020</td>\n",
       "      <td>6005400</td>\n",
       "      <td>1868.770020</td>\n",
       "    </tr>\n",
       "    <tr>\n",
       "      <th>2019-12-27</th>\n",
       "      <td>1901.400024</td>\n",
       "      <td>1866.010010</td>\n",
       "      <td>1882.920044</td>\n",
       "      <td>1869.800049</td>\n",
       "      <td>6186600</td>\n",
       "      <td>1869.800049</td>\n",
       "    </tr>\n",
       "    <tr>\n",
       "      <th>2019-12-30</th>\n",
       "      <td>1884.000000</td>\n",
       "      <td>1840.619995</td>\n",
       "      <td>1874.000000</td>\n",
       "      <td>1846.890015</td>\n",
       "      <td>3674700</td>\n",
       "      <td>1846.890015</td>\n",
       "    </tr>\n",
       "    <tr>\n",
       "      <th>2019-12-31</th>\n",
       "      <td>1853.260010</td>\n",
       "      <td>1832.229980</td>\n",
       "      <td>1842.000000</td>\n",
       "      <td>1847.839966</td>\n",
       "      <td>2506500</td>\n",
       "      <td>1847.839966</td>\n",
       "    </tr>\n",
       "  </tbody>\n",
       "</table>\n",
       "<p>1259 rows × 6 columns</p>\n",
       "</div>"
      ],
      "text/plain": [
       "                   High          Low         Open        Close   Volume  \\\n",
       "Date                                                                      \n",
       "2014-12-31   312.980011   310.010010   311.549988   310.350006  2048000   \n",
       "2015-01-02   314.750000   306.959991   312.579987   308.519989  2783200   \n",
       "2015-01-05   308.380005   300.850006   307.010010   302.190002  2774200   \n",
       "2015-01-06   303.000000   292.380005   302.239990   295.290009  3519000   \n",
       "2015-01-07   301.279999   295.329987   297.500000   298.420013  2640300   \n",
       "...                 ...          ...          ...          ...      ...   \n",
       "2019-12-24  1795.569946  1787.579956  1793.810059  1789.209961   881300   \n",
       "2019-12-26  1870.459961  1799.500000  1801.010010  1868.770020  6005400   \n",
       "2019-12-27  1901.400024  1866.010010  1882.920044  1869.800049  6186600   \n",
       "2019-12-30  1884.000000  1840.619995  1874.000000  1846.890015  3674700   \n",
       "2019-12-31  1853.260010  1832.229980  1842.000000  1847.839966  2506500   \n",
       "\n",
       "              Adj Close  \n",
       "Date                     \n",
       "2014-12-31   310.350006  \n",
       "2015-01-02   308.519989  \n",
       "2015-01-05   302.190002  \n",
       "2015-01-06   295.290009  \n",
       "2015-01-07   298.420013  \n",
       "...                 ...  \n",
       "2019-12-24  1789.209961  \n",
       "2019-12-26  1868.770020  \n",
       "2019-12-27  1869.800049  \n",
       "2019-12-30  1846.890015  \n",
       "2019-12-31  1847.839966  \n",
       "\n",
       "[1259 rows x 6 columns]"
      ]
     },
     "execution_count": 3,
     "metadata": {},
     "output_type": "execute_result"
    }
   ],
   "source": [
    "df = web.DataReader(ticker, 'yahoo', '2015-01-01', '2020-01-01')\n",
    "df"
   ]
  },
  {
   "cell_type": "code",
   "execution_count": 4,
   "metadata": {},
   "outputs": [
    {
     "data": {
      "image/png": "[encoded data removed]",
      "text/plain": [
       "<Figure size 936x288 with 1 Axes>"
      ]
     },
     "metadata": {
      "needs_background": "light"
     },
     "output_type": "display_data"
    }
   ],
   "source": [
    "plt.figure(figsize=(13,4))\n",
    "plt.title('Stock price '+ ticker)\n",
    "plt.ylabel('Price')\n",
    "plt.grid(True)\n",
    "plt.autoscale(axis='x',tight=True)\n",
    "plt.plot(df['Adj Close'], color='g')\n",
    "plt.show()"
   ]
  },
  {
   "cell_type": "code",
   "execution_count": 5,
   "metadata": {},
   "outputs": [],
   "source": [
    "y = df['Adj Close'].values.astype(float)\n",
    "\n",
    "test_size = 21\n",
    "train_set = y[:-test_size]\n",
    "test_set = y[-test_size:]"
   ]
  },
  {
   "cell_type": "code",
   "execution_count": 6,
   "metadata": {},
   "outputs": [
    {
     "data": {
      "image/png": "[encoded data removed]",
      "text/plain": [
       "<Figure size 936x288 with 1 Axes>"
      ]
     },
     "metadata": {
      "needs_background": "light"
     },
     "output_type": "display_data"
    }
   ],
   "source": [
    "df['Adj Close'].iloc[-test_size:].plot(figsize=(13,4))\n",
    "plt.title('test set')\n",
    "plt.grid(True)"
   ]
  },
  {
   "cell_type": "markdown",
   "metadata": {},
   "source": [
    "# Normalizing data\n",
    "convert to range [-1, 1]"
   ]
  },
  {
   "cell_type": "code",
   "execution_count": 7,
   "metadata": {},
   "outputs": [],
   "source": [
    "scaler = MinMaxScaler(feature_range=(-1, 1))\n",
    "train_norm = scaler.fit_transform(train_set.reshape(-1, 1))"
   ]
  },
  {
   "cell_type": "code",
   "execution_count": 8,
   "metadata": {},
   "outputs": [
    {
     "data": {
      "text/plain": [
       "-1.0"
      ]
     },
     "execution_count": 8,
     "metadata": {},
     "output_type": "execute_result"
    }
   ],
   "source": [
    "train_norm.min()"
   ]
  },
  {
   "cell_type": "code",
   "execution_count": 9,
   "metadata": {},
   "outputs": [
    {
     "data": {
      "text/plain": [
       "1.0000000000000002"
      ]
     },
     "execution_count": 9,
     "metadata": {},
     "output_type": "execute_result"
    }
   ],
   "source": [
    "train_norm.max()"
   ]
  },
  {
   "cell_type": "code",
   "execution_count": 10,
   "metadata": {},
   "outputs": [
    {
     "data": {
      "text/plain": [
       "-0.06871100933975806"
      ]
     },
     "execution_count": 10,
     "metadata": {},
     "output_type": "execute_result"
    }
   ],
   "source": [
    "train_norm.mean()"
   ]
  },
  {
   "cell_type": "code",
   "execution_count": 11,
   "metadata": {},
   "outputs": [
    {
     "data": {
      "text/plain": [
       "0.6038728184491539"
      ]
     },
     "execution_count": 11,
     "metadata": {},
     "output_type": "execute_result"
    }
   ],
   "source": [
    "train_norm.std()"
   ]
  },
  {
   "cell_type": "markdown",
   "metadata": {},
   "source": [
    "# Input data and label\n",
    "window size = 21\n",
    "\n",
    "[1, 2, 3, ...,21] predict ==> [22]"
   ]
  },
  {
   "cell_type": "code",
   "execution_count": 12,
   "metadata": {},
   "outputs": [
    {
     "data": {
      "text/plain": [
       "1217"
      ]
     },
     "execution_count": 12,
     "metadata": {},
     "output_type": "execute_result"
    }
   ],
   "source": [
    "train_norm = torch.FloatTensor(train_norm).view(-1)\n",
    "\n",
    "window_size = 21\n",
    "\n",
    "\n",
    "def input_data(seq,ws): \n",
    "    out = []\n",
    "    L = len(seq)\n",
    "    for i in range(L-ws):\n",
    "        window = seq[i:i+ws]\n",
    "        label = seq[i+ws:i+ws+1]\n",
    "        out.append((window,label))\n",
    "    return out\n",
    "\n",
    "train_data = input_data(train_norm,window_size)\n",
    "len(train_data)  "
   ]
  },
  {
   "cell_type": "markdown",
   "metadata": {},
   "source": [
    "# 2. LSTM network\n",
    "lstm 2 layers 100 nodes\n",
    "\n",
    "fully connected 1 l layer"
   ]
  },
  {
   "cell_type": "code",
   "execution_count": 13,
   "metadata": {},
   "outputs": [],
   "source": [
    "class LSTMnetwork(nn.Module):\n",
    "    def __init__(self,input_size=1,hidden_size=[100, 100], output_size=1):\n",
    "        super().__init__()\n",
    "        self.hidden_size = hidden_size\n",
    "        \n",
    "        self.lstm1 = nn.LSTM(input_size,hidden_size[0])\n",
    "        \n",
    "        self.lstm2 = nn.LSTM(hidden_size[0], hidden_size[1])\n",
    "        \n",
    "        self.linear = nn.Linear(hidden_size[1], output_size)\n",
    "        \n",
    "        self.hidden = (torch.zeros(1,1,self.hidden_size[0]),\n",
    "                       torch.zeros(1,1,self.hidden_size[0]))\n",
    "\n",
    "    def forward(self,seq):\n",
    "        lstm_out1, self.hidden = self.lstm1(seq.view(len(seq),1,-1), self.hidden)\n",
    "        lstm_out2, self.hidden = self.lstm2(lstm_out1.view(len(seq),1,-1), self.hidden)\n",
    "        pred = self.linear(lstm_out2.view(len(seq),-1))\n",
    "        return pred[-1] \n",
    "        "
   ]
  },
  {
   "cell_type": "code",
   "execution_count": 14,
   "metadata": {},
   "outputs": [
    {
     "data": {
      "text/plain": [
       "LSTMnetwork(\n",
       "  (lstm1): LSTM(1, 100)\n",
       "  (lstm2): LSTM(100, 100)\n",
       "  (linear): Linear(in_features=100, out_features=1, bias=True)\n",
       ")"
      ]
     },
     "execution_count": 14,
     "metadata": {},
     "output_type": "execute_result"
    }
   ],
   "source": [
    "torch.manual_seed(101)\n",
    "model = LSTMnetwork()\n",
    "\n",
    "criterion = nn.MSELoss()\n",
    "optimizer = torch.optim.Adam(model.parameters(), lr=0.001)\n",
    "\n",
    "model"
   ]
  },
  {
   "cell_type": "markdown",
   "metadata": {},
   "source": [
    "# Training"
   ]
  },
  {
   "cell_type": "code",
   "execution_count": 15,
   "metadata": {},
   "outputs": [
    {
     "name": "stdout",
     "output_type": "stream",
     "text": [
      "Epoch:  1 Loss: 0.00346627\n",
      "Epoch:  2 Loss: 0.00059315\n",
      "Epoch:  3 Loss: 0.00103067\n",
      "Epoch:  4 Loss: 0.00059208\n",
      "Epoch:  5 Loss: 0.00119672\n",
      "Epoch:  6 Loss: 0.00091317\n",
      "Epoch:  7 Loss: 0.00115525\n",
      "Epoch:  8 Loss: 0.00102571\n",
      "Epoch:  9 Loss: 0.00136615\n",
      "Epoch: 10 Loss: 0.00062569\n",
      "Epoch: 11 Loss: 0.00116774\n",
      "Epoch: 12 Loss: 0.00101308\n",
      "Epoch: 13 Loss: 0.00109320\n",
      "Epoch: 14 Loss: 0.00101541\n",
      "Epoch: 15 Loss: 0.00090661\n",
      "Epoch: 16 Loss: 0.00080740\n",
      "Epoch: 17 Loss: 0.00066288\n",
      "Epoch: 18 Loss: 0.00092497\n",
      "Epoch: 19 Loss: 0.00100347\n",
      "Epoch: 20 Loss: 0.00104040\n",
      "Epoch: 21 Loss: 0.00103318\n",
      "Epoch: 22 Loss: 0.00105392\n",
      "Epoch: 23 Loss: 0.00138976\n",
      "Epoch: 24 Loss: 0.00098144\n",
      "Epoch: 25 Loss: 0.00078297\n",
      "Epoch: 26 Loss: 0.00098374\n",
      "Epoch: 27 Loss: 0.00092082\n",
      "Epoch: 28 Loss: 0.00105205\n",
      "Epoch: 29 Loss: 0.00103424\n",
      "Epoch: 30 Loss: 0.00098701\n",
      "Epoch: 31 Loss: 0.00094790\n",
      "Epoch: 32 Loss: 0.00096464\n",
      "Epoch: 33 Loss: 0.00020436\n",
      "Epoch: 34 Loss: 0.00082585\n",
      "Epoch: 35 Loss: 0.00085996\n",
      "Epoch: 36 Loss: 0.00081703\n",
      "Epoch: 37 Loss: 0.00075121\n",
      "Epoch: 38 Loss: 0.00067592\n",
      "Epoch: 39 Loss: 0.00060289\n",
      "Epoch: 40 Loss: 0.00052344\n",
      "Epoch: 41 Loss: 0.00047731\n",
      "Epoch: 42 Loss: 0.00042190\n",
      "Epoch: 43 Loss: 0.00038539\n",
      "Epoch: 44 Loss: 0.00034145\n",
      "Epoch: 45 Loss: 0.00034428\n",
      "Epoch: 46 Loss: 0.00061594\n",
      "Epoch: 47 Loss: 0.00034172\n",
      "Epoch: 48 Loss: 0.00030481\n",
      "Epoch: 49 Loss: 0.00020455\n",
      "Epoch: 50 Loss: 0.00005011\n",
      "Epoch: 51 Loss: 0.00051512\n",
      "Epoch: 52 Loss: 0.00000371\n",
      "Epoch: 53 Loss: 0.00004843\n",
      "Epoch: 54 Loss: 0.00010469\n",
      "Epoch: 55 Loss: 0.00023814\n",
      "Epoch: 56 Loss: 0.00013527\n",
      "Epoch: 57 Loss: 0.00006859\n",
      "Epoch: 58 Loss: 0.00095555\n",
      "Epoch: 59 Loss: 0.00130899\n",
      "Epoch: 60 Loss: 0.00160240\n",
      "Epoch: 61 Loss: 0.00128747\n",
      "Epoch: 62 Loss: 0.00079315\n",
      "Epoch: 63 Loss: 0.00049683\n",
      "Epoch: 64 Loss: 0.00002497\n",
      "Epoch: 65 Loss: 0.00125471\n",
      "Epoch: 66 Loss: 0.00009359\n",
      "Epoch: 67 Loss: 0.00130223\n",
      "Epoch: 68 Loss: 0.00090526\n",
      "Epoch: 69 Loss: 0.00064622\n",
      "Epoch: 70 Loss: 0.00002460\n",
      "Epoch: 71 Loss: 0.00004764\n",
      "Epoch: 72 Loss: 0.00004745\n",
      "Epoch: 73 Loss: 0.00027390\n",
      "Epoch: 74 Loss: 0.00081667\n",
      "Epoch: 75 Loss: 0.00081711\n",
      "Epoch: 76 Loss: 0.00099555\n",
      "Epoch: 77 Loss: 0.00000472\n",
      "Epoch: 78 Loss: 0.00200997\n",
      "Epoch: 79 Loss: 0.00020974\n",
      "Epoch: 80 Loss: 0.00049802\n",
      "Epoch: 81 Loss: 0.00008866\n",
      "Epoch: 82 Loss: 0.00002818\n",
      "Epoch: 83 Loss: 0.00001213\n",
      "Epoch: 84 Loss: 0.00000211\n",
      "Epoch: 85 Loss: 0.00034901\n",
      "Epoch: 86 Loss: 0.00009997\n",
      "Epoch: 87 Loss: 0.00001706\n",
      "Epoch: 88 Loss: 0.00005802\n",
      "Epoch: 89 Loss: 0.00003063\n",
      "Epoch: 90 Loss: 0.00032431\n",
      "Epoch: 91 Loss: 0.00079203\n",
      "Epoch: 92 Loss: 0.00002955\n",
      "Epoch: 93 Loss: 0.00000584\n",
      "Epoch: 94 Loss: 0.00015754\n",
      "Epoch: 95 Loss: 0.00004140\n",
      "Epoch: 96 Loss: 0.00007042\n",
      "Epoch: 97 Loss: 0.00000020\n",
      "Epoch: 98 Loss: 0.00011721\n",
      "Epoch: 99 Loss: 0.00013049\n",
      "Epoch: 100 Loss: 0.00015423\n",
      "\n",
      "Duration: 2672 seconds\n"
     ]
    }
   ],
   "source": [
    "epochs = 100\n",
    "losses= []\n",
    "\n",
    "import time\n",
    "start_time = time.time()\n",
    "\n",
    "for epoch in range(epochs):\n",
    "    for seq, y_train in train_data:\n",
    "        \n",
    "        optimizer.zero_grad()\n",
    "        model.hidden = (torch.zeros(1,1,model.hidden_size[0]),\n",
    "                        torch.zeros(1,1,model.hidden_size[0]))\n",
    "        \n",
    "        y_pred = model(seq)\n",
    "        \n",
    "        loss = criterion(y_pred, y_train)\n",
    "        loss.backward()\n",
    "        losses.append(loss.item())\n",
    "        optimizer.step()\n",
    "        \n",
    "    print(f'Epoch: {epoch+1:2} Loss: {loss.item():10.8f}')\n",
    "    \n",
    "print(f'\\nDuration: {time.time() - start_time:.0f} seconds')"
   ]
  },
  {
   "cell_type": "code",
   "execution_count": 16,
   "metadata": {},
   "outputs": [
    {
     "data": {
      "image/png": "[encoded data removed]",
      "text/plain": [
       "<Figure size 936x288 with 1 Axes>"
      ]
     },
     "metadata": {
      "needs_background": "light"
     },
     "output_type": "display_data"
    }
   ],
   "source": [
    "loss = pd.DataFrame(losses, columns=['loss'])\n",
    "loss['loss'].rolling(1217).mean().plot(figsize=(13,4))\n",
    "plt.title('Loss')\n",
    "plt.grid(True)"
   ]
  },
  {
   "cell_type": "markdown",
   "metadata": {},
   "source": [
    "# Forecast\n",
    "21 days in future"
   ]
  },
  {
   "cell_type": "code",
   "execution_count": 17,
   "metadata": {},
   "outputs": [],
   "source": [
    "future = 21\n",
    "\n",
    "preds = train_norm[-window_size:].tolist()\n",
    "\n",
    "model.eval()\n",
    "\n",
    "for i in range(future):\n",
    "    seq = torch.FloatTensor(preds[-window_size:])\n",
    "    with torch.no_grad():\n",
    "        model.hidden = (torch.zeros(1,1,model.hidden_size[0]),\n",
    "                        torch.zeros(1,1,model.hidden_size[0]))\n",
    "        preds.append(model(seq).item())"
   ]
  },
  {
   "cell_type": "code",
   "execution_count": 18,
   "metadata": {},
   "outputs": [],
   "source": [
    "true_predictions = scaler.inverse_transform(np.array(preds[window_size:]).reshape(-1, 1))\n",
    "df1 = pd.DataFrame(true_predictions, index=df.tail(21).index, columns=['pred'])\n"
   ]
  },
  {
   "cell_type": "code",
   "execution_count": 19,
   "metadata": {},
   "outputs": [
    {
     "data": {
      "text/plain": [
       "<matplotlib.legend.Legend at 0x254d7fd4d00>"
      ]
     },
     "execution_count": 19,
     "metadata": {},
     "output_type": "execute_result"
    },
    {
     "data": {
      "image/png": "[encoded data removed]",
      "text/plain": [
       "<Figure size 864x288 with 1 Axes>"
      ]
     },
     "metadata": {
      "needs_background": "light"
     },
     "output_type": "display_data"
    }
   ],
   "source": [
    "plt.figure(figsize=(12,4))\n",
    "plt.grid(True)\n",
    "plt.autoscale(axis='x',tight=True)\n",
    "plt.plot(df['Adj Close'].iloc[-21:], label='Stock price')\n",
    "plt.plot(df1['pred'], label='predicted')\n",
    "plt.legend()"
   ]
  },
  {
   "cell_type": "markdown",
   "metadata": {},
   "source": [
    "# Absolute mean squared error"
   ]
  },
  {
   "cell_type": "code",
   "execution_count": 20,
   "metadata": {},
   "outputs": [
    {
     "data": {
      "text/plain": [
       "49.72818034428435"
      ]
     },
     "execution_count": 20,
     "metadata": {},
     "output_type": "execute_result"
    }
   ],
   "source": [
    "from sklearn.metrics import mean_squared_error\n",
    "np.sqrt(mean_squared_error(true_predictions.reshape(1, -1), df['Adj Close'][-21:].values.reshape(1, -1)))"
   ]
  },
  {
   "cell_type": "code",
   "execution_count": null,
   "metadata": {},
   "outputs": [],
   "source": []
  }
 ],
 "metadata": {
  "kernelspec": {
   "display_name": "Python 3",
   "language": "python",
   "name": "python3"
  },
  "language_info": {
   "codemirror_mode": {
    "name": "ipython",
    "version": 3
   },
   "file_extension": ".py",
   "mimetype": "text/x-python",
   "name": "python",
   "nbconvert_exporter": "python",
   "pygments_lexer": "ipython3",
   "version": "3.8.5"
  }
 },
 "nbformat": 4,
 "nbformat_minor": 4
}

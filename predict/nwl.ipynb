{
 "cells": [
  {
   "cell_type": "markdown",
   "metadata": {},
   "source": [
    "# Import Module"
   ]
  },
  {
   "cell_type": "code",
   "execution_count": 1,
   "metadata": {},
   "outputs": [],
   "source": [
    "import torch\n",
    "import torch.nn as nn\n",
    "import numpy as np\n",
    "import pandas as pd\n",
    "import matplotlib.pyplot as plt\n",
    "import pandas_datareader as web\n",
    "%matplotlib inline\n",
    "from sklearn.preprocessing import MinMaxScaler\n",
    "from pandas.plotting import register_matplotlib_converters\n",
    "register_matplotlib_converters()"
   ]
  },
  {
   "cell_type": "markdown",
   "metadata": {},
   "source": [
    "# Stock Data \n",
    "training data\n",
    "start: 2015/01/01\n",
    "end: 2019/11/01 \n",
    "\n",
    "testing data \n",
    "start: 2019/12/01\n",
    "end: 2020/01/01"
   ]
  },
  {
   "cell_type": "code",
   "execution_count": 2,
   "metadata": {},
   "outputs": [],
   "source": [
    "ticker = 'nwl'.upper()"
   ]
  },
  {
   "cell_type": "code",
   "execution_count": 3,
   "metadata": {},
   "outputs": [
    {
     "data": {
      "text/html": [
       "<div>\n",
       "<style scoped>\n",
       "    .dataframe tbody tr th:only-of-type {\n",
       "        vertical-align: middle;\n",
       "    }\n",
       "\n",
       "    .dataframe tbody tr th {\n",
       "        vertical-align: top;\n",
       "    }\n",
       "\n",
       "    .dataframe thead th {\n",
       "        text-align: right;\n",
       "    }\n",
       "</style>\n",
       "<table border=\"1\" class=\"dataframe\">\n",
       "  <thead>\n",
       "    <tr style=\"text-align: right;\">\n",
       "      <th></th>\n",
       "      <th>High</th>\n",
       "      <th>Low</th>\n",
       "      <th>Open</th>\n",
       "      <th>Close</th>\n",
       "      <th>Volume</th>\n",
       "      <th>Adj Close</th>\n",
       "    </tr>\n",
       "    <tr>\n",
       "      <th>Date</th>\n",
       "      <th></th>\n",
       "      <th></th>\n",
       "      <th></th>\n",
       "      <th></th>\n",
       "      <th></th>\n",
       "      <th></th>\n",
       "    </tr>\n",
       "  </thead>\n",
       "  <tbody>\n",
       "    <tr>\n",
       "      <th>2014-12-31</th>\n",
       "      <td>38.700001</td>\n",
       "      <td>38.060001</td>\n",
       "      <td>38.540001</td>\n",
       "      <td>38.090000</td>\n",
       "      <td>899700.0</td>\n",
       "      <td>31.020161</td>\n",
       "    </tr>\n",
       "    <tr>\n",
       "      <th>2015-01-02</th>\n",
       "      <td>38.270000</td>\n",
       "      <td>37.610001</td>\n",
       "      <td>38.150002</td>\n",
       "      <td>37.860001</td>\n",
       "      <td>903900.0</td>\n",
       "      <td>30.832848</td>\n",
       "    </tr>\n",
       "    <tr>\n",
       "      <th>2015-01-05</th>\n",
       "      <td>37.740002</td>\n",
       "      <td>37.259998</td>\n",
       "      <td>37.730000</td>\n",
       "      <td>37.419998</td>\n",
       "      <td>1158200.0</td>\n",
       "      <td>30.474516</td>\n",
       "    </tr>\n",
       "    <tr>\n",
       "      <th>2015-01-06</th>\n",
       "      <td>37.490002</td>\n",
       "      <td>36.689999</td>\n",
       "      <td>37.340000</td>\n",
       "      <td>36.770000</td>\n",
       "      <td>2335800.0</td>\n",
       "      <td>29.945164</td>\n",
       "    </tr>\n",
       "    <tr>\n",
       "      <th>2015-01-07</th>\n",
       "      <td>37.299999</td>\n",
       "      <td>36.799999</td>\n",
       "      <td>37.090000</td>\n",
       "      <td>36.990002</td>\n",
       "      <td>3781100.0</td>\n",
       "      <td>30.124331</td>\n",
       "    </tr>\n",
       "    <tr>\n",
       "      <th>...</th>\n",
       "      <td>...</td>\n",
       "      <td>...</td>\n",
       "      <td>...</td>\n",
       "      <td>...</td>\n",
       "      <td>...</td>\n",
       "      <td>...</td>\n",
       "    </tr>\n",
       "    <tr>\n",
       "      <th>2019-12-24</th>\n",
       "      <td>19.410000</td>\n",
       "      <td>19.200001</td>\n",
       "      <td>19.330000</td>\n",
       "      <td>19.389999</td>\n",
       "      <td>884400.0</td>\n",
       "      <td>18.348536</td>\n",
       "    </tr>\n",
       "    <tr>\n",
       "      <th>2019-12-26</th>\n",
       "      <td>19.510000</td>\n",
       "      <td>19.010000</td>\n",
       "      <td>19.410000</td>\n",
       "      <td>19.090000</td>\n",
       "      <td>1836500.0</td>\n",
       "      <td>18.064650</td>\n",
       "    </tr>\n",
       "    <tr>\n",
       "      <th>2019-12-27</th>\n",
       "      <td>19.320000</td>\n",
       "      <td>19.070000</td>\n",
       "      <td>19.160000</td>\n",
       "      <td>19.230000</td>\n",
       "      <td>2346800.0</td>\n",
       "      <td>18.197130</td>\n",
       "    </tr>\n",
       "    <tr>\n",
       "      <th>2019-12-30</th>\n",
       "      <td>19.270000</td>\n",
       "      <td>19.020000</td>\n",
       "      <td>19.219999</td>\n",
       "      <td>19.120001</td>\n",
       "      <td>1502600.0</td>\n",
       "      <td>18.093040</td>\n",
       "    </tr>\n",
       "    <tr>\n",
       "      <th>2019-12-31</th>\n",
       "      <td>19.450001</td>\n",
       "      <td>19.110001</td>\n",
       "      <td>19.120001</td>\n",
       "      <td>19.219999</td>\n",
       "      <td>2165200.0</td>\n",
       "      <td>18.187668</td>\n",
       "    </tr>\n",
       "  </tbody>\n",
       "</table>\n",
       "<p>1259 rows × 6 columns</p>\n",
       "</div>"
      ],
      "text/plain": [
       "                 High        Low       Open      Close     Volume  Adj Close\n",
       "Date                                                                        \n",
       "2014-12-31  38.700001  38.060001  38.540001  38.090000   899700.0  31.020161\n",
       "2015-01-02  38.270000  37.610001  38.150002  37.860001   903900.0  30.832848\n",
       "2015-01-05  37.740002  37.259998  37.730000  37.419998  1158200.0  30.474516\n",
       "2015-01-06  37.490002  36.689999  37.340000  36.770000  2335800.0  29.945164\n",
       "2015-01-07  37.299999  36.799999  37.090000  36.990002  3781100.0  30.124331\n",
       "...               ...        ...        ...        ...        ...        ...\n",
       "2019-12-24  19.410000  19.200001  19.330000  19.389999   884400.0  18.348536\n",
       "2019-12-26  19.510000  19.010000  19.410000  19.090000  1836500.0  18.064650\n",
       "2019-12-27  19.320000  19.070000  19.160000  19.230000  2346800.0  18.197130\n",
       "2019-12-30  19.270000  19.020000  19.219999  19.120001  1502600.0  18.093040\n",
       "2019-12-31  19.450001  19.110001  19.120001  19.219999  2165200.0  18.187668\n",
       "\n",
       "[1259 rows x 6 columns]"
      ]
     },
     "execution_count": 3,
     "metadata": {},
     "output_type": "execute_result"
    }
   ],
   "source": [
    "df = web.DataReader(ticker, 'yahoo', '2015-01-01', '2020-01-01')\n",
    "df"
   ]
  },
  {
   "cell_type": "code",
   "execution_count": 4,
   "metadata": {},
   "outputs": [
    {
     "data": {
      "image/png": "[encoded data removed]",
      "text/plain": [
       "<Figure size 936x288 with 1 Axes>"
      ]
     },
     "metadata": {
      "needs_background": "light"
     },
     "output_type": "display_data"
    }
   ],
   "source": [
    "plt.figure(figsize=(13,4))\n",
    "plt.title('Stock price '+ ticker)\n",
    "plt.ylabel('Price')\n",
    "plt.grid(True)\n",
    "plt.autoscale(axis='x',tight=True)\n",
    "plt.plot(df['Adj Close'], color='g')\n",
    "plt.show()"
   ]
  },
  {
   "cell_type": "code",
   "execution_count": 5,
   "metadata": {},
   "outputs": [],
   "source": [
    "y = df['Adj Close'].values.astype(float)\n",
    "\n",
    "test_size = 21\n",
    "train_set = y[:-test_size]\n",
    "test_set = y[-test_size:]"
   ]
  },
  {
   "cell_type": "code",
   "execution_count": 6,
   "metadata": {},
   "outputs": [
    {
     "data": {
      "image/png": "[encoded data removed]",
      "text/plain": [
       "<Figure size 936x288 with 1 Axes>"
      ]
     },
     "metadata": {
      "needs_background": "light"
     },
     "output_type": "display_data"
    }
   ],
   "source": [
    "df['Adj Close'].iloc[-test_size:].plot(figsize=(13,4))\n",
    "plt.title('test set')\n",
    "plt.grid(True)"
   ]
  },
  {
   "cell_type": "markdown",
   "metadata": {},
   "source": [
    "# Normalizing data\n",
    "convert to range [-1, 1]"
   ]
  },
  {
   "cell_type": "code",
   "execution_count": 7,
   "metadata": {},
   "outputs": [],
   "source": [
    "scaler = MinMaxScaler(feature_range=(-1, 1))\n",
    "train_norm = scaler.fit_transform(train_set.reshape(-1, 1))"
   ]
  },
  {
   "cell_type": "code",
   "execution_count": 8,
   "metadata": {},
   "outputs": [
    {
     "data": {
      "text/plain": [
       "-1.0"
      ]
     },
     "execution_count": 8,
     "metadata": {},
     "output_type": "execute_result"
    }
   ],
   "source": [
    "train_norm.min()"
   ]
  },
  {
   "cell_type": "code",
   "execution_count": 9,
   "metadata": {},
   "outputs": [
    {
     "data": {
      "text/plain": [
       "0.9999999999999998"
      ]
     },
     "execution_count": 9,
     "metadata": {},
     "output_type": "execute_result"
    }
   ],
   "source": [
    "train_norm.max()"
   ]
  },
  {
   "cell_type": "code",
   "execution_count": 10,
   "metadata": {},
   "outputs": [
    {
     "data": {
      "text/plain": [
       "0.023112388695391253"
      ]
     },
     "execution_count": 10,
     "metadata": {},
     "output_type": "execute_result"
    }
   ],
   "source": [
    "train_norm.mean()"
   ]
  },
  {
   "cell_type": "code",
   "execution_count": 11,
   "metadata": {},
   "outputs": [
    {
     "data": {
      "text/plain": [
       "0.594455338875611"
      ]
     },
     "execution_count": 11,
     "metadata": {},
     "output_type": "execute_result"
    }
   ],
   "source": [
    "train_norm.std()"
   ]
  },
  {
   "cell_type": "markdown",
   "metadata": {},
   "source": [
    "# Input data and label\n",
    "window size = 21\n",
    "\n",
    "[1, 2, 3, ...,21] predict ==> [22]"
   ]
  },
  {
   "cell_type": "code",
   "execution_count": 12,
   "metadata": {},
   "outputs": [
    {
     "data": {
      "text/plain": [
       "1217"
      ]
     },
     "execution_count": 12,
     "metadata": {},
     "output_type": "execute_result"
    }
   ],
   "source": [
    "train_norm = torch.FloatTensor(train_norm).view(-1)\n",
    "\n",
    "window_size = 21\n",
    "\n",
    "\n",
    "def input_data(seq,ws): \n",
    "    out = []\n",
    "    L = len(seq)\n",
    "    for i in range(L-ws):\n",
    "        window = seq[i:i+ws]\n",
    "        label = seq[i+ws:i+ws+1]\n",
    "        out.append((window,label))\n",
    "    return out\n",
    "\n",
    "train_data = input_data(train_norm,window_size)\n",
    "len(train_data)  "
   ]
  },
  {
   "cell_type": "markdown",
   "metadata": {},
   "source": [
    "# 2. LSTM network\n",
    "lstm 2 layers 100 nodes\n",
    "\n",
    "fully connected 1 l layer"
   ]
  },
  {
   "cell_type": "code",
   "execution_count": 13,
   "metadata": {},
   "outputs": [],
   "source": [
    "class LSTMnetwork(nn.Module):\n",
    "    def __init__(self,input_size=1,hidden_size=[100, 100], output_size=1):\n",
    "        super().__init__()\n",
    "        self.hidden_size = hidden_size\n",
    "        \n",
    "        self.lstm1 = nn.LSTM(input_size,hidden_size[0])\n",
    "        \n",
    "        self.lstm2 = nn.LSTM(hidden_size[0], hidden_size[1])\n",
    "        \n",
    "        self.linear = nn.Linear(hidden_size[1], output_size)\n",
    "        \n",
    "        self.hidden = (torch.zeros(1,1,self.hidden_size[0]),\n",
    "                       torch.zeros(1,1,self.hidden_size[0]))\n",
    "\n",
    "    def forward(self,seq):\n",
    "        lstm_out1, self.hidden = self.lstm1(seq.view(len(seq),1,-1), self.hidden)\n",
    "        lstm_out2, self.hidden = self.lstm2(lstm_out1.view(len(seq),1,-1), self.hidden)\n",
    "        pred = self.linear(lstm_out2.view(len(seq),-1))\n",
    "        return pred[-1] \n",
    "        "
   ]
  },
  {
   "cell_type": "code",
   "execution_count": 14,
   "metadata": {},
   "outputs": [
    {
     "data": {
      "text/plain": [
       "LSTMnetwork(\n",
       "  (lstm1): LSTM(1, 100)\n",
       "  (lstm2): LSTM(100, 100)\n",
       "  (linear): Linear(in_features=100, out_features=1, bias=True)\n",
       ")"
      ]
     },
     "execution_count": 14,
     "metadata": {},
     "output_type": "execute_result"
    }
   ],
   "source": [
    "torch.manual_seed(101)\n",
    "model = LSTMnetwork()\n",
    "\n",
    "criterion = nn.MSELoss()\n",
    "optimizer = torch.optim.Adam(model.parameters(), lr=0.001)\n",
    "\n",
    "model"
   ]
  },
  {
   "cell_type": "markdown",
   "metadata": {},
   "source": [
    "# Training"
   ]
  },
  {
   "cell_type": "code",
   "execution_count": 15,
   "metadata": {},
   "outputs": [
    {
     "name": "stdout",
     "output_type": "stream",
     "text": [
      "Epoch:  1 Loss: 0.00022139\n",
      "Epoch:  2 Loss: 0.00000578\n",
      "Epoch:  3 Loss: 0.00000671\n",
      "Epoch:  4 Loss: 0.00000040\n",
      "Epoch:  5 Loss: 0.00000218\n",
      "Epoch:  6 Loss: 0.00000480\n",
      "Epoch:  7 Loss: 0.00002914\n",
      "Epoch:  8 Loss: 0.00015764\n",
      "Epoch:  9 Loss: 0.00025081\n",
      "Epoch: 10 Loss: 0.00062535\n",
      "Epoch: 11 Loss: 0.00059860\n",
      "Epoch: 12 Loss: 0.00057376\n",
      "Epoch: 13 Loss: 0.00053221\n",
      "Epoch: 14 Loss: 0.00054808\n",
      "Epoch: 15 Loss: 0.00004159\n",
      "Epoch: 16 Loss: 0.00000732\n",
      "Epoch: 17 Loss: 0.00060499\n",
      "Epoch: 18 Loss: 0.00025397\n",
      "Epoch: 19 Loss: 0.00016404\n",
      "Epoch: 20 Loss: 0.00041896\n",
      "Epoch: 21 Loss: 0.00013468\n",
      "Epoch: 22 Loss: 0.00002125\n",
      "Epoch: 23 Loss: 0.00000000\n",
      "Epoch: 24 Loss: 0.00000149\n",
      "Epoch: 25 Loss: 0.00000563\n",
      "Epoch: 26 Loss: 0.00000090\n",
      "Epoch: 27 Loss: 0.00000019\n",
      "Epoch: 28 Loss: 0.00000048\n",
      "Epoch: 29 Loss: 0.00000013\n",
      "Epoch: 30 Loss: 0.00017033\n",
      "Epoch: 31 Loss: 0.00000045\n",
      "Epoch: 32 Loss: 0.00028949\n",
      "Epoch: 33 Loss: 0.00001328\n",
      "Epoch: 34 Loss: 0.00030642\n",
      "Epoch: 35 Loss: 0.00043273\n",
      "Epoch: 36 Loss: 0.00000023\n",
      "Epoch: 37 Loss: 0.00000831\n",
      "Epoch: 38 Loss: 0.00000294\n",
      "Epoch: 39 Loss: 0.00000560\n",
      "Epoch: 40 Loss: 0.00008834\n",
      "Epoch: 41 Loss: 0.00000361\n",
      "Epoch: 42 Loss: 0.00000210\n",
      "Epoch: 43 Loss: 0.00000362\n",
      "Epoch: 44 Loss: 0.00015122\n",
      "Epoch: 45 Loss: 0.00001723\n",
      "Epoch: 46 Loss: 0.00010490\n",
      "Epoch: 47 Loss: 0.00002792\n",
      "Epoch: 48 Loss: 0.00000982\n",
      "Epoch: 49 Loss: 0.00013889\n",
      "Epoch: 50 Loss: 0.00000916\n",
      "Epoch: 51 Loss: 0.00004382\n",
      "Epoch: 52 Loss: 0.00000035\n",
      "Epoch: 53 Loss: 0.00000000\n",
      "Epoch: 54 Loss: 0.00000157\n",
      "Epoch: 55 Loss: 0.00000520\n",
      "Epoch: 56 Loss: 0.00004172\n",
      "Epoch: 57 Loss: 0.00010951\n",
      "Epoch: 58 Loss: 0.00000051\n",
      "Epoch: 59 Loss: 0.00012060\n",
      "Epoch: 60 Loss: 0.00000486\n",
      "Epoch: 61 Loss: 0.00006225\n",
      "Epoch: 62 Loss: 0.00001052\n",
      "Epoch: 63 Loss: 0.00002466\n",
      "Epoch: 64 Loss: 0.00012467\n",
      "Epoch: 65 Loss: 0.00002822\n",
      "Epoch: 66 Loss: 0.00007459\n",
      "Epoch: 67 Loss: 0.00001686\n",
      "Epoch: 68 Loss: 0.00000071\n",
      "Epoch: 69 Loss: 0.00001245\n",
      "Epoch: 70 Loss: 0.00000530\n",
      "Epoch: 71 Loss: 0.00002022\n",
      "Epoch: 72 Loss: 0.00001847\n",
      "Epoch: 73 Loss: 0.00003159\n",
      "Epoch: 74 Loss: 0.00002516\n",
      "Epoch: 75 Loss: 0.00003516\n",
      "Epoch: 76 Loss: 0.00005798\n",
      "Epoch: 77 Loss: 0.00002945\n",
      "Epoch: 78 Loss: 0.00003397\n",
      "Epoch: 79 Loss: 0.00011940\n",
      "Epoch: 80 Loss: 0.00014818\n",
      "Epoch: 81 Loss: 0.00011043\n",
      "Epoch: 82 Loss: 0.00004623\n",
      "Epoch: 83 Loss: 0.00003216\n",
      "Epoch: 84 Loss: 0.00002580\n",
      "Epoch: 85 Loss: 0.00002024\n",
      "Epoch: 86 Loss: 0.00000210\n",
      "Epoch: 87 Loss: 0.00002211\n",
      "Epoch: 88 Loss: 0.00001226\n",
      "Epoch: 89 Loss: 0.00005454\n",
      "Epoch: 90 Loss: 0.00016431\n",
      "Epoch: 91 Loss: 0.00012361\n",
      "Epoch: 92 Loss: 0.00003096\n",
      "Epoch: 93 Loss: 0.00006316\n",
      "Epoch: 94 Loss: 0.00000588\n",
      "Epoch: 95 Loss: 0.00000147\n",
      "Epoch: 96 Loss: 0.00000150\n",
      "Epoch: 97 Loss: 0.00000084\n",
      "Epoch: 98 Loss: 0.00000726\n",
      "Epoch: 99 Loss: 0.00000785\n",
      "Epoch: 100 Loss: 0.00004185\n",
      "\n",
      "Duration: 2424 seconds\n"
     ]
    }
   ],
   "source": [
    "epochs = 100\n",
    "losses= []\n",
    "\n",
    "import time\n",
    "start_time = time.time()\n",
    "\n",
    "for epoch in range(epochs):\n",
    "    for seq, y_train in train_data:\n",
    "        \n",
    "        optimizer.zero_grad()\n",
    "        model.hidden = (torch.zeros(1,1,model.hidden_size[0]),\n",
    "                        torch.zeros(1,1,model.hidden_size[0]))\n",
    "        \n",
    "        y_pred = model(seq)\n",
    "        \n",
    "        loss = criterion(y_pred, y_train)\n",
    "        loss.backward()\n",
    "        losses.append(loss.item())\n",
    "        optimizer.step()\n",
    "        \n",
    "    print(f'Epoch: {epoch+1:2} Loss: {loss.item():10.8f}')\n",
    "    \n",
    "print(f'\\nDuration: {time.time() - start_time:.0f} seconds')"
   ]
  },
  {
   "cell_type": "code",
   "execution_count": 16,
   "metadata": {},
   "outputs": [
    {
     "data": {
      "image/png": "[encoded data removed]",
      "text/plain": [
       "<Figure size 936x288 with 1 Axes>"
      ]
     },
     "metadata": {
      "needs_background": "light"
     },
     "output_type": "display_data"
    }
   ],
   "source": [
    "loss = pd.DataFrame(losses, columns=['loss'])\n",
    "loss['loss'].rolling(1217).mean().plot(figsize=(13,4))\n",
    "plt.title('Loss')\n",
    "plt.grid(True)"
   ]
  },
  {
   "cell_type": "markdown",
   "metadata": {},
   "source": [
    "# Forecast\n",
    "21 days in future"
   ]
  },
  {
   "cell_type": "code",
   "execution_count": 17,
   "metadata": {},
   "outputs": [],
   "source": [
    "future = 21\n",
    "\n",
    "preds = train_norm[-window_size:].tolist()\n",
    "\n",
    "model.eval()\n",
    "\n",
    "for i in range(future):\n",
    "    seq = torch.FloatTensor(preds[-window_size:])\n",
    "    with torch.no_grad():\n",
    "        model.hidden = (torch.zeros(1,1,model.hidden_size[0]),\n",
    "                        torch.zeros(1,1,model.hidden_size[0]))\n",
    "        preds.append(model(seq).item())"
   ]
  },
  {
   "cell_type": "code",
   "execution_count": 18,
   "metadata": {},
   "outputs": [],
   "source": [
    "true_predictions = scaler.inverse_transform(np.array(preds[window_size:]).reshape(-1, 1))\n",
    "df1 = pd.DataFrame(true_predictions, index=df.tail(21).index, columns=['pred'])\n"
   ]
  },
  {
   "cell_type": "code",
   "execution_count": 19,
   "metadata": {},
   "outputs": [
    {
     "data": {
      "text/plain": [
       "<matplotlib.legend.Legend at 0x20d93f99760>"
      ]
     },
     "execution_count": 19,
     "metadata": {},
     "output_type": "execute_result"
    },
    {
     "data": {
      "image/png": "[encoded data removed]",
      "text/plain": [
       "<Figure size 864x288 with 1 Axes>"
      ]
     },
     "metadata": {
      "needs_background": "light"
     },
     "output_type": "display_data"
    }
   ],
   "source": [
    "plt.figure(figsize=(12,4))\n",
    "plt.grid(True)\n",
    "plt.autoscale(axis='x',tight=True)\n",
    "plt.plot(df['Adj Close'].iloc[-21:], label='Stock price')\n",
    "plt.plot(df1['pred'], label='predicted')\n",
    "plt.legend()"
   ]
  },
  {
   "cell_type": "markdown",
   "metadata": {},
   "source": [
    "# Absolute mean squared error"
   ]
  },
  {
   "cell_type": "code",
   "execution_count": 20,
   "metadata": {},
   "outputs": [
    {
     "data": {
      "text/plain": [
       "0.30520926041896745"
      ]
     },
     "execution_count": 20,
     "metadata": {},
     "output_type": "execute_result"
    }
   ],
   "source": [
    "from sklearn.metrics import mean_squared_error\n",
    "np.sqrt(mean_squared_error(true_predictions.reshape(1, -1), df['Adj Close'][-21:].values.reshape(1, -1)))"
   ]
  },
  {
   "cell_type": "code",
   "execution_count": null,
   "metadata": {},
   "outputs": [],
   "source": []
  }
 ],
 "metadata": {
  "kernelspec": {
   "display_name": "Python 3",
   "language": "python",
   "name": "python3"
  },
  "language_info": {
   "codemirror_mode": {
    "name": "ipython",
    "version": 3
   },
   "file_extension": ".py",
   "mimetype": "text/x-python",
   "name": "python",
   "nbconvert_exporter": "python",
   "pygments_lexer": "ipython3",
   "version": "3.8.5"
  }
 },
 "nbformat": 4,
 "nbformat_minor": 4
}

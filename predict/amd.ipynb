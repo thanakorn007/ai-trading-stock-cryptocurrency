{
 "cells": [
  {
   "cell_type": "markdown",
   "metadata": {},
   "source": [
    "# Import Module"
   ]
  },
  {
   "cell_type": "code",
   "execution_count": 1,
   "metadata": {},
   "outputs": [],
   "source": [
    "import torch\n",
    "import torch.nn as nn\n",
    "import numpy as np\n",
    "import pandas as pd\n",
    "import matplotlib.pyplot as plt\n",
    "import pandas_datareader as web\n",
    "%matplotlib inline\n",
    "from sklearn.preprocessing import MinMaxScaler\n",
    "from pandas.plotting import register_matplotlib_converters\n",
    "register_matplotlib_converters()"
   ]
  },
  {
   "cell_type": "markdown",
   "metadata": {},
   "source": [
    "# Stock Data \n",
    "training data\n",
    "start: 2015/01/01\n",
    "end: 2019/11/01 \n",
    "\n",
    "testing data \n",
    "start: 2019/12/01\n",
    "end: 2020/01/01"
   ]
  },
  {
   "cell_type": "code",
   "execution_count": 3,
   "metadata": {},
   "outputs": [],
   "source": [
    "ticker = 'amd'.upper()"
   ]
  },
  {
   "cell_type": "code",
   "execution_count": 4,
   "metadata": {},
   "outputs": [
    {
     "data": {
      "text/html": [
       "<div>\n",
       "<style scoped>\n",
       "    .dataframe tbody tr th:only-of-type {\n",
       "        vertical-align: middle;\n",
       "    }\n",
       "\n",
       "    .dataframe tbody tr th {\n",
       "        vertical-align: top;\n",
       "    }\n",
       "\n",
       "    .dataframe thead th {\n",
       "        text-align: right;\n",
       "    }\n",
       "</style>\n",
       "<table border=\"1\" class=\"dataframe\">\n",
       "  <thead>\n",
       "    <tr style=\"text-align: right;\">\n",
       "      <th></th>\n",
       "      <th>High</th>\n",
       "      <th>Low</th>\n",
       "      <th>Open</th>\n",
       "      <th>Close</th>\n",
       "      <th>Volume</th>\n",
       "      <th>Adj Close</th>\n",
       "    </tr>\n",
       "    <tr>\n",
       "      <th>Date</th>\n",
       "      <th></th>\n",
       "      <th></th>\n",
       "      <th></th>\n",
       "      <th></th>\n",
       "      <th></th>\n",
       "      <th></th>\n",
       "    </tr>\n",
       "  </thead>\n",
       "  <tbody>\n",
       "    <tr>\n",
       "      <th>2014-12-31</th>\n",
       "      <td>2.700000</td>\n",
       "      <td>2.640000</td>\n",
       "      <td>2.640000</td>\n",
       "      <td>2.670000</td>\n",
       "      <td>11177900</td>\n",
       "      <td>2.670000</td>\n",
       "    </tr>\n",
       "    <tr>\n",
       "      <th>2015-01-02</th>\n",
       "      <td>2.670000</td>\n",
       "      <td>2.670000</td>\n",
       "      <td>2.670000</td>\n",
       "      <td>2.670000</td>\n",
       "      <td>0</td>\n",
       "      <td>2.670000</td>\n",
       "    </tr>\n",
       "    <tr>\n",
       "      <th>2015-01-05</th>\n",
       "      <td>2.700000</td>\n",
       "      <td>2.640000</td>\n",
       "      <td>2.670000</td>\n",
       "      <td>2.660000</td>\n",
       "      <td>8878200</td>\n",
       "      <td>2.660000</td>\n",
       "    </tr>\n",
       "    <tr>\n",
       "      <th>2015-01-06</th>\n",
       "      <td>2.660000</td>\n",
       "      <td>2.550000</td>\n",
       "      <td>2.650000</td>\n",
       "      <td>2.630000</td>\n",
       "      <td>13912500</td>\n",
       "      <td>2.630000</td>\n",
       "    </tr>\n",
       "    <tr>\n",
       "      <th>2015-01-07</th>\n",
       "      <td>2.650000</td>\n",
       "      <td>2.540000</td>\n",
       "      <td>2.630000</td>\n",
       "      <td>2.580000</td>\n",
       "      <td>12377600</td>\n",
       "      <td>2.580000</td>\n",
       "    </tr>\n",
       "    <tr>\n",
       "      <th>...</th>\n",
       "      <td>...</td>\n",
       "      <td>...</td>\n",
       "      <td>...</td>\n",
       "      <td>...</td>\n",
       "      <td>...</td>\n",
       "      <td>...</td>\n",
       "    </tr>\n",
       "    <tr>\n",
       "      <th>2019-12-24</th>\n",
       "      <td>46.610001</td>\n",
       "      <td>45.770000</td>\n",
       "      <td>46.099998</td>\n",
       "      <td>46.540001</td>\n",
       "      <td>44432200</td>\n",
       "      <td>46.540001</td>\n",
       "    </tr>\n",
       "    <tr>\n",
       "      <th>2019-12-26</th>\n",
       "      <td>47.310001</td>\n",
       "      <td>45.660000</td>\n",
       "      <td>46.990002</td>\n",
       "      <td>46.630001</td>\n",
       "      <td>57562800</td>\n",
       "      <td>46.630001</td>\n",
       "    </tr>\n",
       "    <tr>\n",
       "      <th>2019-12-27</th>\n",
       "      <td>46.880001</td>\n",
       "      <td>45.980000</td>\n",
       "      <td>46.849998</td>\n",
       "      <td>46.180000</td>\n",
       "      <td>36581300</td>\n",
       "      <td>46.180000</td>\n",
       "    </tr>\n",
       "    <tr>\n",
       "      <th>2019-12-30</th>\n",
       "      <td>46.169998</td>\n",
       "      <td>44.660000</td>\n",
       "      <td>46.139999</td>\n",
       "      <td>45.520000</td>\n",
       "      <td>41149700</td>\n",
       "      <td>45.520000</td>\n",
       "    </tr>\n",
       "    <tr>\n",
       "      <th>2019-12-31</th>\n",
       "      <td>46.090000</td>\n",
       "      <td>44.919998</td>\n",
       "      <td>45.070000</td>\n",
       "      <td>45.860001</td>\n",
       "      <td>31673200</td>\n",
       "      <td>45.860001</td>\n",
       "    </tr>\n",
       "  </tbody>\n",
       "</table>\n",
       "<p>1259 rows × 6 columns</p>\n",
       "</div>"
      ],
      "text/plain": [
       "                 High        Low       Open      Close    Volume  Adj Close\n",
       "Date                                                                       \n",
       "2014-12-31   2.700000   2.640000   2.640000   2.670000  11177900   2.670000\n",
       "2015-01-02   2.670000   2.670000   2.670000   2.670000         0   2.670000\n",
       "2015-01-05   2.700000   2.640000   2.670000   2.660000   8878200   2.660000\n",
       "2015-01-06   2.660000   2.550000   2.650000   2.630000  13912500   2.630000\n",
       "2015-01-07   2.650000   2.540000   2.630000   2.580000  12377600   2.580000\n",
       "...               ...        ...        ...        ...       ...        ...\n",
       "2019-12-24  46.610001  45.770000  46.099998  46.540001  44432200  46.540001\n",
       "2019-12-26  47.310001  45.660000  46.990002  46.630001  57562800  46.630001\n",
       "2019-12-27  46.880001  45.980000  46.849998  46.180000  36581300  46.180000\n",
       "2019-12-30  46.169998  44.660000  46.139999  45.520000  41149700  45.520000\n",
       "2019-12-31  46.090000  44.919998  45.070000  45.860001  31673200  45.860001\n",
       "\n",
       "[1259 rows x 6 columns]"
      ]
     },
     "execution_count": 4,
     "metadata": {},
     "output_type": "execute_result"
    }
   ],
   "source": [
    "df = web.DataReader(ticker, 'yahoo', '2015-01-01', '2020-01-01')\n",
    "df"
   ]
  },
  {
   "cell_type": "code",
   "execution_count": 5,
   "metadata": {},
   "outputs": [
    {
     "data": {
      "image/png": "[encoded data removed]",
      "text/plain": [
       "<Figure size 936x288 with 1 Axes>"
      ]
     },
     "metadata": {
      "needs_background": "light"
     },
     "output_type": "display_data"
    }
   ],
   "source": [
    "plt.figure(figsize=(13,4))\n",
    "plt.title('Stock price '+ ticker)\n",
    "plt.ylabel('Price')\n",
    "plt.grid(True)\n",
    "plt.autoscale(axis='x',tight=True)\n",
    "plt.plot(df['Adj Close'], color='g')\n",
    "plt.show()"
   ]
  },
  {
   "cell_type": "code",
   "execution_count": 6,
   "metadata": {},
   "outputs": [],
   "source": [
    "y = df['Adj Close'].values.astype(float)\n",
    "\n",
    "test_size = 21\n",
    "train_set = y[:-test_size]\n",
    "test_set = y[-test_size:]"
   ]
  },
  {
   "cell_type": "code",
   "execution_count": 7,
   "metadata": {},
   "outputs": [
    {
     "data": {
      "image/png": "[encoded data removed]",
      "text/plain": [
       "<Figure size 936x288 with 1 Axes>"
      ]
     },
     "metadata": {
      "needs_background": "light"
     },
     "output_type": "display_data"
    }
   ],
   "source": [
    "df['Adj Close'].iloc[-test_size:].plot(figsize=(13,4))\n",
    "plt.title('test set')\n",
    "plt.grid(True)"
   ]
  },
  {
   "cell_type": "markdown",
   "metadata": {},
   "source": [
    "# Normalizing data\n",
    "convert to range [-1, 1]"
   ]
  },
  {
   "cell_type": "code",
   "execution_count": 8,
   "metadata": {},
   "outputs": [],
   "source": [
    "scaler = MinMaxScaler(feature_range=(-1, 1))\n",
    "train_norm = scaler.fit_transform(train_set.reshape(-1, 1))"
   ]
  },
  {
   "cell_type": "code",
   "execution_count": 9,
   "metadata": {},
   "outputs": [
    {
     "data": {
      "text/plain": [
       "-1.0"
      ]
     },
     "execution_count": 9,
     "metadata": {},
     "output_type": "execute_result"
    }
   ],
   "source": [
    "train_norm.min()"
   ]
  },
  {
   "cell_type": "code",
   "execution_count": 10,
   "metadata": {},
   "outputs": [
    {
     "data": {
      "text/plain": [
       "1.0000000000000002"
      ]
     },
     "execution_count": 10,
     "metadata": {},
     "output_type": "execute_result"
    }
   ],
   "source": [
    "train_norm.max()"
   ]
  },
  {
   "cell_type": "code",
   "execution_count": 11,
   "metadata": {},
   "outputs": [
    {
     "data": {
      "text/plain": [
       "-0.42980601032287985"
      ]
     },
     "execution_count": 11,
     "metadata": {},
     "output_type": "execute_result"
    }
   ],
   "source": [
    "train_norm.mean()"
   ]
  },
  {
   "cell_type": "code",
   "execution_count": 12,
   "metadata": {},
   "outputs": [
    {
     "data": {
      "text/plain": [
       "0.5029290259716455"
      ]
     },
     "execution_count": 12,
     "metadata": {},
     "output_type": "execute_result"
    }
   ],
   "source": [
    "train_norm.std()"
   ]
  },
  {
   "cell_type": "markdown",
   "metadata": {},
   "source": [
    "# Input data and label\n",
    "window size = 21\n",
    "\n",
    "[1, 2, 3, ...,21] predict ==> [22]"
   ]
  },
  {
   "cell_type": "code",
   "execution_count": 13,
   "metadata": {},
   "outputs": [
    {
     "data": {
      "text/plain": [
       "1217"
      ]
     },
     "execution_count": 13,
     "metadata": {},
     "output_type": "execute_result"
    }
   ],
   "source": [
    "train_norm = torch.FloatTensor(train_norm).view(-1)\n",
    "\n",
    "window_size = 21\n",
    "\n",
    "\n",
    "def input_data(seq,ws): \n",
    "    out = []\n",
    "    L = len(seq)\n",
    "    for i in range(L-ws):\n",
    "        window = seq[i:i+ws]\n",
    "        label = seq[i+ws:i+ws+1]\n",
    "        out.append((window,label))\n",
    "    return out\n",
    "\n",
    "train_data = input_data(train_norm,window_size)\n",
    "len(train_data)  "
   ]
  },
  {
   "cell_type": "markdown",
   "metadata": {},
   "source": [
    "# 2. LSTM network\n",
    "lstm 2 layers 100 nodes\n",
    "\n",
    "fully connected 1 l layer"
   ]
  },
  {
   "cell_type": "code",
   "execution_count": 14,
   "metadata": {},
   "outputs": [],
   "source": [
    "class LSTMnetwork(nn.Module):\n",
    "    def __init__(self,input_size=1,hidden_size=[100, 100], output_size=1):\n",
    "        super().__init__()\n",
    "        self.hidden_size = hidden_size\n",
    "        \n",
    "        self.lstm1 = nn.LSTM(input_size,hidden_size[0])\n",
    "        \n",
    "        self.lstm2 = nn.LSTM(hidden_size[0], hidden_size[1])\n",
    "        \n",
    "        self.linear = nn.Linear(hidden_size[1], output_size)\n",
    "        \n",
    "        self.hidden = (torch.zeros(1,1,self.hidden_size[0]),\n",
    "                       torch.zeros(1,1,self.hidden_size[0]))\n",
    "\n",
    "    def forward(self,seq):\n",
    "        lstm_out1, self.hidden = self.lstm1(seq.view(len(seq),1,-1), self.hidden)\n",
    "        lstm_out2, self.hidden = self.lstm2(lstm_out1.view(len(seq),1,-1), self.hidden)\n",
    "        pred = self.linear(lstm_out2.view(len(seq),-1))\n",
    "        return pred[-1] \n",
    "        "
   ]
  },
  {
   "cell_type": "code",
   "execution_count": 15,
   "metadata": {},
   "outputs": [
    {
     "data": {
      "text/plain": [
       "LSTMnetwork(\n",
       "  (lstm1): LSTM(1, 100)\n",
       "  (lstm2): LSTM(100, 100)\n",
       "  (linear): Linear(in_features=100, out_features=1, bias=True)\n",
       ")"
      ]
     },
     "execution_count": 15,
     "metadata": {},
     "output_type": "execute_result"
    }
   ],
   "source": [
    "torch.manual_seed(101)\n",
    "model = LSTMnetwork()\n",
    "\n",
    "criterion = nn.MSELoss()\n",
    "optimizer = torch.optim.Adam(model.parameters(), lr=0.001)\n",
    "\n",
    "model"
   ]
  },
  {
   "cell_type": "markdown",
   "metadata": {},
   "source": [
    "# Training"
   ]
  },
  {
   "cell_type": "code",
   "execution_count": 16,
   "metadata": {},
   "outputs": [
    {
     "name": "stdout",
     "output_type": "stream",
     "text": [
      "Epoch:  1 Loss: 0.00449444\n",
      "Epoch:  2 Loss: 0.02586237\n",
      "Epoch:  3 Loss: 0.08285921\n",
      "Epoch:  4 Loss: 0.01256891\n",
      "Epoch:  5 Loss: 0.08828580\n",
      "Epoch:  6 Loss: 0.06180437\n",
      "Epoch:  7 Loss: 0.03906082\n",
      "Epoch:  8 Loss: 0.00728350\n",
      "Epoch:  9 Loss: 0.03160472\n",
      "Epoch: 10 Loss: 0.00006944\n",
      "Epoch: 11 Loss: 0.00025897\n",
      "Epoch: 12 Loss: 0.00225397\n",
      "Epoch: 13 Loss: 0.00143171\n",
      "Epoch: 14 Loss: 0.00432475\n",
      "Epoch: 15 Loss: 0.00374514\n",
      "Epoch: 16 Loss: 0.00290376\n",
      "Epoch: 17 Loss: 0.00421530\n",
      "Epoch: 18 Loss: 0.00476614\n",
      "Epoch: 19 Loss: 0.00494367\n",
      "Epoch: 20 Loss: 0.00495405\n",
      "Epoch: 21 Loss: 0.00488597\n",
      "Epoch: 22 Loss: 0.00479118\n",
      "Epoch: 23 Loss: 0.00654131\n",
      "Epoch: 24 Loss: 0.01169388\n",
      "Epoch: 25 Loss: 0.01246978\n",
      "Epoch: 26 Loss: 0.00784606\n",
      "Epoch: 27 Loss: 0.00799260\n",
      "Epoch: 28 Loss: 0.00762748\n",
      "Epoch: 29 Loss: 0.00738291\n",
      "Epoch: 30 Loss: 0.00082166\n",
      "Epoch: 31 Loss: 0.00031999\n",
      "Epoch: 32 Loss: 0.00082007\n",
      "Epoch: 33 Loss: 0.00055681\n",
      "Epoch: 34 Loss: 0.00001993\n",
      "Epoch: 35 Loss: 0.00000901\n",
      "Epoch: 36 Loss: 0.00001777\n",
      "Epoch: 37 Loss: 0.00022208\n",
      "Epoch: 38 Loss: 0.00061076\n",
      "Epoch: 39 Loss: 0.00097732\n",
      "Epoch: 40 Loss: 0.00207601\n",
      "Epoch: 41 Loss: 0.00128848\n",
      "Epoch: 42 Loss: 0.00576318\n",
      "Epoch: 43 Loss: 0.00752754\n",
      "Epoch: 44 Loss: 0.00424425\n",
      "Epoch: 45 Loss: 0.00463440\n",
      "Epoch: 46 Loss: 0.00530950\n",
      "Epoch: 47 Loss: 0.00447961\n",
      "Epoch: 48 Loss: 0.00701569\n",
      "Epoch: 49 Loss: 0.00549898\n",
      "Epoch: 50 Loss: 0.00829742\n",
      "Epoch: 51 Loss: 0.00631047\n",
      "Epoch: 52 Loss: 0.11102052\n",
      "Epoch: 53 Loss: 0.00322795\n",
      "Epoch: 54 Loss: 0.00355212\n",
      "Epoch: 55 Loss: 0.02819212\n",
      "Epoch: 56 Loss: 0.03609551\n",
      "Epoch: 57 Loss: 0.00496829\n",
      "Epoch: 58 Loss: 0.00008654\n",
      "Epoch: 59 Loss: 0.00240756\n",
      "Epoch: 60 Loss: 0.00268768\n",
      "Epoch: 61 Loss: 0.00576184\n",
      "Epoch: 62 Loss: 0.00452714\n",
      "Epoch: 63 Loss: 0.00266521\n",
      "Epoch: 64 Loss: 0.00283174\n",
      "Epoch: 65 Loss: 0.00138010\n",
      "Epoch: 66 Loss: 0.00282673\n",
      "Epoch: 67 Loss: 0.00325660\n",
      "Epoch: 68 Loss: 0.00341568\n",
      "Epoch: 69 Loss: 0.00342856\n",
      "Epoch: 70 Loss: 0.00329147\n",
      "Epoch: 71 Loss: 0.00311762\n",
      "Epoch: 72 Loss: 0.00287013\n",
      "Epoch: 73 Loss: 0.03564820\n",
      "Epoch: 74 Loss: 0.00182675\n",
      "Epoch: 75 Loss: 0.00225676\n",
      "Epoch: 76 Loss: 0.00280259\n",
      "Epoch: 77 Loss: 0.00185825\n",
      "Epoch: 78 Loss: 0.00282979\n",
      "Epoch: 79 Loss: 0.00156289\n",
      "Epoch: 80 Loss: 0.00147838\n",
      "Epoch: 81 Loss: 0.00146565\n",
      "Epoch: 82 Loss: 0.00034826\n",
      "Epoch: 83 Loss: 0.00162722\n",
      "Epoch: 84 Loss: 0.00028558\n",
      "Epoch: 85 Loss: 0.00143251\n",
      "Epoch: 86 Loss: 0.00055764\n",
      "Epoch: 87 Loss: 0.00090112\n",
      "Epoch: 88 Loss: 0.00027777\n",
      "Epoch: 89 Loss: 0.00019620\n",
      "Epoch: 90 Loss: 0.00079237\n",
      "Epoch: 91 Loss: 0.00077977\n",
      "Epoch: 92 Loss: 0.00064262\n",
      "Epoch: 93 Loss: 0.00006237\n",
      "Epoch: 94 Loss: 0.00064755\n",
      "Epoch: 95 Loss: 0.00054752\n",
      "Epoch: 96 Loss: 0.00077755\n",
      "Epoch: 97 Loss: 0.00027128\n",
      "Epoch: 98 Loss: 0.00020275\n",
      "Epoch: 99 Loss: 0.00121711\n",
      "Epoch: 100 Loss: 0.00113981\n",
      "\n",
      "Duration: 3209 seconds\n"
     ]
    }
   ],
   "source": [
    "epochs = 100\n",
    "losses= []\n",
    "\n",
    "import time\n",
    "start_time = time.time()\n",
    "\n",
    "for epoch in range(epochs):\n",
    "    for seq, y_train in train_data:\n",
    "        \n",
    "        optimizer.zero_grad()\n",
    "        model.hidden = (torch.zeros(1,1,model.hidden_size[0]),\n",
    "                        torch.zeros(1,1,model.hidden_size[0]))\n",
    "        \n",
    "        y_pred = model(seq)\n",
    "        \n",
    "        loss = criterion(y_pred, y_train)\n",
    "        loss.backward()\n",
    "        losses.append(loss.item())\n",
    "        optimizer.step()\n",
    "        \n",
    "    print(f'Epoch: {epoch+1:2} Loss: {loss.item():10.8f}')\n",
    "    \n",
    "print(f'\\nDuration: {time.time() - start_time:.0f} seconds')"
   ]
  },
  {
   "cell_type": "code",
   "execution_count": 18,
   "metadata": {},
   "outputs": [
    {
     "data": {
      "image/png": "[encoded data removed]",
      "text/plain": [
       "<Figure size 936x288 with 1 Axes>"
      ]
     },
     "metadata": {
      "needs_background": "light"
     },
     "output_type": "display_data"
    }
   ],
   "source": [
    "loss = pd.DataFrame(losses, columns=['loss'])\n",
    "loss['loss'].rolling(1217).mean().plot(figsize=(13,4))\n",
    "plt.title('Loss')\n",
    "plt.grid(True)"
   ]
  },
  {
   "cell_type": "markdown",
   "metadata": {},
   "source": [
    "# Forecast\n",
    "21 days in future"
   ]
  },
  {
   "cell_type": "code",
   "execution_count": 19,
   "metadata": {},
   "outputs": [],
   "source": [
    "future = 21\n",
    "\n",
    "preds = train_norm[-window_size:].tolist()\n",
    "\n",
    "model.eval()\n",
    "\n",
    "for i in range(future):\n",
    "    seq = torch.FloatTensor(preds[-window_size:])\n",
    "    with torch.no_grad():\n",
    "        model.hidden = (torch.zeros(1,1,model.hidden_size[0]),\n",
    "                        torch.zeros(1,1,model.hidden_size[0]))\n",
    "        preds.append(model(seq).item())"
   ]
  },
  {
   "cell_type": "code",
   "execution_count": 20,
   "metadata": {},
   "outputs": [],
   "source": [
    "true_predictions = scaler.inverse_transform(np.array(preds[window_size:]).reshape(-1, 1))\n",
    "df1 = pd.DataFrame(true_predictions, index=df.tail(21).index, columns=['pred'])\n"
   ]
  },
  {
   "cell_type": "code",
   "execution_count": 23,
   "metadata": {},
   "outputs": [
    {
     "data": {
      "text/plain": [
       "<matplotlib.legend.Legend at 0x1fc6fea9c10>"
      ]
     },
     "execution_count": 23,
     "metadata": {},
     "output_type": "execute_result"
    },
    {
     "data": {
      "image/png": "[encoded data removed]",
      "text/plain": [
       "<Figure size 864x288 with 1 Axes>"
      ]
     },
     "metadata": {
      "needs_background": "light"
     },
     "output_type": "display_data"
    }
   ],
   "source": [
    "plt.figure(figsize=(12,4))\n",
    "plt.grid(True)\n",
    "plt.autoscale(axis='x',tight=True)\n",
    "plt.plot(df['Adj Close'].iloc[-21:], label='Stock price')\n",
    "plt.plot(df1['pred'], label='predicted')\n",
    "plt.legend()"
   ]
  },
  {
   "cell_type": "markdown",
   "metadata": {},
   "source": [
    "# Absolute mean squared error"
   ]
  },
  {
   "cell_type": "code",
   "execution_count": 22,
   "metadata": {},
   "outputs": [
    {
     "data": {
      "text/plain": [
       "3.5100564180491514"
      ]
     },
     "execution_count": 22,
     "metadata": {},
     "output_type": "execute_result"
    }
   ],
   "source": [
    "from sklearn.metrics import mean_squared_error\n",
    "np.sqrt(mean_squared_error(true_predictions.reshape(1, -1), df['Adj Close'][-21:].values.reshape(1, -1)))"
   ]
  }
 ],
 "metadata": {
  "kernelspec": {
   "display_name": "Python 3",
   "language": "python",
   "name": "python3"
  },
  "language_info": {
   "codemirror_mode": {
    "name": "ipython",
    "version": 3
   },
   "file_extension": ".py",
   "mimetype": "text/x-python",
   "name": "python",
   "nbconvert_exporter": "python",
   "pygments_lexer": "ipython3",
   "version": "3.8.5"
  }
 },
 "nbformat": 4,
 "nbformat_minor": 4
}

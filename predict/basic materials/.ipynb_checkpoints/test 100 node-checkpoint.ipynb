{
 "cells": [
  {
   "cell_type": "markdown",
   "metadata": {},
   "source": [
    "# Import Module"
   ]
  },
  {
   "cell_type": "code",
   "execution_count": 1,
   "metadata": {},
   "outputs": [],
   "source": [
    "from tensorflow.keras.models import Sequential\n",
    "from tensorflow.keras.layers import Dense,Dropout,LSTM\n",
    "from sklearn.preprocessing import MinMaxScaler\n",
    "import numpy as np\n",
    "import pandas as pd\n",
    "import matplotlib.pyplot as plt\n",
    "import pandas_datareader as web\n",
    "%matplotlib inline\n",
    "from pandas.plotting import register_matplotlib_converters\n",
    "register_matplotlib_converters()\n",
    "from tqdm.notebook import tqdm"
   ]
  },
  {
   "cell_type": "markdown",
   "metadata": {},
   "source": [
    "# Stock Data \n",
    "training data\n",
    "start: 2015/01/01\n",
    "end: 2019/11/01 \n",
    "\n",
    "testing data \n",
    "start: 2019/12/01\n",
    "end: 2020/01/01"
   ]
  },
  {
   "cell_type": "code",
   "execution_count": 2,
   "metadata": {},
   "outputs": [],
   "source": [
    "ticker = 'bbl'.upper()"
   ]
  },
  {
   "cell_type": "code",
   "execution_count": 3,
   "metadata": {},
   "outputs": [
    {
     "data": {
      "text/html": [
       "<div>\n",
       "<style scoped>\n",
       "    .dataframe tbody tr th:only-of-type {\n",
       "        vertical-align: middle;\n",
       "    }\n",
       "\n",
       "    .dataframe tbody tr th {\n",
       "        vertical-align: top;\n",
       "    }\n",
       "\n",
       "    .dataframe thead th {\n",
       "        text-align: right;\n",
       "    }\n",
       "</style>\n",
       "<table border=\"1\" class=\"dataframe\">\n",
       "  <thead>\n",
       "    <tr style=\"text-align: right;\">\n",
       "      <th></th>\n",
       "      <th>High</th>\n",
       "      <th>Low</th>\n",
       "      <th>Open</th>\n",
       "      <th>Close</th>\n",
       "      <th>Volume</th>\n",
       "      <th>Adj Close</th>\n",
       "    </tr>\n",
       "    <tr>\n",
       "      <th>Date</th>\n",
       "      <th></th>\n",
       "      <th></th>\n",
       "      <th></th>\n",
       "      <th></th>\n",
       "      <th></th>\n",
       "      <th></th>\n",
       "    </tr>\n",
       "  </thead>\n",
       "  <tbody>\n",
       "    <tr>\n",
       "      <th>2015-12-31</th>\n",
       "      <td>22.879999</td>\n",
       "      <td>22.540001</td>\n",
       "      <td>22.549999</td>\n",
       "      <td>22.650000</td>\n",
       "      <td>1307300.0</td>\n",
       "      <td>16.349421</td>\n",
       "    </tr>\n",
       "    <tr>\n",
       "      <th>2016-01-04</th>\n",
       "      <td>22.290001</td>\n",
       "      <td>21.690001</td>\n",
       "      <td>21.820000</td>\n",
       "      <td>22.240000</td>\n",
       "      <td>2625300.0</td>\n",
       "      <td>16.053474</td>\n",
       "    </tr>\n",
       "    <tr>\n",
       "      <th>2016-01-05</th>\n",
       "      <td>22.360001</td>\n",
       "      <td>21.889999</td>\n",
       "      <td>22.340000</td>\n",
       "      <td>22.250000</td>\n",
       "      <td>1911600.0</td>\n",
       "      <td>16.060692</td>\n",
       "    </tr>\n",
       "    <tr>\n",
       "      <th>2016-01-06</th>\n",
       "      <td>21.020000</td>\n",
       "      <td>20.629999</td>\n",
       "      <td>20.709999</td>\n",
       "      <td>20.870001</td>\n",
       "      <td>2689200.0</td>\n",
       "      <td>15.064567</td>\n",
       "    </tr>\n",
       "    <tr>\n",
       "      <th>2016-01-07</th>\n",
       "      <td>20.059999</td>\n",
       "      <td>19.549999</td>\n",
       "      <td>19.730000</td>\n",
       "      <td>19.580000</td>\n",
       "      <td>2731000.0</td>\n",
       "      <td>14.133409</td>\n",
       "    </tr>\n",
       "    <tr>\n",
       "      <th>...</th>\n",
       "      <td>...</td>\n",
       "      <td>...</td>\n",
       "      <td>...</td>\n",
       "      <td>...</td>\n",
       "      <td>...</td>\n",
       "      <td>...</td>\n",
       "    </tr>\n",
       "    <tr>\n",
       "      <th>2021-01-26</th>\n",
       "      <td>58.439999</td>\n",
       "      <td>57.669998</td>\n",
       "      <td>57.810001</td>\n",
       "      <td>58.189999</td>\n",
       "      <td>1601800.0</td>\n",
       "      <td>56.413609</td>\n",
       "    </tr>\n",
       "    <tr>\n",
       "      <th>2021-01-27</th>\n",
       "      <td>57.049999</td>\n",
       "      <td>55.380001</td>\n",
       "      <td>55.689999</td>\n",
       "      <td>55.840000</td>\n",
       "      <td>4422200.0</td>\n",
       "      <td>54.135349</td>\n",
       "    </tr>\n",
       "    <tr>\n",
       "      <th>2021-01-28</th>\n",
       "      <td>57.029999</td>\n",
       "      <td>56.259998</td>\n",
       "      <td>56.480000</td>\n",
       "      <td>56.660000</td>\n",
       "      <td>1947100.0</td>\n",
       "      <td>54.930317</td>\n",
       "    </tr>\n",
       "    <tr>\n",
       "      <th>2021-01-29</th>\n",
       "      <td>56.020000</td>\n",
       "      <td>54.529999</td>\n",
       "      <td>55.750000</td>\n",
       "      <td>54.619999</td>\n",
       "      <td>1435700.0</td>\n",
       "      <td>52.952591</td>\n",
       "    </tr>\n",
       "    <tr>\n",
       "      <th>2021-02-01</th>\n",
       "      <td>56.869999</td>\n",
       "      <td>55.980000</td>\n",
       "      <td>56.790001</td>\n",
       "      <td>56.459999</td>\n",
       "      <td>1865100.0</td>\n",
       "      <td>54.736420</td>\n",
       "    </tr>\n",
       "  </tbody>\n",
       "</table>\n",
       "<p>1280 rows × 6 columns</p>\n",
       "</div>"
      ],
      "text/plain": [
       "                 High        Low       Open      Close     Volume  Adj Close\n",
       "Date                                                                        \n",
       "2015-12-31  22.879999  22.540001  22.549999  22.650000  1307300.0  16.349421\n",
       "2016-01-04  22.290001  21.690001  21.820000  22.240000  2625300.0  16.053474\n",
       "2016-01-05  22.360001  21.889999  22.340000  22.250000  1911600.0  16.060692\n",
       "2016-01-06  21.020000  20.629999  20.709999  20.870001  2689200.0  15.064567\n",
       "2016-01-07  20.059999  19.549999  19.730000  19.580000  2731000.0  14.133409\n",
       "...               ...        ...        ...        ...        ...        ...\n",
       "2021-01-26  58.439999  57.669998  57.810001  58.189999  1601800.0  56.413609\n",
       "2021-01-27  57.049999  55.380001  55.689999  55.840000  4422200.0  54.135349\n",
       "2021-01-28  57.029999  56.259998  56.480000  56.660000  1947100.0  54.930317\n",
       "2021-01-29  56.020000  54.529999  55.750000  54.619999  1435700.0  52.952591\n",
       "2021-02-01  56.869999  55.980000  56.790001  56.459999  1865100.0  54.736420\n",
       "\n",
       "[1280 rows x 6 columns]"
      ]
     },
     "execution_count": 3,
     "metadata": {},
     "output_type": "execute_result"
    }
   ],
   "source": [
    "df = web.DataReader(ticker, 'yahoo', '2016-01-01', '2021-02-01')\n",
    "df"
   ]
  },
  {
   "cell_type": "code",
   "execution_count": 4,
   "metadata": {},
   "outputs": [
    {
     "data": {
      "image/png": "[encoded data removed]",
      "text/plain": [
       "<Figure size 936x288 with 1 Axes>"
      ]
     },
     "metadata": {
      "needs_background": "light"
     },
     "output_type": "display_data"
    }
   ],
   "source": [
    "plt.figure(figsize=(13,4))\n",
    "plt.title('Stock price '+ ticker)\n",
    "plt.ylabel('Price')\n",
    "plt.grid(True)\n",
    "plt.autoscale(axis='x',tight=True)\n",
    "plt.plot(df['Adj Close'], color='g')\n",
    "plt.show()"
   ]
  },
  {
   "cell_type": "code",
   "execution_count": 5,
   "metadata": {},
   "outputs": [],
   "source": [
    "y = df['Adj Close'].values.astype(float)\n",
    "\n",
    "test_size = 7\n",
    "window_size = 120\n",
    "train_set = y[:-test_size]\n",
    "test_set = y[-test_size:]"
   ]
  },
  {
   "cell_type": "code",
   "execution_count": 6,
   "metadata": {},
   "outputs": [
    {
     "data": {
      "image/png": "[encoded data removed]",
      "text/plain": [
       "<Figure size 936x288 with 1 Axes>"
      ]
     },
     "metadata": {
      "needs_background": "light"
     },
     "output_type": "display_data"
    }
   ],
   "source": [
    "df['Adj Close'].iloc[-test_size:].plot(figsize=(13,4))\n",
    "plt.title('test set')\n",
    "plt.grid(True)"
   ]
  },
  {
   "cell_type": "markdown",
   "metadata": {},
   "source": [
    "# Normalizing data\n",
    "convert to range [-1, 1]"
   ]
  },
  {
   "cell_type": "code",
   "execution_count": 15,
   "metadata": {},
   "outputs": [],
   "source": [
    "scaler = MinMaxScaler(feature_range=(-1, 1))\n",
    "train_norm = scaler.fit_transform(train_set.reshape(-1, 1))\n",
    "test_norm = scaler.transform(test_set.reshape(-1, 1))"
   ]
  },
  {
   "cell_type": "code",
   "execution_count": 8,
   "metadata": {},
   "outputs": [
    {
     "data": {
      "text/plain": [
       "array([[-0.82627649],\n",
       "       [-0.83904097],\n",
       "       [-0.83872968],\n",
       "       ...,\n",
       "       [ 0.89337317],\n",
       "       [ 0.95316775],\n",
       "       [ 0.93435137]])"
      ]
     },
     "execution_count": 8,
     "metadata": {},
     "output_type": "execute_result"
    }
   ],
   "source": [
    "train_norm"
   ]
  },
  {
   "cell_type": "code",
   "execution_count": 16,
   "metadata": {},
   "outputs": [
    {
     "data": {
      "text/plain": [
       "array([[0.90508127],\n",
       "       [0.88124699],\n",
       "       [0.90173601],\n",
       "       [0.80347218],\n",
       "       [0.83776001],\n",
       "       [0.75245851],\n",
       "       [0.82939701]])"
      ]
     },
     "execution_count": 16,
     "metadata": {},
     "output_type": "execute_result"
    }
   ],
   "source": [
    "test_norm"
   ]
  },
  {
   "cell_type": "markdown",
   "metadata": {},
   "source": [
    "# Input data and label\n",
    "window size = 120\n",
    "\n",
    "[1, 2, 3, ...,120] predict ==> [121]"
   ]
  },
  {
   "cell_type": "code",
   "execution_count": 9,
   "metadata": {},
   "outputs": [],
   "source": [
    "X_train = []\n",
    "y_train = []\n",
    "for i in range(window_size, len(train_norm)):\n",
    "    X_train.append(train_norm[i-120:i,0])\n",
    "    y_train.append(train_norm[i,0])\n",
    "\n",
    "X_train,y_train = np.array(X_train), np.array(y_train) "
   ]
  },
  {
   "cell_type": "code",
   "execution_count": 10,
   "metadata": {},
   "outputs": [],
   "source": [
    "X_train = np.reshape(X_train, (X_train.shape[0], X_train.shape[1], 1))"
   ]
  },
  {
   "cell_type": "code",
   "execution_count": 11,
   "metadata": {},
   "outputs": [
    {
     "data": {
      "text/plain": [
       "(1153, 120, 1)"
      ]
     },
     "execution_count": 11,
     "metadata": {},
     "output_type": "execute_result"
    }
   ],
   "source": [
    "X_train.shape"
   ]
  },
  {
   "cell_type": "code",
   "execution_count": 12,
   "metadata": {},
   "outputs": [
    {
     "data": {
      "text/plain": [
       "array([-0.70822677, -0.78177344, -0.81460129, ...,  0.89337317,\n",
       "        0.95316775,  0.93435137])"
      ]
     },
     "execution_count": 12,
     "metadata": {},
     "output_type": "execute_result"
    }
   ],
   "source": [
    "y_train"
   ]
  },
  {
   "cell_type": "code",
   "execution_count": 18,
   "metadata": {},
   "outputs": [],
   "source": [
    "X_test = []\n",
    "y_test = []\n",
    "\n",
    "seq = train_norm[-(window_size-1):]\n",
    "\n",
    "for i in range(len(test_norm)):\n",
    "    \n",
    "    seq = np.array(seq[-(window_size-1):], dtype=np.float32)\n",
    "    \n",
    "    seq = np.append(seq, test_norm[i])\n",
    "    \n",
    "    X_test.append(seq)\n",
    "    y_test.append(test_norm[i])\n",
    "\n",
    "X_test,y_test = np.array(X_test), np.array(y_test) "
   ]
  },
  {
   "cell_type": "code",
   "execution_count": 28,
   "metadata": {},
   "outputs": [
    {
     "data": {
      "text/plain": [
       "(7, 120, 1)"
      ]
     },
     "execution_count": 28,
     "metadata": {},
     "output_type": "execute_result"
    }
   ],
   "source": [
    "X_test = np.reshape(X_test, (X_test.shape[0], X_test.shape[1], 1))\n",
    "X_test.shape"
   ]
  },
  {
   "cell_type": "code",
   "execution_count": 21,
   "metadata": {},
   "outputs": [
    {
     "data": {
      "text/plain": [
       "(7, 1)"
      ]
     },
     "execution_count": 21,
     "metadata": {},
     "output_type": "execute_result"
    }
   ],
   "source": [
    "y_test.shape"
   ]
  },
  {
   "cell_type": "markdown",
   "metadata": {},
   "source": [
    "# 1. LSTM network\n",
    "lstm 6 layers 100 nodes\n",
    "\n",
    "fully connected 1 l layer"
   ]
  },
  {
   "cell_type": "code",
   "execution_count": 13,
   "metadata": {},
   "outputs": [],
   "source": [
    "model = Sequential()\n",
    "\n",
    "model.add(LSTM(units=100, return_sequences=True, input_shape=(X_train.shape[1], 1)))\n",
    "model.add(Dropout(0.2))\n",
    "\n",
    "model.add(LSTM(units=100, return_sequences=True))\n",
    "model.add(Dropout(0.2))\n",
    "\n",
    "model.add(LSTM(units=100, return_sequences=True))\n",
    "model.add(Dropout(0.2))\n",
    "\n",
    "model.add(LSTM(units=100, return_sequences=True))\n",
    "model.add(Dropout(0.2))\n",
    "\n",
    "model.add(LSTM(units=100, return_sequences=True))\n",
    "model.add(Dropout(0.2))\n",
    "\n",
    "model.add(LSTM(units=100, return_sequences=True))\n",
    "model.add(Dropout(0.2))\n",
    "\n",
    "model.add(LSTM(units=100,))\n",
    "model.add(Dropout(0.2))\n",
    "\n",
    "model.add(Dense(units=1))\n",
    "\n",
    "model.compile(optimizer='adam', loss='mean_squared_error')\n",
    "        "
   ]
  },
  {
   "cell_type": "markdown",
   "metadata": {},
   "source": [
    "# Training\n",
    "100 epochs"
   ]
  },
  {
   "cell_type": "code",
   "execution_count": 15,
   "metadata": {
    "scrolled": true
   },
   "outputs": [
    {
     "name": "stdout",
     "output_type": "stream",
     "text": [
      "Epoch 1/100\n",
      "37/37 [==============================] - 9s 257ms/step - loss: 0.0406\n",
      "Epoch 2/100\n",
      "37/37 [==============================] - 10s 279ms/step - loss: 0.0297\n",
      "Epoch 3/100\n",
      "37/37 [==============================] - 10s 261ms/step - loss: 0.0156\n",
      "Epoch 4/100\n",
      "37/37 [==============================] - 9s 254ms/step - loss: 0.0130\n",
      "Epoch 5/100\n",
      "37/37 [==============================] - 10s 264ms/step - loss: 0.0110\n",
      "Epoch 6/100\n",
      "37/37 [==============================] - 10s 257ms/step - loss: 0.0104\n",
      "Epoch 7/100\n",
      "37/37 [==============================] - 9s 250ms/step - loss: 0.0102\n",
      "Epoch 8/100\n",
      "37/37 [==============================] - 9s 254ms/step - loss: 0.0101\n",
      "Epoch 9/100\n",
      "37/37 [==============================] - 9s 247ms/step - loss: 0.0090\n",
      "Epoch 10/100\n",
      "37/37 [==============================] - 9s 250ms/step - loss: 0.0080\n",
      "Epoch 11/100\n",
      "37/37 [==============================] - 9s 251ms/step - loss: 0.0079\n",
      "Epoch 12/100\n",
      "37/37 [==============================] - 9s 248ms/step - loss: 0.0105\n",
      "Epoch 13/100\n",
      "37/37 [==============================] - 9s 247ms/step - loss: 0.0067\n",
      "Epoch 14/100\n",
      "37/37 [==============================] - 9s 243ms/step - loss: 0.0064\n",
      "Epoch 15/100\n",
      "37/37 [==============================] - 9s 245ms/step - loss: 0.0078\n",
      "Epoch 16/100\n",
      "37/37 [==============================] - 9s 244ms/step - loss: 0.0082\n",
      "Epoch 17/100\n",
      "37/37 [==============================] - 9s 248ms/step - loss: 0.0059\n",
      "Epoch 18/100\n",
      "37/37 [==============================] - 9s 243ms/step - loss: 0.0058\n",
      "Epoch 19/100\n",
      "37/37 [==============================] - 9s 244ms/step - loss: 0.0055\n",
      "Epoch 20/100\n",
      "37/37 [==============================] - 9s 245ms/step - loss: 0.0057\n",
      "Epoch 21/100\n",
      "37/37 [==============================] - 9s 242ms/step - loss: 0.0049\n",
      "Epoch 22/100\n",
      "37/37 [==============================] - 9s 243ms/step - loss: 0.0053\n",
      "Epoch 23/100\n",
      "37/37 [==============================] - 10s 257ms/step - loss: 0.0047\n",
      "Epoch 24/100\n",
      "37/37 [==============================] - 9s 248ms/step - loss: 0.0047\n",
      "Epoch 25/100\n",
      "37/37 [==============================] - 9s 245ms/step - loss: 0.0045\n",
      "Epoch 26/100\n",
      "37/37 [==============================] - 9s 245ms/step - loss: 0.0051\n",
      "Epoch 27/100\n",
      "37/37 [==============================] - 9s 245ms/step - loss: 0.0046\n",
      "Epoch 28/100\n",
      "37/37 [==============================] - 9s 245ms/step - loss: 0.0051\n",
      "Epoch 29/100\n",
      "37/37 [==============================] - 9s 245ms/step - loss: 0.0045\n",
      "Epoch 30/100\n",
      "37/37 [==============================] - 9s 245ms/step - loss: 0.0040\n",
      "Epoch 31/100\n",
      "37/37 [==============================] - 9s 244ms/step - loss: 0.0089\n",
      "Epoch 32/100\n",
      "37/37 [==============================] - 9s 244ms/step - loss: 0.0052\n",
      "Epoch 33/100\n",
      "37/37 [==============================] - 9s 244ms/step - loss: 0.0043\n",
      "Epoch 34/100\n",
      "37/37 [==============================] - 9s 245ms/step - loss: 0.0045\n",
      "Epoch 35/100\n",
      "37/37 [==============================] - 9s 244ms/step - loss: 0.0041\n",
      "Epoch 36/100\n",
      "37/37 [==============================] - 9s 245ms/step - loss: 0.0034\n",
      "Epoch 37/100\n",
      "37/37 [==============================] - 9s 245ms/step - loss: 0.0039\n",
      "Epoch 38/100\n",
      "37/37 [==============================] - 9s 245ms/step - loss: 0.0033\n",
      "Epoch 39/100\n",
      "37/37 [==============================] - 9s 248ms/step - loss: 0.0035\n",
      "Epoch 40/100\n",
      "37/37 [==============================] - 9s 245ms/step - loss: 0.0038\n",
      "Epoch 41/100\n",
      "37/37 [==============================] - 9s 248ms/step - loss: 0.0034\n",
      "Epoch 42/100\n",
      "37/37 [==============================] - 9s 247ms/step - loss: 0.0038\n",
      "Epoch 43/100\n",
      "37/37 [==============================] - 9s 245ms/step - loss: 0.0036\n",
      "Epoch 44/100\n",
      "37/37 [==============================] - 10s 264ms/step - loss: 0.0032\n",
      "Epoch 45/100\n",
      "37/37 [==============================] - 9s 244ms/step - loss: 0.0036\n",
      "Epoch 46/100\n",
      "37/37 [==============================] - 9s 246ms/step - loss: 0.0033\n",
      "Epoch 47/100\n",
      "37/37 [==============================] - 9s 244ms/step - loss: 0.0034\n",
      "Epoch 48/100\n",
      "37/37 [==============================] - 9s 246ms/step - loss: 0.0045\n",
      "Epoch 49/100\n",
      "37/37 [==============================] - 9s 246ms/step - loss: 0.0030\n",
      "Epoch 50/100\n",
      "37/37 [==============================] - 9s 244ms/step - loss: 0.0029\n",
      "Epoch 51/100\n",
      "37/37 [==============================] - 9s 245ms/step - loss: 0.0056\n",
      "Epoch 52/100\n",
      "37/37 [==============================] - 9s 244ms/step - loss: 0.0034\n",
      "Epoch 53/100\n",
      "37/37 [==============================] - 9s 244ms/step - loss: 0.0031\n",
      "Epoch 54/100\n",
      "37/37 [==============================] - 9s 246ms/step - loss: 0.0036\n",
      "Epoch 55/100\n",
      "37/37 [==============================] - 10s 264ms/step - loss: 0.0032\n",
      "Epoch 56/100\n",
      "37/37 [==============================] - 9s 252ms/step - loss: 0.0029\n",
      "Epoch 57/100\n",
      "37/37 [==============================] - 9s 244ms/step - loss: 0.0029\n",
      "Epoch 58/100\n",
      "37/37 [==============================] - 9s 245ms/step - loss: 0.0031\n",
      "Epoch 59/100\n",
      "37/37 [==============================] - 9s 250ms/step - loss: 0.0028\n",
      "Epoch 60/100\n",
      "37/37 [==============================] - 9s 255ms/step - loss: 0.0027\n",
      "Epoch 61/100\n",
      "37/37 [==============================] - 9s 248ms/step - loss: 0.0030\n",
      "Epoch 62/100\n",
      "37/37 [==============================] - 9s 244ms/step - loss: 0.0033\n",
      "Epoch 63/100\n",
      "37/37 [==============================] - 9s 244ms/step - loss: 0.0053\n",
      "Epoch 64/100\n",
      "37/37 [==============================] - 9s 256ms/step - loss: 0.0032\n",
      "Epoch 65/100\n",
      "37/37 [==============================] - 9s 251ms/step - loss: 0.0031\n",
      "Epoch 66/100\n",
      "37/37 [==============================] - 9s 252ms/step - loss: 0.0031\n",
      "Epoch 67/100\n",
      "37/37 [==============================] - 9s 247ms/step - loss: 0.0027\n",
      "Epoch 68/100\n",
      "37/37 [==============================] - 9s 247ms/step - loss: 0.0024\n",
      "Epoch 69/100\n",
      "37/37 [==============================] - 9s 248ms/step - loss: 0.0030\n",
      "Epoch 70/100\n",
      "37/37 [==============================] - 10s 258ms/step - loss: 0.0023\n",
      "Epoch 71/100\n",
      "37/37 [==============================] - 10s 275ms/step - loss: 0.0022\n",
      "Epoch 72/100\n",
      "37/37 [==============================] - 10s 263ms/step - loss: 0.0032\n",
      "Epoch 73/100\n",
      "37/37 [==============================] - 10s 262ms/step - loss: 0.0025\n",
      "Epoch 74/100\n",
      "37/37 [==============================] - 9s 246ms/step - loss: 0.0022\n",
      "Epoch 75/100\n",
      "37/37 [==============================] - 9s 254ms/step - loss: 0.0023\n",
      "Epoch 76/100\n",
      "37/37 [==============================] - 9s 246ms/step - loss: 0.0026\n",
      "Epoch 77/100\n",
      "37/37 [==============================] - 9s 246ms/step - loss: 0.0027\n",
      "Epoch 78/100\n",
      "37/37 [==============================] - 9s 244ms/step - loss: 0.0024\n",
      "Epoch 79/100\n",
      "37/37 [==============================] - 9s 247ms/step - loss: 0.0026\n",
      "Epoch 80/100\n",
      "37/37 [==============================] - 9s 245ms/step - loss: 0.0024\n",
      "Epoch 81/100\n",
      "37/37 [==============================] - 9s 245ms/step - loss: 0.0028\n",
      "Epoch 82/100\n",
      "37/37 [==============================] - 9s 244ms/step - loss: 0.0028\n",
      "Epoch 83/100\n",
      "37/37 [==============================] - 9s 248ms/step - loss: 0.0024\n",
      "Epoch 84/100\n",
      "37/37 [==============================] - 9s 245ms/step - loss: 0.0030\n",
      "Epoch 85/100\n",
      "37/37 [==============================] - 9s 246ms/step - loss: 0.0027\n",
      "Epoch 86/100\n",
      "37/37 [==============================] - 9s 248ms/step - loss: 0.0023\n",
      "Epoch 87/100\n",
      "37/37 [==============================] - 9s 254ms/step - loss: 0.0024\n",
      "Epoch 88/100\n",
      "37/37 [==============================] - 9s 246ms/step - loss: 0.0024\n",
      "Epoch 89/100\n",
      "37/37 [==============================] - 9s 246ms/step - loss: 0.0028\n",
      "Epoch 90/100\n",
      "37/37 [==============================] - 9s 247ms/step - loss: 0.0023\n",
      "Epoch 91/100\n",
      "37/37 [==============================] - 9s 246ms/step - loss: 0.0027\n",
      "Epoch 92/100\n",
      "37/37 [==============================] - 9s 246ms/step - loss: 0.0022\n",
      "Epoch 93/100\n",
      "37/37 [==============================] - 9s 247ms/step - loss: 0.0027\n",
      "Epoch 94/100\n",
      "37/37 [==============================] - 9s 248ms/step - loss: 0.0023\n",
      "Epoch 95/100\n",
      "37/37 [==============================] - 9s 245ms/step - loss: 0.0028\n",
      "Epoch 96/100\n",
      "37/37 [==============================] - 9s 246ms/step - loss: 0.0022\n",
      "Epoch 97/100\n",
      "37/37 [==============================] - 9s 245ms/step - loss: 0.0020\n",
      "Epoch 98/100\n",
      "37/37 [==============================] - 9s 247ms/step - loss: 0.0021\n",
      "Epoch 99/100\n"
     ]
    },
    {
     "name": "stdout",
     "output_type": "stream",
     "text": [
      "37/37 [==============================] - 9s 246ms/step - loss: 0.0027\n",
      "Epoch 100/100\n",
      "37/37 [==============================] - 9s 251ms/step - loss: 0.0029\n"
     ]
    },
    {
     "data": {
      "text/plain": [
       "<tensorflow.python.keras.callbacks.History at 0x1d4210a8e50>"
      ]
     },
     "execution_count": 15,
     "metadata": {},
     "output_type": "execute_result"
    }
   ],
   "source": [
    "model.fit(X_train, \n",
    "          y_train, \n",
    "          epochs=100,\n",
    "          batch_size=32 )\n",
    "model.save_weights(f'model/{ticker}.h5')"
   ]
  },
  {
   "cell_type": "markdown",
   "metadata": {},
   "source": [
    "# Loss"
   ]
  },
  {
   "cell_type": "code",
   "execution_count": 17,
   "metadata": {},
   "outputs": [
    {
     "data": {
      "text/plain": [
       "<matplotlib.legend.Legend at 0x1d4210d28b0>"
      ]
     },
     "execution_count": 17,
     "metadata": {},
     "output_type": "execute_result"
    },
    {
     "data": {
      "image/png": "[encoded data removed]",
      "text/plain": [
       "<Figure size 720x432 with 1 Axes>"
      ]
     },
     "metadata": {
      "needs_background": "light"
     },
     "output_type": "display_data"
    }
   ],
   "source": [
    "losses = pd.DataFrame(model.history.history['loss'],columns=['loss'])\n",
    "losses['loss'].plot(figsize=(10,6), label='Loss');\n",
    "plt.xlabel('Epoch')\n",
    "plt.ylabel('Loss')\n",
    "plt.legend()"
   ]
  },
  {
   "cell_type": "markdown",
   "metadata": {},
   "source": [
    "# Testing"
   ]
  },
  {
   "cell_type": "code",
   "execution_count": 18,
   "metadata": {
    "scrolled": false
   },
   "outputs": [
    {
     "data": {
      "text/plain": [
       "<matplotlib.legend.Legend at 0x1fd011f7bb0>"
      ]
     },
     "execution_count": 18,
     "metadata": {},
     "output_type": "execute_result"
    },
    {
     "data": {
      "image/png": "[encoded data removed]",
      "text/plain": [
       "<Figure size 864x288 with 1 Axes>"
      ]
     },
     "metadata": {
      "needs_background": "light"
     },
     "output_type": "display_data"
    }
   ],
   "source": [
    "model.load_weights(f'model/{ticker}.h5')\n",
    "future = 7\n",
    "window_size = 120\n",
    "preds = train_norm[-window_size:].tolist()\n",
    "\n",
    "for i in range(future):\n",
    "    seq = np.array(preds[-window_size:], dtype=np.float32)\n",
    "    seq = np.reshape(seq, (seq.shape[1], seq.shape[0], 1))\n",
    "    predict = model.predict(seq)\n",
    "    preds.append(predict)\n",
    "\n",
    "true_predictions = scaler.inverse_transform(np.array(preds[window_size:]).reshape(-1, 1))\n",
    "df1 = pd.DataFrame(true_predictions, index=df.tail(7).index, columns=['pred'])\n",
    "\n",
    "\n",
    "plt.figure(figsize=(12,4))\n",
    "plt.grid(True)\n",
    "plt.autoscale(axis='x',tight=True)\n",
    "plt.plot(df['Adj Close'].iloc[-20:], label='Stock price')\n",
    "plt.plot(df1['pred'], label='predicted')\n",
    "plt.legend()"
   ]
  },
  {
   "cell_type": "markdown",
   "metadata": {},
   "source": [
    "# Absolute mean squared error"
   ]
  },
  {
   "cell_type": "code",
   "execution_count": 19,
   "metadata": {},
   "outputs": [
    {
     "data": {
      "text/plain": [
       "4.9021721542706"
      ]
     },
     "execution_count": 19,
     "metadata": {},
     "output_type": "execute_result"
    }
   ],
   "source": [
    "from sklearn.metrics import mean_squared_error\n",
    "np.sqrt(mean_squared_error(true_predictions.reshape(1, -1), df['Adj Close'][-7:].values.reshape(1, -1)))"
   ]
  },
  {
   "cell_type": "markdown",
   "metadata": {},
   "source": [
    "# 2. LSTM network\n",
    "lstm 4 layers 100 nodes\n",
    "\n",
    "fully connected 1 l layer"
   ]
  },
  {
   "cell_type": "code",
   "execution_count": 29,
   "metadata": {},
   "outputs": [],
   "source": [
    "model = Sequential()\n",
    "\n",
    "model.add(LSTM(units=100, return_sequences=True, input_shape=(X_train.shape[1], 1)))\n",
    "model.add(Dropout(0.2))\n",
    "\n",
    "model.add(LSTM(units=100, return_sequences=True))\n",
    "model.add(Dropout(0.2))\n",
    "\n",
    "model.add(LSTM(units=100, return_sequences=True))\n",
    "model.add(Dropout(0.2))\n",
    "\n",
    "model.add(LSTM(units=100, return_sequences=True))\n",
    "model.add(Dropout(0.2))\n",
    "\n",
    "\n",
    "model.add(LSTM(units=100,))\n",
    "model.add(Dropout(0.2))\n",
    "\n",
    "model.add(Dense(units=1))\n",
    "\n",
    "model.compile(optimizer='adam', loss='mean_squared_error')"
   ]
  },
  {
   "cell_type": "markdown",
   "metadata": {},
   "source": [
    "# Training\n",
    "100 epochs"
   ]
  },
  {
   "cell_type": "code",
   "execution_count": 30,
   "metadata": {
    "scrolled": true
   },
   "outputs": [
    {
     "name": "stdout",
     "output_type": "stream",
     "text": [
      "Epoch 1/100\n",
      "37/37 [==============================] - 7s 197ms/step - loss: 0.0290 - val_loss: 0.0054\n",
      "Epoch 2/100\n",
      "37/37 [==============================] - 6s 161ms/step - loss: 0.0114 - val_loss: 0.0327\n",
      "Epoch 3/100\n",
      "37/37 [==============================] - 6s 162ms/step - loss: 0.0112 - val_loss: 0.3554\n",
      "Epoch 4/100\n",
      "37/37 [==============================] - 6s 161ms/step - loss: 0.0195 - val_loss: 0.0029\n",
      "Epoch 5/100\n",
      "37/37 [==============================] - 6s 163ms/step - loss: 0.0079 - val_loss: 0.0020\n",
      "Epoch 6/100\n",
      "37/37 [==============================] - 6s 164ms/step - loss: 0.0075 - val_loss: 0.0360\n",
      "Epoch 7/100\n",
      "37/37 [==============================] - 6s 163ms/step - loss: 0.0072 - val_loss: 0.0299\n",
      "Epoch 8/100\n",
      "37/37 [==============================] - 6s 162ms/step - loss: 0.0064 - val_loss: 0.0177\n",
      "Epoch 9/100\n",
      "37/37 [==============================] - 6s 169ms/step - loss: 0.0065 - val_loss: 0.0085\n",
      "Epoch 10/100\n",
      "37/37 [==============================] - 6s 171ms/step - loss: 0.0062 - val_loss: 0.0164\n",
      "Epoch 11/100\n",
      "37/37 [==============================] - 6s 167ms/step - loss: 0.0059 - val_loss: 0.0032\n",
      "Epoch 12/100\n",
      "37/37 [==============================] - 6s 166ms/step - loss: 0.0054 - val_loss: 0.0294\n",
      "Epoch 13/100\n",
      "37/37 [==============================] - 6s 163ms/step - loss: 0.0054 - val_loss: 0.0023\n",
      "Epoch 14/100\n",
      "37/37 [==============================] - 6s 162ms/step - loss: 0.0052 - val_loss: 0.0042\n",
      "Epoch 15/100\n",
      "37/37 [==============================] - 6s 165ms/step - loss: 0.0051 - val_loss: 0.0287\n",
      "Epoch 16/100\n",
      "37/37 [==============================] - 6s 162ms/step - loss: 0.0072 - val_loss: 0.0013\n",
      "Epoch 17/100\n",
      "37/37 [==============================] - 6s 164ms/step - loss: 0.0047 - val_loss: 0.0025\n",
      "Epoch 18/100\n",
      "37/37 [==============================] - 6s 163ms/step - loss: 0.0044 - val_loss: 0.0056\n",
      "Epoch 19/100\n",
      "37/37 [==============================] - 6s 162ms/step - loss: 0.0046 - val_loss: 0.0070\n",
      "Epoch 20/100\n",
      "37/37 [==============================] - 6s 162ms/step - loss: 0.0053 - val_loss: 0.0036\n",
      "Epoch 21/100\n",
      "37/37 [==============================] - 6s 162ms/step - loss: 0.0045 - val_loss: 0.0031\n",
      "Epoch 22/100\n",
      "37/37 [==============================] - 6s 164ms/step - loss: 0.0039 - val_loss: 0.0016\n",
      "Epoch 23/100\n",
      "37/37 [==============================] - 6s 165ms/step - loss: 0.0036 - val_loss: 0.0128\n",
      "Epoch 24/100\n",
      "37/37 [==============================] - 6s 164ms/step - loss: 0.0044 - val_loss: 0.0029\n",
      "Epoch 25/100\n",
      "37/37 [==============================] - 6s 162ms/step - loss: 0.0039 - val_loss: 0.0068\n",
      "Epoch 26/100\n",
      "37/37 [==============================] - 6s 161ms/step - loss: 0.0040 - val_loss: 0.0034\n",
      "Epoch 27/100\n",
      "37/37 [==============================] - 6s 161ms/step - loss: 0.0051 - val_loss: 0.0056\n",
      "Epoch 28/100\n",
      "37/37 [==============================] - 6s 163ms/step - loss: 0.0047 - val_loss: 0.0020\n",
      "Epoch 29/100\n",
      "37/37 [==============================] - 6s 161ms/step - loss: 0.0039 - val_loss: 0.0085\n",
      "Epoch 30/100\n",
      "37/37 [==============================] - 6s 161ms/step - loss: 0.0035 - val_loss: 0.0014\n",
      "Epoch 31/100\n",
      "37/37 [==============================] - 6s 163ms/step - loss: 0.0032 - val_loss: 0.0016\n",
      "Epoch 32/100\n",
      "37/37 [==============================] - 6s 162ms/step - loss: 0.0041 - val_loss: 0.0013\n",
      "Epoch 33/100\n",
      "37/37 [==============================] - 6s 163ms/step - loss: 0.0033 - val_loss: 0.0039\n",
      "Epoch 34/100\n",
      "37/37 [==============================] - 6s 163ms/step - loss: 0.0041 - val_loss: 0.0016\n",
      "Epoch 35/100\n",
      "37/37 [==============================] - 6s 163ms/step - loss: 0.0029 - val_loss: 0.0028\n",
      "Epoch 36/100\n",
      "37/37 [==============================] - 6s 165ms/step - loss: 0.0030 - val_loss: 0.0020\n",
      "Epoch 37/100\n",
      "37/37 [==============================] - 6s 164ms/step - loss: 0.0028 - val_loss: 0.0118\n",
      "Epoch 38/100\n",
      "37/37 [==============================] - 6s 164ms/step - loss: 0.0032 - val_loss: 0.0025\n",
      "Epoch 39/100\n",
      "37/37 [==============================] - 6s 163ms/step - loss: 0.0032 - val_loss: 0.0107\n",
      "Epoch 40/100\n",
      "37/37 [==============================] - 6s 162ms/step - loss: 0.0027 - val_loss: 0.0023\n",
      "Epoch 41/100\n",
      "37/37 [==============================] - 6s 164ms/step - loss: 0.0026 - val_loss: 0.0031\n",
      "Epoch 42/100\n",
      "37/37 [==============================] - 6s 166ms/step - loss: 0.0029 - val_loss: 0.0026\n",
      "Epoch 43/100\n",
      "37/37 [==============================] - 6s 164ms/step - loss: 0.0063 - val_loss: 0.0116\n",
      "Epoch 44/100\n",
      "37/37 [==============================] - 6s 167ms/step - loss: 0.0038 - val_loss: 0.0055\n",
      "Epoch 45/100\n",
      "37/37 [==============================] - 6s 174ms/step - loss: 0.0050 - val_loss: 0.0052\n",
      "Epoch 46/100\n",
      "37/37 [==============================] - 6s 165ms/step - loss: 0.0029 - val_loss: 0.0039\n",
      "Epoch 47/100\n",
      "37/37 [==============================] - 6s 163ms/step - loss: 0.0029 - val_loss: 0.0014\n",
      "Epoch 48/100\n",
      "37/37 [==============================] - 6s 165ms/step - loss: 0.0030 - val_loss: 0.0021\n",
      "Epoch 49/100\n",
      "37/37 [==============================] - 6s 164ms/step - loss: 0.0028 - val_loss: 0.0011\n",
      "Epoch 50/100\n",
      "37/37 [==============================] - 6s 163ms/step - loss: 0.0028 - val_loss: 0.0103\n",
      "Epoch 51/100\n",
      "37/37 [==============================] - 6s 164ms/step - loss: 0.0043 - val_loss: 0.0118\n",
      "Epoch 52/100\n",
      "37/37 [==============================] - 6s 163ms/step - loss: 0.0026 - val_loss: 0.0034\n",
      "Epoch 53/100\n",
      "37/37 [==============================] - 6s 164ms/step - loss: 0.0029 - val_loss: 0.0012\n",
      "Epoch 54/100\n",
      "37/37 [==============================] - 6s 164ms/step - loss: 0.0041 - val_loss: 0.0039\n",
      "Epoch 55/100\n",
      "37/37 [==============================] - 6s 163ms/step - loss: 0.0029 - val_loss: 8.0512e-04\n",
      "Epoch 56/100\n",
      "37/37 [==============================] - 6s 164ms/step - loss: 0.0031 - val_loss: 0.0031\n",
      "Epoch 57/100\n",
      "37/37 [==============================] - 6s 163ms/step - loss: 0.0031 - val_loss: 0.0242\n",
      "Epoch 58/100\n",
      "37/37 [==============================] - 6s 163ms/step - loss: 0.0029 - val_loss: 6.7368e-04\n",
      "Epoch 59/100\n",
      "37/37 [==============================] - 6s 165ms/step - loss: 0.0023 - val_loss: 0.0032\n",
      "Epoch 60/100\n",
      "37/37 [==============================] - 6s 163ms/step - loss: 0.0025 - val_loss: 0.0078\n",
      "Epoch 61/100\n",
      "37/37 [==============================] - 6s 165ms/step - loss: 0.0025 - val_loss: 6.3190e-04\n",
      "Epoch 62/100\n",
      "37/37 [==============================] - 6s 163ms/step - loss: 0.0024 - val_loss: 0.0016\n",
      "Epoch 63/100\n",
      "37/37 [==============================] - 6s 164ms/step - loss: 0.0024 - val_loss: 0.0102\n",
      "Epoch 64/100\n",
      "37/37 [==============================] - 6s 164ms/step - loss: 0.0025 - val_loss: 6.2381e-04\n",
      "Epoch 65/100\n",
      "37/37 [==============================] - 6s 163ms/step - loss: 0.0021 - val_loss: 0.0017\n",
      "Epoch 66/100\n",
      "37/37 [==============================] - 6s 164ms/step - loss: 0.0023 - val_loss: 8.0217e-04\n",
      "Epoch 67/100\n",
      "37/37 [==============================] - 6s 164ms/step - loss: 0.0023 - val_loss: 4.4091e-04\n",
      "Epoch 68/100\n",
      "37/37 [==============================] - 6s 163ms/step - loss: 0.0021 - val_loss: 0.0113\n",
      "Epoch 69/100\n",
      "37/37 [==============================] - 6s 164ms/step - loss: 0.0031 - val_loss: 0.0083\n",
      "Epoch 70/100\n",
      "37/37 [==============================] - 6s 163ms/step - loss: 0.0041 - val_loss: 0.0112\n",
      "Epoch 71/100\n",
      "37/37 [==============================] - 6s 164ms/step - loss: 0.0027 - val_loss: 8.4107e-04\n",
      "Epoch 72/100\n",
      "37/37 [==============================] - 7s 176ms/step - loss: 0.0023 - val_loss: 0.0171\n",
      "Epoch 73/100\n",
      "37/37 [==============================] - 6s 167ms/step - loss: 0.0031 - val_loss: 6.3610e-04\n",
      "Epoch 74/100\n",
      "37/37 [==============================] - 6s 164ms/step - loss: 0.0022 - val_loss: 0.0027\n",
      "Epoch 75/100\n",
      "37/37 [==============================] - 6s 164ms/step - loss: 0.0023 - val_loss: 9.6880e-04\n",
      "Epoch 76/100\n",
      "37/37 [==============================] - 6s 163ms/step - loss: 0.0023 - val_loss: 0.0030\n",
      "Epoch 77/100\n",
      "37/37 [==============================] - 6s 164ms/step - loss: 0.0021 - val_loss: 0.0045\n",
      "Epoch 78/100\n",
      "37/37 [==============================] - 6s 164ms/step - loss: 0.0022 - val_loss: 0.0120\n",
      "Epoch 79/100\n",
      "37/37 [==============================] - 6s 165ms/step - loss: 0.0022 - val_loss: 3.2421e-04\n",
      "Epoch 80/100\n",
      "37/37 [==============================] - 6s 167ms/step - loss: 0.0022 - val_loss: 0.0017\n",
      "Epoch 81/100\n"
     ]
    },
    {
     "name": "stdout",
     "output_type": "stream",
     "text": [
      "37/37 [==============================] - 6s 164ms/step - loss: 0.0020 - val_loss: 7.9397e-04\n",
      "Epoch 82/100\n",
      "37/37 [==============================] - 6s 164ms/step - loss: 0.0026 - val_loss: 0.0017\n",
      "Epoch 83/100\n",
      "37/37 [==============================] - 6s 164ms/step - loss: 0.0020 - val_loss: 0.0029\n",
      "Epoch 84/100\n",
      "37/37 [==============================] - 6s 165ms/step - loss: 0.0022 - val_loss: 0.0065\n",
      "Epoch 85/100\n",
      "37/37 [==============================] - 6s 163ms/step - loss: 0.0022 - val_loss: 2.5479e-04\n",
      "Epoch 86/100\n",
      "37/37 [==============================] - 6s 164ms/step - loss: 0.0018 - val_loss: 0.0012\n",
      "Epoch 87/100\n",
      "37/37 [==============================] - 6s 165ms/step - loss: 0.0023 - val_loss: 0.0121\n",
      "Epoch 88/100\n",
      "37/37 [==============================] - 6s 169ms/step - loss: 0.0022 - val_loss: 0.0095\n",
      "Epoch 89/100\n",
      "37/37 [==============================] - 6s 165ms/step - loss: 0.0025 - val_loss: 0.0029\n",
      "Epoch 90/100\n",
      "37/37 [==============================] - 7s 181ms/step - loss: 0.0021 - val_loss: 0.0017\n",
      "Epoch 91/100\n",
      "37/37 [==============================] - 7s 180ms/step - loss: 0.0020 - val_loss: 0.0105\n",
      "Epoch 92/100\n",
      "37/37 [==============================] - 6s 168ms/step - loss: 0.0020 - val_loss: 0.0048\n",
      "Epoch 93/100\n",
      "37/37 [==============================] - 6s 169ms/step - loss: 0.0021 - val_loss: 4.0774e-04\n",
      "Epoch 94/100\n",
      "37/37 [==============================] - 6s 170ms/step - loss: 0.0021 - val_loss: 0.0046\n",
      "Epoch 95/100\n",
      "37/37 [==============================] - 7s 178ms/step - loss: 0.0029 - val_loss: 0.0045\n",
      "Epoch 96/100\n",
      "37/37 [==============================] - 6s 167ms/step - loss: 0.0028 - val_loss: 4.4752e-04\n",
      "Epoch 97/100\n",
      "37/37 [==============================] - 6s 167ms/step - loss: 0.0021 - val_loss: 1.4970e-04\n",
      "Epoch 98/100\n",
      "37/37 [==============================] - 6s 167ms/step - loss: 0.0021 - val_loss: 4.4198e-04\n",
      "Epoch 99/100\n",
      "37/37 [==============================] - 6s 167ms/step - loss: 0.0020 - val_loss: 0.0022\n",
      "Epoch 100/100\n",
      "37/37 [==============================] - 6s 166ms/step - loss: 0.0020 - val_loss: 0.0119\n"
     ]
    }
   ],
   "source": [
    "model.fit(X_train,\n",
    "          y_train,\n",
    "          epochs=100,\n",
    "          validation_data=(X_test, y_test),\n",
    "          batch_size=32 )\n",
    "model.save_weights(f'model/{ticker}.h5')"
   ]
  },
  {
   "cell_type": "code",
   "execution_count": 34,
   "metadata": {},
   "outputs": [
    {
     "data": {
      "image/png": "[encoded data removed]",
      "text/plain": [
       "<Figure size 720x432 with 1 Axes>"
      ]
     },
     "metadata": {
      "needs_background": "light"
     },
     "output_type": "display_data"
    },
    {
     "data": {
      "text/plain": [
       "<matplotlib.legend.Legend at 0x24dc7934be0>"
      ]
     },
     "execution_count": 34,
     "metadata": {},
     "output_type": "execute_result"
    },
    {
     "data": {
      "image/png": "[encoded data removed]",
      "text/plain": [
       "<Figure size 720x432 with 1 Axes>"
      ]
     },
     "metadata": {
      "needs_background": "light"
     },
     "output_type": "display_data"
    }
   ],
   "source": [
    "losses = pd.DataFrame(model.history.history)\n",
    "losses['loss'].plot(figsize=(10,6), label='Loss');\n",
    "plt.show()\n",
    "losses['val_loss'].plot(figsize=(10,6), label='Validation');\n",
    "plt.xlabel('Epoch')\n",
    "plt.ylabel('Loss')\n",
    "plt.legend()"
   ]
  },
  {
   "cell_type": "code",
   "execution_count": 35,
   "metadata": {},
   "outputs": [
    {
     "data": {
      "text/plain": [
       "<matplotlib.legend.Legend at 0x24da382e5e0>"
      ]
     },
     "execution_count": 35,
     "metadata": {},
     "output_type": "execute_result"
    },
    {
     "data": {
      "image/png": "[encoded data removed]",
      "text/plain": [
       "<Figure size 864x288 with 1 Axes>"
      ]
     },
     "metadata": {
      "needs_background": "light"
     },
     "output_type": "display_data"
    }
   ],
   "source": [
    "model.load_weights(f'model/{ticker}.h5')\n",
    "future = 7\n",
    "window_size = 120\n",
    "preds = train_norm[-window_size:].tolist()\n",
    "\n",
    "for i in range(future):\n",
    "    seq = np.array(preds[-window_size:], dtype=np.float32)\n",
    "    seq = np.reshape(seq, (seq.shape[1], seq.shape[0], 1))\n",
    "    predict = model.predict(seq)\n",
    "    preds.append(predict)\n",
    "\n",
    "true_predictions = scaler.inverse_transform(np.array(preds[window_size:]).reshape(-1, 1))\n",
    "df1 = pd.DataFrame(true_predictions, index=df.tail(7).index, columns=['pred'])\n",
    "\n",
    "\n",
    "plt.figure(figsize=(12,4))\n",
    "plt.grid(True)\n",
    "plt.autoscale(axis='x',tight=True)\n",
    "plt.plot(df['Adj Close'].iloc[-20:], label='Stock price')\n",
    "plt.plot(df1['pred'], label='predicted')\n",
    "plt.legend()"
   ]
  },
  {
   "cell_type": "code",
   "execution_count": 36,
   "metadata": {},
   "outputs": [
    {
     "data": {
      "text/plain": [
       "7.023969917970467"
      ]
     },
     "execution_count": 36,
     "metadata": {},
     "output_type": "execute_result"
    }
   ],
   "source": [
    "from sklearn.metrics import mean_squared_error\n",
    "np.sqrt(mean_squared_error(true_predictions.reshape(1, -1), df['Adj Close'][-7:].values.reshape(1, -1)))"
   ]
  },
  {
   "cell_type": "code",
   "execution_count": null,
   "metadata": {},
   "outputs": [],
   "source": []
  }
 ],
 "metadata": {
  "kernelspec": {
   "display_name": "Python 3",
   "language": "python",
   "name": "python3"
  },
  "language_info": {
   "codemirror_mode": {
    "name": "ipython",
    "version": 3
   },
   "file_extension": ".py",
   "mimetype": "text/x-python",
   "name": "python",
   "nbconvert_exporter": "python",
   "pygments_lexer": "ipython3",
   "version": "3.8.5"
  }
 },
 "nbformat": 4,
 "nbformat_minor": 4
}

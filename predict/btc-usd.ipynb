{
 "cells": [
  {
   "cell_type": "markdown",
   "metadata": {},
   "source": [
    "# Import Module"
   ]
  },
  {
   "cell_type": "code",
   "execution_count": 29,
   "metadata": {},
   "outputs": [],
   "source": [
    "import torch\n",
    "import torch.nn as nn\n",
    "import numpy as np\n",
    "import pandas as pd\n",
    "import matplotlib.pyplot as plt\n",
    "import pandas_datareader as web\n",
    "%matplotlib inline\n",
    "from sklearn.preprocessing import MinMaxScaler\n",
    "from pandas.plotting import register_matplotlib_converters\n",
    "register_matplotlib_converters()"
   ]
  },
  {
   "cell_type": "markdown",
   "metadata": {},
   "source": [
    "# Stock Data \n",
    "training data\n",
    "start: 2015/01/01\n",
    "end: 2019/11/01 \n",
    "\n",
    "testing data \n",
    "start: 2019/12/01\n",
    "end: 2020/01/01"
   ]
  },
  {
   "cell_type": "code",
   "execution_count": 30,
   "metadata": {},
   "outputs": [],
   "source": [
    "ticker = 'btc-usd'.upper()"
   ]
  },
  {
   "cell_type": "code",
   "execution_count": 31,
   "metadata": {},
   "outputs": [
    {
     "data": {
      "text/html": [
       "<div>\n",
       "<style scoped>\n",
       "    .dataframe tbody tr th:only-of-type {\n",
       "        vertical-align: middle;\n",
       "    }\n",
       "\n",
       "    .dataframe tbody tr th {\n",
       "        vertical-align: top;\n",
       "    }\n",
       "\n",
       "    .dataframe thead th {\n",
       "        text-align: right;\n",
       "    }\n",
       "</style>\n",
       "<table border=\"1\" class=\"dataframe\">\n",
       "  <thead>\n",
       "    <tr style=\"text-align: right;\">\n",
       "      <th></th>\n",
       "      <th>High</th>\n",
       "      <th>Low</th>\n",
       "      <th>Open</th>\n",
       "      <th>Close</th>\n",
       "      <th>Volume</th>\n",
       "      <th>Adj Close</th>\n",
       "    </tr>\n",
       "    <tr>\n",
       "      <th>Date</th>\n",
       "      <th></th>\n",
       "      <th></th>\n",
       "      <th></th>\n",
       "      <th></th>\n",
       "      <th></th>\n",
       "      <th></th>\n",
       "    </tr>\n",
       "  </thead>\n",
       "  <tbody>\n",
       "    <tr>\n",
       "      <th>2015-12-31</th>\n",
       "      <td>432.920990</td>\n",
       "      <td>418.734985</td>\n",
       "      <td>425.875000</td>\n",
       "      <td>430.566986</td>\n",
       "      <td>4.599660e+07</td>\n",
       "      <td>430.566986</td>\n",
       "    </tr>\n",
       "    <tr>\n",
       "      <th>2016-01-01</th>\n",
       "      <td>436.246002</td>\n",
       "      <td>427.515015</td>\n",
       "      <td>430.721008</td>\n",
       "      <td>434.334015</td>\n",
       "      <td>3.627890e+07</td>\n",
       "      <td>434.334015</td>\n",
       "    </tr>\n",
       "    <tr>\n",
       "      <th>2016-01-02</th>\n",
       "      <td>436.062012</td>\n",
       "      <td>431.869995</td>\n",
       "      <td>434.622009</td>\n",
       "      <td>433.437988</td>\n",
       "      <td>3.009660e+07</td>\n",
       "      <td>433.437988</td>\n",
       "    </tr>\n",
       "    <tr>\n",
       "      <th>2016-01-03</th>\n",
       "      <td>433.743011</td>\n",
       "      <td>424.705994</td>\n",
       "      <td>433.578003</td>\n",
       "      <td>430.010986</td>\n",
       "      <td>3.963380e+07</td>\n",
       "      <td>430.010986</td>\n",
       "    </tr>\n",
       "    <tr>\n",
       "      <th>2016-01-04</th>\n",
       "      <td>434.516998</td>\n",
       "      <td>429.084015</td>\n",
       "      <td>430.061005</td>\n",
       "      <td>433.091003</td>\n",
       "      <td>3.847750e+07</td>\n",
       "      <td>433.091003</td>\n",
       "    </tr>\n",
       "    <tr>\n",
       "      <th>...</th>\n",
       "      <td>...</td>\n",
       "      <td>...</td>\n",
       "      <td>...</td>\n",
       "      <td>...</td>\n",
       "      <td>...</td>\n",
       "      <td>...</td>\n",
       "    </tr>\n",
       "    <tr>\n",
       "      <th>2020-12-28</th>\n",
       "      <td>27389.111328</td>\n",
       "      <td>26207.640625</td>\n",
       "      <td>26280.822266</td>\n",
       "      <td>27084.808594</td>\n",
       "      <td>4.905674e+10</td>\n",
       "      <td>27084.808594</td>\n",
       "    </tr>\n",
       "    <tr>\n",
       "      <th>2020-12-29</th>\n",
       "      <td>27370.720703</td>\n",
       "      <td>25987.298828</td>\n",
       "      <td>27081.810547</td>\n",
       "      <td>27362.437500</td>\n",
       "      <td>4.526595e+10</td>\n",
       "      <td>27362.437500</td>\n",
       "    </tr>\n",
       "    <tr>\n",
       "      <th>2020-12-30</th>\n",
       "      <td>28937.740234</td>\n",
       "      <td>27360.089844</td>\n",
       "      <td>27360.089844</td>\n",
       "      <td>28840.953125</td>\n",
       "      <td>5.128744e+10</td>\n",
       "      <td>28840.953125</td>\n",
       "    </tr>\n",
       "    <tr>\n",
       "      <th>2020-12-31</th>\n",
       "      <td>29244.876953</td>\n",
       "      <td>28201.992188</td>\n",
       "      <td>28841.574219</td>\n",
       "      <td>29001.720703</td>\n",
       "      <td>4.675496e+10</td>\n",
       "      <td>29001.720703</td>\n",
       "    </tr>\n",
       "    <tr>\n",
       "      <th>2021-01-01</th>\n",
       "      <td>29600.626953</td>\n",
       "      <td>28803.585938</td>\n",
       "      <td>28994.009766</td>\n",
       "      <td>29374.152344</td>\n",
       "      <td>4.073030e+10</td>\n",
       "      <td>29374.152344</td>\n",
       "    </tr>\n",
       "  </tbody>\n",
       "</table>\n",
       "<p>1825 rows × 6 columns</p>\n",
       "</div>"
      ],
      "text/plain": [
       "                    High           Low          Open         Close  \\\n",
       "Date                                                                 \n",
       "2015-12-31    432.920990    418.734985    425.875000    430.566986   \n",
       "2016-01-01    436.246002    427.515015    430.721008    434.334015   \n",
       "2016-01-02    436.062012    431.869995    434.622009    433.437988   \n",
       "2016-01-03    433.743011    424.705994    433.578003    430.010986   \n",
       "2016-01-04    434.516998    429.084015    430.061005    433.091003   \n",
       "...                  ...           ...           ...           ...   \n",
       "2020-12-28  27389.111328  26207.640625  26280.822266  27084.808594   \n",
       "2020-12-29  27370.720703  25987.298828  27081.810547  27362.437500   \n",
       "2020-12-30  28937.740234  27360.089844  27360.089844  28840.953125   \n",
       "2020-12-31  29244.876953  28201.992188  28841.574219  29001.720703   \n",
       "2021-01-01  29600.626953  28803.585938  28994.009766  29374.152344   \n",
       "\n",
       "                  Volume     Adj Close  \n",
       "Date                                    \n",
       "2015-12-31  4.599660e+07    430.566986  \n",
       "2016-01-01  3.627890e+07    434.334015  \n",
       "2016-01-02  3.009660e+07    433.437988  \n",
       "2016-01-03  3.963380e+07    430.010986  \n",
       "2016-01-04  3.847750e+07    433.091003  \n",
       "...                  ...           ...  \n",
       "2020-12-28  4.905674e+10  27084.808594  \n",
       "2020-12-29  4.526595e+10  27362.437500  \n",
       "2020-12-30  5.128744e+10  28840.953125  \n",
       "2020-12-31  4.675496e+10  29001.720703  \n",
       "2021-01-01  4.073030e+10  29374.152344  \n",
       "\n",
       "[1825 rows x 6 columns]"
      ]
     },
     "execution_count": 31,
     "metadata": {},
     "output_type": "execute_result"
    }
   ],
   "source": [
    "df = web.DataReader(ticker, 'yahoo', '2016-01-01', '2021-01-01')\n",
    "df"
   ]
  },
  {
   "cell_type": "code",
   "execution_count": 32,
   "metadata": {},
   "outputs": [
    {
     "data": {
      "image/png": "[encoded data removed]",
      "text/plain": [
       "<Figure size 936x288 with 1 Axes>"
      ]
     },
     "metadata": {
      "needs_background": "light"
     },
     "output_type": "display_data"
    }
   ],
   "source": [
    "plt.figure(figsize=(13,4))\n",
    "plt.title('Stock price '+ ticker)\n",
    "plt.ylabel('Price')\n",
    "plt.grid(True)\n",
    "plt.autoscale(axis='x',tight=True)\n",
    "plt.plot(df['Adj Close'], color='g')\n",
    "plt.show()"
   ]
  },
  {
   "cell_type": "code",
   "execution_count": 33,
   "metadata": {},
   "outputs": [],
   "source": [
    "y = df['Adj Close'].values.astype(float)\n",
    "\n",
    "test_size = 21\n",
    "train_set = y[:-test_size]\n",
    "test_set = y[-test_size:]"
   ]
  },
  {
   "cell_type": "code",
   "execution_count": 34,
   "metadata": {},
   "outputs": [
    {
     "data": {
      "image/png": "[encoded data removed]",
      "text/plain": [
       "<Figure size 936x288 with 1 Axes>"
      ]
     },
     "metadata": {
      "needs_background": "light"
     },
     "output_type": "display_data"
    }
   ],
   "source": [
    "df['Adj Close'].iloc[-test_size:].plot(figsize=(13,4))\n",
    "plt.title('test set')\n",
    "plt.grid(True)"
   ]
  },
  {
   "cell_type": "markdown",
   "metadata": {},
   "source": [
    "# Normalizing data\n",
    "convert to range [-1, 1]"
   ]
  },
  {
   "cell_type": "code",
   "execution_count": 35,
   "metadata": {},
   "outputs": [],
   "source": [
    "scaler = MinMaxScaler(feature_range=(-1, 1))\n",
    "train_norm = scaler.fit_transform(train_set.reshape(-1, 1))"
   ]
  },
  {
   "cell_type": "code",
   "execution_count": 36,
   "metadata": {},
   "outputs": [
    {
     "data": {
      "text/plain": [
       "-1.0"
      ]
     },
     "execution_count": 36,
     "metadata": {},
     "output_type": "execute_result"
    }
   ],
   "source": [
    "train_norm.min()"
   ]
  },
  {
   "cell_type": "code",
   "execution_count": 37,
   "metadata": {},
   "outputs": [
    {
     "data": {
      "text/plain": [
       "1.0"
      ]
     },
     "execution_count": 37,
     "metadata": {},
     "output_type": "execute_result"
    }
   ],
   "source": [
    "train_norm.max()"
   ]
  },
  {
   "cell_type": "code",
   "execution_count": 38,
   "metadata": {},
   "outputs": [
    {
     "data": {
      "text/plain": [
       "-0.4227136053154196"
      ]
     },
     "execution_count": 38,
     "metadata": {},
     "output_type": "execute_result"
    }
   ],
   "source": [
    "train_norm.mean()"
   ]
  },
  {
   "cell_type": "code",
   "execution_count": 39,
   "metadata": {},
   "outputs": [
    {
     "data": {
      "text/plain": [
       "0.45337621907667985"
      ]
     },
     "execution_count": 39,
     "metadata": {},
     "output_type": "execute_result"
    }
   ],
   "source": [
    "train_norm.std()"
   ]
  },
  {
   "cell_type": "markdown",
   "metadata": {},
   "source": [
    "# Input data and label\n",
    "window size = 21\n",
    "\n",
    "[1, 2, 3, ...,21] predict ==> [22]"
   ]
  },
  {
   "cell_type": "code",
   "execution_count": 40,
   "metadata": {},
   "outputs": [
    {
     "data": {
      "text/plain": [
       "1783"
      ]
     },
     "execution_count": 40,
     "metadata": {},
     "output_type": "execute_result"
    }
   ],
   "source": [
    "train_norm = torch.FloatTensor(train_norm).view(-1)\n",
    "\n",
    "window_size = 21\n",
    "\n",
    "\n",
    "def input_data(seq,ws): \n",
    "    out = []\n",
    "    L = len(seq)\n",
    "    for i in range(L-ws):\n",
    "        window = seq[i:i+ws]\n",
    "        label = seq[i+ws:i+ws+1]\n",
    "        out.append((window,label))\n",
    "    return out\n",
    "\n",
    "train_data = input_data(train_norm,window_size)\n",
    "len(train_data)  "
   ]
  },
  {
   "cell_type": "markdown",
   "metadata": {},
   "source": [
    "# 2. LSTM network\n",
    "lstm 2 layers 100 nodes\n",
    "\n",
    "fully connected 1 l layer"
   ]
  },
  {
   "cell_type": "code",
   "execution_count": 41,
   "metadata": {},
   "outputs": [],
   "source": [
    "class LSTMnetwork(nn.Module):\n",
    "    def __init__(self,input_size=1,hidden_size=[100, 100], output_size=1):\n",
    "        super().__init__()\n",
    "        self.hidden_size = hidden_size\n",
    "        \n",
    "        self.lstm1 = nn.LSTM(input_size,hidden_size[0])\n",
    "        \n",
    "        self.lstm2 = nn.LSTM(hidden_size[0], hidden_size[1])\n",
    "        \n",
    "        self.linear = nn.Linear(hidden_size[1], output_size)\n",
    "        \n",
    "        self.hidden = (torch.zeros(1,1,self.hidden_size[0]),\n",
    "                       torch.zeros(1,1,self.hidden_size[0]))\n",
    "\n",
    "    def forward(self,seq):\n",
    "        lstm_out1, self.hidden = self.lstm1(seq.view(len(seq),1,-1), self.hidden)\n",
    "        lstm_out2, self.hidden = self.lstm2(lstm_out1.view(len(seq),1,-1), self.hidden)\n",
    "        pred = self.linear(lstm_out2.view(len(seq),-1))\n",
    "        return pred[-1] \n",
    "        "
   ]
  },
  {
   "cell_type": "code",
   "execution_count": 42,
   "metadata": {},
   "outputs": [
    {
     "data": {
      "text/plain": [
       "LSTMnetwork(\n",
       "  (lstm1): LSTM(1, 100)\n",
       "  (lstm2): LSTM(100, 100)\n",
       "  (linear): Linear(in_features=100, out_features=1, bias=True)\n",
       ")"
      ]
     },
     "execution_count": 42,
     "metadata": {},
     "output_type": "execute_result"
    }
   ],
   "source": [
    "torch.manual_seed(101)\n",
    "model = LSTMnetwork()\n",
    "\n",
    "criterion = nn.MSELoss()\n",
    "optimizer = torch.optim.Adam(model.parameters(), lr=0.001)\n",
    "\n",
    "model"
   ]
  },
  {
   "cell_type": "markdown",
   "metadata": {},
   "source": [
    "# Training"
   ]
  },
  {
   "cell_type": "code",
   "execution_count": 43,
   "metadata": {},
   "outputs": [
    {
     "name": "stdout",
     "output_type": "stream",
     "text": [
      "Epoch:  1 Loss: 0.04360561\n",
      "Epoch:  2 Loss: 0.00062189\n",
      "Epoch:  3 Loss: 0.09881267\n",
      "Epoch:  4 Loss: 0.44331008\n",
      "Epoch:  5 Loss: 0.00303892\n",
      "Epoch:  6 Loss: 0.03608768\n",
      "Epoch:  7 Loss: 0.01328178\n",
      "Epoch:  8 Loss: 0.00003312\n",
      "Epoch:  9 Loss: 0.00053992\n",
      "Epoch: 10 Loss: 0.00705908\n",
      "Epoch: 11 Loss: 0.00202732\n",
      "Epoch: 12 Loss: 0.00247772\n",
      "Epoch: 13 Loss: 0.01416042\n",
      "Epoch: 14 Loss: 0.00060674\n",
      "Epoch: 15 Loss: 0.03807885\n",
      "Epoch: 16 Loss: 0.01454864\n",
      "Epoch: 17 Loss: 0.02208412\n",
      "Epoch: 18 Loss: 0.00245845\n",
      "Epoch: 19 Loss: 0.00464731\n",
      "Epoch: 20 Loss: 0.06011026\n",
      "Epoch: 21 Loss: 0.02556073\n",
      "Epoch: 22 Loss: 0.00035259\n",
      "Epoch: 23 Loss: 0.02975173\n",
      "Epoch: 24 Loss: 0.00522910\n",
      "Epoch: 25 Loss: 0.03331363\n",
      "Epoch: 26 Loss: 0.05444350\n",
      "Epoch: 27 Loss: 0.03538250\n",
      "Epoch: 28 Loss: 0.05946988\n",
      "Epoch: 29 Loss: 0.02990072\n",
      "Epoch: 30 Loss: 0.00018794\n",
      "Epoch: 31 Loss: 0.00132593\n",
      "Epoch: 32 Loss: 0.00195598\n",
      "Epoch: 33 Loss: 0.00212083\n",
      "Epoch: 34 Loss: 0.00527738\n",
      "Epoch: 35 Loss: 0.00041385\n",
      "Epoch: 36 Loss: 0.04237798\n",
      "Epoch: 37 Loss: 0.00065802\n",
      "Epoch: 38 Loss: 0.00347371\n",
      "Epoch: 39 Loss: 0.00902447\n",
      "Epoch: 40 Loss: 0.00305484\n",
      "Epoch: 41 Loss: 0.00226427\n",
      "Epoch: 42 Loss: 0.00208796\n",
      "Epoch: 43 Loss: 0.00204654\n",
      "Epoch: 44 Loss: 0.00203128\n",
      "Epoch: 45 Loss: 0.00203242\n",
      "Epoch: 46 Loss: 0.00073751\n",
      "Epoch: 47 Loss: 0.00003088\n",
      "Epoch: 48 Loss: 0.00016303\n",
      "Epoch: 49 Loss: 0.00369118\n",
      "Epoch: 50 Loss: 0.00158589\n",
      "Epoch: 51 Loss: 0.00350707\n",
      "Epoch: 52 Loss: 0.00443994\n",
      "Epoch: 53 Loss: 0.01056978\n",
      "Epoch: 54 Loss: 0.02006998\n",
      "Epoch: 55 Loss: 0.02737541\n",
      "Epoch: 56 Loss: 0.00038447\n",
      "Epoch: 57 Loss: 0.05417484\n",
      "Epoch: 58 Loss: 0.02092172\n",
      "Epoch: 59 Loss: 0.01559453\n",
      "Epoch: 60 Loss: 0.01418634\n",
      "Epoch: 61 Loss: 0.00780725\n",
      "Epoch: 62 Loss: 0.02571488\n",
      "Epoch: 63 Loss: 0.00044422\n",
      "Epoch: 64 Loss: 0.02310826\n",
      "Epoch: 65 Loss: 0.01562327\n",
      "Epoch: 66 Loss: 0.00896967\n",
      "Epoch: 67 Loss: 0.01324094\n",
      "Epoch: 68 Loss: 0.01326214\n",
      "Epoch: 69 Loss: 0.01205262\n",
      "Epoch: 70 Loss: 0.01331601\n",
      "Epoch: 71 Loss: 0.01062897\n",
      "Epoch: 72 Loss: 0.01915605\n",
      "Epoch: 73 Loss: 0.01354431\n",
      "Epoch: 74 Loss: 0.01558211\n",
      "Epoch: 75 Loss: 0.01264140\n",
      "Epoch: 76 Loss: 0.01350845\n",
      "Epoch: 77 Loss: 0.01375926\n",
      "Epoch: 78 Loss: 0.01494784\n",
      "Epoch: 79 Loss: 0.01404817\n",
      "Epoch: 80 Loss: 0.01339335\n",
      "Epoch: 81 Loss: 0.01278646\n",
      "Epoch: 82 Loss: 0.01252092\n",
      "Epoch: 83 Loss: 0.01134236\n",
      "Epoch: 84 Loss: 0.01131750\n",
      "Epoch: 85 Loss: 0.01079160\n",
      "Epoch: 86 Loss: 0.01056750\n",
      "Epoch: 87 Loss: 0.01139186\n",
      "Epoch: 88 Loss: 0.01199479\n",
      "Epoch: 89 Loss: 0.01129040\n",
      "Epoch: 90 Loss: 0.00936047\n",
      "Epoch: 91 Loss: 0.01128715\n",
      "Epoch: 92 Loss: 0.00936955\n",
      "Epoch: 93 Loss: 0.01323193\n",
      "Epoch: 94 Loss: 0.01095689\n",
      "Epoch: 95 Loss: 0.01152655\n",
      "Epoch: 96 Loss: 0.01307816\n",
      "Epoch: 97 Loss: 0.01115985\n",
      "Epoch: 98 Loss: 0.01246001\n",
      "Epoch: 99 Loss: 0.01287181\n",
      "Epoch: 100 Loss: 0.01186472\n",
      "\n",
      "Duration: 3904 seconds\n"
     ]
    }
   ],
   "source": [
    "epochs = 100\n",
    "losses= []\n",
    "\n",
    "import time\n",
    "start_time = time.time()\n",
    "\n",
    "for epoch in range(epochs):\n",
    "    for seq, y_train in train_data:\n",
    "        \n",
    "        optimizer.zero_grad()\n",
    "        model.hidden = (torch.zeros(1,1,model.hidden_size[0]),\n",
    "                        torch.zeros(1,1,model.hidden_size[0]))\n",
    "        \n",
    "        y_pred = model(seq)\n",
    "        \n",
    "        loss = criterion(y_pred, y_train)\n",
    "        loss.backward()\n",
    "        losses.append(loss.item())\n",
    "        optimizer.step()\n",
    "        \n",
    "    print(f'Epoch: {epoch+1:2} Loss: {loss.item():10.8f}')\n",
    "    \n",
    "print(f'\\nDuration: {time.time() - start_time:.0f} seconds')"
   ]
  },
  {
   "cell_type": "code",
   "execution_count": 44,
   "metadata": {},
   "outputs": [
    {
     "data": {
      "image/png": "[encoded data removed]",
      "text/plain": [
       "<Figure size 936x288 with 1 Axes>"
      ]
     },
     "metadata": {
      "needs_background": "light"
     },
     "output_type": "display_data"
    }
   ],
   "source": [
    "loss = pd.DataFrame(losses, columns=['loss'])\n",
    "loss['loss'].rolling(1825).mean().plot(figsize=(13,4))\n",
    "plt.title('Loss')\n",
    "plt.grid(True)"
   ]
  },
  {
   "cell_type": "markdown",
   "metadata": {},
   "source": [
    "# Forecast\n",
    "21 days in future"
   ]
  },
  {
   "cell_type": "code",
   "execution_count": 45,
   "metadata": {},
   "outputs": [],
   "source": [
    "future = 21\n",
    "\n",
    "preds = train_norm[-window_size:].tolist()\n",
    "\n",
    "model.eval()\n",
    "\n",
    "for i in range(future):\n",
    "    seq = torch.FloatTensor(preds[-window_size:])\n",
    "    with torch.no_grad():\n",
    "        model.hidden = (torch.zeros(1,1,model.hidden_size[0]),\n",
    "                        torch.zeros(1,1,model.hidden_size[0]))\n",
    "        preds.append(model(seq).item())"
   ]
  },
  {
   "cell_type": "code",
   "execution_count": 46,
   "metadata": {},
   "outputs": [],
   "source": [
    "true_predictions = scaler.inverse_transform(np.array(preds[window_size:]).reshape(-1, 1))\n",
    "df1 = pd.DataFrame(true_predictions, index=df.tail(21).index, columns=['pred'])\n"
   ]
  },
  {
   "cell_type": "code",
   "execution_count": 49,
   "metadata": {},
   "outputs": [
    {
     "data": {
      "text/plain": [
       "array([[19067.04996195],\n",
       "       [19138.66459429],\n",
       "       [19133.9218958 ],\n",
       "       [19135.03667678],\n",
       "       [19135.146892  ],\n",
       "       [19134.62336972],\n",
       "       [19134.52922756],\n",
       "       [19135.10785744],\n",
       "       [19135.09063631],\n",
       "       [19134.86905781],\n",
       "       [19135.18133425],\n",
       "       [19134.99764222],\n",
       "       [19135.00223453],\n",
       "       [19135.22036881],\n",
       "       [19135.05963828],\n",
       "       [19134.92301734],\n",
       "       [19135.12163434],\n",
       "       [19135.22840533],\n",
       "       [19135.26858796],\n",
       "       [19135.35124937],\n",
       "       [19135.1698535 ]])"
      ]
     },
     "execution_count": 49,
     "metadata": {},
     "output_type": "execute_result"
    }
   ],
   "source": [
    "true_predictions"
   ]
  },
  {
   "cell_type": "code",
   "execution_count": 47,
   "metadata": {},
   "outputs": [
    {
     "data": {
      "text/plain": [
       "<matplotlib.legend.Legend at 0x2c42af64d30>"
      ]
     },
     "execution_count": 47,
     "metadata": {},
     "output_type": "execute_result"
    },
    {
     "data": {
      "image/png": "[encoded data removed]",
      "text/plain": [
       "<Figure size 864x288 with 1 Axes>"
      ]
     },
     "metadata": {
      "needs_background": "light"
     },
     "output_type": "display_data"
    }
   ],
   "source": [
    "plt.figure(figsize=(12,4))\n",
    "plt.grid(True)\n",
    "plt.autoscale(axis='x',tight=True)\n",
    "plt.plot(df['Adj Close'].iloc[-21:], label='Stock price')\n",
    "plt.plot(df1['pred'], label='predicted')\n",
    "plt.legend()"
   ]
  },
  {
   "cell_type": "markdown",
   "metadata": {},
   "source": [
    "# Absolute mean squared error"
   ]
  },
  {
   "cell_type": "code",
   "execution_count": 48,
   "metadata": {},
   "outputs": [
    {
     "data": {
      "text/plain": [
       "5818.115805342881"
      ]
     },
     "execution_count": 48,
     "metadata": {},
     "output_type": "execute_result"
    }
   ],
   "source": [
    "from sklearn.metrics import mean_squared_error\n",
    "np.sqrt(mean_squared_error(true_predictions.reshape(1, -1), df['Adj Close'][-21:].values.reshape(1, -1)))"
   ]
  },
  {
   "cell_type": "code",
   "execution_count": null,
   "metadata": {},
   "outputs": [],
   "source": []
  }
 ],
 "metadata": {
  "kernelspec": {
   "display_name": "Python 3",
   "language": "python",
   "name": "python3"
  },
  "language_info": {
   "codemirror_mode": {
    "name": "ipython",
    "version": 3
   },
   "file_extension": ".py",
   "mimetype": "text/x-python",
   "name": "python",
   "nbconvert_exporter": "python",
   "pygments_lexer": "ipython3",
   "version": "3.8.5"
  }
 },
 "nbformat": 4,
 "nbformat_minor": 4
}

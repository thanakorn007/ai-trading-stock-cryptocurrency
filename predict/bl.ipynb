{
 "cells": [
  {
   "cell_type": "markdown",
   "metadata": {},
   "source": [
    "# Import Module"
   ]
  },
  {
   "cell_type": "code",
   "execution_count": 1,
   "metadata": {},
   "outputs": [],
   "source": [
    "import torch\n",
    "import torch.nn as nn\n",
    "import numpy as np\n",
    "import pandas as pd\n",
    "import matplotlib.pyplot as plt\n",
    "import pandas_datareader as web\n",
    "%matplotlib inline\n",
    "from sklearn.preprocessing import MinMaxScaler\n",
    "from pandas.plotting import register_matplotlib_converters\n",
    "register_matplotlib_converters()"
   ]
  },
  {
   "cell_type": "markdown",
   "metadata": {},
   "source": [
    "# Stock Data \n",
    "training data\n",
    "start: 2015/01/01\n",
    "end: 2019/11/01 \n",
    "\n",
    "testing data \n",
    "start: 2019/12/01\n",
    "end: 2020/01/01"
   ]
  },
  {
   "cell_type": "code",
   "execution_count": 4,
   "metadata": {},
   "outputs": [],
   "source": [
    "ticker = 'bl'.upper()"
   ]
  },
  {
   "cell_type": "code",
   "execution_count": 5,
   "metadata": {},
   "outputs": [
    {
     "data": {
      "text/html": [
       "<div>\n",
       "<style scoped>\n",
       "    .dataframe tbody tr th:only-of-type {\n",
       "        vertical-align: middle;\n",
       "    }\n",
       "\n",
       "    .dataframe tbody tr th {\n",
       "        vertical-align: top;\n",
       "    }\n",
       "\n",
       "    .dataframe thead th {\n",
       "        text-align: right;\n",
       "    }\n",
       "</style>\n",
       "<table border=\"1\" class=\"dataframe\">\n",
       "  <thead>\n",
       "    <tr style=\"text-align: right;\">\n",
       "      <th></th>\n",
       "      <th>High</th>\n",
       "      <th>Low</th>\n",
       "      <th>Open</th>\n",
       "      <th>Close</th>\n",
       "      <th>Volume</th>\n",
       "      <th>Adj Close</th>\n",
       "    </tr>\n",
       "    <tr>\n",
       "      <th>Date</th>\n",
       "      <th></th>\n",
       "      <th></th>\n",
       "      <th></th>\n",
       "      <th></th>\n",
       "      <th></th>\n",
       "      <th></th>\n",
       "    </tr>\n",
       "  </thead>\n",
       "  <tbody>\n",
       "    <tr>\n",
       "      <th>2016-10-28</th>\n",
       "      <td>25.750000</td>\n",
       "      <td>23.000000</td>\n",
       "      <td>24.520000</td>\n",
       "      <td>23.700001</td>\n",
       "      <td>7489300</td>\n",
       "      <td>23.700001</td>\n",
       "    </tr>\n",
       "    <tr>\n",
       "      <th>2016-10-31</th>\n",
       "      <td>24.230000</td>\n",
       "      <td>22.700001</td>\n",
       "      <td>24.000000</td>\n",
       "      <td>22.750000</td>\n",
       "      <td>519600</td>\n",
       "      <td>22.750000</td>\n",
       "    </tr>\n",
       "    <tr>\n",
       "      <th>2016-11-01</th>\n",
       "      <td>23.344999</td>\n",
       "      <td>22.350000</td>\n",
       "      <td>22.350000</td>\n",
       "      <td>22.490000</td>\n",
       "      <td>396200</td>\n",
       "      <td>22.490000</td>\n",
       "    </tr>\n",
       "    <tr>\n",
       "      <th>2016-11-02</th>\n",
       "      <td>23.000000</td>\n",
       "      <td>22.100000</td>\n",
       "      <td>22.350000</td>\n",
       "      <td>22.150000</td>\n",
       "      <td>322300</td>\n",
       "      <td>22.150000</td>\n",
       "    </tr>\n",
       "    <tr>\n",
       "      <th>2016-11-03</th>\n",
       "      <td>22.290001</td>\n",
       "      <td>21.660000</td>\n",
       "      <td>22.150000</td>\n",
       "      <td>21.980000</td>\n",
       "      <td>304900</td>\n",
       "      <td>21.980000</td>\n",
       "    </tr>\n",
       "    <tr>\n",
       "      <th>...</th>\n",
       "      <td>...</td>\n",
       "      <td>...</td>\n",
       "      <td>...</td>\n",
       "      <td>...</td>\n",
       "      <td>...</td>\n",
       "      <td>...</td>\n",
       "    </tr>\n",
       "    <tr>\n",
       "      <th>2019-12-24</th>\n",
       "      <td>52.919998</td>\n",
       "      <td>52.270000</td>\n",
       "      <td>52.820000</td>\n",
       "      <td>52.419998</td>\n",
       "      <td>83900</td>\n",
       "      <td>52.419998</td>\n",
       "    </tr>\n",
       "    <tr>\n",
       "      <th>2019-12-26</th>\n",
       "      <td>53.180000</td>\n",
       "      <td>52.474998</td>\n",
       "      <td>52.480000</td>\n",
       "      <td>52.830002</td>\n",
       "      <td>131100</td>\n",
       "      <td>52.830002</td>\n",
       "    </tr>\n",
       "    <tr>\n",
       "      <th>2019-12-27</th>\n",
       "      <td>53.040001</td>\n",
       "      <td>51.938999</td>\n",
       "      <td>53.040001</td>\n",
       "      <td>52.419998</td>\n",
       "      <td>217000</td>\n",
       "      <td>52.419998</td>\n",
       "    </tr>\n",
       "    <tr>\n",
       "      <th>2019-12-30</th>\n",
       "      <td>52.410000</td>\n",
       "      <td>50.985001</td>\n",
       "      <td>52.410000</td>\n",
       "      <td>51.580002</td>\n",
       "      <td>307800</td>\n",
       "      <td>51.580002</td>\n",
       "    </tr>\n",
       "    <tr>\n",
       "      <th>2019-12-31</th>\n",
       "      <td>51.784000</td>\n",
       "      <td>51.060001</td>\n",
       "      <td>51.500000</td>\n",
       "      <td>51.560001</td>\n",
       "      <td>197500</td>\n",
       "      <td>51.560001</td>\n",
       "    </tr>\n",
       "  </tbody>\n",
       "</table>\n",
       "<p>798 rows × 6 columns</p>\n",
       "</div>"
      ],
      "text/plain": [
       "                 High        Low       Open      Close   Volume  Adj Close\n",
       "Date                                                                      \n",
       "2016-10-28  25.750000  23.000000  24.520000  23.700001  7489300  23.700001\n",
       "2016-10-31  24.230000  22.700001  24.000000  22.750000   519600  22.750000\n",
       "2016-11-01  23.344999  22.350000  22.350000  22.490000   396200  22.490000\n",
       "2016-11-02  23.000000  22.100000  22.350000  22.150000   322300  22.150000\n",
       "2016-11-03  22.290001  21.660000  22.150000  21.980000   304900  21.980000\n",
       "...               ...        ...        ...        ...      ...        ...\n",
       "2019-12-24  52.919998  52.270000  52.820000  52.419998    83900  52.419998\n",
       "2019-12-26  53.180000  52.474998  52.480000  52.830002   131100  52.830002\n",
       "2019-12-27  53.040001  51.938999  53.040001  52.419998   217000  52.419998\n",
       "2019-12-30  52.410000  50.985001  52.410000  51.580002   307800  51.580002\n",
       "2019-12-31  51.784000  51.060001  51.500000  51.560001   197500  51.560001\n",
       "\n",
       "[798 rows x 6 columns]"
      ]
     },
     "execution_count": 5,
     "metadata": {},
     "output_type": "execute_result"
    }
   ],
   "source": [
    "df = web.DataReader(ticker, 'yahoo', '2015-01-01', '2020-01-01')\n",
    "df"
   ]
  },
  {
   "cell_type": "code",
   "execution_count": 6,
   "metadata": {},
   "outputs": [
    {
     "data": {
      "image/png": "[encoded data removed]",
      "text/plain": [
       "<Figure size 936x288 with 1 Axes>"
      ]
     },
     "metadata": {
      "needs_background": "light"
     },
     "output_type": "display_data"
    }
   ],
   "source": [
    "plt.figure(figsize=(13,4))\n",
    "plt.title('Stock price '+ ticker)\n",
    "plt.ylabel('Price')\n",
    "plt.grid(True)\n",
    "plt.autoscale(axis='x',tight=True)\n",
    "plt.plot(df['Adj Close'], color='g')\n",
    "plt.show()"
   ]
  },
  {
   "cell_type": "code",
   "execution_count": 7,
   "metadata": {},
   "outputs": [],
   "source": [
    "y = df['Adj Close'].values.astype(float)\n",
    "\n",
    "test_size = 21\n",
    "train_set = y[:-test_size]\n",
    "test_set = y[-test_size:]"
   ]
  },
  {
   "cell_type": "code",
   "execution_count": 8,
   "metadata": {},
   "outputs": [
    {
     "data": {
      "image/png": "[encoded data removed]",
      "text/plain": [
       "<Figure size 936x288 with 1 Axes>"
      ]
     },
     "metadata": {
      "needs_background": "light"
     },
     "output_type": "display_data"
    }
   ],
   "source": [
    "df['Adj Close'].iloc[-test_size:].plot(figsize=(13,4))\n",
    "plt.title('test set')\n",
    "plt.grid(True)"
   ]
  },
  {
   "cell_type": "markdown",
   "metadata": {},
   "source": [
    "# Normalizing data\n",
    "convert to range [-1, 1]"
   ]
  },
  {
   "cell_type": "code",
   "execution_count": 9,
   "metadata": {},
   "outputs": [],
   "source": [
    "scaler = MinMaxScaler(feature_range=(-1, 1))\n",
    "train_norm = scaler.fit_transform(train_set.reshape(-1, 1))"
   ]
  },
  {
   "cell_type": "code",
   "execution_count": 10,
   "metadata": {},
   "outputs": [
    {
     "data": {
      "text/plain": [
       "-1.0"
      ]
     },
     "execution_count": 10,
     "metadata": {},
     "output_type": "execute_result"
    }
   ],
   "source": [
    "train_norm.min()"
   ]
  },
  {
   "cell_type": "code",
   "execution_count": 11,
   "metadata": {},
   "outputs": [
    {
     "data": {
      "text/plain": [
       "1.0"
      ]
     },
     "execution_count": 11,
     "metadata": {},
     "output_type": "execute_result"
    }
   ],
   "source": [
    "train_norm.max()"
   ]
  },
  {
   "cell_type": "code",
   "execution_count": 12,
   "metadata": {},
   "outputs": [
    {
     "data": {
      "text/plain": [
       "0.05397019879273584"
      ]
     },
     "execution_count": 12,
     "metadata": {},
     "output_type": "execute_result"
    }
   ],
   "source": [
    "train_norm.mean()"
   ]
  },
  {
   "cell_type": "code",
   "execution_count": 13,
   "metadata": {},
   "outputs": [
    {
     "data": {
      "text/plain": [
       "0.4867658256108944"
      ]
     },
     "execution_count": 13,
     "metadata": {},
     "output_type": "execute_result"
    }
   ],
   "source": [
    "train_norm.std()"
   ]
  },
  {
   "cell_type": "markdown",
   "metadata": {},
   "source": [
    "# Input data and label\n",
    "window size = 21\n",
    "\n",
    "[1, 2, 3, ...,21] predict ==> [22]"
   ]
  },
  {
   "cell_type": "code",
   "execution_count": 14,
   "metadata": {},
   "outputs": [
    {
     "data": {
      "text/plain": [
       "756"
      ]
     },
     "execution_count": 14,
     "metadata": {},
     "output_type": "execute_result"
    }
   ],
   "source": [
    "train_norm = torch.FloatTensor(train_norm).view(-1)\n",
    "\n",
    "window_size = 21\n",
    "\n",
    "\n",
    "def input_data(seq,ws): \n",
    "    out = []\n",
    "    L = len(seq)\n",
    "    for i in range(L-ws):\n",
    "        window = seq[i:i+ws]\n",
    "        label = seq[i+ws:i+ws+1]\n",
    "        out.append((window,label))\n",
    "    return out\n",
    "\n",
    "train_data = input_data(train_norm,window_size)\n",
    "len(train_data)  "
   ]
  },
  {
   "cell_type": "markdown",
   "metadata": {},
   "source": [
    "# 2. LSTM network\n",
    "lstm 2 layers 100 nodes\n",
    "\n",
    "fully connected 1 l layer"
   ]
  },
  {
   "cell_type": "code",
   "execution_count": 15,
   "metadata": {},
   "outputs": [],
   "source": [
    "class LSTMnetwork(nn.Module):\n",
    "    def __init__(self,input_size=1,hidden_size=[100, 100], output_size=1):\n",
    "        super().__init__()\n",
    "        self.hidden_size = hidden_size\n",
    "        \n",
    "        self.lstm1 = nn.LSTM(input_size,hidden_size[0])\n",
    "        \n",
    "        self.lstm2 = nn.LSTM(hidden_size[0], hidden_size[1])\n",
    "        \n",
    "        self.linear = nn.Linear(hidden_size[1], output_size)\n",
    "        \n",
    "        self.hidden = (torch.zeros(1,1,self.hidden_size[0]),\n",
    "                       torch.zeros(1,1,self.hidden_size[0]))\n",
    "\n",
    "    def forward(self,seq):\n",
    "        lstm_out1, self.hidden = self.lstm1(seq.view(len(seq),1,-1), self.hidden)\n",
    "        lstm_out2, self.hidden = self.lstm2(lstm_out1.view(len(seq),1,-1), self.hidden)\n",
    "        pred = self.linear(lstm_out2.view(len(seq),-1))\n",
    "        return pred[-1] \n",
    "        "
   ]
  },
  {
   "cell_type": "code",
   "execution_count": 16,
   "metadata": {},
   "outputs": [
    {
     "data": {
      "text/plain": [
       "LSTMnetwork(\n",
       "  (lstm1): LSTM(1, 100)\n",
       "  (lstm2): LSTM(100, 100)\n",
       "  (linear): Linear(in_features=100, out_features=1, bias=True)\n",
       ")"
      ]
     },
     "execution_count": 16,
     "metadata": {},
     "output_type": "execute_result"
    }
   ],
   "source": [
    "torch.manual_seed(101)\n",
    "model = LSTMnetwork()\n",
    "\n",
    "criterion = nn.MSELoss()\n",
    "optimizer = torch.optim.Adam(model.parameters(), lr=0.001)\n",
    "\n",
    "model"
   ]
  },
  {
   "cell_type": "markdown",
   "metadata": {},
   "source": [
    "# Training"
   ]
  },
  {
   "cell_type": "code",
   "execution_count": 17,
   "metadata": {},
   "outputs": [
    {
     "name": "stdout",
     "output_type": "stream",
     "text": [
      "Epoch:  1 Loss: 0.04355241\n",
      "Epoch:  2 Loss: 0.02617196\n",
      "Epoch:  3 Loss: 0.00805782\n",
      "Epoch:  4 Loss: 0.00196752\n",
      "Epoch:  5 Loss: 0.00043825\n",
      "Epoch:  6 Loss: 0.00060619\n",
      "Epoch:  7 Loss: 0.00077112\n",
      "Epoch:  8 Loss: 0.00000569\n",
      "Epoch:  9 Loss: 0.00144007\n",
      "Epoch: 10 Loss: 0.00279730\n",
      "Epoch: 11 Loss: 0.00225921\n",
      "Epoch: 12 Loss: 0.00529590\n",
      "Epoch: 13 Loss: 0.00439950\n",
      "Epoch: 14 Loss: 0.00505244\n",
      "Epoch: 15 Loss: 0.00537936\n",
      "Epoch: 16 Loss: 0.00493400\n",
      "Epoch: 17 Loss: 0.00574480\n",
      "Epoch: 18 Loss: 0.00140787\n",
      "Epoch: 19 Loss: 0.00694680\n",
      "Epoch: 20 Loss: 0.00091250\n",
      "Epoch: 21 Loss: 0.00357068\n",
      "Epoch: 22 Loss: 0.00378805\n",
      "Epoch: 23 Loss: 0.00439807\n",
      "Epoch: 24 Loss: 0.00018420\n",
      "Epoch: 25 Loss: 0.00075626\n",
      "Epoch: 26 Loss: 0.00248970\n",
      "Epoch: 27 Loss: 0.00192685\n",
      "Epoch: 28 Loss: 0.00177371\n",
      "Epoch: 29 Loss: 0.00070207\n",
      "Epoch: 30 Loss: 0.00195932\n",
      "Epoch: 31 Loss: 0.00252828\n",
      "Epoch: 32 Loss: 0.00169720\n",
      "Epoch: 33 Loss: 0.00047691\n",
      "Epoch: 34 Loss: 0.00088809\n",
      "Epoch: 35 Loss: 0.00057146\n",
      "Epoch: 36 Loss: 0.00108253\n",
      "Epoch: 37 Loss: 0.00182169\n",
      "Epoch: 38 Loss: 0.00011830\n",
      "Epoch: 39 Loss: 0.00082139\n",
      "Epoch: 40 Loss: 0.00263264\n",
      "Epoch: 41 Loss: 0.00009122\n",
      "Epoch: 42 Loss: 0.00180089\n",
      "Epoch: 43 Loss: 0.00324781\n",
      "Epoch: 44 Loss: 0.00001722\n",
      "Epoch: 45 Loss: 0.00005328\n",
      "Epoch: 46 Loss: 0.00122658\n",
      "Epoch: 47 Loss: 0.00007174\n",
      "Epoch: 48 Loss: 0.00000617\n",
      "Epoch: 49 Loss: 0.00020217\n",
      "Epoch: 50 Loss: 0.00013849\n",
      "Epoch: 51 Loss: 0.00014315\n",
      "Epoch: 52 Loss: 0.00026681\n",
      "Epoch: 53 Loss: 0.00024077\n",
      "Epoch: 54 Loss: 0.00099162\n",
      "Epoch: 55 Loss: 0.00013787\n",
      "Epoch: 56 Loss: 0.00085732\n",
      "Epoch: 57 Loss: 0.00088388\n",
      "Epoch: 58 Loss: 0.00069667\n",
      "Epoch: 59 Loss: 0.00016569\n",
      "Epoch: 60 Loss: 0.00001289\n",
      "Epoch: 61 Loss: 0.00029692\n",
      "Epoch: 62 Loss: 0.00040668\n",
      "Epoch: 63 Loss: 0.00013083\n",
      "Epoch: 64 Loss: 0.00074482\n",
      "Epoch: 65 Loss: 0.00097771\n",
      "Epoch: 66 Loss: 0.00092379\n",
      "Epoch: 67 Loss: 0.00031602\n",
      "Epoch: 68 Loss: 0.00112077\n",
      "Epoch: 69 Loss: 0.00063765\n",
      "Epoch: 70 Loss: 0.00215767\n",
      "Epoch: 71 Loss: 0.00144023\n",
      "Epoch: 72 Loss: 0.00011513\n",
      "Epoch: 73 Loss: 0.00237516\n",
      "Epoch: 74 Loss: 0.00131769\n",
      "Epoch: 75 Loss: 0.00186813\n",
      "Epoch: 76 Loss: 0.00178720\n",
      "Epoch: 77 Loss: 0.00135670\n",
      "Epoch: 78 Loss: 0.00097616\n",
      "Epoch: 79 Loss: 0.00080839\n",
      "Epoch: 80 Loss: 0.00139456\n",
      "Epoch: 81 Loss: 0.00153185\n",
      "Epoch: 82 Loss: 0.00160206\n",
      "Epoch: 83 Loss: 0.00300210\n",
      "Epoch: 84 Loss: 0.00248957\n",
      "Epoch: 85 Loss: 0.00077509\n",
      "Epoch: 86 Loss: 0.00143531\n",
      "Epoch: 87 Loss: 0.00134378\n",
      "Epoch: 88 Loss: 0.00121777\n",
      "Epoch: 89 Loss: 0.00118932\n",
      "Epoch: 90 Loss: 0.00125785\n",
      "Epoch: 91 Loss: 0.00052461\n",
      "Epoch: 92 Loss: 0.00056916\n",
      "Epoch: 93 Loss: 0.00059477\n",
      "Epoch: 94 Loss: 0.00086512\n",
      "Epoch: 95 Loss: 0.00086208\n",
      "Epoch: 96 Loss: 0.00237750\n",
      "Epoch: 97 Loss: 0.00102252\n",
      "Epoch: 98 Loss: 0.00116630\n",
      "Epoch: 99 Loss: 0.00097922\n",
      "Epoch: 100 Loss: 0.00073033\n",
      "\n",
      "Duration: 1744 seconds\n"
     ]
    }
   ],
   "source": [
    "epochs = 100\n",
    "losses= []\n",
    "\n",
    "import time\n",
    "start_time = time.time()\n",
    "\n",
    "for epoch in range(epochs):\n",
    "    for seq, y_train in train_data:\n",
    "        \n",
    "        optimizer.zero_grad()\n",
    "        model.hidden = (torch.zeros(1,1,model.hidden_size[0]),\n",
    "                        torch.zeros(1,1,model.hidden_size[0]))\n",
    "        \n",
    "        y_pred = model(seq)\n",
    "        \n",
    "        loss = criterion(y_pred, y_train)\n",
    "        loss.backward()\n",
    "        losses.append(loss.item())\n",
    "        optimizer.step()\n",
    "        \n",
    "    print(f'Epoch: {epoch+1:2} Loss: {loss.item():10.8f}')\n",
    "    \n",
    "print(f'\\nDuration: {time.time() - start_time:.0f} seconds')"
   ]
  },
  {
   "cell_type": "code",
   "execution_count": 18,
   "metadata": {},
   "outputs": [
    {
     "data": {
      "image/png": "[encoded data removed]",
      "text/plain": [
       "<Figure size 936x288 with 1 Axes>"
      ]
     },
     "metadata": {
      "needs_background": "light"
     },
     "output_type": "display_data"
    }
   ],
   "source": [
    "loss = pd.DataFrame(losses, columns=['loss'])\n",
    "loss['loss'].rolling(1217).mean().plot(figsize=(13,4))\n",
    "plt.title('Loss')\n",
    "plt.grid(True)"
   ]
  },
  {
   "cell_type": "markdown",
   "metadata": {},
   "source": [
    "# Forecast\n",
    "21 days in future"
   ]
  },
  {
   "cell_type": "code",
   "execution_count": 19,
   "metadata": {},
   "outputs": [],
   "source": [
    "future = 21\n",
    "\n",
    "preds = train_norm[-window_size:].tolist()\n",
    "\n",
    "model.eval()\n",
    "\n",
    "for i in range(future):\n",
    "    seq = torch.FloatTensor(preds[-window_size:])\n",
    "    with torch.no_grad():\n",
    "        model.hidden = (torch.zeros(1,1,model.hidden_size[0]),\n",
    "                        torch.zeros(1,1,model.hidden_size[0]))\n",
    "        preds.append(model(seq).item())"
   ]
  },
  {
   "cell_type": "code",
   "execution_count": 20,
   "metadata": {},
   "outputs": [],
   "source": [
    "true_predictions = scaler.inverse_transform(np.array(preds[window_size:]).reshape(-1, 1))\n",
    "df1 = pd.DataFrame(true_predictions, index=df.tail(21).index, columns=['pred'])\n"
   ]
  },
  {
   "cell_type": "code",
   "execution_count": 21,
   "metadata": {},
   "outputs": [
    {
     "data": {
      "text/plain": [
       "<matplotlib.legend.Legend at 0x17fab4e8eb0>"
      ]
     },
     "execution_count": 21,
     "metadata": {},
     "output_type": "execute_result"
    },
    {
     "data": {
      "image/png": "[encoded data removed]",
      "text/plain": [
       "<Figure size 864x288 with 1 Axes>"
      ]
     },
     "metadata": {
      "needs_background": "light"
     },
     "output_type": "display_data"
    }
   ],
   "source": [
    "plt.figure(figsize=(12,4))\n",
    "plt.grid(True)\n",
    "plt.autoscale(axis='x',tight=True)\n",
    "plt.plot(df['Adj Close'].iloc[-21:], label='Stock price')\n",
    "plt.plot(df1['pred'], label='predicted')\n",
    "plt.legend()"
   ]
  },
  {
   "cell_type": "markdown",
   "metadata": {},
   "source": [
    "# Absolute mean squared error"
   ]
  },
  {
   "cell_type": "code",
   "execution_count": 22,
   "metadata": {},
   "outputs": [
    {
     "data": {
      "text/plain": [
       "2.6558014909727605"
      ]
     },
     "execution_count": 22,
     "metadata": {},
     "output_type": "execute_result"
    }
   ],
   "source": [
    "from sklearn.metrics import mean_squared_error\n",
    "np.sqrt(mean_squared_error(true_predictions.reshape(1, -1), df['Adj Close'][-21:].values.reshape(1, -1)))"
   ]
  },
  {
   "cell_type": "code",
   "execution_count": null,
   "metadata": {},
   "outputs": [],
   "source": []
  }
 ],
 "metadata": {
  "kernelspec": {
   "display_name": "Python 3",
   "language": "python",
   "name": "python3"
  },
  "language_info": {
   "codemirror_mode": {
    "name": "ipython",
    "version": 3
   },
   "file_extension": ".py",
   "mimetype": "text/x-python",
   "name": "python",
   "nbconvert_exporter": "python",
   "pygments_lexer": "ipython3",
   "version": "3.8.5"
  }
 },
 "nbformat": 4,
 "nbformat_minor": 4
}

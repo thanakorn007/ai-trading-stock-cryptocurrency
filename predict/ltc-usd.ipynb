{
 "cells": [
  {
   "cell_type": "markdown",
   "metadata": {},
   "source": [
    "# Import Module"
   ]
  },
  {
   "cell_type": "code",
   "execution_count": 1,
   "metadata": {},
   "outputs": [],
   "source": [
    "import torch\n",
    "import torch.nn as nn\n",
    "import numpy as np\n",
    "import pandas as pd\n",
    "import matplotlib.pyplot as plt\n",
    "import pandas_datareader as web\n",
    "%matplotlib inline\n",
    "from sklearn.preprocessing import MinMaxScaler\n",
    "from pandas.plotting import register_matplotlib_converters\n",
    "register_matplotlib_converters()"
   ]
  },
  {
   "cell_type": "markdown",
   "metadata": {},
   "source": [
    "# Stock Data \n",
    "training data\n",
    "start: 2015/01/01\n",
    "end: 2019/11/01 \n",
    "\n",
    "testing data \n",
    "start: 2019/12/01\n",
    "end: 2020/01/01"
   ]
  },
  {
   "cell_type": "code",
   "execution_count": 7,
   "metadata": {},
   "outputs": [],
   "source": [
    "ticker = 'ltc-usd'.upper()"
   ]
  },
  {
   "cell_type": "code",
   "execution_count": 10,
   "metadata": {},
   "outputs": [
    {
     "data": {
      "text/html": [
       "<div>\n",
       "<style scoped>\n",
       "    .dataframe tbody tr th:only-of-type {\n",
       "        vertical-align: middle;\n",
       "    }\n",
       "\n",
       "    .dataframe tbody tr th {\n",
       "        vertical-align: top;\n",
       "    }\n",
       "\n",
       "    .dataframe thead th {\n",
       "        text-align: right;\n",
       "    }\n",
       "</style>\n",
       "<table border=\"1\" class=\"dataframe\">\n",
       "  <thead>\n",
       "    <tr style=\"text-align: right;\">\n",
       "      <th></th>\n",
       "      <th>High</th>\n",
       "      <th>Low</th>\n",
       "      <th>Open</th>\n",
       "      <th>Close</th>\n",
       "      <th>Volume</th>\n",
       "      <th>Adj Close</th>\n",
       "    </tr>\n",
       "    <tr>\n",
       "      <th>Date</th>\n",
       "      <th></th>\n",
       "      <th></th>\n",
       "      <th></th>\n",
       "      <th></th>\n",
       "      <th></th>\n",
       "      <th></th>\n",
       "    </tr>\n",
       "  </thead>\n",
       "  <tbody>\n",
       "    <tr>\n",
       "      <th>2015-12-31</th>\n",
       "      <td>3.497400</td>\n",
       "      <td>3.414170</td>\n",
       "      <td>3.459300</td>\n",
       "      <td>3.480170</td>\n",
       "      <td>2.667620e+06</td>\n",
       "      <td>3.480170</td>\n",
       "    </tr>\n",
       "    <tr>\n",
       "      <th>2016-01-01</th>\n",
       "      <td>3.531020</td>\n",
       "      <td>3.469250</td>\n",
       "      <td>3.479520</td>\n",
       "      <td>3.508980</td>\n",
       "      <td>2.791170e+06</td>\n",
       "      <td>3.508980</td>\n",
       "    </tr>\n",
       "    <tr>\n",
       "      <th>2016-01-02</th>\n",
       "      <td>3.527120</td>\n",
       "      <td>3.492190</td>\n",
       "      <td>3.515280</td>\n",
       "      <td>3.502160</td>\n",
       "      <td>3.020260e+06</td>\n",
       "      <td>3.502160</td>\n",
       "    </tr>\n",
       "    <tr>\n",
       "      <th>2016-01-03</th>\n",
       "      <td>3.506430</td>\n",
       "      <td>3.450860</td>\n",
       "      <td>3.504000</td>\n",
       "      <td>3.483070</td>\n",
       "      <td>2.406150e+06</td>\n",
       "      <td>3.483070</td>\n",
       "    </tr>\n",
       "    <tr>\n",
       "      <th>2016-01-04</th>\n",
       "      <td>3.507230</td>\n",
       "      <td>3.476150</td>\n",
       "      <td>3.479100</td>\n",
       "      <td>3.495390</td>\n",
       "      <td>3.309740e+06</td>\n",
       "      <td>3.495390</td>\n",
       "    </tr>\n",
       "    <tr>\n",
       "      <th>...</th>\n",
       "      <td>...</td>\n",
       "      <td>...</td>\n",
       "      <td>...</td>\n",
       "      <td>...</td>\n",
       "      <td>...</td>\n",
       "      <td>...</td>\n",
       "    </tr>\n",
       "    <tr>\n",
       "      <th>2020-12-28</th>\n",
       "      <td>136.185074</td>\n",
       "      <td>127.071342</td>\n",
       "      <td>127.588303</td>\n",
       "      <td>130.050339</td>\n",
       "      <td>1.024873e+10</td>\n",
       "      <td>130.050339</td>\n",
       "    </tr>\n",
       "    <tr>\n",
       "      <th>2020-12-29</th>\n",
       "      <td>130.608582</td>\n",
       "      <td>121.187202</td>\n",
       "      <td>130.033264</td>\n",
       "      <td>129.040802</td>\n",
       "      <td>9.160551e+09</td>\n",
       "      <td>129.040802</td>\n",
       "    </tr>\n",
       "    <tr>\n",
       "      <th>2020-12-30</th>\n",
       "      <td>132.450119</td>\n",
       "      <td>123.444344</td>\n",
       "      <td>129.061859</td>\n",
       "      <td>129.466080</td>\n",
       "      <td>8.127317e+09</td>\n",
       "      <td>129.466080</td>\n",
       "    </tr>\n",
       "    <tr>\n",
       "      <th>2020-12-31</th>\n",
       "      <td>130.166245</td>\n",
       "      <td>123.036484</td>\n",
       "      <td>129.480286</td>\n",
       "      <td>124.690323</td>\n",
       "      <td>6.274573e+09</td>\n",
       "      <td>124.690323</td>\n",
       "    </tr>\n",
       "    <tr>\n",
       "      <th>2021-01-01</th>\n",
       "      <td>133.185760</td>\n",
       "      <td>123.328079</td>\n",
       "      <td>124.672768</td>\n",
       "      <td>126.230347</td>\n",
       "      <td>7.326981e+09</td>\n",
       "      <td>126.230347</td>\n",
       "    </tr>\n",
       "  </tbody>\n",
       "</table>\n",
       "<p>1825 rows × 6 columns</p>\n",
       "</div>"
      ],
      "text/plain": [
       "                  High         Low        Open       Close        Volume  \\\n",
       "Date                                                                       \n",
       "2015-12-31    3.497400    3.414170    3.459300    3.480170  2.667620e+06   \n",
       "2016-01-01    3.531020    3.469250    3.479520    3.508980  2.791170e+06   \n",
       "2016-01-02    3.527120    3.492190    3.515280    3.502160  3.020260e+06   \n",
       "2016-01-03    3.506430    3.450860    3.504000    3.483070  2.406150e+06   \n",
       "2016-01-04    3.507230    3.476150    3.479100    3.495390  3.309740e+06   \n",
       "...                ...         ...         ...         ...           ...   \n",
       "2020-12-28  136.185074  127.071342  127.588303  130.050339  1.024873e+10   \n",
       "2020-12-29  130.608582  121.187202  130.033264  129.040802  9.160551e+09   \n",
       "2020-12-30  132.450119  123.444344  129.061859  129.466080  8.127317e+09   \n",
       "2020-12-31  130.166245  123.036484  129.480286  124.690323  6.274573e+09   \n",
       "2021-01-01  133.185760  123.328079  124.672768  126.230347  7.326981e+09   \n",
       "\n",
       "             Adj Close  \n",
       "Date                    \n",
       "2015-12-31    3.480170  \n",
       "2016-01-01    3.508980  \n",
       "2016-01-02    3.502160  \n",
       "2016-01-03    3.483070  \n",
       "2016-01-04    3.495390  \n",
       "...                ...  \n",
       "2020-12-28  130.050339  \n",
       "2020-12-29  129.040802  \n",
       "2020-12-30  129.466080  \n",
       "2020-12-31  124.690323  \n",
       "2021-01-01  126.230347  \n",
       "\n",
       "[1825 rows x 6 columns]"
      ]
     },
     "execution_count": 10,
     "metadata": {},
     "output_type": "execute_result"
    }
   ],
   "source": [
    "df = web.DataReader(ticker, 'yahoo', '2016-01-01', '2021-01-01')\n",
    "df"
   ]
  },
  {
   "cell_type": "code",
   "execution_count": 11,
   "metadata": {},
   "outputs": [
    {
     "data": {
      "image/png": "[encoded data removed]",
      "text/plain": [
       "<Figure size 936x288 with 1 Axes>"
      ]
     },
     "metadata": {
      "needs_background": "light"
     },
     "output_type": "display_data"
    }
   ],
   "source": [
    "plt.figure(figsize=(13,4))\n",
    "plt.title('Stock price '+ ticker)\n",
    "plt.ylabel('Price')\n",
    "plt.grid(True)\n",
    "plt.autoscale(axis='x',tight=True)\n",
    "plt.plot(df['Adj Close'], color='g')\n",
    "plt.show()"
   ]
  },
  {
   "cell_type": "code",
   "execution_count": 12,
   "metadata": {},
   "outputs": [],
   "source": [
    "y = df['Adj Close'].values.astype(float)\n",
    "\n",
    "test_size = 21\n",
    "train_set = y[:-test_size]\n",
    "test_set = y[-test_size:]"
   ]
  },
  {
   "cell_type": "code",
   "execution_count": 13,
   "metadata": {},
   "outputs": [
    {
     "data": {
      "image/png": "[encoded data removed]",
      "text/plain": [
       "<Figure size 936x288 with 1 Axes>"
      ]
     },
     "metadata": {
      "needs_background": "light"
     },
     "output_type": "display_data"
    }
   ],
   "source": [
    "df['Adj Close'].iloc[-test_size:].plot(figsize=(13,4))\n",
    "plt.title('test set')\n",
    "plt.grid(True)"
   ]
  },
  {
   "cell_type": "markdown",
   "metadata": {},
   "source": [
    "# Normalizing data\n",
    "convert to range [-1, 1]"
   ]
  },
  {
   "cell_type": "code",
   "execution_count": 14,
   "metadata": {},
   "outputs": [],
   "source": [
    "scaler = MinMaxScaler(feature_range=(-1, 1))\n",
    "train_norm = scaler.fit_transform(train_set.reshape(-1, 1))"
   ]
  },
  {
   "cell_type": "code",
   "execution_count": 15,
   "metadata": {},
   "outputs": [
    {
     "data": {
      "text/plain": [
       "-0.9999999999999999"
      ]
     },
     "execution_count": 15,
     "metadata": {},
     "output_type": "execute_result"
    }
   ],
   "source": [
    "train_norm.min()"
   ]
  },
  {
   "cell_type": "code",
   "execution_count": 16,
   "metadata": {},
   "outputs": [
    {
     "data": {
      "text/plain": [
       "1.0"
      ]
     },
     "execution_count": 16,
     "metadata": {},
     "output_type": "execute_result"
    }
   ],
   "source": [
    "train_norm.max()"
   ]
  },
  {
   "cell_type": "code",
   "execution_count": 17,
   "metadata": {},
   "outputs": [
    {
     "data": {
      "text/plain": [
       "-0.6989671767458923"
      ]
     },
     "execution_count": 17,
     "metadata": {},
     "output_type": "execute_result"
    }
   ],
   "source": [
    "train_norm.mean()"
   ]
  },
  {
   "cell_type": "code",
   "execution_count": 18,
   "metadata": {},
   "outputs": [
    {
     "data": {
      "text/plain": [
       "0.303149670822448"
      ]
     },
     "execution_count": 18,
     "metadata": {},
     "output_type": "execute_result"
    }
   ],
   "source": [
    "train_norm.std()"
   ]
  },
  {
   "cell_type": "markdown",
   "metadata": {},
   "source": [
    "# Input data and label\n",
    "window size = 21\n",
    "\n",
    "[1, 2, 3, ...,21] predict ==> [22]"
   ]
  },
  {
   "cell_type": "code",
   "execution_count": 19,
   "metadata": {},
   "outputs": [
    {
     "data": {
      "text/plain": [
       "1783"
      ]
     },
     "execution_count": 19,
     "metadata": {},
     "output_type": "execute_result"
    }
   ],
   "source": [
    "train_norm = torch.FloatTensor(train_norm).view(-1)\n",
    "\n",
    "window_size = 21\n",
    "\n",
    "\n",
    "def input_data(seq,ws): \n",
    "    out = []\n",
    "    L = len(seq)\n",
    "    for i in range(L-ws):\n",
    "        window = seq[i:i+ws]\n",
    "        label = seq[i+ws:i+ws+1]\n",
    "        out.append((window,label))\n",
    "    return out\n",
    "\n",
    "train_data = input_data(train_norm,window_size)\n",
    "len(train_data)  "
   ]
  },
  {
   "cell_type": "markdown",
   "metadata": {},
   "source": [
    "# 2. LSTM network\n",
    "lstm 2 layers 100 nodes\n",
    "\n",
    "fully connected 1 l layer"
   ]
  },
  {
   "cell_type": "code",
   "execution_count": 20,
   "metadata": {},
   "outputs": [],
   "source": [
    "class LSTMnetwork(nn.Module):\n",
    "    def __init__(self,input_size=1,hidden_size=[100, 100], output_size=1):\n",
    "        super().__init__()\n",
    "        self.hidden_size = hidden_size\n",
    "        \n",
    "        self.lstm1 = nn.LSTM(input_size,hidden_size[0])\n",
    "        \n",
    "        self.lstm2 = nn.LSTM(hidden_size[0], hidden_size[1])\n",
    "        \n",
    "        self.linear = nn.Linear(hidden_size[1], output_size)\n",
    "        \n",
    "        self.hidden = (torch.zeros(1,1,self.hidden_size[0]),\n",
    "                       torch.zeros(1,1,self.hidden_size[0]))\n",
    "\n",
    "    def forward(self,seq):\n",
    "        lstm_out1, self.hidden = self.lstm1(seq.view(len(seq),1,-1), self.hidden)\n",
    "        lstm_out2, self.hidden = self.lstm2(lstm_out1.view(len(seq),1,-1), self.hidden)\n",
    "        pred = self.linear(lstm_out2.view(len(seq),-1))\n",
    "        return pred[-1] \n",
    "        "
   ]
  },
  {
   "cell_type": "code",
   "execution_count": 21,
   "metadata": {},
   "outputs": [
    {
     "data": {
      "text/plain": [
       "LSTMnetwork(\n",
       "  (lstm1): LSTM(1, 100)\n",
       "  (lstm2): LSTM(100, 100)\n",
       "  (linear): Linear(in_features=100, out_features=1, bias=True)\n",
       ")"
      ]
     },
     "execution_count": 21,
     "metadata": {},
     "output_type": "execute_result"
    }
   ],
   "source": [
    "torch.manual_seed(101)\n",
    "model = LSTMnetwork()\n",
    "\n",
    "criterion = nn.MSELoss()\n",
    "optimizer = torch.optim.Adam(model.parameters(), lr=0.001)\n",
    "\n",
    "model"
   ]
  },
  {
   "cell_type": "markdown",
   "metadata": {},
   "source": [
    "# Training"
   ]
  },
  {
   "cell_type": "code",
   "execution_count": 22,
   "metadata": {},
   "outputs": [
    {
     "name": "stdout",
     "output_type": "stream",
     "text": [
      "Epoch:  1 Loss: 0.00252904\n",
      "Epoch:  2 Loss: 0.00275519\n",
      "Epoch:  3 Loss: 0.00260501\n",
      "Epoch:  4 Loss: 0.00516069\n",
      "Epoch:  5 Loss: 0.00306490\n",
      "Epoch:  6 Loss: 0.00092219\n",
      "Epoch:  7 Loss: 0.00446904\n",
      "Epoch:  8 Loss: 0.00048704\n",
      "Epoch:  9 Loss: 0.00101586\n",
      "Epoch: 10 Loss: 0.00729010\n",
      "Epoch: 11 Loss: 0.00023901\n",
      "Epoch: 12 Loss: 0.00429849\n",
      "Epoch: 13 Loss: 0.00106375\n",
      "Epoch: 14 Loss: 0.00230147\n",
      "Epoch: 15 Loss: 0.00348852\n",
      "Epoch: 16 Loss: 0.00248116\n",
      "Epoch: 17 Loss: 0.00191412\n",
      "Epoch: 18 Loss: 0.00490303\n",
      "Epoch: 19 Loss: 0.00054116\n",
      "Epoch: 20 Loss: 0.00136743\n",
      "Epoch: 21 Loss: 0.00316664\n",
      "Epoch: 22 Loss: 0.00003734\n",
      "Epoch: 23 Loss: 0.00036106\n",
      "Epoch: 24 Loss: 0.00139735\n",
      "Epoch: 25 Loss: 0.00255916\n",
      "Epoch: 26 Loss: 0.00148332\n",
      "Epoch: 27 Loss: 0.00338132\n",
      "Epoch: 28 Loss: 0.00444365\n",
      "Epoch: 29 Loss: 0.00065616\n",
      "Epoch: 30 Loss: 0.00183053\n",
      "Epoch: 31 Loss: 0.00121727\n",
      "Epoch: 32 Loss: 0.00251738\n",
      "Epoch: 33 Loss: 0.00367436\n",
      "Epoch: 34 Loss: 0.00479160\n",
      "Epoch: 35 Loss: 0.00497150\n",
      "Epoch: 36 Loss: 0.00491134\n",
      "Epoch: 37 Loss: 0.00525925\n",
      "Epoch: 38 Loss: 0.00434362\n",
      "Epoch: 39 Loss: 0.00438486\n",
      "Epoch: 40 Loss: 0.00458739\n",
      "Epoch: 41 Loss: 0.00466642\n",
      "Epoch: 42 Loss: 0.00494143\n",
      "Epoch: 43 Loss: 0.00358942\n",
      "Epoch: 44 Loss: 0.00329857\n",
      "Epoch: 45 Loss: 0.00336455\n",
      "Epoch: 46 Loss: 0.00375740\n",
      "Epoch: 47 Loss: 0.00403615\n",
      "Epoch: 48 Loss: 0.00386740\n",
      "Epoch: 49 Loss: 0.00371723\n",
      "Epoch: 50 Loss: 0.00358399\n",
      "Epoch: 51 Loss: 0.00310737\n",
      "Epoch: 52 Loss: 0.00164593\n",
      "Epoch: 53 Loss: 0.00125089\n",
      "Epoch: 54 Loss: 0.00198910\n",
      "Epoch: 55 Loss: 0.00157876\n",
      "Epoch: 56 Loss: 0.00311165\n",
      "Epoch: 57 Loss: 0.00100381\n",
      "Epoch: 58 Loss: 0.00234445\n",
      "Epoch: 59 Loss: 0.00168249\n",
      "Epoch: 60 Loss: 0.00187850\n",
      "Epoch: 61 Loss: 0.00155588\n",
      "Epoch: 62 Loss: 0.00156548\n",
      "Epoch: 63 Loss: 0.00166637\n",
      "Epoch: 64 Loss: 0.00144488\n",
      "Epoch: 65 Loss: 0.00231512\n",
      "Epoch: 66 Loss: 0.00165344\n",
      "Epoch: 67 Loss: 0.00118608\n",
      "Epoch: 68 Loss: 0.00099961\n",
      "Epoch: 69 Loss: 0.00188608\n",
      "Epoch: 70 Loss: 0.00144075\n",
      "Epoch: 71 Loss: 0.00002080\n",
      "Epoch: 72 Loss: 0.00189945\n",
      "Epoch: 73 Loss: 0.00141958\n",
      "Epoch: 74 Loss: 0.00013296\n",
      "Epoch: 75 Loss: 0.00081599\n",
      "Epoch: 76 Loss: 0.00022643\n",
      "Epoch: 77 Loss: 0.00103599\n",
      "Epoch: 78 Loss: 0.00042724\n",
      "Epoch: 79 Loss: 0.00241790\n",
      "Epoch: 80 Loss: 0.00119314\n",
      "Epoch: 81 Loss: 0.00076686\n",
      "Epoch: 82 Loss: 0.00201275\n",
      "Epoch: 83 Loss: 0.00008946\n",
      "Epoch: 84 Loss: 0.00005818\n",
      "Epoch: 85 Loss: 0.00004871\n",
      "Epoch: 86 Loss: 0.00015766\n",
      "Epoch: 87 Loss: 0.00003552\n",
      "Epoch: 88 Loss: 0.00015522\n",
      "Epoch: 89 Loss: 0.00007854\n",
      "Epoch: 90 Loss: 0.00016452\n",
      "Epoch: 91 Loss: 0.00020442\n",
      "Epoch: 92 Loss: 0.00005718\n",
      "Epoch: 93 Loss: 0.00009531\n",
      "Epoch: 94 Loss: 0.00007831\n",
      "Epoch: 95 Loss: 0.00009278\n",
      "Epoch: 96 Loss: 0.00010108\n",
      "Epoch: 97 Loss: 0.00014613\n",
      "Epoch: 98 Loss: 0.00000227\n",
      "Epoch: 99 Loss: 0.00033755\n",
      "Epoch: 100 Loss: 0.00022317\n",
      "\n",
      "Duration: 3640 seconds\n"
     ]
    }
   ],
   "source": [
    "epochs = 100\n",
    "losses= []\n",
    "\n",
    "import time\n",
    "start_time = time.time()\n",
    "\n",
    "for epoch in range(epochs):\n",
    "    for seq, y_train in train_data:\n",
    "        \n",
    "        optimizer.zero_grad()\n",
    "        model.hidden = (torch.zeros(1,1,model.hidden_size[0]),\n",
    "                        torch.zeros(1,1,model.hidden_size[0]))\n",
    "        \n",
    "        y_pred = model(seq)\n",
    "        \n",
    "        loss = criterion(y_pred, y_train)\n",
    "        loss.backward()\n",
    "        losses.append(loss.item())\n",
    "        optimizer.step()\n",
    "        \n",
    "    print(f'Epoch: {epoch+1:2} Loss: {loss.item():10.8f}')\n",
    "    \n",
    "print(f'\\nDuration: {time.time() - start_time:.0f} seconds')"
   ]
  },
  {
   "cell_type": "code",
   "execution_count": 23,
   "metadata": {},
   "outputs": [
    {
     "data": {
      "image/png": "[encoded data removed]",
      "text/plain": [
       "<Figure size 936x288 with 1 Axes>"
      ]
     },
     "metadata": {
      "needs_background": "light"
     },
     "output_type": "display_data"
    }
   ],
   "source": [
    "loss = pd.DataFrame(losses, columns=['loss'])\n",
    "loss['loss'].rolling(1825).mean().plot(figsize=(13,4))\n",
    "plt.title('Loss')\n",
    "plt.grid(True)"
   ]
  },
  {
   "cell_type": "markdown",
   "metadata": {},
   "source": [
    "# Forecast\n",
    "21 days in future"
   ]
  },
  {
   "cell_type": "code",
   "execution_count": 24,
   "metadata": {},
   "outputs": [],
   "source": [
    "future = 21\n",
    "\n",
    "preds = train_norm[-window_size:].tolist()\n",
    "\n",
    "model.eval()\n",
    "\n",
    "for i in range(future):\n",
    "    seq = torch.FloatTensor(preds[-window_size:])\n",
    "    with torch.no_grad():\n",
    "        model.hidden = (torch.zeros(1,1,model.hidden_size[0]),\n",
    "                        torch.zeros(1,1,model.hidden_size[0]))\n",
    "        preds.append(model(seq).item())"
   ]
  },
  {
   "cell_type": "code",
   "execution_count": 25,
   "metadata": {},
   "outputs": [],
   "source": [
    "true_predictions = scaler.inverse_transform(np.array(preds[window_size:]).reshape(-1, 1))\n",
    "df1 = pd.DataFrame(true_predictions, index=df.tail(21).index, columns=['pred'])\n"
   ]
  },
  {
   "cell_type": "code",
   "execution_count": 26,
   "metadata": {},
   "outputs": [
    {
     "data": {
      "text/plain": [
       "<matplotlib.legend.Legend at 0x191b5d5bb20>"
      ]
     },
     "execution_count": 26,
     "metadata": {},
     "output_type": "execute_result"
    },
    {
     "data": {
      "image/png": "[encoded data removed]",
      "text/plain": [
       "<Figure size 864x288 with 1 Axes>"
      ]
     },
     "metadata": {
      "needs_background": "light"
     },
     "output_type": "display_data"
    }
   ],
   "source": [
    "plt.figure(figsize=(12,4))\n",
    "plt.grid(True)\n",
    "plt.autoscale(axis='x',tight=True)\n",
    "plt.plot(df['Adj Close'].iloc[-21:], label='Stock price')\n",
    "plt.plot(df1['pred'], label='predicted')\n",
    "plt.legend()"
   ]
  },
  {
   "cell_type": "markdown",
   "metadata": {},
   "source": [
    "# Absolute mean squared error"
   ]
  },
  {
   "cell_type": "code",
   "execution_count": 27,
   "metadata": {},
   "outputs": [
    {
     "data": {
      "text/plain": [
       "43.30827057470304"
      ]
     },
     "execution_count": 27,
     "metadata": {},
     "output_type": "execute_result"
    }
   ],
   "source": [
    "from sklearn.metrics import mean_squared_error\n",
    "np.sqrt(mean_squared_error(true_predictions.reshape(1, -1), df['Adj Close'][-21:].values.reshape(1, -1)))"
   ]
  },
  {
   "cell_type": "code",
   "execution_count": null,
   "metadata": {},
   "outputs": [],
   "source": []
  }
 ],
 "metadata": {
  "kernelspec": {
   "display_name": "Python 3",
   "language": "python",
   "name": "python3"
  },
  "language_info": {
   "codemirror_mode": {
    "name": "ipython",
    "version": 3
   },
   "file_extension": ".py",
   "mimetype": "text/x-python",
   "name": "python",
   "nbconvert_exporter": "python",
   "pygments_lexer": "ipython3",
   "version": "3.8.5"
  }
 },
 "nbformat": 4,
 "nbformat_minor": 4
}

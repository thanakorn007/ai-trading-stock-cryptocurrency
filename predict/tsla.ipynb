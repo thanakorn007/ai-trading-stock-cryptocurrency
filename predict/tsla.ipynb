{
 "cells": [
  {
   "cell_type": "markdown",
   "metadata": {},
   "source": [
    "# Import Module"
   ]
  },
  {
   "cell_type": "code",
   "execution_count": 1,
   "metadata": {},
   "outputs": [],
   "source": [
    "import torch\n",
    "import torch.nn as nn\n",
    "import numpy as np\n",
    "import pandas as pd\n",
    "import matplotlib.pyplot as plt\n",
    "import pandas_datareader as web\n",
    "%matplotlib inline\n",
    "from sklearn.preprocessing import MinMaxScaler\n",
    "from pandas.plotting import register_matplotlib_converters\n",
    "register_matplotlib_converters()"
   ]
  },
  {
   "cell_type": "markdown",
   "metadata": {},
   "source": [
    "# Stock Data \n",
    "training data\n",
    "start: 2015/01/01\n",
    "end: 2019/11/01 \n",
    "\n",
    "testing data \n",
    "start: 2019/12/01\n",
    "end: 2020/01/01"
   ]
  },
  {
   "cell_type": "code",
   "execution_count": 3,
   "metadata": {},
   "outputs": [],
   "source": [
    "ticker = 'tsla'.upper()"
   ]
  },
  {
   "cell_type": "code",
   "execution_count": 4,
   "metadata": {},
   "outputs": [
    {
     "data": {
      "text/html": [
       "<div>\n",
       "<style scoped>\n",
       "    .dataframe tbody tr th:only-of-type {\n",
       "        vertical-align: middle;\n",
       "    }\n",
       "\n",
       "    .dataframe tbody tr th {\n",
       "        vertical-align: top;\n",
       "    }\n",
       "\n",
       "    .dataframe thead th {\n",
       "        text-align: right;\n",
       "    }\n",
       "</style>\n",
       "<table border=\"1\" class=\"dataframe\">\n",
       "  <thead>\n",
       "    <tr style=\"text-align: right;\">\n",
       "      <th></th>\n",
       "      <th>High</th>\n",
       "      <th>Low</th>\n",
       "      <th>Open</th>\n",
       "      <th>Close</th>\n",
       "      <th>Volume</th>\n",
       "      <th>Adj Close</th>\n",
       "    </tr>\n",
       "    <tr>\n",
       "      <th>Date</th>\n",
       "      <th></th>\n",
       "      <th></th>\n",
       "      <th></th>\n",
       "      <th></th>\n",
       "      <th></th>\n",
       "      <th></th>\n",
       "    </tr>\n",
       "  </thead>\n",
       "  <tbody>\n",
       "    <tr>\n",
       "      <th>2014-12-31</th>\n",
       "      <td>45.136002</td>\n",
       "      <td>44.450001</td>\n",
       "      <td>44.618000</td>\n",
       "      <td>44.481998</td>\n",
       "      <td>11487500</td>\n",
       "      <td>44.481998</td>\n",
       "    </tr>\n",
       "    <tr>\n",
       "      <th>2015-01-02</th>\n",
       "      <td>44.650002</td>\n",
       "      <td>42.652000</td>\n",
       "      <td>44.574001</td>\n",
       "      <td>43.862000</td>\n",
       "      <td>23822000</td>\n",
       "      <td>43.862000</td>\n",
       "    </tr>\n",
       "    <tr>\n",
       "      <th>2015-01-05</th>\n",
       "      <td>43.299999</td>\n",
       "      <td>41.431999</td>\n",
       "      <td>42.910000</td>\n",
       "      <td>42.018002</td>\n",
       "      <td>26842500</td>\n",
       "      <td>42.018002</td>\n",
       "    </tr>\n",
       "    <tr>\n",
       "      <th>2015-01-06</th>\n",
       "      <td>42.840000</td>\n",
       "      <td>40.841999</td>\n",
       "      <td>42.012001</td>\n",
       "      <td>42.256001</td>\n",
       "      <td>31309500</td>\n",
       "      <td>42.256001</td>\n",
       "    </tr>\n",
       "    <tr>\n",
       "      <th>2015-01-07</th>\n",
       "      <td>42.956001</td>\n",
       "      <td>41.956001</td>\n",
       "      <td>42.669998</td>\n",
       "      <td>42.189999</td>\n",
       "      <td>14842000</td>\n",
       "      <td>42.189999</td>\n",
       "    </tr>\n",
       "    <tr>\n",
       "      <th>...</th>\n",
       "      <td>...</td>\n",
       "      <td>...</td>\n",
       "      <td>...</td>\n",
       "      <td>...</td>\n",
       "      <td>...</td>\n",
       "      <td>...</td>\n",
       "    </tr>\n",
       "    <tr>\n",
       "      <th>2019-12-24</th>\n",
       "      <td>85.094002</td>\n",
       "      <td>82.538002</td>\n",
       "      <td>83.671997</td>\n",
       "      <td>85.050003</td>\n",
       "      <td>40273500</td>\n",
       "      <td>85.050003</td>\n",
       "    </tr>\n",
       "    <tr>\n",
       "      <th>2019-12-26</th>\n",
       "      <td>86.695999</td>\n",
       "      <td>85.269997</td>\n",
       "      <td>85.582001</td>\n",
       "      <td>86.188004</td>\n",
       "      <td>53169500</td>\n",
       "      <td>86.188004</td>\n",
       "    </tr>\n",
       "    <tr>\n",
       "      <th>2019-12-27</th>\n",
       "      <td>87.061996</td>\n",
       "      <td>85.222000</td>\n",
       "      <td>87.000000</td>\n",
       "      <td>86.075996</td>\n",
       "      <td>49728500</td>\n",
       "      <td>86.075996</td>\n",
       "    </tr>\n",
       "    <tr>\n",
       "      <th>2019-12-30</th>\n",
       "      <td>85.800003</td>\n",
       "      <td>81.851997</td>\n",
       "      <td>85.758003</td>\n",
       "      <td>82.940002</td>\n",
       "      <td>62932000</td>\n",
       "      <td>82.940002</td>\n",
       "    </tr>\n",
       "    <tr>\n",
       "      <th>2019-12-31</th>\n",
       "      <td>84.258003</td>\n",
       "      <td>80.416000</td>\n",
       "      <td>81.000000</td>\n",
       "      <td>83.666000</td>\n",
       "      <td>51428500</td>\n",
       "      <td>83.666000</td>\n",
       "    </tr>\n",
       "  </tbody>\n",
       "</table>\n",
       "<p>1259 rows × 6 columns</p>\n",
       "</div>"
      ],
      "text/plain": [
       "                 High        Low       Open      Close    Volume  Adj Close\n",
       "Date                                                                       \n",
       "2014-12-31  45.136002  44.450001  44.618000  44.481998  11487500  44.481998\n",
       "2015-01-02  44.650002  42.652000  44.574001  43.862000  23822000  43.862000\n",
       "2015-01-05  43.299999  41.431999  42.910000  42.018002  26842500  42.018002\n",
       "2015-01-06  42.840000  40.841999  42.012001  42.256001  31309500  42.256001\n",
       "2015-01-07  42.956001  41.956001  42.669998  42.189999  14842000  42.189999\n",
       "...               ...        ...        ...        ...       ...        ...\n",
       "2019-12-24  85.094002  82.538002  83.671997  85.050003  40273500  85.050003\n",
       "2019-12-26  86.695999  85.269997  85.582001  86.188004  53169500  86.188004\n",
       "2019-12-27  87.061996  85.222000  87.000000  86.075996  49728500  86.075996\n",
       "2019-12-30  85.800003  81.851997  85.758003  82.940002  62932000  82.940002\n",
       "2019-12-31  84.258003  80.416000  81.000000  83.666000  51428500  83.666000\n",
       "\n",
       "[1259 rows x 6 columns]"
      ]
     },
     "execution_count": 4,
     "metadata": {},
     "output_type": "execute_result"
    }
   ],
   "source": [
    "df = web.DataReader(ticker, 'yahoo', '2015-01-01', '2020-01-01')\n",
    "df"
   ]
  },
  {
   "cell_type": "code",
   "execution_count": 5,
   "metadata": {},
   "outputs": [
    {
     "data": {
      "image/png": "[encoded data removed]",
      "text/plain": [
       "<Figure size 936x288 with 1 Axes>"
      ]
     },
     "metadata": {
      "needs_background": "light"
     },
     "output_type": "display_data"
    }
   ],
   "source": [
    "plt.figure(figsize=(13,4))\n",
    "plt.title('Stock price '+ ticker)\n",
    "plt.ylabel('Price')\n",
    "plt.grid(True)\n",
    "plt.autoscale(axis='x',tight=True)\n",
    "plt.plot(df['Adj Close'], color='g')\n",
    "plt.show()"
   ]
  },
  {
   "cell_type": "code",
   "execution_count": 6,
   "metadata": {},
   "outputs": [],
   "source": [
    "y = df['Adj Close'].values.astype(float)\n",
    "\n",
    "test_size = 21\n",
    "train_set = y[:-test_size]\n",
    "test_set = y[-test_size:]"
   ]
  },
  {
   "cell_type": "code",
   "execution_count": 7,
   "metadata": {},
   "outputs": [
    {
     "data": {
      "image/png": "[encoded data removed]",
      "text/plain": [
       "<Figure size 936x288 with 1 Axes>"
      ]
     },
     "metadata": {
      "needs_background": "light"
     },
     "output_type": "display_data"
    }
   ],
   "source": [
    "df['Adj Close'].iloc[-test_size:].plot(figsize=(13,4))\n",
    "plt.title('test set')\n",
    "plt.grid(True)"
   ]
  },
  {
   "cell_type": "markdown",
   "metadata": {},
   "source": [
    "# Normalizing data\n",
    "convert to range [-1, 1]"
   ]
  },
  {
   "cell_type": "code",
   "execution_count": 8,
   "metadata": {},
   "outputs": [],
   "source": [
    "scaler = MinMaxScaler(feature_range=(-1, 1))\n",
    "train_norm = scaler.fit_transform(train_set.reshape(-1, 1))"
   ]
  },
  {
   "cell_type": "code",
   "execution_count": 9,
   "metadata": {},
   "outputs": [
    {
     "data": {
      "text/plain": [
       "-1.0"
      ]
     },
     "execution_count": 9,
     "metadata": {},
     "output_type": "execute_result"
    }
   ],
   "source": [
    "train_norm.min()"
   ]
  },
  {
   "cell_type": "code",
   "execution_count": 10,
   "metadata": {},
   "outputs": [
    {
     "data": {
      "text/plain": [
       "1.0"
      ]
     },
     "execution_count": 10,
     "metadata": {},
     "output_type": "execute_result"
    }
   ],
   "source": [
    "train_norm.max()"
   ]
  },
  {
   "cell_type": "code",
   "execution_count": 11,
   "metadata": {},
   "outputs": [
    {
     "data": {
      "text/plain": [
       "0.022385655764425992"
      ]
     },
     "execution_count": 11,
     "metadata": {},
     "output_type": "execute_result"
    }
   ],
   "source": [
    "train_norm.mean()"
   ]
  },
  {
   "cell_type": "code",
   "execution_count": 12,
   "metadata": {},
   "outputs": [
    {
     "data": {
      "text/plain": [
       "0.45204977580103367"
      ]
     },
     "execution_count": 12,
     "metadata": {},
     "output_type": "execute_result"
    }
   ],
   "source": [
    "train_norm.std()"
   ]
  },
  {
   "cell_type": "markdown",
   "metadata": {},
   "source": [
    "# Input data and label\n",
    "window size = 21\n",
    "\n",
    "[1, 2, 3, ...,21] predict ==> [22]"
   ]
  },
  {
   "cell_type": "code",
   "execution_count": 13,
   "metadata": {},
   "outputs": [
    {
     "data": {
      "text/plain": [
       "1217"
      ]
     },
     "execution_count": 13,
     "metadata": {},
     "output_type": "execute_result"
    }
   ],
   "source": [
    "train_norm = torch.FloatTensor(train_norm).view(-1)\n",
    "\n",
    "window_size = 21\n",
    "\n",
    "\n",
    "def input_data(seq,ws): \n",
    "    out = []\n",
    "    L = len(seq)\n",
    "    for i in range(L-ws):\n",
    "        window = seq[i:i+ws]\n",
    "        label = seq[i+ws:i+ws+1]\n",
    "        out.append((window,label))\n",
    "    return out\n",
    "\n",
    "train_data = input_data(train_norm,window_size)\n",
    "len(train_data)  "
   ]
  },
  {
   "cell_type": "markdown",
   "metadata": {},
   "source": [
    "# 2. LSTM network\n",
    "lstm 2 layers 100 nodes\n",
    "\n",
    "fully connected 1 l layer"
   ]
  },
  {
   "cell_type": "code",
   "execution_count": 14,
   "metadata": {},
   "outputs": [],
   "source": [
    "class LSTMnetwork(nn.Module):\n",
    "    def __init__(self,input_size=1,hidden_size=[100, 100], output_size=1):\n",
    "        super().__init__()\n",
    "        self.hidden_size = hidden_size\n",
    "        \n",
    "        self.lstm1 = nn.LSTM(input_size,hidden_size[0])\n",
    "        \n",
    "        self.lstm2 = nn.LSTM(hidden_size[0], hidden_size[1])\n",
    "        \n",
    "        self.linear = nn.Linear(hidden_size[1], output_size)\n",
    "        \n",
    "        self.hidden = (torch.zeros(1,1,self.hidden_size[0]),\n",
    "                       torch.zeros(1,1,self.hidden_size[0]))\n",
    "\n",
    "    def forward(self,seq):\n",
    "        lstm_out1, self.hidden = self.lstm1(seq.view(len(seq),1,-1), self.hidden)\n",
    "        lstm_out2, self.hidden = self.lstm2(lstm_out1.view(len(seq),1,-1), self.hidden)\n",
    "        pred = self.linear(lstm_out2.view(len(seq),-1))\n",
    "        return pred[-1] \n",
    "        "
   ]
  },
  {
   "cell_type": "code",
   "execution_count": 15,
   "metadata": {},
   "outputs": [
    {
     "data": {
      "text/plain": [
       "LSTMnetwork(\n",
       "  (lstm1): LSTM(1, 100)\n",
       "  (lstm2): LSTM(100, 100)\n",
       "  (linear): Linear(in_features=100, out_features=1, bias=True)\n",
       ")"
      ]
     },
     "execution_count": 15,
     "metadata": {},
     "output_type": "execute_result"
    }
   ],
   "source": [
    "torch.manual_seed(101)\n",
    "model = LSTMnetwork()\n",
    "\n",
    "criterion = nn.MSELoss()\n",
    "optimizer = torch.optim.Adam(model.parameters(), lr=0.001)\n",
    "\n",
    "model"
   ]
  },
  {
   "cell_type": "markdown",
   "metadata": {},
   "source": [
    "# Training"
   ]
  },
  {
   "cell_type": "code",
   "execution_count": 16,
   "metadata": {},
   "outputs": [
    {
     "name": "stdout",
     "output_type": "stream",
     "text": [
      "Epoch:  1 Loss: 0.00948701\n",
      "Epoch:  2 Loss: 0.00617963\n",
      "Epoch:  3 Loss: 0.01060993\n",
      "Epoch:  4 Loss: 0.01061865\n",
      "Epoch:  5 Loss: 0.01594316\n",
      "Epoch:  6 Loss: 0.00645784\n",
      "Epoch:  7 Loss: 0.00245421\n",
      "Epoch:  8 Loss: 0.00671779\n",
      "Epoch:  9 Loss: 0.00942920\n",
      "Epoch: 10 Loss: 0.00975805\n",
      "Epoch: 11 Loss: 0.00855996\n",
      "Epoch: 12 Loss: 0.00026546\n",
      "Epoch: 13 Loss: 0.00001851\n",
      "Epoch: 14 Loss: 0.00014343\n",
      "Epoch: 15 Loss: 0.01476288\n",
      "Epoch: 16 Loss: 0.01070538\n",
      "Epoch: 17 Loss: 0.01722576\n",
      "Epoch: 18 Loss: 0.00567952\n",
      "Epoch: 19 Loss: 0.00009133\n",
      "Epoch: 20 Loss: 0.00084033\n",
      "Epoch: 21 Loss: 0.00424306\n",
      "Epoch: 22 Loss: 0.00008499\n",
      "Epoch: 23 Loss: 0.00133093\n",
      "Epoch: 24 Loss: 0.00170502\n",
      "Epoch: 25 Loss: 0.00794618\n",
      "Epoch: 26 Loss: 0.01663764\n",
      "Epoch: 27 Loss: 0.00561452\n",
      "Epoch: 28 Loss: 0.01373902\n",
      "Epoch: 29 Loss: 0.00402804\n",
      "Epoch: 30 Loss: 0.01138305\n",
      "Epoch: 31 Loss: 0.00563108\n",
      "Epoch: 32 Loss: 0.00287770\n",
      "Epoch: 33 Loss: 0.00816456\n",
      "Epoch: 34 Loss: 0.00379821\n",
      "Epoch: 35 Loss: 0.00665424\n",
      "Epoch: 36 Loss: 0.00173871\n",
      "Epoch: 37 Loss: 0.01207352\n",
      "Epoch: 38 Loss: 0.00625297\n",
      "Epoch: 39 Loss: 0.00987113\n",
      "Epoch: 40 Loss: 0.00716064\n",
      "Epoch: 41 Loss: 0.00904593\n",
      "Epoch: 42 Loss: 0.00917917\n",
      "Epoch: 43 Loss: 0.00706518\n",
      "Epoch: 44 Loss: 0.00835003\n",
      "Epoch: 45 Loss: 0.01190911\n",
      "Epoch: 46 Loss: 0.01297422\n",
      "Epoch: 47 Loss: 0.01478741\n",
      "Epoch: 48 Loss: 0.01224121\n",
      "Epoch: 49 Loss: 0.00806048\n",
      "Epoch: 50 Loss: 0.01023225\n",
      "Epoch: 51 Loss: 0.01101302\n",
      "Epoch: 52 Loss: 0.00648330\n",
      "Epoch: 53 Loss: 0.01041457\n",
      "Epoch: 54 Loss: 0.00639932\n",
      "Epoch: 55 Loss: 0.00398821\n",
      "Epoch: 56 Loss: 0.00432416\n",
      "Epoch: 57 Loss: 0.00822642\n",
      "Epoch: 58 Loss: 0.00485425\n",
      "Epoch: 59 Loss: 0.00799297\n",
      "Epoch: 60 Loss: 0.00476180\n",
      "Epoch: 61 Loss: 0.00585524\n",
      "Epoch: 62 Loss: 0.00004672\n",
      "Epoch: 63 Loss: 0.00067813\n",
      "Epoch: 64 Loss: 0.00039111\n",
      "Epoch: 65 Loss: 0.00457482\n",
      "Epoch: 66 Loss: 0.00886115\n",
      "Epoch: 67 Loss: 0.00725146\n",
      "Epoch: 68 Loss: 0.00441740\n",
      "Epoch: 69 Loss: 0.00591494\n",
      "Epoch: 70 Loss: 0.00632416\n",
      "Epoch: 71 Loss: 0.00114309\n",
      "Epoch: 72 Loss: 0.00212248\n",
      "Epoch: 73 Loss: 0.00316452\n",
      "Epoch: 74 Loss: 0.00512009\n",
      "Epoch: 75 Loss: 0.00668015\n",
      "Epoch: 76 Loss: 0.00882510\n",
      "Epoch: 77 Loss: 0.00391978\n",
      "Epoch: 78 Loss: 0.00507479\n",
      "Epoch: 79 Loss: 0.00735181\n",
      "Epoch: 80 Loss: 0.00541482\n",
      "Epoch: 81 Loss: 0.00465535\n",
      "Epoch: 82 Loss: 0.00569544\n",
      "Epoch: 83 Loss: 0.00931540\n",
      "Epoch: 84 Loss: 0.00806944\n",
      "Epoch: 85 Loss: 0.00760098\n",
      "Epoch: 86 Loss: 0.00758927\n",
      "Epoch: 87 Loss: 0.00520874\n",
      "Epoch: 88 Loss: 0.00914602\n",
      "Epoch: 89 Loss: 0.00782072\n",
      "Epoch: 90 Loss: 0.00457345\n",
      "Epoch: 91 Loss: 0.00487586\n",
      "Epoch: 92 Loss: 0.00589702\n",
      "Epoch: 93 Loss: 0.00658871\n",
      "Epoch: 94 Loss: 0.00603393\n",
      "Epoch: 95 Loss: 0.00763911\n",
      "Epoch: 96 Loss: 0.00835298\n",
      "Epoch: 97 Loss: 0.00435742\n",
      "Epoch: 98 Loss: 0.00243012\n",
      "Epoch: 99 Loss: 0.00413594\n",
      "Epoch: 100 Loss: 0.00445018\n",
      "\n",
      "Duration: 3433 seconds\n"
     ]
    }
   ],
   "source": [
    "epochs = 100\n",
    "losses= []\n",
    "\n",
    "import time\n",
    "start_time = time.time()\n",
    "\n",
    "for epoch in range(epochs):\n",
    "    for seq, y_train in train_data:\n",
    "        \n",
    "        optimizer.zero_grad()\n",
    "        model.hidden = (torch.zeros(1,1,model.hidden_size[0]),\n",
    "                        torch.zeros(1,1,model.hidden_size[0]))\n",
    "        \n",
    "        y_pred = model(seq)\n",
    "        \n",
    "        loss = criterion(y_pred, y_train)\n",
    "        loss.backward()\n",
    "        losses.append(loss.item())\n",
    "        optimizer.step()\n",
    "        \n",
    "    print(f'Epoch: {epoch+1:2} Loss: {loss.item():10.8f}')\n",
    "    \n",
    "print(f'\\nDuration: {time.time() - start_time:.0f} seconds')"
   ]
  },
  {
   "cell_type": "code",
   "execution_count": 18,
   "metadata": {},
   "outputs": [
    {
     "data": {
      "image/png": "[encoded data removed]",
      "text/plain": [
       "<Figure size 936x288 with 1 Axes>"
      ]
     },
     "metadata": {
      "needs_background": "light"
     },
     "output_type": "display_data"
    }
   ],
   "source": [
    "loss = pd.DataFrame(losses, columns=['loss'])\n",
    "loss['loss'].rolling(1217).mean().plot(figsize=(13,4))\n",
    "plt.title('Loss')\n",
    "plt.grid(True)"
   ]
  },
  {
   "cell_type": "markdown",
   "metadata": {},
   "source": [
    "# Forecast\n",
    "21 days in future"
   ]
  },
  {
   "cell_type": "code",
   "execution_count": 19,
   "metadata": {},
   "outputs": [],
   "source": [
    "future = 21\n",
    "\n",
    "preds = train_norm[-window_size:].tolist()\n",
    "\n",
    "model.eval()\n",
    "\n",
    "for i in range(future):\n",
    "    seq = torch.FloatTensor(preds[-window_size:])\n",
    "    with torch.no_grad():\n",
    "        model.hidden = (torch.zeros(1,1,model.hidden_size[0]),\n",
    "                        torch.zeros(1,1,model.hidden_size[0]))\n",
    "        preds.append(model(seq).item())"
   ]
  },
  {
   "cell_type": "code",
   "execution_count": 20,
   "metadata": {},
   "outputs": [],
   "source": [
    "true_predictions = scaler.inverse_transform(np.array(preds[window_size:]).reshape(-1, 1))\n",
    "df1 = pd.DataFrame(true_predictions, index=df.tail(21).index, columns=['pred'])\n"
   ]
  },
  {
   "cell_type": "code",
   "execution_count": 23,
   "metadata": {},
   "outputs": [
    {
     "data": {
      "text/plain": [
       "array([[64.55938343],\n",
       "       [62.63237874],\n",
       "       [61.21399166],\n",
       "       [60.17980658],\n",
       "       [58.74977642],\n",
       "       [56.69970753],\n",
       "       [55.61375016],\n",
       "       [54.6171754 ],\n",
       "       [54.00559397],\n",
       "       [55.66283311],\n",
       "       [56.6716274 ],\n",
       "       [55.75265895],\n",
       "       [54.74394161],\n",
       "       [52.71062585],\n",
       "       [52.01754589],\n",
       "       [51.1131988 ],\n",
       "       [50.9509526 ],\n",
       "       [50.7361347 ],\n",
       "       [50.47543994],\n",
       "       [50.86725919],\n",
       "       [51.37336889]])"
      ]
     },
     "execution_count": 23,
     "metadata": {},
     "output_type": "execute_result"
    }
   ],
   "source": [
    "true_predictions"
   ]
  },
  {
   "cell_type": "code",
   "execution_count": 24,
   "metadata": {},
   "outputs": [
    {
     "data": {
      "text/plain": [
       "<matplotlib.legend.Legend at 0x255e12bc550>"
      ]
     },
     "execution_count": 24,
     "metadata": {},
     "output_type": "execute_result"
    },
    {
     "data": {
      "image/png": "[encoded data removed]",
      "text/plain": [
       "<Figure size 864x288 with 1 Axes>"
      ]
     },
     "metadata": {
      "needs_background": "light"
     },
     "output_type": "display_data"
    }
   ],
   "source": [
    "plt.figure(figsize=(12,4))\n",
    "plt.grid(True)\n",
    "plt.autoscale(axis='x',tight=True)\n",
    "plt.plot(df['Adj Close'].iloc[-21:], label='Stock price')\n",
    "plt.plot(df1['pred'], label='predicted')\n",
    "plt.legend()"
   ]
  },
  {
   "cell_type": "markdown",
   "metadata": {},
   "source": [
    "# Absolute mean squared error"
   ]
  },
  {
   "cell_type": "code",
   "execution_count": 22,
   "metadata": {},
   "outputs": [
    {
     "data": {
      "text/plain": [
       "23.03521830978134"
      ]
     },
     "execution_count": 22,
     "metadata": {},
     "output_type": "execute_result"
    }
   ],
   "source": [
    "from sklearn.metrics import mean_squared_error\n",
    "np.sqrt(mean_squared_error(true_predictions.reshape(1, -1), df['Adj Close'][-21:].values.reshape(1, -1)))"
   ]
  }
 ],
 "metadata": {
  "kernelspec": {
   "display_name": "Python 3",
   "language": "python",
   "name": "python3"
  },
  "language_info": {
   "codemirror_mode": {
    "name": "ipython",
    "version": 3
   },
   "file_extension": ".py",
   "mimetype": "text/x-python",
   "name": "python",
   "nbconvert_exporter": "python",
   "pygments_lexer": "ipython3",
   "version": "3.8.5"
  }
 },
 "nbformat": 4,
 "nbformat_minor": 4
}

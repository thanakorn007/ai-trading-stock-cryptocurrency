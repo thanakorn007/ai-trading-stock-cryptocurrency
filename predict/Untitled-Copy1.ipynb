{
 "cells": [
  {
   "cell_type": "code",
   "execution_count": 1,
   "metadata": {},
   "outputs": [],
   "source": [
    "import torch\n",
    "import torch.nn as nn\n",
    "import numpy as np\n",
    "import pandas as pd\n",
    "import matplotlib.pyplot as plt\n",
    "import pandas_datareader as web\n",
    "%matplotlib inline\n",
    "from sklearn.preprocessing import MinMaxScaler\n",
    "from pandas.plotting import register_matplotlib_converters\n",
    "register_matplotlib_converters()"
   ]
  },
  {
   "cell_type": "code",
   "execution_count": 2,
   "metadata": {},
   "outputs": [],
   "source": [
    "ticker = 'aal'.upper()"
   ]
  },
  {
   "cell_type": "code",
   "execution_count": 3,
   "metadata": {},
   "outputs": [],
   "source": [
    "df = web.DataReader(ticker, 'yahoo', '2015-01-01', '2020-01-01')"
   ]
  },
  {
   "cell_type": "code",
   "execution_count": 4,
   "metadata": {},
   "outputs": [
    {
     "data": {
      "text/html": [
       "<div>\n",
       "<style scoped>\n",
       "    .dataframe tbody tr th:only-of-type {\n",
       "        vertical-align: middle;\n",
       "    }\n",
       "\n",
       "    .dataframe tbody tr th {\n",
       "        vertical-align: top;\n",
       "    }\n",
       "\n",
       "    .dataframe thead th {\n",
       "        text-align: right;\n",
       "    }\n",
       "</style>\n",
       "<table border=\"1\" class=\"dataframe\">\n",
       "  <thead>\n",
       "    <tr style=\"text-align: right;\">\n",
       "      <th></th>\n",
       "      <th>High</th>\n",
       "      <th>Low</th>\n",
       "      <th>Open</th>\n",
       "      <th>Close</th>\n",
       "      <th>Volume</th>\n",
       "      <th>Adj Close</th>\n",
       "    </tr>\n",
       "    <tr>\n",
       "      <th>Date</th>\n",
       "      <th></th>\n",
       "      <th></th>\n",
       "      <th></th>\n",
       "      <th></th>\n",
       "      <th></th>\n",
       "      <th></th>\n",
       "    </tr>\n",
       "  </thead>\n",
       "  <tbody>\n",
       "    <tr>\n",
       "      <th>2014-12-31</th>\n",
       "      <td>54.639999</td>\n",
       "      <td>53.320000</td>\n",
       "      <td>53.900002</td>\n",
       "      <td>53.630001</td>\n",
       "      <td>10626000.0</td>\n",
       "      <td>50.814617</td>\n",
       "    </tr>\n",
       "    <tr>\n",
       "      <th>2015-01-02</th>\n",
       "      <td>54.599998</td>\n",
       "      <td>53.070000</td>\n",
       "      <td>54.279999</td>\n",
       "      <td>53.910000</td>\n",
       "      <td>10748600.0</td>\n",
       "      <td>51.079918</td>\n",
       "    </tr>\n",
       "    <tr>\n",
       "      <th>2015-01-05</th>\n",
       "      <td>54.540001</td>\n",
       "      <td>53.340000</td>\n",
       "      <td>54.369999</td>\n",
       "      <td>53.880001</td>\n",
       "      <td>11565000.0</td>\n",
       "      <td>51.051483</td>\n",
       "    </tr>\n",
       "    <tr>\n",
       "      <th>2015-01-06</th>\n",
       "      <td>54.430000</td>\n",
       "      <td>52.130001</td>\n",
       "      <td>54.270000</td>\n",
       "      <td>53.040001</td>\n",
       "      <td>13772200.0</td>\n",
       "      <td>50.255585</td>\n",
       "    </tr>\n",
       "    <tr>\n",
       "      <th>2015-01-07</th>\n",
       "      <td>53.650002</td>\n",
       "      <td>52.119999</td>\n",
       "      <td>53.380001</td>\n",
       "      <td>53.009998</td>\n",
       "      <td>10069800.0</td>\n",
       "      <td>50.227158</td>\n",
       "    </tr>\n",
       "    <tr>\n",
       "      <th>...</th>\n",
       "      <td>...</td>\n",
       "      <td>...</td>\n",
       "      <td>...</td>\n",
       "      <td>...</td>\n",
       "      <td>...</td>\n",
       "      <td>...</td>\n",
       "    </tr>\n",
       "    <tr>\n",
       "      <th>2019-12-24</th>\n",
       "      <td>29.430000</td>\n",
       "      <td>29.100000</td>\n",
       "      <td>29.320000</td>\n",
       "      <td>29.180000</td>\n",
       "      <td>2373600.0</td>\n",
       "      <td>29.072563</td>\n",
       "    </tr>\n",
       "    <tr>\n",
       "      <th>2019-12-26</th>\n",
       "      <td>29.709999</td>\n",
       "      <td>29.260000</td>\n",
       "      <td>29.320000</td>\n",
       "      <td>29.670000</td>\n",
       "      <td>4746500.0</td>\n",
       "      <td>29.560759</td>\n",
       "    </tr>\n",
       "    <tr>\n",
       "      <th>2019-12-27</th>\n",
       "      <td>29.809999</td>\n",
       "      <td>28.360001</td>\n",
       "      <td>29.760000</td>\n",
       "      <td>28.440001</td>\n",
       "      <td>8416500.0</td>\n",
       "      <td>28.335287</td>\n",
       "    </tr>\n",
       "    <tr>\n",
       "      <th>2019-12-30</th>\n",
       "      <td>28.530001</td>\n",
       "      <td>28.070000</td>\n",
       "      <td>28.500000</td>\n",
       "      <td>28.299999</td>\n",
       "      <td>4940300.0</td>\n",
       "      <td>28.195801</td>\n",
       "    </tr>\n",
       "    <tr>\n",
       "      <th>2019-12-31</th>\n",
       "      <td>28.790001</td>\n",
       "      <td>28.190001</td>\n",
       "      <td>28.200001</td>\n",
       "      <td>28.680000</td>\n",
       "      <td>4396800.0</td>\n",
       "      <td>28.574404</td>\n",
       "    </tr>\n",
       "  </tbody>\n",
       "</table>\n",
       "<p>1259 rows × 6 columns</p>\n",
       "</div>"
      ],
      "text/plain": [
       "                 High        Low       Open      Close      Volume  Adj Close\n",
       "Date                                                                         \n",
       "2014-12-31  54.639999  53.320000  53.900002  53.630001  10626000.0  50.814617\n",
       "2015-01-02  54.599998  53.070000  54.279999  53.910000  10748600.0  51.079918\n",
       "2015-01-05  54.540001  53.340000  54.369999  53.880001  11565000.0  51.051483\n",
       "2015-01-06  54.430000  52.130001  54.270000  53.040001  13772200.0  50.255585\n",
       "2015-01-07  53.650002  52.119999  53.380001  53.009998  10069800.0  50.227158\n",
       "...               ...        ...        ...        ...         ...        ...\n",
       "2019-12-24  29.430000  29.100000  29.320000  29.180000   2373600.0  29.072563\n",
       "2019-12-26  29.709999  29.260000  29.320000  29.670000   4746500.0  29.560759\n",
       "2019-12-27  29.809999  28.360001  29.760000  28.440001   8416500.0  28.335287\n",
       "2019-12-30  28.530001  28.070000  28.500000  28.299999   4940300.0  28.195801\n",
       "2019-12-31  28.790001  28.190001  28.200001  28.680000   4396800.0  28.574404\n",
       "\n",
       "[1259 rows x 6 columns]"
      ]
     },
     "execution_count": 4,
     "metadata": {},
     "output_type": "execute_result"
    }
   ],
   "source": [
    "df"
   ]
  },
  {
   "cell_type": "code",
   "execution_count": 5,
   "metadata": {},
   "outputs": [
    {
     "data": {
      "image/png": "[encoded data removed]",
      "text/plain": [
       "<Figure size 936x288 with 1 Axes>"
      ]
     },
     "metadata": {
      "needs_background": "light"
     },
     "output_type": "display_data"
    }
   ],
   "source": [
    "plt.figure(figsize=(13,4))\n",
    "plt.title('Stock price '+ ticker)\n",
    "plt.ylabel('Price')\n",
    "plt.grid(True)\n",
    "plt.autoscale(axis='x',tight=True)\n",
    "plt.plot(df['Adj Close'], color='g')\n",
    "plt.show()"
   ]
  },
  {
   "cell_type": "code",
   "execution_count": 6,
   "metadata": {},
   "outputs": [],
   "source": [
    "y = df['Adj Close'].values.astype(float)\n",
    "\n",
    "test_size = 21\n",
    "train_set = y[:-test_size]\n",
    "test_set = y[-test_size:]"
   ]
  },
  {
   "cell_type": "code",
   "execution_count": 7,
   "metadata": {},
   "outputs": [
    {
     "data": {
      "text/plain": [
       "array([27.97661209, 27.18952179, 27.27918816, 27.13970566, 27.62790108,\n",
       "       27.38878441, 26.90058899, 26.76110458, 27.61793709, 27.37882042,\n",
       "       27.81720161, 28.17587662, 27.89690781, 28.44488144, 28.93307877,\n",
       "       29.1921196 , 29.07256317, 29.56075859, 28.33528709, 28.19580078,\n",
       "       28.57440376])"
      ]
     },
     "execution_count": 7,
     "metadata": {},
     "output_type": "execute_result"
    }
   ],
   "source": [
    "test_set"
   ]
  },
  {
   "cell_type": "code",
   "execution_count": 8,
   "metadata": {},
   "outputs": [],
   "source": [
    "scaler = MinMaxScaler(feature_range=(-1, 1))\n",
    "\n",
    "train_norm = scaler.fit_transform(train_set.reshape(-1, 1))"
   ]
  },
  {
   "cell_type": "code",
   "execution_count": 9,
   "metadata": {},
   "outputs": [
    {
     "data": {
      "text/plain": [
       "-1.0000000000000002"
      ]
     },
     "execution_count": 9,
     "metadata": {},
     "output_type": "execute_result"
    }
   ],
   "source": [
    "train_norm.min()"
   ]
  },
  {
   "cell_type": "code",
   "execution_count": 10,
   "metadata": {},
   "outputs": [
    {
     "data": {
      "text/plain": [
       "1.0"
      ]
     },
     "execution_count": 10,
     "metadata": {},
     "output_type": "execute_result"
    }
   ],
   "source": [
    "train_norm.max()"
   ]
  },
  {
   "cell_type": "code",
   "execution_count": 11,
   "metadata": {},
   "outputs": [
    {
     "data": {
      "text/plain": [
       "-0.04827459590507826"
      ]
     },
     "execution_count": 11,
     "metadata": {},
     "output_type": "execute_result"
    }
   ],
   "source": [
    "train_norm.mean()"
   ]
  },
  {
   "cell_type": "code",
   "execution_count": 12,
   "metadata": {},
   "outputs": [
    {
     "data": {
      "text/plain": [
       "0.4333788652445345"
      ]
     },
     "execution_count": 12,
     "metadata": {},
     "output_type": "execute_result"
    }
   ],
   "source": [
    "train_norm.std()"
   ]
  },
  {
   "cell_type": "code",
   "execution_count": 13,
   "metadata": {},
   "outputs": [
    {
     "data": {
      "text/plain": [
       "1217"
      ]
     },
     "execution_count": 13,
     "metadata": {},
     "output_type": "execute_result"
    }
   ],
   "source": [
    "train_norm = torch.FloatTensor(train_norm).view(-1)\n",
    "\n",
    "window_size = 21\n",
    "\n",
    "\n",
    "def input_data(seq,ws): \n",
    "    out = []\n",
    "    L = len(seq)\n",
    "    for i in range(L-ws):\n",
    "        window = seq[i:i+ws]\n",
    "        label = seq[i+ws:i+ws+1]\n",
    "        out.append((window,label))\n",
    "    return out\n",
    "\n",
    "train_data = input_data(train_norm,window_size)\n",
    "len(train_data)  "
   ]
  },
  {
   "cell_type": "code",
   "execution_count": 14,
   "metadata": {},
   "outputs": [
    {
     "data": {
      "text/plain": [
       "1217"
      ]
     },
     "execution_count": 14,
     "metadata": {},
     "output_type": "execute_result"
    }
   ],
   "source": [
    "1259-21-21"
   ]
  },
  {
   "cell_type": "code",
   "execution_count": 15,
   "metadata": {},
   "outputs": [
    {
     "data": {
      "text/plain": [
       "(tensor([0.6225, 0.6387, 0.6369, 0.5883, 0.5865, 0.6242, 0.5292, 0.3878, 0.4353,\n",
       "         0.3780, 0.3780, 0.4011, 0.5715, 0.6248, 0.7360, 0.7418, 0.7279, 0.5686,\n",
       "         0.4481, 0.5419, 0.3588]),\n",
       " tensor([0.3380]))"
      ]
     },
     "execution_count": 15,
     "metadata": {},
     "output_type": "execute_result"
    }
   ],
   "source": [
    "train_data[0]"
   ]
  },
  {
   "cell_type": "code",
   "execution_count": 25,
   "metadata": {},
   "outputs": [],
   "source": [
    "class LSTMnetwork(nn.Module):\n",
    "    def __init__(self,input_size=1,hidden_size=[100, 100], output_size=1):\n",
    "        super().__init__()\n",
    "        self.hidden_size = hidden_size\n",
    "        \n",
    "        self.lstm1 = nn.LSTM(input_size,hidden_size[0])\n",
    "        \n",
    "        self.lstm2 = nn.LSTM(hidden_size[0], hidden_size[1])\n",
    "        \n",
    "        self.linear = nn.Linear(hidden_size[1], output_size)\n",
    "        \n",
    "        self.hidden = (torch.zeros(1,1,self.hidden_size[0]),\n",
    "                       torch.zeros(1,1,self.hidden_size[0]))\n",
    "\n",
    "    def forward(self,seq):\n",
    "        lstm_out1, self.hidden = self.lstm1(seq.view(len(seq),1,-1), self.hidden)\n",
    "        lstm_out2, self.hidden = self.lstm2(lstm_out1.view(len(seq),1,-1), self.hidden)\n",
    "        pred = self.linear(lstm_out2.view(len(seq),-1))\n",
    "        return pred[-1] \n",
    "        "
   ]
  },
  {
   "cell_type": "code",
   "execution_count": 26,
   "metadata": {},
   "outputs": [
    {
     "data": {
      "text/plain": [
       "LSTMnetwork(\n",
       "  (lstm1): LSTM(1, 100)\n",
       "  (lstm2): LSTM(100, 100)\n",
       "  (linear): Linear(in_features=100, out_features=1, bias=True)\n",
       ")"
      ]
     },
     "execution_count": 26,
     "metadata": {},
     "output_type": "execute_result"
    }
   ],
   "source": [
    "torch.manual_seed(101)\n",
    "model = LSTMnetwork()\n",
    "\n",
    "criterion = nn.MSELoss()\n",
    "optimizer = torch.optim.Adam(model.parameters(), lr=0.001)\n",
    "\n",
    "model"
   ]
  },
  {
   "cell_type": "code",
   "execution_count": 28,
   "metadata": {},
   "outputs": [
    {
     "name": "stdout",
     "output_type": "stream",
     "text": [
      "Epoch:  1 Loss: 0.00125675\n",
      "Epoch:  2 Loss: 0.00238039\n",
      "Epoch:  3 Loss: 0.00007863\n",
      "Epoch:  4 Loss: 0.00074720\n",
      "Epoch:  5 Loss: 0.00053320\n",
      "Epoch:  6 Loss: 0.00060003\n",
      "Epoch:  7 Loss: 0.00061406\n",
      "Epoch:  8 Loss: 0.00074695\n",
      "Epoch:  9 Loss: 0.00063938\n",
      "Epoch: 10 Loss: 0.00058799\n",
      "Epoch: 11 Loss: 0.00017308\n",
      "Epoch: 12 Loss: 0.00057205\n",
      "Epoch: 13 Loss: 0.00004143\n",
      "Epoch: 14 Loss: 0.00083867\n",
      "Epoch: 15 Loss: 0.00090570\n",
      "Epoch: 16 Loss: 0.00022882\n",
      "Epoch: 17 Loss: 0.00059539\n",
      "Epoch: 18 Loss: 0.00061097\n",
      "Epoch: 19 Loss: 0.00012920\n",
      "Epoch: 20 Loss: 0.00070321\n",
      "Epoch: 21 Loss: 0.00012520\n",
      "Epoch: 22 Loss: 0.00008317\n",
      "Epoch: 23 Loss: 0.00049809\n",
      "Epoch: 24 Loss: 0.00031137\n",
      "Epoch: 25 Loss: 0.00003555\n",
      "Epoch: 26 Loss: 0.00000127\n",
      "Epoch: 27 Loss: 0.00009973\n",
      "Epoch: 28 Loss: 0.00002956\n",
      "Epoch: 29 Loss: 0.00015860\n",
      "Epoch: 30 Loss: 0.00002863\n",
      "Epoch: 31 Loss: 0.00000290\n",
      "Epoch: 32 Loss: 0.00000735\n",
      "Epoch: 33 Loss: 0.00002197\n",
      "Epoch: 34 Loss: 0.00030861\n",
      "Epoch: 35 Loss: 0.00012483\n",
      "Epoch: 36 Loss: 0.00018864\n",
      "Epoch: 37 Loss: 0.00004144\n",
      "Epoch: 38 Loss: 0.00053459\n",
      "Epoch: 39 Loss: 0.00003465\n",
      "Epoch: 40 Loss: 0.00036390\n",
      "Epoch: 41 Loss: 0.00001778\n",
      "Epoch: 42 Loss: 0.00001225\n",
      "Epoch: 43 Loss: 0.00013108\n",
      "Epoch: 44 Loss: 0.00025478\n",
      "Epoch: 45 Loss: 0.00035254\n",
      "Epoch: 46 Loss: 0.00006262\n",
      "Epoch: 47 Loss: 0.00012847\n",
      "Epoch: 48 Loss: 0.00022887\n",
      "Epoch: 49 Loss: 0.00013262\n",
      "Epoch: 50 Loss: 0.00000032\n",
      "Epoch: 51 Loss: 0.00019795\n",
      "Epoch: 52 Loss: 0.00050167\n",
      "Epoch: 53 Loss: 0.00045697\n",
      "Epoch: 54 Loss: 0.00068122\n",
      "Epoch: 55 Loss: 0.00023004\n",
      "Epoch: 56 Loss: 0.00013117\n",
      "Epoch: 57 Loss: 0.00002235\n",
      "Epoch: 58 Loss: 0.00001165\n",
      "Epoch: 59 Loss: 0.00004268\n",
      "Epoch: 60 Loss: 0.00004759\n",
      "Epoch: 61 Loss: 0.00004742\n",
      "Epoch: 62 Loss: 0.00026750\n",
      "Epoch: 63 Loss: 0.00035959\n",
      "Epoch: 64 Loss: 0.00067220\n",
      "Epoch: 65 Loss: 0.00064700\n",
      "Epoch: 66 Loss: 0.00071616\n",
      "Epoch: 67 Loss: 0.00075778\n",
      "Epoch: 68 Loss: 0.00097446\n",
      "Epoch: 69 Loss: 0.00108280\n",
      "Epoch: 70 Loss: 0.00068080\n",
      "Epoch: 71 Loss: 0.00053688\n",
      "Epoch: 72 Loss: 0.00051573\n",
      "Epoch: 73 Loss: 0.00136747\n",
      "Epoch: 74 Loss: 0.00082792\n",
      "Epoch: 75 Loss: 0.00102048\n",
      "Epoch: 76 Loss: 0.00086562\n",
      "Epoch: 77 Loss: 0.00069810\n",
      "Epoch: 78 Loss: 0.00040245\n",
      "Epoch: 79 Loss: 0.00091674\n",
      "Epoch: 80 Loss: 0.00051902\n",
      "Epoch: 81 Loss: 0.00042010\n",
      "Epoch: 82 Loss: 0.00082686\n",
      "Epoch: 83 Loss: 0.00074261\n",
      "Epoch: 84 Loss: 0.00126801\n",
      "Epoch: 85 Loss: 0.00049119\n",
      "Epoch: 86 Loss: 0.00039609\n",
      "Epoch: 87 Loss: 0.00033167\n",
      "Epoch: 88 Loss: 0.00031558\n",
      "Epoch: 89 Loss: 0.00066518\n",
      "Epoch: 90 Loss: 0.00006160\n",
      "Epoch: 91 Loss: 0.00000001\n",
      "Epoch: 92 Loss: 0.00016886\n",
      "Epoch: 93 Loss: 0.00077028\n",
      "Epoch: 94 Loss: 0.00172795\n",
      "Epoch: 95 Loss: 0.00129094\n",
      "Epoch: 96 Loss: 0.00067492\n",
      "Epoch: 97 Loss: 0.00041506\n",
      "Epoch: 98 Loss: 0.00050408\n",
      "Epoch: 99 Loss: 0.00098963\n",
      "Epoch: 100 Loss: 0.00001015\n",
      "\n",
      "Duration: 1528 seconds\n"
     ]
    }
   ],
   "source": [
    "epochs = 100\n",
    "losses= []\n",
    "\n",
    "import time\n",
    "start_time = time.time()\n",
    "\n",
    "for epoch in range(epochs):\n",
    "    for seq, y_train in train_data:\n",
    "        \n",
    "        optimizer.zero_grad()\n",
    "        model.hidden = (torch.zeros(1,1,model.hidden_size[0]),\n",
    "                        torch.zeros(1,1,model.hidden_size[0]))\n",
    "        \n",
    "        y_pred = model(seq)\n",
    "        \n",
    "        loss = criterion(y_pred, y_train)\n",
    "        loss.backward()\n",
    "        losses.append(loss.item())\n",
    "        optimizer.step()\n",
    "        \n",
    "    print(f'Epoch: {epoch+1:2} Loss: {loss.item():10.8f}')\n",
    "    \n",
    "print(f'\\nDuration: {time.time() - start_time:.0f} seconds')"
   ]
  },
  {
   "cell_type": "code",
   "execution_count": 38,
   "metadata": {},
   "outputs": [],
   "source": [
    "future = 21\n",
    "\n",
    "# Add the last window of training values to the list of predictions\n",
    "preds = train_norm[-window_size:].tolist()\n",
    "\n",
    "# Set the model to evaluation mode\n",
    "model.eval()\n",
    "\n",
    "for i in range(future):\n",
    "    seq = torch.FloatTensor(preds[-window_size:])\n",
    "    with torch.no_grad():\n",
    "        model.hidden = (torch.zeros(1,1,model.hidden_size[0]),\n",
    "                        torch.zeros(1,1,model.hidden_size[0]))\n",
    "        preds.append(model(seq).item())"
   ]
  },
  {
   "cell_type": "code",
   "execution_count": 39,
   "metadata": {},
   "outputs": [
    {
     "data": {
      "text/plain": [
       "[-0.7501307725906372,\n",
       " -0.7647325396537781,\n",
       " -0.7767221331596375,\n",
       " -0.7851208448410034,\n",
       " -0.7901618480682373,\n",
       " -0.7912419438362122,\n",
       " -0.7843548059463501,\n",
       " -0.763886034488678,\n",
       " -0.7376120686531067,\n",
       " -0.7134818434715271,\n",
       " -0.6932976841926575,\n",
       " -0.6811699271202087,\n",
       " -0.671974778175354,\n",
       " -0.6632738709449768,\n",
       " -0.6556760668754578,\n",
       " -0.6533135175704956,\n",
       " -0.655792772769928,\n",
       " -0.6607237458229065,\n",
       " -0.6664166450500488,\n",
       " -0.6716685891151428,\n",
       " -0.6758415699005127]"
      ]
     },
     "execution_count": 39,
     "metadata": {},
     "output_type": "execute_result"
    }
   ],
   "source": [
    "preds[window_size:] "
   ]
  },
  {
   "cell_type": "code",
   "execution_count": 32,
   "metadata": {},
   "outputs": [
    {
     "data": {
      "text/plain": [
       "array([[28.36756444],\n",
       "       [28.1287711 ],\n",
       "       [27.93269655],\n",
       "       [27.7953463 ],\n",
       "       [27.7129071 ],\n",
       "       [27.69524351],\n",
       "       [27.80787389],\n",
       "       [28.14261462],\n",
       "       [28.57229192],\n",
       "       [28.96691106],\n",
       "       [29.29699732],\n",
       "       [29.49533136],\n",
       "       [29.64570633],\n",
       "       [29.78799861],\n",
       "       [29.91225103],\n",
       "       [29.95088752],\n",
       "       [29.91034245],\n",
       "       [29.82970266],\n",
       "       [29.73660253],\n",
       "       [29.65071366],\n",
       "       [29.58246987]])"
      ]
     },
     "execution_count": 32,
     "metadata": {},
     "output_type": "execute_result"
    }
   ],
   "source": [
    "true_predictions = scaler.inverse_transform(np.array(preds[window_size:]).reshape(-1, 1))\n",
    "true_predictions"
   ]
  },
  {
   "cell_type": "code",
   "execution_count": 33,
   "metadata": {},
   "outputs": [
    {
     "data": {
      "text/plain": [
       "Date\n",
       "2019-12-02    27.976612\n",
       "2019-12-03    27.189522\n",
       "2019-12-04    27.279188\n",
       "2019-12-05    27.139706\n",
       "2019-12-06    27.627901\n",
       "2019-12-09    27.388784\n",
       "2019-12-10    26.900589\n",
       "2019-12-11    26.761105\n",
       "2019-12-12    27.617937\n",
       "2019-12-13    27.378820\n",
       "2019-12-16    27.817202\n",
       "2019-12-17    28.175877\n",
       "2019-12-18    27.896908\n",
       "2019-12-19    28.444881\n",
       "2019-12-20    28.933079\n",
       "2019-12-23    29.192120\n",
       "2019-12-24    29.072563\n",
       "2019-12-26    29.560759\n",
       "2019-12-27    28.335287\n",
       "2019-12-30    28.195801\n",
       "2019-12-31    28.574404\n",
       "Name: Adj Close, dtype: float64"
      ]
     },
     "execution_count": 33,
     "metadata": {},
     "output_type": "execute_result"
    }
   ],
   "source": [
    "df['Adj Close'][-21:]"
   ]
  },
  {
   "cell_type": "code",
   "execution_count": 34,
   "metadata": {},
   "outputs": [],
   "source": [
    "df1 = pd.DataFrame(true_predictions, index=df.tail(21).index, columns=['pred'])"
   ]
  },
  {
   "cell_type": "code",
   "execution_count": 35,
   "metadata": {},
   "outputs": [
    {
     "data": {
      "image/png": "[encoded data removed]",
      "text/plain": [
       "<Figure size 864x288 with 1 Axes>"
      ]
     },
     "metadata": {
      "needs_background": "light"
     },
     "output_type": "display_data"
    }
   ],
   "source": [
    "plt.figure(figsize=(12,4))\n",
    "plt.grid(True)\n",
    "plt.autoscale(axis='x',tight=True)\n",
    "plt.plot(df['Adj Close'])\n",
    "plt.plot(df1['pred'])\n",
    "plt.show()"
   ]
  },
  {
   "cell_type": "code",
   "execution_count": 36,
   "metadata": {},
   "outputs": [
    {
     "data": {
      "image/png": "[encoded data removed]",
      "text/plain": [
       "<Figure size 864x288 with 1 Axes>"
      ]
     },
     "metadata": {
      "needs_background": "light"
     },
     "output_type": "display_data"
    }
   ],
   "source": [
    "plt.figure(figsize=(12,4))\n",
    "plt.grid(True)\n",
    "plt.autoscale(axis='x',tight=True)\n",
    "plt.plot(df['Adj Close'].iloc[-44:])\n",
    "plt.plot(df1['pred'])\n",
    "plt.show()"
   ]
  },
  {
   "cell_type": "code",
   "execution_count": 37,
   "metadata": {},
   "outputs": [
    {
     "data": {
      "text/plain": [
       "1.076945791803734"
      ]
     },
     "execution_count": 37,
     "metadata": {},
     "output_type": "execute_result"
    }
   ],
   "source": [
    "from sklearn.metrics import mean_squared_error\n",
    "np.sqrt(mean_squared_error(true_predictions.reshape(1, -1), df['Adj Close'][-21:].values.reshape(1, -1)))"
   ]
  },
  {
   "cell_type": "code",
   "execution_count": null,
   "metadata": {},
   "outputs": [],
   "source": []
  }
 ],
 "metadata": {
  "kernelspec": {
   "display_name": "Python 3",
   "language": "python",
   "name": "python3"
  },
  "language_info": {
   "codemirror_mode": {
    "name": "ipython",
    "version": 3
   },
   "file_extension": ".py",
   "mimetype": "text/x-python",
   "name": "python",
   "nbconvert_exporter": "python",
   "pygments_lexer": "ipython3",
   "version": "3.8.5"
  }
 },
 "nbformat": 4,
 "nbformat_minor": 4
}

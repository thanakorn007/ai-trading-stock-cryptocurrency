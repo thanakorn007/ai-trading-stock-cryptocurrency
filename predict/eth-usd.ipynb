{
 "cells": [
  {
   "cell_type": "markdown",
   "metadata": {},
   "source": [
    "# Import Module"
   ]
  },
  {
   "cell_type": "code",
   "execution_count": 1,
   "metadata": {},
   "outputs": [],
   "source": [
    "import torch\n",
    "import torch.nn as nn\n",
    "import numpy as np\n",
    "import pandas as pd\n",
    "import matplotlib.pyplot as plt\n",
    "import pandas_datareader as web\n",
    "%matplotlib inline\n",
    "from sklearn.preprocessing import MinMaxScaler\n",
    "from pandas.plotting import register_matplotlib_converters\n",
    "register_matplotlib_converters()"
   ]
  },
  {
   "cell_type": "markdown",
   "metadata": {},
   "source": [
    "# Stock Data \n",
    "training data\n",
    "start: 2015/01/01\n",
    "end: 2019/11/01 \n",
    "\n",
    "testing data \n",
    "start: 2019/12/01\n",
    "end: 2020/01/01"
   ]
  },
  {
   "cell_type": "code",
   "execution_count": 2,
   "metadata": {},
   "outputs": [],
   "source": [
    "ticker = 'eth-usd'.upper()"
   ]
  },
  {
   "cell_type": "code",
   "execution_count": 3,
   "metadata": {},
   "outputs": [
    {
     "data": {
      "text/html": [
       "<div>\n",
       "<style scoped>\n",
       "    .dataframe tbody tr th:only-of-type {\n",
       "        vertical-align: middle;\n",
       "    }\n",
       "\n",
       "    .dataframe tbody tr th {\n",
       "        vertical-align: top;\n",
       "    }\n",
       "\n",
       "    .dataframe thead th {\n",
       "        text-align: right;\n",
       "    }\n",
       "</style>\n",
       "<table border=\"1\" class=\"dataframe\">\n",
       "  <thead>\n",
       "    <tr style=\"text-align: right;\">\n",
       "      <th></th>\n",
       "      <th>High</th>\n",
       "      <th>Low</th>\n",
       "      <th>Open</th>\n",
       "      <th>Close</th>\n",
       "      <th>Volume</th>\n",
       "      <th>Adj Close</th>\n",
       "    </tr>\n",
       "    <tr>\n",
       "      <th>Date</th>\n",
       "      <th></th>\n",
       "      <th></th>\n",
       "      <th></th>\n",
       "      <th></th>\n",
       "      <th></th>\n",
       "      <th></th>\n",
       "    </tr>\n",
       "  </thead>\n",
       "  <tbody>\n",
       "    <tr>\n",
       "      <th>2015-12-31</th>\n",
       "      <td>0.975414</td>\n",
       "      <td>0.910277</td>\n",
       "      <td>0.912098</td>\n",
       "      <td>0.933542</td>\n",
       "      <td>6.639940e+05</td>\n",
       "      <td>0.933542</td>\n",
       "    </tr>\n",
       "    <tr>\n",
       "      <th>2016-01-01</th>\n",
       "      <td>0.954822</td>\n",
       "      <td>0.931442</td>\n",
       "      <td>0.933712</td>\n",
       "      <td>0.948024</td>\n",
       "      <td>2.060620e+05</td>\n",
       "      <td>0.948024</td>\n",
       "    </tr>\n",
       "    <tr>\n",
       "      <th>2016-01-02</th>\n",
       "      <td>0.969637</td>\n",
       "      <td>0.936560</td>\n",
       "      <td>0.947401</td>\n",
       "      <td>0.937124</td>\n",
       "      <td>2.555040e+05</td>\n",
       "      <td>0.937124</td>\n",
       "    </tr>\n",
       "    <tr>\n",
       "      <th>2016-01-03</th>\n",
       "      <td>0.991362</td>\n",
       "      <td>0.934313</td>\n",
       "      <td>0.938430</td>\n",
       "      <td>0.971905</td>\n",
       "      <td>4.076320e+05</td>\n",
       "      <td>0.971905</td>\n",
       "    </tr>\n",
       "    <tr>\n",
       "      <th>2016-01-04</th>\n",
       "      <td>0.976438</td>\n",
       "      <td>0.929835</td>\n",
       "      <td>0.972045</td>\n",
       "      <td>0.954480</td>\n",
       "      <td>3.462450e+05</td>\n",
       "      <td>0.954480</td>\n",
       "    </tr>\n",
       "    <tr>\n",
       "      <th>...</th>\n",
       "      <td>...</td>\n",
       "      <td>...</td>\n",
       "      <td>...</td>\n",
       "      <td>...</td>\n",
       "      <td>...</td>\n",
       "      <td>...</td>\n",
       "    </tr>\n",
       "    <tr>\n",
       "      <th>2020-12-28</th>\n",
       "      <td>745.877747</td>\n",
       "      <td>683.205811</td>\n",
       "      <td>683.205811</td>\n",
       "      <td>730.397339</td>\n",
       "      <td>2.422257e+10</td>\n",
       "      <td>730.397339</td>\n",
       "    </tr>\n",
       "    <tr>\n",
       "      <th>2020-12-29</th>\n",
       "      <td>737.952881</td>\n",
       "      <td>692.149414</td>\n",
       "      <td>730.358704</td>\n",
       "      <td>731.520142</td>\n",
       "      <td>1.871068e+10</td>\n",
       "      <td>731.520142</td>\n",
       "    </tr>\n",
       "    <tr>\n",
       "      <th>2020-12-30</th>\n",
       "      <td>754.303223</td>\n",
       "      <td>720.988892</td>\n",
       "      <td>731.472839</td>\n",
       "      <td>751.618958</td>\n",
       "      <td>1.729457e+10</td>\n",
       "      <td>751.618958</td>\n",
       "    </tr>\n",
       "    <tr>\n",
       "      <th>2020-12-31</th>\n",
       "      <td>754.299438</td>\n",
       "      <td>726.511902</td>\n",
       "      <td>751.626648</td>\n",
       "      <td>737.803406</td>\n",
       "      <td>1.392685e+10</td>\n",
       "      <td>737.803406</td>\n",
       "    </tr>\n",
       "    <tr>\n",
       "      <th>2021-01-01</th>\n",
       "      <td>749.201843</td>\n",
       "      <td>719.792236</td>\n",
       "      <td>737.708374</td>\n",
       "      <td>730.367554</td>\n",
       "      <td>1.365200e+10</td>\n",
       "      <td>730.367554</td>\n",
       "    </tr>\n",
       "  </tbody>\n",
       "</table>\n",
       "<p>1825 rows × 6 columns</p>\n",
       "</div>"
      ],
      "text/plain": [
       "                  High         Low        Open       Close        Volume  \\\n",
       "Date                                                                       \n",
       "2015-12-31    0.975414    0.910277    0.912098    0.933542  6.639940e+05   \n",
       "2016-01-01    0.954822    0.931442    0.933712    0.948024  2.060620e+05   \n",
       "2016-01-02    0.969637    0.936560    0.947401    0.937124  2.555040e+05   \n",
       "2016-01-03    0.991362    0.934313    0.938430    0.971905  4.076320e+05   \n",
       "2016-01-04    0.976438    0.929835    0.972045    0.954480  3.462450e+05   \n",
       "...                ...         ...         ...         ...           ...   \n",
       "2020-12-28  745.877747  683.205811  683.205811  730.397339  2.422257e+10   \n",
       "2020-12-29  737.952881  692.149414  730.358704  731.520142  1.871068e+10   \n",
       "2020-12-30  754.303223  720.988892  731.472839  751.618958  1.729457e+10   \n",
       "2020-12-31  754.299438  726.511902  751.626648  737.803406  1.392685e+10   \n",
       "2021-01-01  749.201843  719.792236  737.708374  730.367554  1.365200e+10   \n",
       "\n",
       "             Adj Close  \n",
       "Date                    \n",
       "2015-12-31    0.933542  \n",
       "2016-01-01    0.948024  \n",
       "2016-01-02    0.937124  \n",
       "2016-01-03    0.971905  \n",
       "2016-01-04    0.954480  \n",
       "...                ...  \n",
       "2020-12-28  730.397339  \n",
       "2020-12-29  731.520142  \n",
       "2020-12-30  751.618958  \n",
       "2020-12-31  737.803406  \n",
       "2021-01-01  730.367554  \n",
       "\n",
       "[1825 rows x 6 columns]"
      ]
     },
     "execution_count": 3,
     "metadata": {},
     "output_type": "execute_result"
    }
   ],
   "source": [
    "df = web.DataReader(ticker, 'yahoo', '2016-01-01', '2021-01-01')\n",
    "df"
   ]
  },
  {
   "cell_type": "code",
   "execution_count": 4,
   "metadata": {},
   "outputs": [
    {
     "data": {
      "image/png": "[encoded data removed]",
      "text/plain": [
       "<Figure size 936x288 with 1 Axes>"
      ]
     },
     "metadata": {
      "needs_background": "light"
     },
     "output_type": "display_data"
    }
   ],
   "source": [
    "plt.figure(figsize=(13,4))\n",
    "plt.title('Stock price '+ ticker)\n",
    "plt.ylabel('Price')\n",
    "plt.grid(True)\n",
    "plt.autoscale(axis='x',tight=True)\n",
    "plt.plot(df['Adj Close'], color='g')\n",
    "plt.show()"
   ]
  },
  {
   "cell_type": "code",
   "execution_count": 5,
   "metadata": {},
   "outputs": [],
   "source": [
    "y = df['Adj Close'].values.astype(float)\n",
    "\n",
    "test_size = 21\n",
    "train_set = y[:-test_size]\n",
    "test_set = y[-test_size:]"
   ]
  },
  {
   "cell_type": "code",
   "execution_count": 6,
   "metadata": {},
   "outputs": [
    {
     "data": {
      "image/png": "[encoded data removed]",
      "text/plain": [
       "<Figure size 936x288 with 1 Axes>"
      ]
     },
     "metadata": {
      "needs_background": "light"
     },
     "output_type": "display_data"
    }
   ],
   "source": [
    "df['Adj Close'].iloc[-test_size:].plot(figsize=(13,4))\n",
    "plt.title('test set')\n",
    "plt.grid(True)"
   ]
  },
  {
   "cell_type": "markdown",
   "metadata": {},
   "source": [
    "# Normalizing data\n",
    "convert to range [-1, 1]"
   ]
  },
  {
   "cell_type": "code",
   "execution_count": 7,
   "metadata": {},
   "outputs": [],
   "source": [
    "scaler = MinMaxScaler(feature_range=(-1, 1))\n",
    "train_norm = scaler.fit_transform(train_set.reshape(-1, 1))"
   ]
  },
  {
   "cell_type": "code",
   "execution_count": 8,
   "metadata": {},
   "outputs": [
    {
     "data": {
      "text/plain": [
       "-1.0"
      ]
     },
     "execution_count": 8,
     "metadata": {},
     "output_type": "execute_result"
    }
   ],
   "source": [
    "train_norm.min()"
   ]
  },
  {
   "cell_type": "code",
   "execution_count": 9,
   "metadata": {},
   "outputs": [
    {
     "data": {
      "text/plain": [
       "1.0000000000000002"
      ]
     },
     "execution_count": 9,
     "metadata": {},
     "output_type": "execute_result"
    }
   ],
   "source": [
    "train_norm.max()"
   ]
  },
  {
   "cell_type": "code",
   "execution_count": 10,
   "metadata": {},
   "outputs": [
    {
     "data": {
      "text/plain": [
       "-0.6625115471031198"
      ]
     },
     "execution_count": 10,
     "metadata": {},
     "output_type": "execute_result"
    }
   ],
   "source": [
    "train_norm.mean()"
   ]
  },
  {
   "cell_type": "code",
   "execution_count": 11,
   "metadata": {},
   "outputs": [
    {
     "data": {
      "text/plain": [
       "0.3282227641952204"
      ]
     },
     "execution_count": 11,
     "metadata": {},
     "output_type": "execute_result"
    }
   ],
   "source": [
    "train_norm.std()"
   ]
  },
  {
   "cell_type": "markdown",
   "metadata": {},
   "source": [
    "# Input data and label\n",
    "window size = 21\n",
    "\n",
    "[1, 2, 3, ...,21] predict ==> [22]"
   ]
  },
  {
   "cell_type": "code",
   "execution_count": 12,
   "metadata": {},
   "outputs": [
    {
     "data": {
      "text/plain": [
       "1783"
      ]
     },
     "execution_count": 12,
     "metadata": {},
     "output_type": "execute_result"
    }
   ],
   "source": [
    "train_norm = torch.FloatTensor(train_norm).view(-1)\n",
    "\n",
    "window_size = 21\n",
    "\n",
    "\n",
    "def input_data(seq,ws): \n",
    "    out = []\n",
    "    L = len(seq)\n",
    "    for i in range(L-ws):\n",
    "        window = seq[i:i+ws]\n",
    "        label = seq[i+ws:i+ws+1]\n",
    "        out.append((window,label))\n",
    "    return out\n",
    "\n",
    "train_data = input_data(train_norm,window_size)\n",
    "len(train_data)  "
   ]
  },
  {
   "cell_type": "markdown",
   "metadata": {},
   "source": [
    "# 2. LSTM network\n",
    "lstm 2 layers 100 nodes\n",
    "\n",
    "fully connected 1 l layer"
   ]
  },
  {
   "cell_type": "code",
   "execution_count": 13,
   "metadata": {},
   "outputs": [],
   "source": [
    "class LSTMnetwork(nn.Module):\n",
    "    def __init__(self,input_size=1,hidden_size=[100, 100], output_size=1):\n",
    "        super().__init__()\n",
    "        self.hidden_size = hidden_size\n",
    "        \n",
    "        self.lstm1 = nn.LSTM(input_size,hidden_size[0])\n",
    "        \n",
    "        self.lstm2 = nn.LSTM(hidden_size[0], hidden_size[1])\n",
    "        \n",
    "        self.linear = nn.Linear(hidden_size[1], output_size)\n",
    "        \n",
    "        self.hidden = (torch.zeros(1,1,self.hidden_size[0]),\n",
    "                       torch.zeros(1,1,self.hidden_size[0]))\n",
    "\n",
    "    def forward(self,seq):\n",
    "        lstm_out1, self.hidden = self.lstm1(seq.view(len(seq),1,-1), self.hidden)\n",
    "        lstm_out2, self.hidden = self.lstm2(lstm_out1.view(len(seq),1,-1), self.hidden)\n",
    "        pred = self.linear(lstm_out2.view(len(seq),-1))\n",
    "        return pred[-1] \n",
    "        "
   ]
  },
  {
   "cell_type": "code",
   "execution_count": 14,
   "metadata": {},
   "outputs": [
    {
     "data": {
      "text/plain": [
       "LSTMnetwork(\n",
       "  (lstm1): LSTM(1, 100)\n",
       "  (lstm2): LSTM(100, 100)\n",
       "  (linear): Linear(in_features=100, out_features=1, bias=True)\n",
       ")"
      ]
     },
     "execution_count": 14,
     "metadata": {},
     "output_type": "execute_result"
    }
   ],
   "source": [
    "torch.manual_seed(101)\n",
    "model = LSTMnetwork()\n",
    "\n",
    "criterion = nn.MSELoss()\n",
    "optimizer = torch.optim.Adam(model.parameters(), lr=0.001)\n",
    "\n",
    "model"
   ]
  },
  {
   "cell_type": "markdown",
   "metadata": {},
   "source": [
    "# Training"
   ]
  },
  {
   "cell_type": "code",
   "execution_count": 15,
   "metadata": {},
   "outputs": [
    {
     "name": "stdout",
     "output_type": "stream",
     "text": [
      "Epoch:  1 Loss: 0.00179987\n",
      "Epoch:  2 Loss: 0.00086386\n",
      "Epoch:  3 Loss: 0.00079316\n",
      "Epoch:  4 Loss: 0.00029199\n",
      "Epoch:  5 Loss: 0.00220038\n",
      "Epoch:  6 Loss: 0.00079060\n",
      "Epoch:  7 Loss: 0.00199325\n",
      "Epoch:  8 Loss: 0.00066117\n",
      "Epoch:  9 Loss: 0.00191509\n",
      "Epoch: 10 Loss: 0.00003594\n",
      "Epoch: 11 Loss: 0.00000290\n",
      "Epoch: 12 Loss: 0.00000026\n",
      "Epoch: 13 Loss: 0.00000003\n",
      "Epoch: 14 Loss: 0.00150296\n",
      "Epoch: 15 Loss: 0.00035774\n",
      "Epoch: 16 Loss: 0.00061779\n",
      "Epoch: 17 Loss: 0.00070096\n",
      "Epoch: 18 Loss: 0.00003520\n",
      "Epoch: 19 Loss: 0.00056673\n",
      "Epoch: 20 Loss: 0.00069053\n",
      "Epoch: 21 Loss: 0.00072784\n",
      "Epoch: 22 Loss: 0.00073886\n",
      "Epoch: 23 Loss: 0.00074199\n",
      "Epoch: 24 Loss: 0.00074292\n",
      "Epoch: 25 Loss: 0.00074318\n",
      "Epoch: 26 Loss: 0.00074326\n",
      "Epoch: 27 Loss: 0.00074329\n",
      "Epoch: 28 Loss: 0.00074329\n",
      "Epoch: 29 Loss: 0.00074329\n",
      "Epoch: 30 Loss: 0.00074329\n",
      "Epoch: 31 Loss: 0.00074329\n",
      "Epoch: 32 Loss: 0.00074329\n",
      "Epoch: 33 Loss: 0.00074329\n",
      "Epoch: 34 Loss: 0.00074329\n",
      "Epoch: 35 Loss: 0.00074329\n",
      "Epoch: 36 Loss: 0.00074329\n",
      "Epoch: 37 Loss: 0.00074329\n",
      "Epoch: 38 Loss: 0.00074329\n",
      "Epoch: 39 Loss: 0.00074329\n",
      "Epoch: 40 Loss: 0.00074329\n",
      "Epoch: 41 Loss: 0.00074329\n",
      "Epoch: 42 Loss: 0.00074329\n",
      "Epoch: 43 Loss: 0.00074329\n",
      "Epoch: 44 Loss: 0.00074329\n",
      "Epoch: 45 Loss: 0.00074329\n",
      "Epoch: 46 Loss: 0.00074329\n",
      "Epoch: 47 Loss: 0.00074329\n",
      "Epoch: 48 Loss: 0.00074329\n",
      "Epoch: 49 Loss: 0.00074329\n",
      "Epoch: 50 Loss: 0.00074329\n",
      "Epoch: 51 Loss: 0.00074329\n",
      "Epoch: 52 Loss: 0.00074329\n",
      "Epoch: 53 Loss: 0.00074329\n",
      "Epoch: 54 Loss: 0.00074329\n",
      "Epoch: 55 Loss: 0.00074329\n",
      "Epoch: 56 Loss: 0.00074329\n",
      "Epoch: 57 Loss: 0.00074329\n",
      "Epoch: 58 Loss: 0.00074329\n",
      "Epoch: 59 Loss: 0.00074329\n",
      "Epoch: 60 Loss: 0.00074329\n",
      "Epoch: 61 Loss: 0.00074329\n",
      "Epoch: 62 Loss: 0.00074329\n",
      "Epoch: 63 Loss: 0.00074329\n",
      "Epoch: 64 Loss: 0.00074329\n",
      "Epoch: 65 Loss: 0.00074329\n",
      "Epoch: 66 Loss: 0.00074329\n",
      "Epoch: 67 Loss: 0.00074329\n",
      "Epoch: 68 Loss: 0.00074329\n",
      "Epoch: 69 Loss: 0.00074329\n",
      "Epoch: 70 Loss: 0.00074329\n",
      "Epoch: 71 Loss: 0.00074329\n",
      "Epoch: 72 Loss: 0.00074329\n",
      "Epoch: 73 Loss: 0.00074329\n",
      "Epoch: 74 Loss: 0.00074329\n",
      "Epoch: 75 Loss: 0.00074329\n",
      "Epoch: 76 Loss: 0.00074329\n",
      "Epoch: 77 Loss: 0.00074329\n",
      "Epoch: 78 Loss: 0.00074329\n",
      "Epoch: 79 Loss: 0.00074329\n",
      "Epoch: 80 Loss: 0.00074329\n",
      "Epoch: 81 Loss: 0.00074329\n",
      "Epoch: 82 Loss: 0.00074329\n",
      "Epoch: 83 Loss: 0.00074329\n",
      "Epoch: 84 Loss: 0.00074329\n",
      "Epoch: 85 Loss: 0.00074329\n",
      "Epoch: 86 Loss: 0.00074329\n",
      "Epoch: 87 Loss: 0.00074329\n",
      "Epoch: 88 Loss: 0.00074329\n",
      "Epoch: 89 Loss: 0.00074329\n",
      "Epoch: 90 Loss: 0.00074329\n",
      "Epoch: 91 Loss: 0.00074329\n",
      "Epoch: 92 Loss: 0.00074329\n",
      "Epoch: 93 Loss: 0.00074329\n",
      "Epoch: 94 Loss: 0.00074329\n",
      "Epoch: 95 Loss: 0.00074329\n",
      "Epoch: 96 Loss: 0.00074329\n",
      "Epoch: 97 Loss: 0.00074329\n",
      "Epoch: 98 Loss: 0.00074329\n",
      "Epoch: 99 Loss: 0.00074329\n",
      "Epoch: 100 Loss: 0.00074329\n",
      "\n",
      "Duration: 3432 seconds\n"
     ]
    }
   ],
   "source": [
    "epochs = 100\n",
    "losses= []\n",
    "\n",
    "import time\n",
    "start_time = time.time()\n",
    "\n",
    "for epoch in range(epochs):\n",
    "    for seq, y_train in train_data:\n",
    "        \n",
    "        optimizer.zero_grad()\n",
    "        model.hidden = (torch.zeros(1,1,model.hidden_size[0]),\n",
    "                        torch.zeros(1,1,model.hidden_size[0]))\n",
    "        \n",
    "        y_pred = model(seq)\n",
    "        \n",
    "        loss = criterion(y_pred, y_train)\n",
    "        loss.backward()\n",
    "        losses.append(loss.item())\n",
    "        optimizer.step()\n",
    "        \n",
    "    print(f'Epoch: {epoch+1:2} Loss: {loss.item():10.8f}')\n",
    "    \n",
    "print(f'\\nDuration: {time.time() - start_time:.0f} seconds')"
   ]
  },
  {
   "cell_type": "code",
   "execution_count": 16,
   "metadata": {},
   "outputs": [
    {
     "data": {
      "image/png": "[encoded data removed]",
      "text/plain": [
       "<Figure size 936x288 with 1 Axes>"
      ]
     },
     "metadata": {
      "needs_background": "light"
     },
     "output_type": "display_data"
    }
   ],
   "source": [
    "loss = pd.DataFrame(losses, columns=['loss'])\n",
    "loss['loss'].rolling(1825).mean().plot(figsize=(13,4))\n",
    "plt.title('Loss')\n",
    "plt.grid(True)"
   ]
  },
  {
   "cell_type": "markdown",
   "metadata": {},
   "source": [
    "# Forecast\n",
    "21 days in future"
   ]
  },
  {
   "cell_type": "code",
   "execution_count": 18,
   "metadata": {},
   "outputs": [],
   "source": [
    "future = 21\n",
    "\n",
    "preds = train_norm[-window_size:].tolist()\n",
    "\n",
    "model.eval()\n",
    "\n",
    "for i in range(future):\n",
    "    seq = torch.FloatTensor(preds[-window_size:])\n",
    "    with torch.no_grad():\n",
    "        model.hidden = (torch.zeros(1,1,model.hidden_size[0]),\n",
    "                        torch.zeros(1,1,model.hidden_size[0]))\n",
    "        preds.append(model(seq).item())"
   ]
  },
  {
   "cell_type": "code",
   "execution_count": 19,
   "metadata": {},
   "outputs": [],
   "source": [
    "true_predictions = scaler.inverse_transform(np.array(preds[window_size:]).reshape(-1, 1))\n",
    "df1 = pd.DataFrame(true_predictions, index=df.tail(21).index, columns=['pred'])\n"
   ]
  },
  {
   "cell_type": "code",
   "execution_count": null,
   "metadata": {},
   "outputs": [],
   "source": [
    "tru"
   ]
  },
  {
   "cell_type": "code",
   "execution_count": 20,
   "metadata": {},
   "outputs": [
    {
     "data": {
      "text/plain": [
       "<matplotlib.legend.Legend at 0x1b7471b0b20>"
      ]
     },
     "execution_count": 20,
     "metadata": {},
     "output_type": "execute_result"
    },
    {
     "data": {
      "image/png": "[encoded data removed]",
      "text/plain": [
       "<Figure size 864x288 with 1 Axes>"
      ]
     },
     "metadata": {
      "needs_background": "light"
     },
     "output_type": "display_data"
    }
   ],
   "source": [
    "plt.figure(figsize=(12,4))\n",
    "plt.grid(True)\n",
    "plt.autoscale(axis='x',tight=True)\n",
    "plt.plot(df['Adj Close'].iloc[-21:], label='Stock price')\n",
    "plt.plot(df1['pred'], label='predicted')\n",
    "plt.legend()"
   ]
  },
  {
   "cell_type": "markdown",
   "metadata": {},
   "source": [
    "# Absolute mean squared error"
   ]
  },
  {
   "cell_type": "code",
   "execution_count": 21,
   "metadata": {},
   "outputs": [
    {
     "data": {
      "text/plain": [
       "25.3159573066948"
      ]
     },
     "execution_count": 21,
     "metadata": {},
     "output_type": "execute_result"
    }
   ],
   "source": [
    "from sklearn.metrics import mean_squared_error\n",
    "np.sqrt(mean_squared_error(true_predictions.reshape(1, -1), df['Adj Close'][-21:].values.reshape(1, -1)))"
   ]
  },
  {
   "cell_type": "code",
   "execution_count": null,
   "metadata": {},
   "outputs": [],
   "source": []
  },
  {
   "cell_type": "code",
   "execution_count": null,
   "metadata": {},
   "outputs": [],
   "source": []
  }
 ],
 "metadata": {
  "kernelspec": {
   "display_name": "Python 3",
   "language": "python",
   "name": "python3"
  },
  "language_info": {
   "codemirror_mode": {
    "name": "ipython",
    "version": 3
   },
   "file_extension": ".py",
   "mimetype": "text/x-python",
   "name": "python",
   "nbconvert_exporter": "python",
   "pygments_lexer": "ipython3",
   "version": "3.8.5"
  }
 },
 "nbformat": 4,
 "nbformat_minor": 4
}

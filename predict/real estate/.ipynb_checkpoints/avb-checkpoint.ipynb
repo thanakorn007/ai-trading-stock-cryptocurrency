{
 "cells": [
  {
   "cell_type": "markdown",
   "metadata": {},
   "source": [
    "# Import Module"
   ]
  },
  {
   "cell_type": "code",
   "execution_count": null,
   "metadata": {},
   "outputs": [],
   "source": [
    "from tensorflow.keras.models import Sequential\n",
    "from tensorflow.keras.layers import Dense,Dropout,LSTM\n",
    "from sklearn.preprocessing import MinMaxScaler\n",
    "import numpy as np\n",
    "import pandas as pd\n",
    "import matplotlib.pyplot as plt\n",
    "import pandas_datareader as web\n",
    "%matplotlib inline\n",
    "from pandas.plotting import register_matplotlib_converters\n",
    "register_matplotlib_converters()\n",
    "from tqdm.notebook import tqdm\n",
    "from sklearn.metrics import mean_squared_error\n"
   ]
  },
  {
   "cell_type": "markdown",
   "metadata": {},
   "source": [
    "# Stock data"
   ]
  },
  {
   "cell_type": "code",
   "execution_count": null,
   "metadata": {},
   "outputs": [],
   "source": [
    "ticker = 'vtr'.upper()\n",
    "df = web.DataReader(ticker, 'yahoo', '2016-01-01', '2021-02-01')\n",
    "plt.figure(figsize=(13,4))\n",
    "plt.title('Stock price '+ ticker)\n",
    "plt.ylabel('Price')\n",
    "plt.grid(True)\n",
    "plt.autoscale(axis='x',tight=True)\n",
    "plt.plot(df['Adj Close'], color='g')\n",
    "plt.show()\n",
    "\n",
    "y = df['Adj Close'].values.astype(float)\n",
    "\n",
    "test_size = 7\n",
    "window_size = 120\n",
    "train_set = y[:-test_size]\n",
    "test_set = y[-test_size:]\n",
    "df.info()\n",
    "\n",
    "df['Adj Close'].iloc[-test_size:].plot(figsize=(13,4))\n",
    "plt.title('test set')\n",
    "plt.grid(True)\n",
    "\n",
    "scaler = MinMaxScaler(feature_range=(-1, 1))\n",
    "scaler = scaler.fit(train_set.reshape(-1, 1))"
   ]
  },
  {
   "cell_type": "markdown",
   "metadata": {},
   "source": [
    "# Recurrent Neural Network"
   ]
  },
  {
   "cell_type": "code",
   "execution_count": null,
   "metadata": {},
   "outputs": [],
   "source": [
    "class RecurrentNetwork:\n",
    "    def __init__(self,\n",
    "                 data,\n",
    "                 test_size,\n",
    "                 ticker,\n",
    "                 future,\n",
    "                 window_size=120,\n",
    "                 layers=[50, 50, 50, 50, 50, 50],\n",
    "                 dropout=0.2,\n",
    "                 epochs=150,\n",
    "                 batch_size=32):\n",
    "        \n",
    "        self.df = data\n",
    "        self.layers = layers\n",
    "        self.ticker = ticker\n",
    "        self.dropout = dropout\n",
    "        self.window_size = window_size\n",
    "        self.test_size = test_size\n",
    "        self.epochs = epochs\n",
    "        self.batch_size = batch_size\n",
    "        self.future = future\n",
    "        self.true_predictions = None\n",
    "        \n",
    "        self.train_set, self.test_set = self.spilt_data()\n",
    "        self.scaler = MinMaxScaler(feature_range=(-1, 1))\n",
    "        self.train_norm, self.test_norm = self.norm_data()\n",
    "        self.X_train, self.y_train = self.input_label()\n",
    "        self.X_test, self.y_test = self.val_data()\n",
    "        \n",
    "        \n",
    "        self.seeding(seed=101)\n",
    "        self.model = self.build_model_rnn()\n",
    "        \n",
    "        \n",
    "    def __str__(self):\n",
    "        return str(self.model.summary())\n",
    "    \n",
    "\n",
    "    \n",
    "        \n",
    "    def seeding(self, seed):\n",
    "        return np.random.seed(seed)\n",
    "    \n",
    "    \n",
    "    def spilt_data(self):\n",
    "        y = self.df['Adj Close'].values.astype(float)\n",
    "        train_set = y[:-self.test_size]\n",
    "        test_set = y[-self.test_size:]\n",
    "        \n",
    "        return train_set, test_set\n",
    "    \n",
    "    \n",
    "    def norm_data(self):\n",
    "        train_norm = scaler.transform(self.train_set.reshape(-1, 1))\n",
    "        test_norm = scaler.transform(self.test_set.reshape(-1, 1))\n",
    "        return train_norm, test_norm\n",
    "    \n",
    "    \n",
    "    def input_label(self):\n",
    "        X_train = []\n",
    "        y_train = []\n",
    "        for i in range(self.window_size, len(self.train_norm)):\n",
    "            X_train.append(self.train_norm[i-self.window_size:i,0])\n",
    "            y_train.append(self.train_norm[i,0])\n",
    "\n",
    "        X_train,y_train = np.array(X_train), np.array(y_train) \n",
    "        \n",
    "        X_train = np.reshape(X_train, (X_train.shape[0], X_train.shape[1], 1))\n",
    "        \n",
    "        return X_train,y_train\n",
    "    \n",
    "    \n",
    "    def val_data(self):\n",
    "        X_test = []\n",
    "        y_test = []\n",
    "\n",
    "        seq = self.train_norm[-(self.window_size-1):]\n",
    "\n",
    "        for i in range(len(self.test_norm)):\n",
    "\n",
    "            seq = np.array(seq[-(self.window_size-1):], dtype=np.float32)\n",
    "\n",
    "            seq = np.append(seq, self.test_norm[i])\n",
    "\n",
    "            X_test.append(seq)\n",
    "            y_test.append(self.test_norm[i])\n",
    "\n",
    "        X_test,y_test = np.array(X_test), np.array(y_test) \n",
    "        \n",
    "        X_test = np.reshape(X_test, (X_test.shape[0], X_test.shape[1], 1))\n",
    "        \n",
    "        return X_test,y_test\n",
    "        \n",
    "    \n",
    "    \n",
    "    def build_model_rnn(self):\n",
    "        \n",
    "        model = Sequential()\n",
    "\n",
    "        \n",
    "        for i in range(len(self.layers)):\n",
    "            if i == 0:\n",
    "                model.add(LSTM(units=self.layers[i], return_sequences=True, input_shape=(self.X_train.shape[1], 1)))\n",
    "                model.add(Dropout(self.dropout))\n",
    "                \n",
    "            elif i == (len(self.layers) - 1):\n",
    "                model.add(LSTM(units=self.layers[i],))\n",
    "                model.add(Dropout(self.dropout))\n",
    "                \n",
    "            else:\n",
    "                model.add(LSTM(units=self.layers[i], return_sequences=True))\n",
    "                model.add(Dropout(self.dropout))\n",
    "                \n",
    "\n",
    "        model.add(Dense(units=1))\n",
    "\n",
    "        model.compile(optimizer='adam', loss='mean_squared_error')\n",
    "    \n",
    "        \n",
    "        return model\n",
    "    \n",
    "    \n",
    "    def training(self):\n",
    "        \n",
    "        self.model.fit(self.X_train,\n",
    "                       self.y_train,\n",
    "                       epochs=self.epochs,\n",
    "                       validation_data=(self.X_test, self.y_test),\n",
    "                       batch_size=self.batch_size)\n",
    "        \n",
    "        self.save()\n",
    "        \n",
    "        \n",
    "    def loss_render(self):\n",
    "        losses = pd.DataFrame(self.model.history.history)\n",
    "        losses[['loss', 'val_loss']].plot(figsize=(6,10), label='Loss', subplots=True);\n",
    "        plt.title('Loss')\n",
    "        plt.xlabel('Epoch')\n",
    "        plt.legend()\n",
    "\n",
    "        \n",
    "        \n",
    "    def save(self):\n",
    "        \n",
    "        self.model.save_weights(f'model/{self.ticker}.h5')\n",
    "        print('Saved model!!')\n",
    "        \n",
    "    \n",
    "    def load(self):\n",
    "        self.model.load_weights(f'model/{self.ticker}.h5')\n",
    "        print('Loading model complete!!')\n",
    "        \n",
    "        \n",
    "    \n",
    "    def testing(self):\n",
    "        self.load()\n",
    "        \n",
    "        preds = self.train_norm[-self.window_size:].tolist()\n",
    "        \n",
    "        for i in range(self.future):\n",
    "            seq = np.array(preds[-self.window_size:], dtype=np.float32)\n",
    "            seq = np.reshape(seq, (seq.shape[1], seq.shape[0], 1))\n",
    "            predict = self.model.predict(seq)\n",
    "            preds.append(predict)\n",
    "\n",
    "        self.true_predictions = scaler.inverse_transform(np.array(preds[self.window_size:]).reshape(-1, 1))\n",
    "        df1 = pd.DataFrame(self.true_predictions, index=df.tail(self.future).index, columns=['pred'])\n",
    "\n",
    "\n",
    "        plt.figure(figsize=(12,4))\n",
    "        plt.grid(True)\n",
    "        plt.autoscale(axis='x',tight=True)\n",
    "        plt.plot(self.df['Adj Close'].iloc[-(self.future + 10):], label='Stock price')\n",
    "        plt.plot(df1['pred'], label='predicted')\n",
    "        plt.title('Prediction')\n",
    "        plt.xlabel('Date')\n",
    "        plt.legend()\n",
    "        \n",
    "        \n",
    "    def amse(self):\n",
    "        return np.sqrt(mean_squared_error(self.true_predictions.reshape(1, -1), self.df['Adj Close'][-7:].values.reshape(1, -1)))\n",
    "        \n",
    "        \n",
    "        \n",
    "        \n",
    "        \n",
    "        \n",
    "        "
   ]
  },
  {
   "cell_type": "markdown",
   "metadata": {},
   "source": [
    "# Config"
   ]
  },
  {
   "cell_type": "code",
   "execution_count": null,
   "metadata": {},
   "outputs": [],
   "source": [
    "model = RecurrentNetwork(data=df,\n",
    "                         test_size=7,\n",
    "                         ticker=ticker,\n",
    "                         future=7,\n",
    "                         layers=[100]*6,\n",
    "                         window_size=120,\n",
    "                         dropout=0.2,\n",
    "                         epochs=150,\n",
    "                         batch_size=32)"
   ]
  },
  {
   "cell_type": "markdown",
   "metadata": {},
   "source": [
    "# Model"
   ]
  },
  {
   "cell_type": "code",
   "execution_count": null,
   "metadata": {},
   "outputs": [],
   "source": [
    "print(model)"
   ]
  },
  {
   "cell_type": "markdown",
   "metadata": {},
   "source": [
    "# Training"
   ]
  },
  {
   "cell_type": "code",
   "execution_count": null,
   "metadata": {
    "scrolled": false
   },
   "outputs": [],
   "source": [
    "model.training()"
   ]
  },
  {
   "cell_type": "markdown",
   "metadata": {},
   "source": [
    "# Loss"
   ]
  },
  {
   "cell_type": "code",
   "execution_count": null,
   "metadata": {},
   "outputs": [],
   "source": [
    "model.loss_render()"
   ]
  },
  {
   "cell_type": "markdown",
   "metadata": {},
   "source": [
    "# Testing"
   ]
  },
  {
   "cell_type": "code",
   "execution_count": null,
   "metadata": {},
   "outputs": [],
   "source": [
    "model.testing()"
   ]
  },
  {
   "cell_type": "markdown",
   "metadata": {},
   "source": [
    "# Absolute Mean Square Error"
   ]
  },
  {
   "cell_type": "code",
   "execution_count": null,
   "metadata": {},
   "outputs": [],
   "source": [
    "model.amse()"
   ]
  },
  {
   "cell_type": "markdown",
   "metadata": {},
   "source": [
    "# Error"
   ]
  },
  {
   "cell_type": "code",
   "execution_count": null,
   "metadata": {},
   "outputs": [],
   "source": [
    "prediction = model.true_predictions\n",
    "true_value = df['Adj Close'].tail(7).values.reshape(-1,1)\n",
    "print(f'%Error : {np.mean((np.abs(prediction - true_value) / true_value) * 100):.4f} %')"
   ]
  },
  {
   "cell_type": "code",
   "execution_count": null,
   "metadata": {},
   "outputs": [],
   "source": []
  }
 ],
 "metadata": {
  "kernelspec": {
   "display_name": "Python 3",
   "language": "python",
   "name": "python3"
  },
  "language_info": {
   "codemirror_mode": {
    "name": "ipython",
    "version": 3
   },
   "file_extension": ".py",
   "mimetype": "text/x-python",
   "name": "python",
   "nbconvert_exporter": "python",
   "pygments_lexer": "ipython3",
   "version": "3.8.5"
  }
 },
 "nbformat": 4,
 "nbformat_minor": 4
}

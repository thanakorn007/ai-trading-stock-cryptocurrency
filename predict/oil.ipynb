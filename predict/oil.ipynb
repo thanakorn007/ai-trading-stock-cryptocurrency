{
 "cells": [
  {
   "cell_type": "markdown",
   "metadata": {},
   "source": [
    "# Import Module"
   ]
  },
  {
   "cell_type": "code",
   "execution_count": 1,
   "metadata": {},
   "outputs": [],
   "source": [
    "import torch\n",
    "import torch.nn as nn\n",
    "import numpy as np\n",
    "import pandas as pd\n",
    "import matplotlib.pyplot as plt\n",
    "import pandas_datareader as web\n",
    "%matplotlib inline\n",
    "from sklearn.preprocessing import MinMaxScaler\n",
    "from pandas.plotting import register_matplotlib_converters\n",
    "register_matplotlib_converters()"
   ]
  },
  {
   "cell_type": "markdown",
   "metadata": {},
   "source": [
    "# Stock Data \n",
    "training data\n",
    "start: 2015/01/01\n",
    "end: 2019/11/01 \n",
    "\n",
    "testing data \n",
    "start: 2019/12/01\n",
    "end: 2020/01/01"
   ]
  },
  {
   "cell_type": "code",
   "execution_count": 12,
   "metadata": {},
   "outputs": [],
   "source": [
    "ticker = 'oil'.upper()"
   ]
  },
  {
   "cell_type": "code",
   "execution_count": 13,
   "metadata": {},
   "outputs": [
    {
     "data": {
      "text/html": [
       "<div>\n",
       "<style scoped>\n",
       "    .dataframe tbody tr th:only-of-type {\n",
       "        vertical-align: middle;\n",
       "    }\n",
       "\n",
       "    .dataframe tbody tr th {\n",
       "        vertical-align: top;\n",
       "    }\n",
       "\n",
       "    .dataframe thead th {\n",
       "        text-align: right;\n",
       "    }\n",
       "</style>\n",
       "<table border=\"1\" class=\"dataframe\">\n",
       "  <thead>\n",
       "    <tr style=\"text-align: right;\">\n",
       "      <th></th>\n",
       "      <th>High</th>\n",
       "      <th>Low</th>\n",
       "      <th>Open</th>\n",
       "      <th>Close</th>\n",
       "      <th>Volume</th>\n",
       "      <th>Adj Close</th>\n",
       "    </tr>\n",
       "    <tr>\n",
       "      <th>Date</th>\n",
       "      <th></th>\n",
       "      <th></th>\n",
       "      <th></th>\n",
       "      <th></th>\n",
       "      <th></th>\n",
       "      <th></th>\n",
       "    </tr>\n",
       "  </thead>\n",
       "  <tbody>\n",
       "    <tr>\n",
       "      <th>2014-12-31</th>\n",
       "      <td>24.950001</td>\n",
       "      <td>24.799999</td>\n",
       "      <td>24.930000</td>\n",
       "      <td>24.950001</td>\n",
       "      <td>1400</td>\n",
       "      <td>24.950001</td>\n",
       "    </tr>\n",
       "    <tr>\n",
       "      <th>2015-01-02</th>\n",
       "      <td>24.790001</td>\n",
       "      <td>24.700001</td>\n",
       "      <td>24.700001</td>\n",
       "      <td>24.790001</td>\n",
       "      <td>400</td>\n",
       "      <td>24.790001</td>\n",
       "    </tr>\n",
       "    <tr>\n",
       "      <th>2015-01-05</th>\n",
       "      <td>23.750000</td>\n",
       "      <td>23.700001</td>\n",
       "      <td>23.750000</td>\n",
       "      <td>23.700001</td>\n",
       "      <td>600</td>\n",
       "      <td>23.700001</td>\n",
       "    </tr>\n",
       "    <tr>\n",
       "      <th>2015-01-06</th>\n",
       "      <td>23.379999</td>\n",
       "      <td>22.700001</td>\n",
       "      <td>23.260000</td>\n",
       "      <td>22.700001</td>\n",
       "      <td>800</td>\n",
       "      <td>22.700001</td>\n",
       "    </tr>\n",
       "    <tr>\n",
       "      <th>2015-01-07</th>\n",
       "      <td>23.129999</td>\n",
       "      <td>22.889999</td>\n",
       "      <td>22.990000</td>\n",
       "      <td>23.000000</td>\n",
       "      <td>1500</td>\n",
       "      <td>23.000000</td>\n",
       "    </tr>\n",
       "    <tr>\n",
       "      <th>...</th>\n",
       "      <td>...</td>\n",
       "      <td>...</td>\n",
       "      <td>...</td>\n",
       "      <td>...</td>\n",
       "      <td>...</td>\n",
       "      <td>...</td>\n",
       "    </tr>\n",
       "    <tr>\n",
       "      <th>2019-12-24</th>\n",
       "      <td>19.020000</td>\n",
       "      <td>18.959999</td>\n",
       "      <td>18.959999</td>\n",
       "      <td>19.020000</td>\n",
       "      <td>200</td>\n",
       "      <td>19.020000</td>\n",
       "    </tr>\n",
       "    <tr>\n",
       "      <th>2019-12-26</th>\n",
       "      <td>19.209999</td>\n",
       "      <td>19.180000</td>\n",
       "      <td>19.209999</td>\n",
       "      <td>19.180000</td>\n",
       "      <td>300</td>\n",
       "      <td>19.180000</td>\n",
       "    </tr>\n",
       "    <tr>\n",
       "      <th>2019-12-27</th>\n",
       "      <td>19.219999</td>\n",
       "      <td>19.219999</td>\n",
       "      <td>19.219999</td>\n",
       "      <td>19.219999</td>\n",
       "      <td>100</td>\n",
       "      <td>19.219999</td>\n",
       "    </tr>\n",
       "    <tr>\n",
       "      <th>2019-12-30</th>\n",
       "      <td>19.180000</td>\n",
       "      <td>19.180000</td>\n",
       "      <td>19.180000</td>\n",
       "      <td>19.180000</td>\n",
       "      <td>100</td>\n",
       "      <td>19.180000</td>\n",
       "    </tr>\n",
       "    <tr>\n",
       "      <th>2019-12-31</th>\n",
       "      <td>19.020000</td>\n",
       "      <td>18.950001</td>\n",
       "      <td>18.950001</td>\n",
       "      <td>19.020000</td>\n",
       "      <td>1100</td>\n",
       "      <td>19.020000</td>\n",
       "    </tr>\n",
       "  </tbody>\n",
       "</table>\n",
       "<p>1259 rows × 6 columns</p>\n",
       "</div>"
      ],
      "text/plain": [
       "                 High        Low       Open      Close  Volume  Adj Close\n",
       "Date                                                                     \n",
       "2014-12-31  24.950001  24.799999  24.930000  24.950001    1400  24.950001\n",
       "2015-01-02  24.790001  24.700001  24.700001  24.790001     400  24.790001\n",
       "2015-01-05  23.750000  23.700001  23.750000  23.700001     600  23.700001\n",
       "2015-01-06  23.379999  22.700001  23.260000  22.700001     800  22.700001\n",
       "2015-01-07  23.129999  22.889999  22.990000  23.000000    1500  23.000000\n",
       "...               ...        ...        ...        ...     ...        ...\n",
       "2019-12-24  19.020000  18.959999  18.959999  19.020000     200  19.020000\n",
       "2019-12-26  19.209999  19.180000  19.209999  19.180000     300  19.180000\n",
       "2019-12-27  19.219999  19.219999  19.219999  19.219999     100  19.219999\n",
       "2019-12-30  19.180000  19.180000  19.180000  19.180000     100  19.180000\n",
       "2019-12-31  19.020000  18.950001  18.950001  19.020000    1100  19.020000\n",
       "\n",
       "[1259 rows x 6 columns]"
      ]
     },
     "execution_count": 13,
     "metadata": {},
     "output_type": "execute_result"
    }
   ],
   "source": [
    "df = web.DataReader(ticker, 'yahoo', '2015-01-01', '2020-01-01')\n",
    "df"
   ]
  },
  {
   "cell_type": "code",
   "execution_count": 14,
   "metadata": {},
   "outputs": [
    {
     "data": {
      "image/png": "[encoded data removed]",
      "text/plain": [
       "<Figure size 936x288 with 1 Axes>"
      ]
     },
     "metadata": {
      "needs_background": "light"
     },
     "output_type": "display_data"
    }
   ],
   "source": [
    "plt.figure(figsize=(13,4))\n",
    "plt.title('Stock price '+ ticker)\n",
    "plt.ylabel('Price')\n",
    "plt.grid(True)\n",
    "plt.autoscale(axis='x',tight=True)\n",
    "plt.plot(df['Adj Close'], color='g')\n",
    "plt.show()"
   ]
  },
  {
   "cell_type": "code",
   "execution_count": 15,
   "metadata": {},
   "outputs": [],
   "source": [
    "y = df['Adj Close'].values.astype(float)\n",
    "\n",
    "test_size = 21\n",
    "train_set = y[:-test_size]\n",
    "test_set = y[-test_size:]"
   ]
  },
  {
   "cell_type": "code",
   "execution_count": 16,
   "metadata": {},
   "outputs": [
    {
     "data": {
      "image/png": "[encoded data removed]",
      "text/plain": [
       "<Figure size 936x288 with 1 Axes>"
      ]
     },
     "metadata": {
      "needs_background": "light"
     },
     "output_type": "display_data"
    }
   ],
   "source": [
    "df['Adj Close'].iloc[-test_size:].plot(figsize=(13,4))\n",
    "plt.title('test set')\n",
    "plt.grid(True)"
   ]
  },
  {
   "cell_type": "markdown",
   "metadata": {},
   "source": [
    "# Normalizing data\n",
    "convert to range [-1, 1]"
   ]
  },
  {
   "cell_type": "code",
   "execution_count": 17,
   "metadata": {},
   "outputs": [],
   "source": [
    "scaler = MinMaxScaler(feature_range=(-1, 1))\n",
    "train_norm = scaler.fit_transform(train_set.reshape(-1, 1))"
   ]
  },
  {
   "cell_type": "code",
   "execution_count": 18,
   "metadata": {},
   "outputs": [
    {
     "data": {
      "text/plain": [
       "-1.0"
      ]
     },
     "execution_count": 18,
     "metadata": {},
     "output_type": "execute_result"
    }
   ],
   "source": [
    "train_norm.min()"
   ]
  },
  {
   "cell_type": "code",
   "execution_count": 19,
   "metadata": {},
   "outputs": [
    {
     "data": {
      "text/plain": [
       "1.0"
      ]
     },
     "execution_count": 19,
     "metadata": {},
     "output_type": "execute_result"
    }
   ],
   "source": [
    "train_norm.max()"
   ]
  },
  {
   "cell_type": "code",
   "execution_count": 20,
   "metadata": {},
   "outputs": [
    {
     "data": {
      "text/plain": [
       "-0.14643606459311262"
      ]
     },
     "execution_count": 20,
     "metadata": {},
     "output_type": "execute_result"
    }
   ],
   "source": [
    "train_norm.mean()"
   ]
  },
  {
   "cell_type": "code",
   "execution_count": 21,
   "metadata": {},
   "outputs": [
    {
     "data": {
      "text/plain": [
       "0.42022527759708506"
      ]
     },
     "execution_count": 21,
     "metadata": {},
     "output_type": "execute_result"
    }
   ],
   "source": [
    "train_norm.std()"
   ]
  },
  {
   "cell_type": "markdown",
   "metadata": {},
   "source": [
    "# Input data and label\n",
    "window size = 21\n",
    "\n",
    "[1, 2, 3, ...,21] predict ==> [22]"
   ]
  },
  {
   "cell_type": "code",
   "execution_count": 22,
   "metadata": {},
   "outputs": [
    {
     "data": {
      "text/plain": [
       "1217"
      ]
     },
     "execution_count": 22,
     "metadata": {},
     "output_type": "execute_result"
    }
   ],
   "source": [
    "train_norm = torch.FloatTensor(train_norm).view(-1)\n",
    "\n",
    "window_size = 21\n",
    "\n",
    "\n",
    "def input_data(seq,ws): \n",
    "    out = []\n",
    "    L = len(seq)\n",
    "    for i in range(L-ws):\n",
    "        window = seq[i:i+ws]\n",
    "        label = seq[i+ws:i+ws+1]\n",
    "        out.append((window,label))\n",
    "    return out\n",
    "\n",
    "train_data = input_data(train_norm,window_size)\n",
    "len(train_data)  "
   ]
  },
  {
   "cell_type": "markdown",
   "metadata": {},
   "source": [
    "# 2. LSTM network\n",
    "lstm 2 layers 100 nodes\n",
    "\n",
    "fully connected 1 l layer"
   ]
  },
  {
   "cell_type": "code",
   "execution_count": 23,
   "metadata": {},
   "outputs": [],
   "source": [
    "class LSTMnetwork(nn.Module):\n",
    "    def __init__(self,input_size=1,hidden_size=[100, 100], output_size=1):\n",
    "        super().__init__()\n",
    "        self.hidden_size = hidden_size\n",
    "        \n",
    "        self.lstm1 = nn.LSTM(input_size,hidden_size[0])\n",
    "        \n",
    "        self.lstm2 = nn.LSTM(hidden_size[0], hidden_size[1])\n",
    "        \n",
    "        self.linear = nn.Linear(hidden_size[1], output_size)\n",
    "        \n",
    "        self.hidden = (torch.zeros(1,1,self.hidden_size[0]),\n",
    "                       torch.zeros(1,1,self.hidden_size[0]))\n",
    "\n",
    "    def forward(self,seq):\n",
    "        lstm_out1, self.hidden = self.lstm1(seq.view(len(seq),1,-1), self.hidden)\n",
    "        lstm_out2, self.hidden = self.lstm2(lstm_out1.view(len(seq),1,-1), self.hidden)\n",
    "        pred = self.linear(lstm_out2.view(len(seq),-1))\n",
    "        return pred[-1] \n",
    "        "
   ]
  },
  {
   "cell_type": "code",
   "execution_count": 24,
   "metadata": {},
   "outputs": [
    {
     "data": {
      "text/plain": [
       "LSTMnetwork(\n",
       "  (lstm1): LSTM(1, 100)\n",
       "  (lstm2): LSTM(100, 100)\n",
       "  (linear): Linear(in_features=100, out_features=1, bias=True)\n",
       ")"
      ]
     },
     "execution_count": 24,
     "metadata": {},
     "output_type": "execute_result"
    }
   ],
   "source": [
    "torch.manual_seed(101)\n",
    "model = LSTMnetwork()\n",
    "\n",
    "criterion = nn.MSELoss()\n",
    "optimizer = torch.optim.Adam(model.parameters(), lr=0.001)\n",
    "\n",
    "model"
   ]
  },
  {
   "cell_type": "code",
   "execution_count": 40,
   "metadata": {},
   "outputs": [
    {
     "name": "stdout",
     "output_type": "stream",
     "text": [
      "400\n",
      "40000\n",
      "400\n",
      "400\n",
      "40000\n",
      "40000\n",
      "400\n",
      "400\n",
      "100\n",
      "1\n",
      "sum: 122101\n"
     ]
    }
   ],
   "source": [
    "p = 0\n",
    "for param in model.parameters():\n",
    "    p += param.numel()\n",
    "    print(param.numel())\n",
    "print('sum:', p)"
   ]
  },
  {
   "cell_type": "markdown",
   "metadata": {},
   "source": [
    "# Training"
   ]
  },
  {
   "cell_type": "code",
   "execution_count": 25,
   "metadata": {},
   "outputs": [
    {
     "name": "stdout",
     "output_type": "stream",
     "text": [
      "Epoch:  1 Loss: 0.00004960\n",
      "Epoch:  2 Loss: 0.00000238\n",
      "Epoch:  3 Loss: 0.00062403\n",
      "Epoch:  4 Loss: 0.00044962\n",
      "Epoch:  5 Loss: 0.00011290\n",
      "Epoch:  6 Loss: 0.00004071\n",
      "Epoch:  7 Loss: 0.00002222\n",
      "Epoch:  8 Loss: 0.00001647\n",
      "Epoch:  9 Loss: 0.00059646\n",
      "Epoch: 10 Loss: 0.00000001\n",
      "Epoch: 11 Loss: 0.00011176\n",
      "Epoch: 12 Loss: 0.00063572\n",
      "Epoch: 13 Loss: 0.00057451\n",
      "Epoch: 14 Loss: 0.00066202\n",
      "Epoch: 15 Loss: 0.00069294\n",
      "Epoch: 16 Loss: 0.00034409\n",
      "Epoch: 17 Loss: 0.00019484\n",
      "Epoch: 18 Loss: 0.00022406\n",
      "Epoch: 19 Loss: 0.00023349\n",
      "Epoch: 20 Loss: 0.00042639\n",
      "Epoch: 21 Loss: 0.00050968\n",
      "Epoch: 22 Loss: 0.00082349\n",
      "Epoch: 23 Loss: 0.00072093\n",
      "Epoch: 24 Loss: 0.00001330\n",
      "Epoch: 25 Loss: 0.00011754\n",
      "Epoch: 26 Loss: 0.00029301\n",
      "Epoch: 27 Loss: 0.00020884\n",
      "Epoch: 28 Loss: 0.00023555\n",
      "Epoch: 29 Loss: 0.00007406\n",
      "Epoch: 30 Loss: 0.00010122\n",
      "Epoch: 31 Loss: 0.00008670\n",
      "Epoch: 32 Loss: 0.00030861\n",
      "Epoch: 33 Loss: 0.00039821\n",
      "Epoch: 34 Loss: 0.00004522\n",
      "Epoch: 35 Loss: 0.00008236\n",
      "Epoch: 36 Loss: 0.00009685\n",
      "Epoch: 37 Loss: 0.00010383\n",
      "Epoch: 38 Loss: 0.00019960\n",
      "Epoch: 39 Loss: 0.00022405\n",
      "Epoch: 40 Loss: 0.00023533\n",
      "Epoch: 41 Loss: 0.00023517\n",
      "Epoch: 42 Loss: 0.00024059\n",
      "Epoch: 43 Loss: 0.00024301\n",
      "Epoch: 44 Loss: 0.00024413\n",
      "Epoch: 45 Loss: 0.00041638\n",
      "Epoch: 46 Loss: 0.00044848\n",
      "Epoch: 47 Loss: 0.00046651\n",
      "Epoch: 48 Loss: 0.00047438\n",
      "Epoch: 49 Loss: 0.00047965\n",
      "Epoch: 50 Loss: 0.00065310\n",
      "Epoch: 51 Loss: 0.00045354\n",
      "Epoch: 52 Loss: 0.00051059\n",
      "Epoch: 53 Loss: 0.00052768\n",
      "Epoch: 54 Loss: 0.00053647\n",
      "Epoch: 55 Loss: 0.00053683\n",
      "Epoch: 56 Loss: 0.00056029\n",
      "Epoch: 57 Loss: 0.00056052\n",
      "Epoch: 58 Loss: 0.00033915\n",
      "Epoch: 59 Loss: 0.00014376\n",
      "Epoch: 60 Loss: 0.00021102\n",
      "Epoch: 61 Loss: 0.00000142\n",
      "Epoch: 62 Loss: 0.00001125\n",
      "Epoch: 63 Loss: 0.00043040\n",
      "Epoch: 64 Loss: 0.00024987\n",
      "Epoch: 65 Loss: 0.00035956\n",
      "Epoch: 66 Loss: 0.00004500\n",
      "Epoch: 67 Loss: 0.00027113\n",
      "Epoch: 68 Loss: 0.00005157\n",
      "Epoch: 69 Loss: 0.00000134\n",
      "Epoch: 70 Loss: 0.00125680\n",
      "Epoch: 71 Loss: 0.00062307\n",
      "Epoch: 72 Loss: 0.00191817\n",
      "Epoch: 73 Loss: 0.00397765\n",
      "Epoch: 74 Loss: 0.00586625\n",
      "Epoch: 75 Loss: 0.00974271\n",
      "Epoch: 76 Loss: 0.00924511\n",
      "Epoch: 77 Loss: 0.00997584\n",
      "Epoch: 78 Loss: 0.00915908\n",
      "Epoch: 79 Loss: 0.00929742\n",
      "Epoch: 80 Loss: 0.00881571\n",
      "Epoch: 81 Loss: 0.00833185\n",
      "Epoch: 82 Loss: 0.00593268\n",
      "Epoch: 83 Loss: 0.00721302\n",
      "Epoch: 84 Loss: 0.00736615\n",
      "Epoch: 85 Loss: 0.00812503\n",
      "Epoch: 86 Loss: 0.00791263\n",
      "Epoch: 87 Loss: 0.00758039\n",
      "Epoch: 88 Loss: 0.00696935\n",
      "Epoch: 89 Loss: 0.00702344\n",
      "Epoch: 90 Loss: 0.00796012\n",
      "Epoch: 91 Loss: 0.01011668\n",
      "Epoch: 92 Loss: 0.00825040\n",
      "Epoch: 93 Loss: 0.00719199\n",
      "Epoch: 94 Loss: 0.01012826\n",
      "Epoch: 95 Loss: 0.00735917\n",
      "Epoch: 96 Loss: 0.01516098\n",
      "Epoch: 97 Loss: 0.00803491\n",
      "Epoch: 98 Loss: 0.00673287\n",
      "Epoch: 99 Loss: 0.00632535\n",
      "Epoch: 100 Loss: 0.00890321\n",
      "\n",
      "Duration: 2487 seconds\n"
     ]
    }
   ],
   "source": [
    "epochs = 100\n",
    "losses= []\n",
    "\n",
    "import time\n",
    "start_time = time.time()\n",
    "\n",
    "for epoch in range(epochs):\n",
    "    for seq, y_train in train_data:\n",
    "        \n",
    "        optimizer.zero_grad()\n",
    "        model.hidden = (torch.zeros(1,1,model.hidden_size[0]),\n",
    "                        torch.zeros(1,1,model.hidden_size[0]))\n",
    "        \n",
    "        y_pred = model(seq)\n",
    "        \n",
    "        loss = criterion(y_pred, y_train)\n",
    "        loss.backward()\n",
    "        losses.append(loss.item())\n",
    "        optimizer.step()\n",
    "        \n",
    "    print(f'Epoch: {epoch+1:2} Loss: {loss.item():10.8f}')\n",
    "    \n",
    "print(f'\\nDuration: {time.time() - start_time:.0f} seconds')"
   ]
  },
  {
   "cell_type": "code",
   "execution_count": 27,
   "metadata": {},
   "outputs": [
    {
     "data": {
      "image/png": "[encoded data removed]",
      "text/plain": [
       "<Figure size 936x288 with 1 Axes>"
      ]
     },
     "metadata": {
      "needs_background": "light"
     },
     "output_type": "display_data"
    }
   ],
   "source": [
    "loss = pd.DataFrame(losses, columns=['loss'])\n",
    "loss['loss'].rolling(1217).mean().plot(figsize=(13,4))\n",
    "plt.title('Loss')\n",
    "plt.grid(True)"
   ]
  },
  {
   "cell_type": "markdown",
   "metadata": {},
   "source": [
    "# Forecast\n",
    "21 days in future"
   ]
  },
  {
   "cell_type": "code",
   "execution_count": 35,
   "metadata": {},
   "outputs": [],
   "source": [
    "future = 21\n",
    "\n",
    "preds = train_norm[-window_size:].tolist()\n",
    "\n",
    "model.eval()\n",
    "\n",
    "for i in range(future):\n",
    "    seq = torch.FloatTensor(preds[-window_size:])\n",
    "    with torch.no_grad():\n",
    "        model.hidden = (torch.zeros(1,1,model.hidden_size[0]),\n",
    "                        torch.zeros(1,1,model.hidden_size[0]))\n",
    "        preds.append(model(seq).item())"
   ]
  },
  {
   "cell_type": "code",
   "execution_count": 36,
   "metadata": {},
   "outputs": [],
   "source": [
    "true_predictions = scaler.inverse_transform(np.array(preds[window_size:]).reshape(-1, 1))\n",
    "df1 = pd.DataFrame(true_predictions, index=df.tail(21).index, columns=['pred'])\n"
   ]
  },
  {
   "cell_type": "code",
   "execution_count": 41,
   "metadata": {},
   "outputs": [
    {
     "data": {
      "text/plain": [
       "<matplotlib.legend.Legend at 0x222ab988370>"
      ]
     },
     "execution_count": 41,
     "metadata": {},
     "output_type": "execute_result"
    },
    {
     "data": {
      "image/png": "[encoded data removed]",
      "text/plain": [
       "<Figure size 864x288 with 1 Axes>"
      ]
     },
     "metadata": {
      "needs_background": "light"
     },
     "output_type": "display_data"
    }
   ],
   "source": [
    "plt.figure(figsize=(12,4))\n",
    "plt.grid(True)\n",
    "plt.autoscale(axis='x',tight=True)\n",
    "plt.plot(df['Adj Close'].iloc[-21:], label='Stock price')\n",
    "plt.plot(df1['pred'], label='predicted')\n",
    "plt.legend()"
   ]
  },
  {
   "cell_type": "markdown",
   "metadata": {},
   "source": [
    "# Absolute mean squared error"
   ]
  },
  {
   "cell_type": "code",
   "execution_count": 38,
   "metadata": {},
   "outputs": [
    {
     "data": {
      "text/plain": [
       "0.8833869339492972"
      ]
     },
     "execution_count": 38,
     "metadata": {},
     "output_type": "execute_result"
    }
   ],
   "source": [
    "from sklearn.metrics import mean_squared_error\n",
    "np.sqrt(mean_squared_error(true_predictions.reshape(1, -1), df['Adj Close'][-21:].values.reshape(1, -1)))"
   ]
  }
 ],
 "metadata": {
  "kernelspec": {
   "display_name": "Python 3",
   "language": "python",
   "name": "python3"
  },
  "language_info": {
   "codemirror_mode": {
    "name": "ipython",
    "version": 3
   },
   "file_extension": ".py",
   "mimetype": "text/x-python",
   "name": "python",
   "nbconvert_exporter": "python",
   "pygments_lexer": "ipython3",
   "version": "3.8.5"
  }
 },
 "nbformat": 4,
 "nbformat_minor": 4
}

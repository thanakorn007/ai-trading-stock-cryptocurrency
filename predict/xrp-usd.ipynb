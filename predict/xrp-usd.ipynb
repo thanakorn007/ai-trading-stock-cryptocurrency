{
 "cells": [
  {
   "cell_type": "markdown",
   "metadata": {},
   "source": [
    "# Import Module"
   ]
  },
  {
   "cell_type": "code",
   "execution_count": 1,
   "metadata": {},
   "outputs": [],
   "source": [
    "import torch\n",
    "import torch.nn as nn\n",
    "import numpy as np\n",
    "import pandas as pd\n",
    "import matplotlib.pyplot as plt\n",
    "import pandas_datareader as web\n",
    "%matplotlib inline\n",
    "from sklearn.preprocessing import MinMaxScaler\n",
    "from pandas.plotting import register_matplotlib_converters\n",
    "register_matplotlib_converters()"
   ]
  },
  {
   "cell_type": "markdown",
   "metadata": {},
   "source": [
    "# Stock Data \n",
    "training data\n",
    "start: 2015/01/01\n",
    "end: 2019/11/01 \n",
    "\n",
    "testing data \n",
    "start: 2019/12/01\n",
    "end: 2020/01/01"
   ]
  },
  {
   "cell_type": "code",
   "execution_count": 2,
   "metadata": {},
   "outputs": [],
   "source": [
    "ticker = 'xrp-usd'.upper()"
   ]
  },
  {
   "cell_type": "code",
   "execution_count": 3,
   "metadata": {},
   "outputs": [
    {
     "data": {
      "text/html": [
       "<div>\n",
       "<style scoped>\n",
       "    .dataframe tbody tr th:only-of-type {\n",
       "        vertical-align: middle;\n",
       "    }\n",
       "\n",
       "    .dataframe tbody tr th {\n",
       "        vertical-align: top;\n",
       "    }\n",
       "\n",
       "    .dataframe thead th {\n",
       "        text-align: right;\n",
       "    }\n",
       "</style>\n",
       "<table border=\"1\" class=\"dataframe\">\n",
       "  <thead>\n",
       "    <tr style=\"text-align: right;\">\n",
       "      <th></th>\n",
       "      <th>High</th>\n",
       "      <th>Low</th>\n",
       "      <th>Open</th>\n",
       "      <th>Close</th>\n",
       "      <th>Volume</th>\n",
       "      <th>Adj Close</th>\n",
       "    </tr>\n",
       "    <tr>\n",
       "      <th>Date</th>\n",
       "      <th></th>\n",
       "      <th></th>\n",
       "      <th></th>\n",
       "      <th></th>\n",
       "      <th></th>\n",
       "      <th></th>\n",
       "    </tr>\n",
       "  </thead>\n",
       "  <tbody>\n",
       "    <tr>\n",
       "      <th>2015-12-31</th>\n",
       "      <td>0.006184</td>\n",
       "      <td>0.006039</td>\n",
       "      <td>0.006184</td>\n",
       "      <td>0.006040</td>\n",
       "      <td>3.743550e+05</td>\n",
       "      <td>0.006040</td>\n",
       "    </tr>\n",
       "    <tr>\n",
       "      <th>2016-01-01</th>\n",
       "      <td>0.006044</td>\n",
       "      <td>0.005933</td>\n",
       "      <td>0.006040</td>\n",
       "      <td>0.005955</td>\n",
       "      <td>2.117670e+05</td>\n",
       "      <td>0.005955</td>\n",
       "    </tr>\n",
       "    <tr>\n",
       "      <th>2016-01-02</th>\n",
       "      <td>0.006079</td>\n",
       "      <td>0.005933</td>\n",
       "      <td>0.005957</td>\n",
       "      <td>0.006065</td>\n",
       "      <td>2.785390e+05</td>\n",
       "      <td>0.006065</td>\n",
       "    </tr>\n",
       "    <tr>\n",
       "      <th>2016-01-03</th>\n",
       "      <td>0.006070</td>\n",
       "      <td>0.005988</td>\n",
       "      <td>0.006066</td>\n",
       "      <td>0.006017</td>\n",
       "      <td>2.917230e+05</td>\n",
       "      <td>0.006017</td>\n",
       "    </tr>\n",
       "    <tr>\n",
       "      <th>2016-01-04</th>\n",
       "      <td>0.006059</td>\n",
       "      <td>0.005953</td>\n",
       "      <td>0.006019</td>\n",
       "      <td>0.005958</td>\n",
       "      <td>3.108200e+05</td>\n",
       "      <td>0.005958</td>\n",
       "    </tr>\n",
       "    <tr>\n",
       "      <th>...</th>\n",
       "      <td>...</td>\n",
       "      <td>...</td>\n",
       "      <td>...</td>\n",
       "      <td>...</td>\n",
       "      <td>...</td>\n",
       "      <td>...</td>\n",
       "    </tr>\n",
       "    <tr>\n",
       "      <th>2020-12-28</th>\n",
       "      <td>0.306016</td>\n",
       "      <td>0.239413</td>\n",
       "      <td>0.283366</td>\n",
       "      <td>0.247958</td>\n",
       "      <td>8.389872e+09</td>\n",
       "      <td>0.247958</td>\n",
       "    </tr>\n",
       "    <tr>\n",
       "      <th>2020-12-29</th>\n",
       "      <td>0.248318</td>\n",
       "      <td>0.174831</td>\n",
       "      <td>0.247673</td>\n",
       "      <td>0.220962</td>\n",
       "      <td>1.297008e+10</td>\n",
       "      <td>0.220962</td>\n",
       "    </tr>\n",
       "    <tr>\n",
       "      <th>2020-12-30</th>\n",
       "      <td>0.235360</td>\n",
       "      <td>0.194670</td>\n",
       "      <td>0.220902</td>\n",
       "      <td>0.211828</td>\n",
       "      <td>8.894037e+09</td>\n",
       "      <td>0.211828</td>\n",
       "    </tr>\n",
       "    <tr>\n",
       "      <th>2020-12-31</th>\n",
       "      <td>0.227613</td>\n",
       "      <td>0.206465</td>\n",
       "      <td>0.211787</td>\n",
       "      <td>0.219846</td>\n",
       "      <td>5.363980e+09</td>\n",
       "      <td>0.219846</td>\n",
       "    </tr>\n",
       "    <tr>\n",
       "      <th>2021-01-01</th>\n",
       "      <td>0.249270</td>\n",
       "      <td>0.217288</td>\n",
       "      <td>0.219845</td>\n",
       "      <td>0.237444</td>\n",
       "      <td>5.888429e+09</td>\n",
       "      <td>0.237444</td>\n",
       "    </tr>\n",
       "  </tbody>\n",
       "</table>\n",
       "<p>1825 rows × 6 columns</p>\n",
       "</div>"
      ],
      "text/plain": [
       "                High       Low      Open     Close        Volume  Adj Close\n",
       "Date                                                                       \n",
       "2015-12-31  0.006184  0.006039  0.006184  0.006040  3.743550e+05   0.006040\n",
       "2016-01-01  0.006044  0.005933  0.006040  0.005955  2.117670e+05   0.005955\n",
       "2016-01-02  0.006079  0.005933  0.005957  0.006065  2.785390e+05   0.006065\n",
       "2016-01-03  0.006070  0.005988  0.006066  0.006017  2.917230e+05   0.006017\n",
       "2016-01-04  0.006059  0.005953  0.006019  0.005958  3.108200e+05   0.005958\n",
       "...              ...       ...       ...       ...           ...        ...\n",
       "2020-12-28  0.306016  0.239413  0.283366  0.247958  8.389872e+09   0.247958\n",
       "2020-12-29  0.248318  0.174831  0.247673  0.220962  1.297008e+10   0.220962\n",
       "2020-12-30  0.235360  0.194670  0.220902  0.211828  8.894037e+09   0.211828\n",
       "2020-12-31  0.227613  0.206465  0.211787  0.219846  5.363980e+09   0.219846\n",
       "2021-01-01  0.249270  0.217288  0.219845  0.237444  5.888429e+09   0.237444\n",
       "\n",
       "[1825 rows x 6 columns]"
      ]
     },
     "execution_count": 3,
     "metadata": {},
     "output_type": "execute_result"
    }
   ],
   "source": [
    "df = web.DataReader(ticker, 'yahoo', '2016-01-01', '2021-01-01')\n",
    "df"
   ]
  },
  {
   "cell_type": "code",
   "execution_count": 4,
   "metadata": {},
   "outputs": [
    {
     "data": {
      "image/png": "[encoded data removed]",
      "text/plain": [
       "<Figure size 936x288 with 1 Axes>"
      ]
     },
     "metadata": {
      "needs_background": "light"
     },
     "output_type": "display_data"
    }
   ],
   "source": [
    "plt.figure(figsize=(13,4))\n",
    "plt.title('Stock price '+ ticker)\n",
    "plt.ylabel('Price')\n",
    "plt.grid(True)\n",
    "plt.autoscale(axis='x',tight=True)\n",
    "plt.plot(df['Adj Close'], color='g')\n",
    "plt.show()"
   ]
  },
  {
   "cell_type": "code",
   "execution_count": 5,
   "metadata": {},
   "outputs": [],
   "source": [
    "y = df['Adj Close'].values.astype(float)\n",
    "\n",
    "test_size = 21\n",
    "train_set = y[:-test_size]\n",
    "test_set = y[-test_size:]"
   ]
  },
  {
   "cell_type": "code",
   "execution_count": 6,
   "metadata": {},
   "outputs": [
    {
     "data": {
      "image/png": "[encoded data removed]",
      "text/plain": [
       "<Figure size 936x288 with 1 Axes>"
      ]
     },
     "metadata": {
      "needs_background": "light"
     },
     "output_type": "display_data"
    }
   ],
   "source": [
    "df['Adj Close'].iloc[-test_size:].plot(figsize=(13,4))\n",
    "plt.title('test set')\n",
    "plt.grid(True)"
   ]
  },
  {
   "cell_type": "markdown",
   "metadata": {},
   "source": [
    "# Normalizing data\n",
    "convert to range [-1, 1]"
   ]
  },
  {
   "cell_type": "code",
   "execution_count": 7,
   "metadata": {},
   "outputs": [],
   "source": [
    "scaler = MinMaxScaler(feature_range=(-1, 1))\n",
    "train_norm = scaler.fit_transform(train_set.reshape(-1, 1))"
   ]
  },
  {
   "cell_type": "code",
   "execution_count": 8,
   "metadata": {},
   "outputs": [
    {
     "data": {
      "text/plain": [
       "-1.0"
      ]
     },
     "execution_count": 8,
     "metadata": {},
     "output_type": "execute_result"
    }
   ],
   "source": [
    "train_norm.min()"
   ]
  },
  {
   "cell_type": "code",
   "execution_count": 9,
   "metadata": {},
   "outputs": [
    {
     "data": {
      "text/plain": [
       "0.9999999999999998"
      ]
     },
     "execution_count": 9,
     "metadata": {},
     "output_type": "execute_result"
    }
   ],
   "source": [
    "train_norm.max()"
   ]
  },
  {
   "cell_type": "code",
   "execution_count": 10,
   "metadata": {},
   "outputs": [
    {
     "data": {
      "text/plain": [
       "-0.8325691728600608"
      ]
     },
     "execution_count": 10,
     "metadata": {},
     "output_type": "execute_result"
    }
   ],
   "source": [
    "train_norm.mean()"
   ]
  },
  {
   "cell_type": "code",
   "execution_count": 11,
   "metadata": {},
   "outputs": [
    {
     "data": {
      "text/plain": [
       "0.19536158625016478"
      ]
     },
     "execution_count": 11,
     "metadata": {},
     "output_type": "execute_result"
    }
   ],
   "source": [
    "train_norm.std()"
   ]
  },
  {
   "cell_type": "markdown",
   "metadata": {},
   "source": [
    "# Input data and label\n",
    "window size = 21\n",
    "\n",
    "[1, 2, 3, ...,21] predict ==> [22]"
   ]
  },
  {
   "cell_type": "code",
   "execution_count": 12,
   "metadata": {},
   "outputs": [
    {
     "data": {
      "text/plain": [
       "1783"
      ]
     },
     "execution_count": 12,
     "metadata": {},
     "output_type": "execute_result"
    }
   ],
   "source": [
    "train_norm = torch.FloatTensor(train_norm).view(-1)\n",
    "\n",
    "window_size = 21\n",
    "\n",
    "\n",
    "def input_data(seq,ws): \n",
    "    out = []\n",
    "    L = len(seq)\n",
    "    for i in range(L-ws):\n",
    "        window = seq[i:i+ws]\n",
    "        label = seq[i+ws:i+ws+1]\n",
    "        out.append((window,label))\n",
    "    return out\n",
    "\n",
    "train_data = input_data(train_norm,window_size)\n",
    "len(train_data)  "
   ]
  },
  {
   "cell_type": "markdown",
   "metadata": {},
   "source": [
    "# 2. LSTM network\n",
    "lstm 2 layers 100 nodes\n",
    "\n",
    "fully connected 1 l layer"
   ]
  },
  {
   "cell_type": "code",
   "execution_count": 13,
   "metadata": {},
   "outputs": [],
   "source": [
    "class LSTMnetwork(nn.Module):\n",
    "    def __init__(self,input_size=1,hidden_size=[100, 100], output_size=1):\n",
    "        super().__init__()\n",
    "        self.hidden_size = hidden_size\n",
    "        \n",
    "        self.lstm1 = nn.LSTM(input_size,hidden_size[0])\n",
    "        \n",
    "        self.lstm2 = nn.LSTM(hidden_size[0], hidden_size[1])\n",
    "        \n",
    "        self.linear = nn.Linear(hidden_size[1], output_size)\n",
    "        \n",
    "        self.hidden = (torch.zeros(1,1,self.hidden_size[0]),\n",
    "                       torch.zeros(1,1,self.hidden_size[0]))\n",
    "\n",
    "    def forward(self,seq):\n",
    "        lstm_out1, self.hidden = self.lstm1(seq.view(len(seq),1,-1), self.hidden)\n",
    "        lstm_out2, self.hidden = self.lstm2(lstm_out1.view(len(seq),1,-1), self.hidden)\n",
    "        pred = self.linear(lstm_out2.view(len(seq),-1))\n",
    "        return pred[-1] \n",
    "        "
   ]
  },
  {
   "cell_type": "code",
   "execution_count": 14,
   "metadata": {},
   "outputs": [
    {
     "data": {
      "text/plain": [
       "LSTMnetwork(\n",
       "  (lstm1): LSTM(1, 100)\n",
       "  (lstm2): LSTM(100, 100)\n",
       "  (linear): Linear(in_features=100, out_features=1, bias=True)\n",
       ")"
      ]
     },
     "execution_count": 14,
     "metadata": {},
     "output_type": "execute_result"
    }
   ],
   "source": [
    "torch.manual_seed(101)\n",
    "model = LSTMnetwork()\n",
    "\n",
    "criterion = nn.MSELoss()\n",
    "optimizer = torch.optim.Adam(model.parameters(), lr=0.001)\n",
    "\n",
    "model"
   ]
  },
  {
   "cell_type": "markdown",
   "metadata": {},
   "source": [
    "# Training"
   ]
  },
  {
   "cell_type": "code",
   "execution_count": 15,
   "metadata": {},
   "outputs": [
    {
     "name": "stdout",
     "output_type": "stream",
     "text": [
      "Epoch:  1 Loss: 0.00000117\n",
      "Epoch:  2 Loss: 0.00104781\n",
      "Epoch:  3 Loss: 0.00094026\n",
      "Epoch:  4 Loss: 0.00527615\n",
      "Epoch:  5 Loss: 0.00332836\n",
      "Epoch:  6 Loss: 0.00514325\n",
      "Epoch:  7 Loss: 0.00018406\n",
      "Epoch:  8 Loss: 0.00267869\n",
      "Epoch:  9 Loss: 0.00292411\n",
      "Epoch: 10 Loss: 0.00299705\n",
      "Epoch: 11 Loss: 0.00302048\n",
      "Epoch: 12 Loss: 0.00302537\n",
      "Epoch: 13 Loss: 0.00302919\n",
      "Epoch: 14 Loss: 0.00302783\n",
      "Epoch: 15 Loss: 0.00301599\n",
      "Epoch: 16 Loss: 0.00302524\n",
      "Epoch: 17 Loss: 0.00302760\n",
      "Epoch: 18 Loss: 0.00302737\n",
      "Epoch: 19 Loss: 0.00302728\n",
      "Epoch: 20 Loss: 0.00302728\n",
      "Epoch: 21 Loss: 0.00302728\n",
      "Epoch: 22 Loss: 0.00302727\n",
      "Epoch: 23 Loss: 0.00302728\n",
      "Epoch: 24 Loss: 0.00302728\n",
      "Epoch: 25 Loss: 0.00302728\n",
      "Epoch: 26 Loss: 0.00302728\n",
      "Epoch: 27 Loss: 0.00302729\n",
      "Epoch: 28 Loss: 0.00302729\n",
      "Epoch: 29 Loss: 0.00302729\n",
      "Epoch: 30 Loss: 0.00302730\n",
      "Epoch: 31 Loss: 0.00302728\n",
      "Epoch: 32 Loss: 0.00302728\n",
      "Epoch: 33 Loss: 0.00302730\n",
      "Epoch: 34 Loss: 0.00302728\n",
      "Epoch: 35 Loss: 0.00302729\n",
      "Epoch: 36 Loss: 0.00302729\n",
      "Epoch: 37 Loss: 0.00302729\n",
      "Epoch: 38 Loss: 0.00302729\n",
      "Epoch: 39 Loss: 0.00302728\n",
      "Epoch: 40 Loss: 0.00302729\n",
      "Epoch: 41 Loss: 0.00302728\n",
      "Epoch: 42 Loss: 0.00302728\n",
      "Epoch: 43 Loss: 0.00302728\n",
      "Epoch: 44 Loss: 0.00302728\n",
      "Epoch: 45 Loss: 0.00302728\n",
      "Epoch: 46 Loss: 0.00302728\n",
      "Epoch: 47 Loss: 0.00302729\n",
      "Epoch: 48 Loss: 0.00302728\n",
      "Epoch: 49 Loss: 0.00302728\n",
      "Epoch: 50 Loss: 0.00302728\n",
      "Epoch: 51 Loss: 0.00302728\n",
      "Epoch: 52 Loss: 0.00302728\n",
      "Epoch: 53 Loss: 0.00302728\n",
      "Epoch: 54 Loss: 0.00302728\n",
      "Epoch: 55 Loss: 0.00302728\n",
      "Epoch: 56 Loss: 0.00302728\n",
      "Epoch: 57 Loss: 0.00302728\n",
      "Epoch: 58 Loss: 0.00302729\n",
      "Epoch: 59 Loss: 0.00302729\n",
      "Epoch: 60 Loss: 0.00302728\n",
      "Epoch: 61 Loss: 0.00302729\n",
      "Epoch: 62 Loss: 0.00302729\n",
      "Epoch: 63 Loss: 0.00302730\n",
      "Epoch: 64 Loss: 0.00302729\n",
      "Epoch: 65 Loss: 0.00302728\n",
      "Epoch: 66 Loss: 0.00302729\n",
      "Epoch: 67 Loss: 0.00302729\n",
      "Epoch: 68 Loss: 0.00302728\n",
      "Epoch: 69 Loss: 0.00302728\n",
      "Epoch: 70 Loss: 0.00302728\n",
      "Epoch: 71 Loss: 0.00302728\n",
      "Epoch: 72 Loss: 0.00302729\n",
      "Epoch: 73 Loss: 0.00302728\n",
      "Epoch: 74 Loss: 0.00302729\n",
      "Epoch: 75 Loss: 0.00302728\n",
      "Epoch: 76 Loss: 0.00302728\n",
      "Epoch: 77 Loss: 0.00302729\n",
      "Epoch: 78 Loss: 0.00302728\n",
      "Epoch: 79 Loss: 0.00302728\n",
      "Epoch: 80 Loss: 0.00302729\n",
      "Epoch: 81 Loss: 0.00302728\n",
      "Epoch: 82 Loss: 0.00302728\n",
      "Epoch: 83 Loss: 0.00302728\n",
      "Epoch: 84 Loss: 0.00302728\n",
      "Epoch: 85 Loss: 0.00302728\n",
      "Epoch: 86 Loss: 0.00302728\n",
      "Epoch: 87 Loss: 0.00302728\n",
      "Epoch: 88 Loss: 0.00302728\n",
      "Epoch: 89 Loss: 0.00302729\n",
      "Epoch: 90 Loss: 0.00302729\n",
      "Epoch: 91 Loss: 0.00302729\n",
      "Epoch: 92 Loss: 0.00302728\n",
      "Epoch: 93 Loss: 0.00302728\n",
      "Epoch: 94 Loss: 0.00302728\n",
      "Epoch: 95 Loss: 0.00302728\n",
      "Epoch: 96 Loss: 0.00302728\n",
      "Epoch: 97 Loss: 0.00302729\n",
      "Epoch: 98 Loss: 0.00302728\n",
      "Epoch: 99 Loss: 0.00302728\n",
      "Epoch: 100 Loss: 0.00302729\n",
      "\n",
      "Duration: 4109 seconds\n"
     ]
    }
   ],
   "source": [
    "epochs = 100\n",
    "losses= []\n",
    "\n",
    "import time\n",
    "start_time = time.time()\n",
    "\n",
    "for epoch in range(epochs):\n",
    "    for seq, y_train in train_data:\n",
    "        \n",
    "        optimizer.zero_grad()\n",
    "        model.hidden = (torch.zeros(1,1,model.hidden_size[0]),\n",
    "                        torch.zeros(1,1,model.hidden_size[0]))\n",
    "        \n",
    "        y_pred = model(seq)\n",
    "        \n",
    "        loss = criterion(y_pred, y_train)\n",
    "        loss.backward()\n",
    "        losses.append(loss.item())\n",
    "        optimizer.step()\n",
    "        \n",
    "    print(f'Epoch: {epoch+1:2} Loss: {loss.item():10.8f}')\n",
    "    \n",
    "print(f'\\nDuration: {time.time() - start_time:.0f} seconds')"
   ]
  },
  {
   "cell_type": "code",
   "execution_count": 16,
   "metadata": {},
   "outputs": [
    {
     "data": {
      "image/png": "[encoded data removed]",
      "text/plain": [
       "<Figure size 936x288 with 1 Axes>"
      ]
     },
     "metadata": {
      "needs_background": "light"
     },
     "output_type": "display_data"
    }
   ],
   "source": [
    "loss = pd.DataFrame(losses, columns=['loss'])\n",
    "loss['loss'].rolling(1825).mean().plot(figsize=(13,4))\n",
    "plt.title('Loss')\n",
    "plt.grid(True)"
   ]
  },
  {
   "cell_type": "markdown",
   "metadata": {},
   "source": [
    "# Forecast\n",
    "21 days in future"
   ]
  },
  {
   "cell_type": "code",
   "execution_count": 17,
   "metadata": {},
   "outputs": [],
   "source": [
    "future = 21\n",
    "\n",
    "preds = train_norm[-window_size:].tolist()\n",
    "\n",
    "model.eval()\n",
    "\n",
    "for i in range(future):\n",
    "    seq = torch.FloatTensor(preds[-window_size:])\n",
    "    with torch.no_grad():\n",
    "        model.hidden = (torch.zeros(1,1,model.hidden_size[0]),\n",
    "                        torch.zeros(1,1,model.hidden_size[0]))\n",
    "        preds.append(model(seq).item())"
   ]
  },
  {
   "cell_type": "code",
   "execution_count": 18,
   "metadata": {},
   "outputs": [],
   "source": [
    "true_predictions = scaler.inverse_transform(np.array(preds[window_size:]).reshape(-1, 1))\n",
    "df1 = pd.DataFrame(true_predictions, index=df.tail(21).index, columns=['pred'])\n"
   ]
  },
  {
   "cell_type": "code",
   "execution_count": 21,
   "metadata": {},
   "outputs": [
    {
     "data": {
      "text/plain": [
       "array([[0.46432434],\n",
       "       [0.46432434],\n",
       "       [0.46432434],\n",
       "       [0.46432434],\n",
       "       [0.46432434],\n",
       "       [0.46432434],\n",
       "       [0.46432434],\n",
       "       [0.46432434],\n",
       "       [0.46432434],\n",
       "       [0.46432434],\n",
       "       [0.46432434],\n",
       "       [0.46432434],\n",
       "       [0.46432434],\n",
       "       [0.46432434],\n",
       "       [0.46432434],\n",
       "       [0.46432434],\n",
       "       [0.46432434],\n",
       "       [0.46432434],\n",
       "       [0.46432434],\n",
       "       [0.46432434],\n",
       "       [0.46432434]])"
      ]
     },
     "execution_count": 21,
     "metadata": {},
     "output_type": "execute_result"
    }
   ],
   "source": [
    "true_predictions"
   ]
  },
  {
   "cell_type": "code",
   "execution_count": 19,
   "metadata": {},
   "outputs": [
    {
     "data": {
      "text/plain": [
       "<matplotlib.legend.Legend at 0x1ac35546b50>"
      ]
     },
     "execution_count": 19,
     "metadata": {},
     "output_type": "execute_result"
    },
    {
     "data": {
      "image/png": "[encoded data removed]",
      "text/plain": [
       "<Figure size 864x288 with 1 Axes>"
      ]
     },
     "metadata": {
      "needs_background": "light"
     },
     "output_type": "display_data"
    }
   ],
   "source": [
    "plt.figure(figsize=(12,4))\n",
    "plt.grid(True)\n",
    "plt.autoscale(axis='x',tight=True)\n",
    "plt.plot(df['Adj Close'].iloc[-21:], label='Stock price')\n",
    "plt.plot(df1['pred'], label='predicted')\n",
    "plt.legend()"
   ]
  },
  {
   "cell_type": "markdown",
   "metadata": {},
   "source": [
    "# Absolute mean squared error"
   ]
  },
  {
   "cell_type": "code",
   "execution_count": 20,
   "metadata": {},
   "outputs": [
    {
     "data": {
      "text/plain": [
       "0.1527575386733598"
      ]
     },
     "execution_count": 20,
     "metadata": {},
     "output_type": "execute_result"
    }
   ],
   "source": [
    "from sklearn.metrics import mean_squared_error\n",
    "np.sqrt(mean_squared_error(true_predictions.reshape(1, -1), df['Adj Close'][-21:].values.reshape(1, -1)))"
   ]
  },
  {
   "cell_type": "code",
   "execution_count": null,
   "metadata": {},
   "outputs": [],
   "source": []
  }
 ],
 "metadata": {
  "kernelspec": {
   "display_name": "Python 3",
   "language": "python",
   "name": "python3"
  },
  "language_info": {
   "codemirror_mode": {
    "name": "ipython",
    "version": 3
   },
   "file_extension": ".py",
   "mimetype": "text/x-python",
   "name": "python",
   "nbconvert_exporter": "python",
   "pygments_lexer": "ipython3",
   "version": "3.8.5"
  }
 },
 "nbformat": 4,
 "nbformat_minor": 4
}

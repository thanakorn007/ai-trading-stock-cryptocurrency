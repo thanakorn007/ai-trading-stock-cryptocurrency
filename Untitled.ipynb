{
 "cells": [
  {
   "cell_type": "code",
   "execution_count": 45,
   "metadata": {},
   "outputs": [],
   "source": [
    "numbers = [-9955,-9956,-5961,-6516,-6516,-6516]\n",
    "numbers.sort()"
   ]
  },
  {
   "cell_type": "code",
   "execution_count": 46,
   "metadata": {},
   "outputs": [
    {
     "data": {
      "text/plain": [
       "[-9956, -9955, -6516, -6516, -6516, -5961]"
      ]
     },
     "execution_count": 46,
     "metadata": {},
     "output_type": "execute_result"
    }
   ],
   "source": [
    "numbers"
   ]
  },
  {
   "cell_type": "code",
   "execution_count": 47,
   "metadata": {},
   "outputs": [
    {
     "name": "stdout",
     "output_type": "stream",
     "text": [
      "-6516 -6516\n"
     ]
    }
   ],
   "source": [
    "sv = []\n",
    "ab = []\n",
    "aw = []\n",
    "aws = []\n",
    "for i in range(len(numbers)):\n",
    "    numb = numbers.copy()\n",
    "    a = numb.pop(i)\n",
    "    for j in numb:\n",
    "        sv.append([j,a])\n",
    "        ab.append(abs(j - a))\n",
    "        \n",
    "for i in range(len(ab)):\n",
    "    if ab[i] == min(ab):\n",
    "        aw.append(sorted(sv[i]))\n",
    "        \n",
    "for li in aw:\n",
    "    if li not in aws:\n",
    "        aws.append(li)\n",
    "        print(f\"{li[0]} {li[1]}\")\n",
    "        "
   ]
  },
  {
   "cell_type": "code",
   "execution_count": 48,
   "metadata": {},
   "outputs": [
    {
     "data": {
      "text/plain": [
       "[[-6516, -6516]]"
      ]
     },
     "execution_count": 48,
     "metadata": {},
     "output_type": "execute_result"
    }
   ],
   "source": [
    "aws"
   ]
  },
  {
   "cell_type": "code",
   "execution_count": 40,
   "metadata": {},
   "outputs": [
    {
     "name": "stdout",
     "output_type": "stream",
     "text": [
      "[4, 6]\n"
     ]
    }
   ],
   "source": [
    "print(li)"
   ]
  },
  {
   "cell_type": "code",
   "execution_count": null,
   "metadata": {},
   "outputs": [],
   "source": []
  }
 ],
 "metadata": {
  "kernelspec": {
   "display_name": "Python 3",
   "language": "python",
   "name": "python3"
  },
  "language_info": {
   "codemirror_mode": {
    "name": "ipython",
    "version": 3
   },
   "file_extension": ".py",
   "mimetype": "text/x-python",
   "name": "python",
   "nbconvert_exporter": "python",
   "pygments_lexer": "ipython3",
   "version": "3.8.5"
  }
 },
 "nbformat": 4,
 "nbformat_minor": 4
}

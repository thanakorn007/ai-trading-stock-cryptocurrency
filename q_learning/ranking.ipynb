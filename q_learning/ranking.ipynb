{
 "cells": [
  {
   "cell_type": "code",
   "execution_count": 1,
   "metadata": {},
   "outputs": [],
   "source": [
    "import pickle\n",
    "import pandas as pd\n",
    "import seaborn as sns\n",
    "import matplotlib.pyplot as plt\n",
    "%matplotlib inline\n",
    "sns.set_style('whitegrid')"
   ]
  },
  {
   "cell_type": "code",
   "execution_count": 2,
   "metadata": {},
   "outputs": [
    {
     "data": {
      "text/html": [
       "<div>\n",
       "<style scoped>\n",
       "    .dataframe tbody tr th:only-of-type {\n",
       "        vertical-align: middle;\n",
       "    }\n",
       "\n",
       "    .dataframe tbody tr th {\n",
       "        vertical-align: top;\n",
       "    }\n",
       "\n",
       "    .dataframe thead th {\n",
       "        text-align: right;\n",
       "    }\n",
       "</style>\n",
       "<table border=\"1\" class=\"dataframe\">\n",
       "  <thead>\n",
       "    <tr style=\"text-align: right;\">\n",
       "      <th></th>\n",
       "      <th>SYMBOL</th>\n",
       "      <th>INDUSTRIES</th>\n",
       "      <th>RETURN</th>\n",
       "      <th>MARKET RETURN</th>\n",
       "      <th>SCORE</th>\n",
       "    </tr>\n",
       "    <tr>\n",
       "      <th>RANK</th>\n",
       "      <th></th>\n",
       "      <th></th>\n",
       "      <th></th>\n",
       "      <th></th>\n",
       "      <th></th>\n",
       "    </tr>\n",
       "  </thead>\n",
       "  <tbody>\n",
       "    <tr>\n",
       "      <th>1</th>\n",
       "      <td>SCCO</td>\n",
       "      <td>Basic Materials</td>\n",
       "      <td>62.42</td>\n",
       "      <td>33.17</td>\n",
       "      <td>7.74</td>\n",
       "    </tr>\n",
       "    <tr>\n",
       "      <th>2</th>\n",
       "      <td>CNC</td>\n",
       "      <td>Healthcare</td>\n",
       "      <td>35.87</td>\n",
       "      <td>17.03</td>\n",
       "      <td>7.23</td>\n",
       "    </tr>\n",
       "    <tr>\n",
       "      <th>3</th>\n",
       "      <td>CI</td>\n",
       "      <td>Healthcare</td>\n",
       "      <td>28.63</td>\n",
       "      <td>2.77</td>\n",
       "      <td>6.50</td>\n",
       "    </tr>\n",
       "    <tr>\n",
       "      <th>4</th>\n",
       "      <td>INTC</td>\n",
       "      <td>Technology</td>\n",
       "      <td>31.23</td>\n",
       "      <td>6.34</td>\n",
       "      <td>6.30</td>\n",
       "    </tr>\n",
       "    <tr>\n",
       "      <th>5</th>\n",
       "      <td>IFF</td>\n",
       "      <td>Basic Materials</td>\n",
       "      <td>10.68</td>\n",
       "      <td>-29.58</td>\n",
       "      <td>6.05</td>\n",
       "    </tr>\n",
       "    <tr>\n",
       "      <th>...</th>\n",
       "      <td>...</td>\n",
       "      <td>...</td>\n",
       "      <td>...</td>\n",
       "      <td>...</td>\n",
       "      <td>...</td>\n",
       "    </tr>\n",
       "    <tr>\n",
       "      <th>96</th>\n",
       "      <td>PTR</td>\n",
       "      <td>Energy</td>\n",
       "      <td>-11.61</td>\n",
       "      <td>-57.33</td>\n",
       "      <td>-3.14</td>\n",
       "    </tr>\n",
       "    <tr>\n",
       "      <th>97</th>\n",
       "      <td>WPP</td>\n",
       "      <td>Communication Services</td>\n",
       "      <td>-6.91</td>\n",
       "      <td>-40.63</td>\n",
       "      <td>-3.34</td>\n",
       "    </tr>\n",
       "    <tr>\n",
       "      <th>98</th>\n",
       "      <td>GE</td>\n",
       "      <td>Industrial</td>\n",
       "      <td>-3.33</td>\n",
       "      <td>-37.53</td>\n",
       "      <td>-6.34</td>\n",
       "    </tr>\n",
       "    <tr>\n",
       "      <th>99</th>\n",
       "      <td>GSK</td>\n",
       "      <td>Healthcare</td>\n",
       "      <td>-2.62</td>\n",
       "      <td>-0.35</td>\n",
       "      <td>-7.28</td>\n",
       "    </tr>\n",
       "    <tr>\n",
       "      <th>100</th>\n",
       "      <td>CSCO</td>\n",
       "      <td>Technology</td>\n",
       "      <td>0.00</td>\n",
       "      <td>15.16</td>\n",
       "      <td>-inf</td>\n",
       "    </tr>\n",
       "  </tbody>\n",
       "</table>\n",
       "<p>100 rows × 5 columns</p>\n",
       "</div>"
      ],
      "text/plain": [
       "     SYMBOL              INDUSTRIES  RETURN  MARKET RETURN  SCORE\n",
       "RANK                                                             \n",
       "1      SCCO         Basic Materials   62.42          33.17   7.74\n",
       "2       CNC              Healthcare   35.87          17.03   7.23\n",
       "3        CI              Healthcare   28.63           2.77   6.50\n",
       "4      INTC              Technology   31.23           6.34   6.30\n",
       "5       IFF         Basic Materials   10.68         -29.58   6.05\n",
       "...     ...                     ...     ...            ...    ...\n",
       "96      PTR                  Energy  -11.61         -57.33  -3.14\n",
       "97      WPP  Communication Services   -6.91         -40.63  -3.34\n",
       "98       GE              Industrial   -3.33         -37.53  -6.34\n",
       "99      GSK              Healthcare   -2.62          -0.35  -7.28\n",
       "100    CSCO              Technology    0.00          15.16   -inf\n",
       "\n",
       "[100 rows x 5 columns]"
      ]
     },
     "execution_count": 2,
     "metadata": {},
     "output_type": "execute_result"
    }
   ],
   "source": [
    "sector = {'basic material': ['VMC', 'VALE', 'SCCO', 'RIO', 'PKX', 'IFF', 'MT', 'LIN', 'BHP', 'BBL'],\n",
    "          'communication service': ['WPP', 'VZ', 'TU', 'RELX', 'OMC', 'NFLX', 'GOOG', 'EA', 'DISCA', 'DIS'],\n",
    "          'consumer cyclical' : ['TM', 'SBUX', 'NKE', 'MCD', 'LVS', 'HD', 'GM', 'FORD', 'EBAY', \"AMZN\"],\n",
    "          'consumer defensive': ['UL', 'NWL', 'KR', 'K', 'GIS', 'DEO', 'CPB', 'CCEP', 'BTI', \"BG\"],\n",
    "          'energy' : ['XOM', 'TOT', 'SNP', 'RDS-B', 'PTR', 'EQNR', 'CVX', 'COP', \"BP\", 'ENB'],\n",
    "          'financial service' : ['WFC-PL', 'V', 'TD', 'MS', 'MA', 'JPM', 'GS', 'C', 'BRK-A', 'BAC-PL'],\n",
    "          'industrial' : ['PCAR', 'LUV', 'JCI', 'GE', 'GD', 'DE', 'DAL', 'CMI', 'CAT', 'ABB'],\n",
    "          'healthcare' : ['ZBH', 'SNY', 'PFE', 'JNJ', 'GSK', 'FMS', 'CNC', 'CI', 'CAH', 'ANTM'],\n",
    "          'real estate' : ['WY', 'WPC', 'VTR', 'SPG', 'O', 'NLY', 'MPW', 'HST', 'AVB', \"ARE\"],\n",
    "          'technology' : ['TXN', 'TSM', 'STM', 'SAP', 'MU', 'INTC', 'IBM', 'HPQ', 'CSCO', 'AAPL']}\n",
    "\n",
    "\n",
    "temp_dir = {'SYMBOL' : [],\n",
    "            'INDUSTRIES' : [],\n",
    "            'RETURN' : [],\n",
    "            'MARKET RETURN': [],\n",
    "            'SCORE' : []}\n",
    "\n",
    "for sec in sector.keys():\n",
    "    for ticker in sector[sec]:\n",
    "        with open(f'{sec}/score/{ticker}.pkl', 'rb') as f:\n",
    "            rank = pickle.load(f)\n",
    "            df = pd.read_csv(f'data/{ticker}.csv')['stock_price']\n",
    "            ret = ((df.iloc[-1] - df.iloc[0])/df.iloc[0]) * 100\n",
    "            \n",
    "            temp_dir['SYMBOL'].append(rank[0])\n",
    "            temp_dir['INDUSTRIES'].append(rank[1])\n",
    "            temp_dir['RETURN'].append(float(f'{rank[3]:.2f}'))\n",
    "            temp_dir['MARKET RETURN'].append(float(f'{ret:.2f}'))\n",
    "            temp_dir['SCORE'].append(float(f'{rank[2]:.2f}'))\n",
    "\n",
    "            \n",
    "ranking = pd.DataFrame(temp_dir)\n",
    "ranking = ranking.sort_values('SCORE', ascending=False)\n",
    "ranking['RANK'] = [i for i in range(1, len(ranking) + 1)]\n",
    "ranking.set_index('RANK', inplace=True)\n",
    "ranking"
   ]
  },
  {
   "cell_type": "code",
   "execution_count": 10,
   "metadata": {},
   "outputs": [
    {
     "data": {
      "text/plain": [
       "1.2275"
      ]
     },
     "execution_count": 10,
     "metadata": {},
     "output_type": "execute_result"
    }
   ],
   "source": [
    "(ranking['RETURN'] - ranking['MARKET RETURN']).mean()"
   ]
  },
  {
   "cell_type": "code",
   "execution_count": 4,
   "metadata": {},
   "outputs": [
    {
     "data": {
      "text/plain": [
       "15.9418"
      ]
     },
     "execution_count": 4,
     "metadata": {},
     "output_type": "execute_result"
    }
   ],
   "source": [
    "ranking['MARKET RETURN'].mean()"
   ]
  },
  {
   "cell_type": "code",
   "execution_count": 7,
   "metadata": {},
   "outputs": [
    {
     "data": {
      "text/plain": [
       "86"
      ]
     },
     "execution_count": 7,
     "metadata": {},
     "output_type": "execute_result"
    }
   ],
   "source": [
    "sum(ranking['SCORE'] > 0)"
   ]
  },
  {
   "cell_type": "code",
   "execution_count": 8,
   "metadata": {},
   "outputs": [
    {
     "data": {
      "image/png": "[encoded data removed]",
      "text/plain": [
       "<Figure size 720x432 with 1 Axes>"
      ]
     },
     "metadata": {},
     "output_type": "display_data"
    }
   ],
   "source": [
    "ranking.groupby('INDUSTRIES').mean().sort_values(by='SCORE', ascending=False).drop('SCORE', axis=1).plot.bar(color=['green', 'orange'], figsize=(10,6));\n",
    "plt.ylabel('Percent');"
   ]
  },
  {
   "cell_type": "code",
   "execution_count": null,
   "metadata": {},
   "outputs": [],
   "source": []
  }
 ],
 "metadata": {
  "kernelspec": {
   "display_name": "Python 3",
   "language": "python",
   "name": "python3"
  },
  "language_info": {
   "codemirror_mode": {
    "name": "ipython",
    "version": 3
   },
   "file_extension": ".py",
   "mimetype": "text/x-python",
   "name": "python",
   "nbconvert_exporter": "python",
   "pygments_lexer": "ipython3",
   "version": "3.8.5"
  }
 },
 "nbformat": 4,
 "nbformat_minor": 4
}

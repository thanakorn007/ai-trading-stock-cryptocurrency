{
 "cells": [
  {
   "cell_type": "code",
   "execution_count": 1,
   "metadata": {},
   "outputs": [],
   "source": [
    "import requests\n",
    "\n",
    "from datetime import date, timedelta\n",
    "from dateutil import parser\n",
    "from bs4 import BeautifulSoup\n",
    "\n",
    "\n",
    "\n",
    "URL = 'https://www.todayonchain.com/'\n",
    "page = requests.get(URL)\n",
    "\n",
    "soup = BeautifulSoup(page.content, 'html.parser')\n",
    "links = soup.find('div', class_='api_article_include').find_all('a')\n",
    "\n",
    "htmlRows = []\n",
    "for link in links:\n",
    "    hyperlink = link['href']\n",
    "    title = link.find('div', class_='api_article_title_sm').text\n",
    "    source = link.find('span', class_='api_article_source').text\n",
    "\n",
    "    eventDate = link.find('time', class_='timeago')['datetime']\n",
    "    parsedDate = parser.parse(eventDate).astimezone(tz=None)\n",
    "    if parsedDate.date() == date.today():\n",
    "        dateString = f'today {parsedDate.strftime(\"%m/%d/%Y %H:%M:%S\")}'\n",
    "    elif parsedDate.date() == date.today() - timedelta(days=1):\n",
    "        dateString = f'yesterday {parsedDate.strftime(\"%m/%d/%Y %H:%M:%S\")}'\n",
    "    else:\n",
    "        dateString = parsedDate.strftime(\"%A %m/%d/%Y %H:%M:%S\")\n",
    "\n",
    "    htmlRow = f'<a href=\"{hyperlink}\">{title}</a>' \\\n",
    "              f'<p>Post from {source} published {dateString} local time.</p>'\n",
    "    htmlRows.append(htmlRow)\n",
    "\n",
    "\n"
   ]
  },
  {
   "cell_type": "code",
   "execution_count": 4,
   "metadata": {
    "scrolled": false
   },
   "outputs": [
    {
     "data": {
      "text/plain": [
       "'<a href=\"https://cryptonews.com/news/bitcoin-ethereum-struggle-to-recover-multiple-altcoins-in-gr-9653.htm\">Bitcoin, Ethereum Struggle To Recover, Multiple Altcoins In Green</a><p>Post from Cryptonews published today 03/24/2021 12:56:07 local time.</p>'"
      ]
     },
     "execution_count": 4,
     "metadata": {},
     "output_type": "execute_result"
    }
   ],
   "source": [
    "htmlRows[0]"
   ]
  },
  {
   "cell_type": "code",
   "execution_count": null,
   "metadata": {},
   "outputs": [],
   "source": []
  }
 ],
 "metadata": {
  "kernelspec": {
   "display_name": "Python 3",
   "language": "python",
   "name": "python3"
  },
  "language_info": {
   "codemirror_mode": {
    "name": "ipython",
    "version": 3
   },
   "file_extension": ".py",
   "mimetype": "text/x-python",
   "name": "python",
   "nbconvert_exporter": "python",
   "pygments_lexer": "ipython3",
   "version": "3.8.5"
  }
 },
 "nbformat": 4,
 "nbformat_minor": 4
}
